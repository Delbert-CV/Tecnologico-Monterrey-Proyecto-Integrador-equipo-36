{
 "cells": [
  {
   "cell_type": "code",
   "execution_count": 28,
   "id": "0ba9f082",
   "metadata": {},
   "outputs": [],
   "source": [
    "from twilio.twiml.messaging_response import MessagingResponse\n",
    "from flask import Flask, request, Response\n",
    "from twilio.rest import Client\n",
    "from dotenv import load_dotenv\n",
    "import json\n",
    "import os\n",
    "\n",
    "\n",
    "load_dotenv(dotenv_path=\"chatbot.env\")\n",
    "\n",
    "account_sid = os.getenv('account_sid')\n",
    "auth_token  = os.getenv('auth_token')"
   ]
  },
  {
   "cell_type": "code",
   "execution_count": 29,
   "id": "2006a1e1",
   "metadata": {},
   "outputs": [],
   "source": [
    "def send_whatsApp_message_freeform( message, number ):\n",
    "    \n",
    "    client = Client(account_sid, auth_token)\n",
    "\n",
    "\n",
    "    message = client.messages.create(\n",
    "\n",
    "        from_=\"whatsapp:+14155238886\",\n",
    "        to=f\"whatsapp:{number}\",\n",
    "        body = f\"{message}\"\n",
    "        )\n",
    "\n",
    "    print(f\"Se envió: {message}\")\n",
    "\n"
   ]
  },
  {
   "cell_type": "code",
   "execution_count": 31,
   "id": "af4ad300",
   "metadata": {},
   "outputs": [
    {
     "name": "stdout",
     "output_type": "stream",
     "text": [
      " * Serving Flask app '__main__'\n",
      " * Debug mode: off\n"
     ]
    },
    {
     "name": "stderr",
     "output_type": "stream",
     "text": [
      "WARNING: This is a development server. Do not use it in a production deployment. Use a production WSGI server instead.\n",
      " * Running on http://127.0.0.1:3000\n",
      "Press CTRL+C to quit\n",
      "127.0.0.1 - - [06/Oct/2025 21:46:09] \"POST /reply_whatsapp HTTP/1.1\" 200 -\n"
     ]
    }
   ],
   "source": [
    "app = Flask(__name__)\n",
    "\n",
    "@app.route(\"/reply_whatsapp\", methods=['POST'])\n",
    "\n",
    "def reply_whatsapp():\n",
    "\n",
    "\t# Create a new Twilio MessagingResponse\n",
    "\tresp = MessagingResponse()\n",
    "\tresp.message(\"Message received! Hello again from the Twilio Sandbox for WhatsApp.\")\n",
    "\n",
    "\n",
    "\t# Return the TwiML (as XML) response\n",
    "\treturn Response(str(resp), mimetype='text/xml')\n",
    "\n",
    "\n",
    "if __name__ == \"__main__\":\n",
    "\tapp.run(port=3000)"
   ]
  }
 ],
 "metadata": {
  "kernelspec": {
   "display_name": "mastersFinalProject (3.13.7)",
   "language": "python",
   "name": "python3"
  },
  "language_info": {
   "codemirror_mode": {
    "name": "ipython",
    "version": 3
   },
   "file_extension": ".py",
   "mimetype": "text/x-python",
   "name": "python",
   "nbconvert_exporter": "python",
   "pygments_lexer": "ipython3",
   "version": "3.13.7"
  }
 },
 "nbformat": 4,
 "nbformat_minor": 5
}
