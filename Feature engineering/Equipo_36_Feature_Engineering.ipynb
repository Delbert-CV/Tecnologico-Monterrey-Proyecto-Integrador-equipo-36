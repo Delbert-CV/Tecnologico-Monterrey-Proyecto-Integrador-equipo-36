{
 "cells": [
  {
   "cell_type": "markdown",
   "id": "d64209f1",
   "metadata": {},
   "source": [
    "# Reporte de problemas fitosanitarios en plantaciones de agave\n",
    "--------------------\n",
    "\n",
    "## Equipo 36\n",
    "\n",
    "| Nombre | Matrícula |\n",
    "| ------ | --------- |\n",
    "| André Martins Cordebello | A00572928 |\n",
    "| Enrique Eduardo Solís Da Costa | A00572678 |\n",
    "| Delbert Francisco Custodio Vargas | A01795613 |\n",
    "\n",
    "## Avance 2: Feature engineering\n",
    "\n",
    "- Crear nuevas características para mejorar el rendimiento de los modelos.\n",
    "- Mitigar el riesgo de características sesgadas y acelerar la convergencia de algunos algoritmos."
   ]
  },
  {
   "cell_type": "markdown",
   "id": "8a992969",
   "metadata": {},
   "source": [
    "# Feature Engineering"
   ]
  },
  {
   "cell_type": "markdown",
   "id": "2fe8c324",
   "metadata": {},
   "source": [
    "## EDA"
   ]
  },
  {
   "cell_type": "markdown",
   "id": "c141355a",
   "metadata": {},
   "source": [
    "Durante el avance 1 fue posible comprender ciertos comportamientos de nuestro dataset, así como la selección de columnas que sí aportaban información para entender de mejor manera las características de infección de gorgojos del agave en predios del mismo.\n",
    "\n",
    "Con esto, usando como base los datasets compartidos por la CNIT fue posible obtener el dataset llamada `all_historic_captures.xlsx`, el cual contiene información del 2014 a Agosto de 2025 sobre el nivel de incidencia o infección encontrado  en predios de agave. Estas muestras se obtuvieron con base a las condiciones definidas en el **Manual Operativo de la campaña contra plagas reglamentadas del Agave**, disponible en https://www.gob.mx/cms/uploads/attachment/file/234136/Manual_Operativo_de_la_campa_a_contra_plagas_reglamentadas_del_agave_2017.compressed.pdf, lo cual fue confirmado por nuestro Sponsor (CNIT).\n",
    "\n",
    "Por lo anterior, el objetivo principal de este proyecto integrador es el desarrollo de un ChatBot el cual:\n",
    "\n",
    "- Pueda recibir reportes que incluyan ubicación, breve descripción de lo encontrado, fotografías y clasificación de riesgo de parte del cuerpo técnico y ciudadanía en general.\n",
    "- Este ChatBot también debe tener la capacidad de responder y alertar a los usuarios sobre focos de infección reportados o confirmados en las cercanías.\n",
    "\n",
    "La recepción de esta información es importante ya que permitirá tomar decisiones sobre lo que las brigadas de desinfección deben atacar primero."
   ]
  },
  {
   "cell_type": "markdown",
   "id": "5a65f675",
   "metadata": {},
   "source": [
    "Por lo anterior, durante nuestro EDA (análisis exploratorio) encontramos los siguientes hallazgos:\n",
    "\n",
    "- La captura de gorgojos del agave en las trampas tiende a aumentar en épocas lluviosas.\n",
    "- Los focos de infección severos y moderados tienen una dispersión geográfica menor.\n",
    "- No es normal encontrar predios de más de 8 años de antiguedad, lo que nos da una idea de cuáles predios podrían estar posiblemente abandonados.\n",
    "- La mayor densidad de trampas se encuentra en el estado de Jalisco.\n",
    "- No es normal encontrar focos severos de infección, pero la presencia de éstos aumenta en la época lluviosa. Es posible confirmar que los casos severos de infección son casos atípicos, ya que el valor del percentil 95 se encuentra en 17.5 capturas por trampa.\n",
    "- Durante la pandemia (2020 a 2024 aproximadamente), el muestreo de las trampas colocados no fue tan constante como en años posteriores o previos a la pandemia. Esto causa un efecto de sesgo en nuestro dataset.\n",
    "\n",
    "\n",
    "Y al transformar un poco nuestro dataset obtuvimos estas columnas finales:\n",
    "\n",
    "| Feature  | Tipo | Notas |\n",
    "| -------  | ---- | ----- |\n",
    "| tramp_id | object | Es el ID único que se le da a la trampa al colocarse en alguna parcela o predio. Una misma trampa puede colocarse en distintos predios, pero la identificación de la misma cambia acorde a dónde se colocó. |\n",
    "| sampling_date | datetime64[ns] | Es la fecha en la que se llevó a cabo el conteo de cadáveres de gorgojo en la trampa.|\n",
    "| lat y lon | float64 | La `latitud` y `longitud` permiten conocer la ubicación de donde se llevó a cabo el muestreo. |\n",
    "| municipality | object | Municipio al que pertenecía la trampa al momento de hacer el muestreo. |\n",
    "| square_area | float64 | Area que cubre el predio donde se colocó la trampa. |\n",
    "| plantation_age | float64 | Años que una plantación de agave tiene desde la última purga. |\n",
    "| capture_count | float64 | Cantidad de gorgojos del agave encontrados dentro de la trampa. |\n",
    "| state | object | Estado de México donde se encontraba la trampa colocada. |\n",
    "| severity | object | lLa severidad de la infestación encontrada durante el muestreo. Estos niveles fueron definidos por la SICAFI.|\n",
    "| Month | int32 | Mes en que se llevó a cabo el muestreo de la trampa. |\n",
    "| Year | int32 | Año en que se llevó a cabo el muestreo de la trampa. |\n",
    "| MonthName | object | Nombre del   mes en que se llevó a cabo el muestreo de la trampa. |\n",
    "| MonthYear | datetime64[ns] |  Combinación del año y mes en que se llevó a cabo el muestreo de la trampa. Esta ya es una característica creada a partir de otras columnas del Dataset. |\n",
    "\n",
    "Con esto, estaremos trabajando la ingeniería de característiscas con base en estas columnas."
   ]
  },
  {
   "cell_type": "markdown",
   "id": "ed5124de",
   "metadata": {},
   "source": [
    "### Librerías  a importar"
   ]
  },
  {
   "cell_type": "code",
   "execution_count": 1,
   "id": "423bba21",
   "metadata": {},
   "outputs": [],
   "source": [
    "import pandas as pd\n",
    "import numpy as np\n",
    "import matplotlib.pyplot as plt\n",
    "import seaborn as sns\n",
    "from datetime import datetime\n",
    "import os\n",
    "\n",
    "\n",
    "plt.style.use('seaborn-v0_8-whitegrid')\n",
    "sns.set_palette(\"Set2\")\n",
    "plt.rcParams['figure.figsize'] = (12, 8)\n",
    "plt.rcParams['font.size'] = 12"
   ]
  },
  {
   "cell_type": "markdown",
   "id": "c5b290f6",
   "metadata": {},
   "source": [
    "### Características generales del dataset final"
   ]
  },
  {
   "cell_type": "code",
   "execution_count": null,
   "id": "e1525496",
   "metadata": {},
   "outputs": [],
   "source": [
    "# Carga de dataset\n",
    "all_historic_captures_df = pd.read_excel( \"all_historic_captures.xlsx\", sheet_name=\"historic_captures\", header= 0)"
   ]
  },
  {
   "cell_type": "code",
   "execution_count": 3,
   "id": "e4f18f87",
   "metadata": {},
   "outputs": [
    {
     "data": {
      "text/html": [
       "<div>\n",
       "<style scoped>\n",
       "    .dataframe tbody tr th:only-of-type {\n",
       "        vertical-align: middle;\n",
       "    }\n",
       "\n",
       "    .dataframe tbody tr th {\n",
       "        vertical-align: top;\n",
       "    }\n",
       "\n",
       "    .dataframe thead th {\n",
       "        text-align: right;\n",
       "    }\n",
       "</style>\n",
       "<table border=\"1\" class=\"dataframe\">\n",
       "  <thead>\n",
       "    <tr style=\"text-align: right;\">\n",
       "      <th></th>\n",
       "      <th>tramp_id</th>\n",
       "      <th>sampling_date</th>\n",
       "      <th>lat</th>\n",
       "      <th>lon</th>\n",
       "      <th>municipality</th>\n",
       "      <th>square_area</th>\n",
       "      <th>plantation_age</th>\n",
       "      <th>capture_count</th>\n",
       "      <th>state</th>\n",
       "      <th>severity</th>\n",
       "    </tr>\n",
       "  </thead>\n",
       "  <tbody>\n",
       "    <tr>\n",
       "      <th>0</th>\n",
       "      <td>146_THUE13-11-023-0637T01</td>\n",
       "      <td>2022-07-21</td>\n",
       "      <td>20.401984</td>\n",
       "      <td>-101.702729</td>\n",
       "      <td>PÉNJAMO</td>\n",
       "      <td>1.75</td>\n",
       "      <td>0</td>\n",
       "      <td>8.0</td>\n",
       "      <td>GUANAJUATO</td>\n",
       "      <td>1-25</td>\n",
       "    </tr>\n",
       "    <tr>\n",
       "      <th>1</th>\n",
       "      <td>146_THUE13-11-023-0637T01</td>\n",
       "      <td>2022-04-19</td>\n",
       "      <td>20.401984</td>\n",
       "      <td>-101.702729</td>\n",
       "      <td>PÉNJAMO</td>\n",
       "      <td>1.75</td>\n",
       "      <td>0</td>\n",
       "      <td>5.0</td>\n",
       "      <td>GUANAJUATO</td>\n",
       "      <td>1-25</td>\n",
       "    </tr>\n",
       "    <tr>\n",
       "      <th>2</th>\n",
       "      <td>146_THUE13-11-023-0637T01</td>\n",
       "      <td>2022-02-25</td>\n",
       "      <td>20.401984</td>\n",
       "      <td>-101.702729</td>\n",
       "      <td>PÉNJAMO</td>\n",
       "      <td>1.75</td>\n",
       "      <td>0</td>\n",
       "      <td>5.0</td>\n",
       "      <td>GUANAJUATO</td>\n",
       "      <td>1-25</td>\n",
       "    </tr>\n",
       "    <tr>\n",
       "      <th>3</th>\n",
       "      <td>146_THUE13-11-023-0637T01</td>\n",
       "      <td>2022-02-14</td>\n",
       "      <td>20.401984</td>\n",
       "      <td>-101.702729</td>\n",
       "      <td>PÉNJAMO</td>\n",
       "      <td>1.75</td>\n",
       "      <td>0</td>\n",
       "      <td>4.0</td>\n",
       "      <td>GUANAJUATO</td>\n",
       "      <td>1-25</td>\n",
       "    </tr>\n",
       "    <tr>\n",
       "      <th>4</th>\n",
       "      <td>146_THUE13-11-023-0637T01</td>\n",
       "      <td>2022-05-18</td>\n",
       "      <td>20.401984</td>\n",
       "      <td>-101.702729</td>\n",
       "      <td>PÉNJAMO</td>\n",
       "      <td>1.75</td>\n",
       "      <td>0</td>\n",
       "      <td>6.0</td>\n",
       "      <td>GUANAJUATO</td>\n",
       "      <td>1-25</td>\n",
       "    </tr>\n",
       "  </tbody>\n",
       "</table>\n",
       "</div>"
      ],
      "text/plain": [
       "                    tramp_id sampling_date        lat         lon  \\\n",
       "0  146_THUE13-11-023-0637T01    2022-07-21  20.401984 -101.702729   \n",
       "1  146_THUE13-11-023-0637T01    2022-04-19  20.401984 -101.702729   \n",
       "2  146_THUE13-11-023-0637T01    2022-02-25  20.401984 -101.702729   \n",
       "3  146_THUE13-11-023-0637T01    2022-02-14  20.401984 -101.702729   \n",
       "4  146_THUE13-11-023-0637T01    2022-05-18  20.401984 -101.702729   \n",
       "\n",
       "  municipality  square_area  plantation_age  capture_count       state  \\\n",
       "0      PÉNJAMO         1.75               0            8.0  GUANAJUATO   \n",
       "1      PÉNJAMO         1.75               0            5.0  GUANAJUATO   \n",
       "2      PÉNJAMO         1.75               0            5.0  GUANAJUATO   \n",
       "3      PÉNJAMO         1.75               0            4.0  GUANAJUATO   \n",
       "4      PÉNJAMO         1.75               0            6.0  GUANAJUATO   \n",
       "\n",
       "  severity  \n",
       "0     1-25  \n",
       "1     1-25  \n",
       "2     1-25  \n",
       "3     1-25  \n",
       "4     1-25  "
      ]
     },
     "execution_count": 3,
     "metadata": {},
     "output_type": "execute_result"
    }
   ],
   "source": [
    "# Eliminamos las columnas que usamos para llevar a cabo una mejor comprensión en el EDA,\n",
    "# esto porque debemos decidir más adelante si serán necesarias para nuestro proceso de FE.\n",
    "all_historic_captures_df.drop(labels=['Month', 'Year', 'MonthName', 'MonthYear', 'plantation_age_group', 'surface_group', 'no_area'],axis=1, inplace=True)\n",
    "\n",
    "all_historic_captures_df.head(5)"
   ]
  },
  {
   "cell_type": "code",
   "execution_count": 4,
   "id": "4aaf5829",
   "metadata": {},
   "outputs": [
    {
     "data": {
      "text/html": [
       "<div>\n",
       "<style scoped>\n",
       "    .dataframe tbody tr th:only-of-type {\n",
       "        vertical-align: middle;\n",
       "    }\n",
       "\n",
       "    .dataframe tbody tr th {\n",
       "        vertical-align: top;\n",
       "    }\n",
       "\n",
       "    .dataframe thead th {\n",
       "        text-align: right;\n",
       "    }\n",
       "</style>\n",
       "<table border=\"1\" class=\"dataframe\">\n",
       "  <thead>\n",
       "    <tr style=\"text-align: right;\">\n",
       "      <th></th>\n",
       "      <th>count</th>\n",
       "      <th>mean</th>\n",
       "      <th>std</th>\n",
       "      <th>min</th>\n",
       "      <th>25%</th>\n",
       "      <th>50%</th>\n",
       "      <th>75%</th>\n",
       "      <th>max</th>\n",
       "    </tr>\n",
       "  </thead>\n",
       "  <tbody>\n",
       "    <tr>\n",
       "      <th>lat</th>\n",
       "      <td>827856.0</td>\n",
       "      <td>20.642391</td>\n",
       "      <td>0.728798</td>\n",
       "      <td>18.987685</td>\n",
       "      <td>20.161786</td>\n",
       "      <td>20.597498</td>\n",
       "      <td>20.884595</td>\n",
       "      <td>23.439659</td>\n",
       "    </tr>\n",
       "    <tr>\n",
       "      <th>lon</th>\n",
       "      <td>827856.0</td>\n",
       "      <td>-102.755748</td>\n",
       "      <td>1.301210</td>\n",
       "      <td>-114.108837</td>\n",
       "      <td>-103.721093</td>\n",
       "      <td>-102.650350</td>\n",
       "      <td>-102.184024</td>\n",
       "      <td>-98.662612</td>\n",
       "    </tr>\n",
       "    <tr>\n",
       "      <th>square_area</th>\n",
       "      <td>827856.0</td>\n",
       "      <td>5.020235</td>\n",
       "      <td>13.905933</td>\n",
       "      <td>0.000000</td>\n",
       "      <td>0.000000</td>\n",
       "      <td>0.510000</td>\n",
       "      <td>3.935500</td>\n",
       "      <td>787.820000</td>\n",
       "    </tr>\n",
       "    <tr>\n",
       "      <th>plantation_age</th>\n",
       "      <td>827856.0</td>\n",
       "      <td>2.428498</td>\n",
       "      <td>1.825808</td>\n",
       "      <td>0.000000</td>\n",
       "      <td>1.000000</td>\n",
       "      <td>2.000000</td>\n",
       "      <td>4.000000</td>\n",
       "      <td>19.000000</td>\n",
       "    </tr>\n",
       "    <tr>\n",
       "      <th>capture_count</th>\n",
       "      <td>827856.0</td>\n",
       "      <td>4.264352</td>\n",
       "      <td>8.156295</td>\n",
       "      <td>0.000000</td>\n",
       "      <td>0.000000</td>\n",
       "      <td>2.000000</td>\n",
       "      <td>5.000000</td>\n",
       "      <td>427.000000</td>\n",
       "    </tr>\n",
       "  </tbody>\n",
       "</table>\n",
       "</div>"
      ],
      "text/plain": [
       "                   count        mean        std         min         25%  \\\n",
       "lat             827856.0   20.642391   0.728798   18.987685   20.161786   \n",
       "lon             827856.0 -102.755748   1.301210 -114.108837 -103.721093   \n",
       "square_area     827856.0    5.020235  13.905933    0.000000    0.000000   \n",
       "plantation_age  827856.0    2.428498   1.825808    0.000000    1.000000   \n",
       "capture_count   827856.0    4.264352   8.156295    0.000000    0.000000   \n",
       "\n",
       "                       50%         75%         max  \n",
       "lat              20.597498   20.884595   23.439659  \n",
       "lon            -102.650350 -102.184024  -98.662612  \n",
       "square_area       0.510000    3.935500  787.820000  \n",
       "plantation_age    2.000000    4.000000   19.000000  \n",
       "capture_count     2.000000    5.000000  427.000000  "
      ]
     },
     "execution_count": 4,
     "metadata": {},
     "output_type": "execute_result"
    }
   ],
   "source": [
    "all_historic_captures_df.describe(include='number').T"
   ]
  },
  {
   "cell_type": "code",
   "execution_count": 5,
   "id": "5a9bfbce",
   "metadata": {},
   "outputs": [
    {
     "data": {
      "text/html": [
       "<div>\n",
       "<style scoped>\n",
       "    .dataframe tbody tr th:only-of-type {\n",
       "        vertical-align: middle;\n",
       "    }\n",
       "\n",
       "    .dataframe tbody tr th {\n",
       "        vertical-align: top;\n",
       "    }\n",
       "\n",
       "    .dataframe thead th {\n",
       "        text-align: right;\n",
       "    }\n",
       "</style>\n",
       "<table border=\"1\" class=\"dataframe\">\n",
       "  <thead>\n",
       "    <tr style=\"text-align: right;\">\n",
       "      <th></th>\n",
       "      <th>count</th>\n",
       "      <th>unique</th>\n",
       "      <th>top</th>\n",
       "      <th>freq</th>\n",
       "      <th>mean</th>\n",
       "      <th>min</th>\n",
       "      <th>25%</th>\n",
       "      <th>50%</th>\n",
       "      <th>75%</th>\n",
       "      <th>max</th>\n",
       "    </tr>\n",
       "  </thead>\n",
       "  <tbody>\n",
       "    <tr>\n",
       "      <th>tramp_id</th>\n",
       "      <td>827856.0</td>\n",
       "      <td>84063.0</td>\n",
       "      <td>716.0</td>\n",
       "      <td>125.0</td>\n",
       "      <td>NaN</td>\n",
       "      <td>NaN</td>\n",
       "      <td>NaN</td>\n",
       "      <td>NaN</td>\n",
       "      <td>NaN</td>\n",
       "      <td>NaN</td>\n",
       "    </tr>\n",
       "    <tr>\n",
       "      <th>sampling_date</th>\n",
       "      <td>827856</td>\n",
       "      <td>NaN</td>\n",
       "      <td>NaN</td>\n",
       "      <td>NaN</td>\n",
       "      <td>2018-12-29 19:19:48.102277888</td>\n",
       "      <td>2014-01-01 00:00:00</td>\n",
       "      <td>2016-05-19 00:00:00</td>\n",
       "      <td>2017-11-10 00:00:00</td>\n",
       "      <td>2021-12-28 00:00:00</td>\n",
       "      <td>2025-08-31 00:00:00</td>\n",
       "    </tr>\n",
       "    <tr>\n",
       "      <th>municipality</th>\n",
       "      <td>827856</td>\n",
       "      <td>149</td>\n",
       "      <td>ARANDAS</td>\n",
       "      <td>61191</td>\n",
       "      <td>NaN</td>\n",
       "      <td>NaN</td>\n",
       "      <td>NaN</td>\n",
       "      <td>NaN</td>\n",
       "      <td>NaN</td>\n",
       "      <td>NaN</td>\n",
       "    </tr>\n",
       "    <tr>\n",
       "      <th>state</th>\n",
       "      <td>827856</td>\n",
       "      <td>6</td>\n",
       "      <td>JALISCO</td>\n",
       "      <td>442628</td>\n",
       "      <td>NaN</td>\n",
       "      <td>NaN</td>\n",
       "      <td>NaN</td>\n",
       "      <td>NaN</td>\n",
       "      <td>NaN</td>\n",
       "      <td>NaN</td>\n",
       "    </tr>\n",
       "    <tr>\n",
       "      <th>severity</th>\n",
       "      <td>827856</td>\n",
       "      <td>4</td>\n",
       "      <td>1-25</td>\n",
       "      <td>518659</td>\n",
       "      <td>NaN</td>\n",
       "      <td>NaN</td>\n",
       "      <td>NaN</td>\n",
       "      <td>NaN</td>\n",
       "      <td>NaN</td>\n",
       "      <td>NaN</td>\n",
       "    </tr>\n",
       "  </tbody>\n",
       "</table>\n",
       "</div>"
      ],
      "text/plain": [
       "                  count   unique      top    freq  \\\n",
       "tramp_id       827856.0  84063.0    716.0   125.0   \n",
       "sampling_date    827856      NaN      NaN     NaN   \n",
       "municipality     827856      149  ARANDAS   61191   \n",
       "state            827856        6  JALISCO  442628   \n",
       "severity         827856        4     1-25  518659   \n",
       "\n",
       "                                        mean                  min  \\\n",
       "tramp_id                                 NaN                  NaN   \n",
       "sampling_date  2018-12-29 19:19:48.102277888  2014-01-01 00:00:00   \n",
       "municipality                             NaN                  NaN   \n",
       "state                                    NaN                  NaN   \n",
       "severity                                 NaN                  NaN   \n",
       "\n",
       "                               25%                  50%                  75%  \\\n",
       "tramp_id                       NaN                  NaN                  NaN   \n",
       "sampling_date  2016-05-19 00:00:00  2017-11-10 00:00:00  2021-12-28 00:00:00   \n",
       "municipality                   NaN                  NaN                  NaN   \n",
       "state                          NaN                  NaN                  NaN   \n",
       "severity                       NaN                  NaN                  NaN   \n",
       "\n",
       "                               max  \n",
       "tramp_id                       NaN  \n",
       "sampling_date  2025-08-31 00:00:00  \n",
       "municipality                   NaN  \n",
       "state                          NaN  \n",
       "severity                       NaN  "
      ]
     },
     "execution_count": 5,
     "metadata": {},
     "output_type": "execute_result"
    }
   ],
   "source": [
    "all_historic_captures_df.describe(exclude='number').T"
   ]
  },
  {
   "cell_type": "code",
   "execution_count": 6,
   "id": "3176edfe",
   "metadata": {},
   "outputs": [
    {
     "data": {
      "text/plain": [
       "tramp_id          0.0\n",
       "sampling_date     0.0\n",
       "lat               0.0\n",
       "lon               0.0\n",
       "municipality      0.0\n",
       "square_area       0.0\n",
       "plantation_age    0.0\n",
       "capture_count     0.0\n",
       "state             0.0\n",
       "severity          0.0\n",
       "dtype: float64"
      ]
     },
     "execution_count": 6,
     "metadata": {},
     "output_type": "execute_result"
    }
   ],
   "source": [
    "all_historic_captures_df.isna().sum() / len(all_historic_captures_df) * 100"
   ]
  },
  {
   "cell_type": "markdown",
   "id": "f6cf3c8b",
   "metadata": {},
   "source": [
    "### `Feature engineering` sobre `square_area`"
   ]
  },
  {
   "cell_type": "markdown",
   "id": "24517029",
   "metadata": {},
   "source": [
    "Al revisar nuevamente los valores de `square_area` (o `Superficie (ha)` originalmente), es posible notar que casi el 48% de éstos es igual a `0.00`. Esto, como discutimos con anterioridad, indica que durante el proceso de muestreo de años previos a 2024 y 2025 no hubo un control de calidad para mitigar la falta de información en esta columna. Esto fue confirmado por nuestro Sponsor.\n",
    "\n",
    "Pero como consideramos que esta información es importante, hemos decidido trabajar la siguiente estrategia de imputación:\n",
    "\n",
    "- Reducir la cantidad de valores `0.00` por medio del ID de cada trampa. Como el ID de la trampa está en función del predio muestreado, es posible asumir que con que un ID de trampa contenga información del área, esta se puede replicar a las demás instancias de ese mismo ID de trampa.\n",
    "\n",
    "- Luego de esto, usaremos un algoritmo conocido como K-NN (K nearest neighbour) para verificar cuales trampas con un registro de superficie distinto a `0.00` se encuentran cerca de otras trampas con un área distinta a `0.00`. La distancia entre éstas trampas debe ser entre 100m a 500m según el manual de operación.\n",
    "\n",
    "- Por último, analizaremos cuántos registros quedan pendientes aún de tener un valor distinto a `0.00` y decidiremos más adelante qué hacer con ellos."
   ]
  },
  {
   "cell_type": "code",
   "execution_count": 95,
   "id": "f8935499",
   "metadata": {},
   "outputs": [
    {
     "name": "stdout",
     "output_type": "stream",
     "text": [
      "Trampas registradas con área mayor a 0.00: 428434\n",
      "Trampas registradas con área igual a 0.00: 399422\n"
     ]
    }
   ],
   "source": [
    "df = all_historic_captures_df\n",
    "\n",
    "print(f\"Trampas registradas con área mayor a 0.00: { (df['square_area'] > 0 ).sum()}\")\n",
    "print(f\"Trampas registradas con área igual a 0.00: { (df['square_area'] == 0 ).sum()}\")\n"
   ]
  },
  {
   "cell_type": "markdown",
   "id": "f1d33e33",
   "metadata": {},
   "source": [
    "##### Usando el ID de trampa para llenar valores vacíos"
   ]
  },
  {
   "cell_type": "code",
   "execution_count": 96,
   "id": "9c5c8220",
   "metadata": {},
   "outputs": [
    {
     "name": "stdout",
     "output_type": "stream",
     "text": [
      "Trampas únicas con área conocida: 46,233\n",
      "\n",
      "Estadística de trampas unicas con area:\n",
      "  tramp_id  mean_area  median_area  std_area  count\n",
      "0        1     5.9549       5.9549       0.0     21\n",
      "1        2     2.4495       2.4495       0.0     17\n",
      "2        3     2.4152       2.4152       0.0     21\n",
      "3        4     4.5461       4.5461       0.0     17\n",
      "4        5     3.8173       3.8173       0.0     17\n",
      "5        6     2.0322       2.0322       0.0     17\n",
      "6        7     9.8021       9.8021       0.0     16\n",
      "7        8     6.1943       6.1943       0.0     20\n",
      "8        9     4.2533       4.2533       0.0     21\n",
      "9       10     4.2300       4.2300       0.0     19\n",
      "Traps with std = 0: 28,511\n"
     ]
    }
   ],
   "source": [
    "# Hacemos una agregacion de los datos de area para los registros que tienen un valor mayor a 0\n",
    "trap_area_stats = df[df['square_area'] > 0].groupby('tramp_id')['square_area'].agg([\n",
    "    'mean', \n",
    "    'median', \n",
    "    'std', \n",
    "    'count'\n",
    "]).reset_index()\n",
    "\n",
    "# Simplificamos las columnas\n",
    "trap_area_stats.columns = ['tramp_id', 'mean_area', 'median_area', 'std_area', 'count']\n",
    "\n",
    "print(f\"Trampas únicas con área conocida: {len(trap_area_stats):,}\")\n",
    "\n",
    "print(f\"\\nEstadística de trampas unicas con area:\")\n",
    "print(trap_area_stats.head(10))\n",
    "\n",
    "traps_with_zero_std = (trap_area_stats['std_area'] == 0).sum()\n",
    "print(f\"Traps with std = 0: {traps_with_zero_std:,}\")"
   ]
  },
  {
   "cell_type": "code",
   "execution_count": 97,
   "id": "a14ba2f9",
   "metadata": {},
   "outputs": [
    {
     "name": "stdout",
     "output_type": "stream",
     "text": [
      "Cantidad de registros de `square_area` que podemos rellenar: 79287\n"
     ]
    }
   ],
   "source": [
    "\n",
    "# Trampas con area igual a 0.00\n",
    "missing_area = df['square_area'] == 0\n",
    "\n",
    "# Cruzamos las trampas con area 0.00 vs. trampas con el mismo ID que tienen area distinta a 0.00\n",
    "can_fill = df[missing_area]['tramp_id'].isin(trap_area_stats['tramp_id'])\n",
    "print( f\"Cantidad de registros de `square_area` que podemos rellenar: {len(df[missing_area][can_fill])}\" )"
   ]
  },
  {
   "cell_type": "code",
   "execution_count": 98,
   "id": "f944c6fd",
   "metadata": {},
   "outputs": [
    {
     "name": "stdout",
     "output_type": "stream",
     "text": [
      "Se llenaron 79287 registros usando el mismo ID de la trampa.\n"
     ]
    }
   ],
   "source": [
    "# Procedemos a crear nuevas columnas para mantener los valores originales de square_area.\n",
    "# Columna para agregar el valor calculado con la estrategia 1\n",
    "\n",
    "df['square_area_imputed'] = df['square_area'].copy()\n",
    "df['imputation_method'] = 'original'  \n",
    "df['imputation_method'] = df['imputation_method'].where(\n",
    "    df['square_area'] > 0, 'none'\n",
    ")\n",
    "\n",
    "# Usamos un diccionario y una mascara para modificar solo los registros que necesitamos\n",
    "trap_median_map = trap_area_stats.set_index('tramp_id')['median_area'].to_dict()\n",
    "\n",
    "# La Mascara toma en cuenta los registros con area igual a 0.00 y el index de cada uno y lo relaciona al index en el diccionario\n",
    "mask = (df['square_area'] == 0) & (df['tramp_id'].isin(trap_median_map.keys()))\n",
    "\n",
    "# Cambiamos el valor del area calculada (que es 0.00 para estos casos) y el origen o valor en imputation_method para dejar una bandera\n",
    "df.loc[mask, 'square_area_imputed'] = df.loc[mask, 'tramp_id'].map(trap_median_map)\n",
    "df.loc[mask, 'imputation_method'] = 'same_trap_id'\n",
    "\n",
    "# Imprimimos la cantidad de registros que modificamos\n",
    "print(f\"Se llenaron { len(df[ df['imputation_method'] == 'same_trap_id' ]) } registros usando el mismo ID de la trampa.\")"
   ]
  },
  {
   "cell_type": "markdown",
   "id": "e7d31338",
   "metadata": {},
   "source": [
    "##### Ahora usaremos KNN para rellenar el resto de información"
   ]
  },
  {
   "cell_type": "markdown",
   "id": "4a643e0d",
   "metadata": {},
   "source": [
    "- `original`: son todas los registros de area que originalmente son distintos a 0.00\n",
    "- `none`: son los registros que aún no hemos imputado\n",
    "- `samte_trap_id`: son los registros que tienen un valor imputado en la columna `square_area_imputed` por medio de usar el `trap_id`."
   ]
  },
  {
   "cell_type": "code",
   "execution_count": 99,
   "id": "867c2f4a",
   "metadata": {},
   "outputs": [
    {
     "name": "stdout",
     "output_type": "stream",
     "text": [
      "\n",
      "Origen de los valores de la columna square_area_imputed:\n",
      "imputation_method\n",
      "original        428434\n",
      "none            320135\n",
      "same_trap_id     79287\n",
      "Name: count, dtype: int64\n"
     ]
    }
   ],
   "source": [
    "print(\"\\nOrigen de los valores de la columna square_area_imputed:\")\n",
    "print(df['imputation_method'].value_counts())"
   ]
  },
  {
   "cell_type": "code",
   "execution_count": 100,
   "id": "4c5b32c4",
   "metadata": {},
   "outputs": [
    {
     "name": "stdout",
     "output_type": "stream",
     "text": [
      "Registros a predecir su quare_area: 320,135\n"
     ]
    }
   ],
   "source": [
    "from sklearn.neighbors import KNeighborsRegressor\n",
    "import warnings\n",
    "\n",
    "# Ignoraremos warnings\n",
    "warnings.filterwarnings('ignore')\n",
    "\n",
    "# No debemos  sobre-escribir lo que ya imputamos anterioremente\n",
    "# Entonces usaremos esos indexes como mascara\n",
    "train_mask = df['imputation_method'].isin(['original', 'same_trap_id'])\n",
    "\n",
    "# Tomamos los indexes que ya sabemos que en teoría están bien\n",
    "X_train = df[train_mask][['lat', 'lon']].values\n",
    "y_train = df[train_mask]['square_area_imputed'].values\n",
    "\n",
    "# Nuestro test serán los registros de los que sabemos que tienen 0.00 en square_area\n",
    "# y que no han sido imputados por el paso previo.\n",
    "test_mask = df['imputation_method'] == 'none'\n",
    "X_test = df[test_mask][['lat', 'lon']].values\n",
    "\n",
    "print(f\"Registros a predecir su quare_area: {len(X_test):,}\")"
   ]
  },
  {
   "cell_type": "code",
   "execution_count": null,
   "id": "eff01ad6",
   "metadata": {},
   "outputs": [],
   "source": [
    "# Usaremos Harversine para tomar en cuenta la curvatura de la tierra en la distancia que usemos para conocer cuales trampas están\n",
    "# cerca unas de otras, y se necesita que las longitudes y latitudes estén en radianes\n",
    "X_train_rad = np.radians(X_train)\n",
    "X_test_rad = np.radians(X_test)\n",
    "\n",
    "knn = KNeighborsRegressor(\n",
    "    n_neighbors=5,\n",
    "    weights='distance',  # Weight by inverse distance\n",
    "    metric='haversine',  # Geographic distance\n",
    "    n_jobs=-1           # Use all available cores\n",
    ")\n",
    "\n",
    "knn.fit(X_train_rad, y_train)"
   ]
  }
 ],
 "metadata": {
  "kernelspec": {
   "display_name": "env_pySpark",
   "language": "python",
   "name": "python3"
  },
  "language_info": {
   "codemirror_mode": {
    "name": "ipython",
    "version": 3
   },
   "file_extension": ".py",
   "mimetype": "text/x-python",
   "name": "python",
   "nbconvert_exporter": "python",
   "pygments_lexer": "ipython3",
   "version": "3.12.9"
  }
 },
 "nbformat": 4,
 "nbformat_minor": 5
}
