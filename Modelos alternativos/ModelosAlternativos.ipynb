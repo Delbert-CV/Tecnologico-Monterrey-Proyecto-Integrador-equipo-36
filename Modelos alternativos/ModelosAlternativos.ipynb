{
 "cells": [
  {
   "cell_type": "markdown",
   "id": "ddca45b9",
   "metadata": {},
   "source": [
    "\n",
    "\n",
    "# Reporte de problemas fitosanitarios en plantaciones de agave\n",
    "--------------------\n",
    "\n",
    "## Equipo 36\n",
    "\n",
    "| Nombre | Matrícula |\n",
    "| ------ | --------- |\n",
    "| André Martins Cordebello | A00572928 |\n",
    "| Enrique Eduardo Solís Da Costa | A00572678 |\n",
    "| Delbert Francisco Custodio Vargas | A01795613 |\n",
    "\n",
    "## Avance 4: Modelos alternativos \n",
    "\n",
    "Este avance implica construir múltiples modelos (individuales, no ensambles) relevantes para resolver el problema y evaluar su desempeño. Diferentes algoritmos pueden comportarse de manera óptima en diferentes tipos de datos o tareas. La construcción de modelos alternativos permite explorar y evaluar cuál de ellos proporciona el mejor rendimiento para un problema particular.\n",
    "\n",
    "Además, los modelos se pueden ajustar para determinar si se puede mejorar su rendimiento. Diferentes configuraciones de hiperparámetros pueden afectar significativamente el rendimiento de un modelo. Construir modelos alternativos implica explorar y ajustar estos hiperparámetros para encontrar la configuración óptima."
   ]
  },
  {
   "cell_type": "markdown",
   "id": "3604f302",
   "metadata": {},
   "source": [
    "# Introducción"
   ]
  },
  {
   "cell_type": "markdown",
   "id": "376a97b1",
   "metadata": {},
   "source": [
    "Durante la entrega del Avance 3, trabajamos con 2 modelos de regresión los cuáles fueron `RandomForestRegressor` y `XGBoost`. De éstos 2 modelos, el que mejor rendimiento tuvo fue el `RandomForestRegressor`, con un R^2 de `0.53`.\n",
    "\n",
    "Por lo anterior, estaremos explorando al menos 6 modelos distintos y cambiando nuestro Feature Engineering para lograr un mejor resultado en la predicción de nuestro R^2 o `accuracy` score si decidimos trabajar sobre la variable `severity_encode`. Agregado a esto, haremos una etapa de feature engineering la cual incluirá:\n",
    "\n",
    "- La precipitación registrada por la estación climatológica más cercana a la ubicación de la trampa muestreada durante el mismo mes en que se tomó la muestra.\n",
    "- La temperatura media, maxima y mínima de la estación climatológica más cercana a la ubicación de la trampa muestreada en el mismo año y mes.\n",
    "\n",
    "Esta información está disponible desde `https://smn.conagua.gob.mx/es/climatologia/temperaturas-y-lluvias/resumenes-mensuales-de-temperaturas-y-lluvias`, y es posible descargar esta información por medio de los scripts `smn_precipitation_downloader.py` y `smn_temp_downloader.py`, y generar los archivos CSV por medio de los scripts `smn_precipitation_builder.py` y `smn_temp_builder.py`."
   ]
  },
  {
   "cell_type": "markdown",
   "id": "8ed96aa2",
   "metadata": {},
   "source": [
    "# Objetivo"
   ]
  },
  {
   "cell_type": "markdown",
   "id": "e3e7e061",
   "metadata": {},
   "source": [
    "Con lo anterior, es importante tomar en cuenta que nuestro objetivo para esta entrega se basa en predecir el nivel de infestación con la que se catalogan los focos de infestación (seguro, leve, moderado y severo). \n",
    "\n",
    "Ahora, como sabemos, contamos con un dataset desbalanceado:\n",
    "\n",
    "- El 62% de las muestras históricas son leves.\n",
    "- El 35% de los registros indican un nivel seguro de severidad.\n",
    "- El 1.1% se considera como moderado.\n",
    "- El 0.15% de la muestra es severa.\n",
    "\n",
    "Por lo anterior, usar una métrica como `accuracy` no es buena idea, ya que nuestros modelos podrían llegar a tener esta métrica elevado haciendo uso de una clasificación leve o segura. Por lo tanto, las métricas que debemos tomar en cuenta son las siguientes:\n",
    "\n",
    "- `Recall`: requerimos detectar correctamente los casos positivos de la clase objetivo.\n",
    "- `F1`: esta métrica nos da una idea de qué tan balanceado es nuestro modelo para todas las clases en general.\n",
    "- `Precision`: nos ayudará a controlar los falsos positivos una vez logremos que nuestro `Recall` mejore.\n",
    "- `AUC`: para analizar los resultados gráficamente y seleccionar el mejor modelo."
   ]
  },
  {
   "cell_type": "markdown",
   "id": "849f44b3",
   "metadata": {},
   "source": [
    "# Librerías"
   ]
  },
  {
   "cell_type": "code",
   "execution_count": null,
   "id": "b320c3dd",
   "metadata": {},
   "outputs": [],
   "source": [
    "from sklearn.metrics import classification_report, confusion_matrix, accuracy_score\n",
    "from sklearn.model_selection import TimeSeriesSplit, cross_val_score\n",
    "from imblearn.ensemble  import BalancedRandomForestClassifier\n",
    "from sklearn.utils.class_weight import compute_sample_weight\n",
    "from sklearn.utils.class_weight import compute_class_weight\n",
    "from sklearn.model_selection import train_test_split\n",
    "from sklearn.ensemble import RandomForestClassifier\n",
    "from sklearn.preprocessing import StandardScaler\n",
    "from sklearn.neural_network import MLPClassifier\n",
    "from sklearn.preprocessing import OneHotEncoder\n",
    "from sklearn.tree import DecisionTreeClassifier\n",
    "from sklearn.preprocessing import LabelEncoder\n",
    "from sklearn.preprocessing import MinMaxScaler\n",
    "from sklearn.compose import ColumnTransformer\n",
    "from bayes_opt import BayesianOptimization\n",
    "from imblearn.over_sampling import SMOTENC\n",
    "from imblearn.over_sampling import SMOTE\n",
    "from sklearn.neighbors import BallTree\n",
    "from lightgbm import LGBMClassifier\n",
    "from xgboost import XGBClassifier\n",
    "import matplotlib.pyplot as plt\n",
    "import lightgbm as lgb\n",
    "import xgboost as xgb\n",
    "import pandas as pd\n",
    "import numpy as np"
   ]
  },
  {
   "cell_type": "markdown",
   "id": "91c42527",
   "metadata": {},
   "source": [
    "# Carga del dataset"
   ]
  },
  {
   "cell_type": "markdown",
   "id": "0c5f4222",
   "metadata": {},
   "source": [
    "En esta sección cargaremos el dataset `Baseline.xlsx`, el cual contiene los `text_features` para hacer el fine-tuning de nuestro LLM.\n",
    "\n",
    "Por lo tanto, no haremos uso de los `text_features` debido a que éstos son la combinación de varios features previos."
   ]
  },
  {
   "cell_type": "code",
   "execution_count": 2,
   "id": "d3743772",
   "metadata": {},
   "outputs": [
    {
     "data": {
      "text/plain": [
       "Unnamed: 0                              int64\n",
       "tramp_id                               object\n",
       "sampling_date                  datetime64[ns]\n",
       "lat                                   float64\n",
       "lon                                   float64\n",
       "municipality                           object\n",
       "square_area                           float64\n",
       "plantation_age                          int64\n",
       "capture_count                         float64\n",
       "state                                  object\n",
       "square_area_imputed                   float64\n",
       "month                                   int64\n",
       "year                                    int64\n",
       "year_month                             object\n",
       "day_of_year_sin                       float64\n",
       "day_of_year_cos                       float64\n",
       "day_of_week_sin                       float64\n",
       "day_of_week_cos                       float64\n",
       "week_of_year_sin                      float64\n",
       "week_of_year_cos                      float64\n",
       "month_sin                             float64\n",
       "month_cos                             float64\n",
       "critical_season                         int64\n",
       "severity_encoded                        int64\n",
       "distance_to_nearest_hotspot           float64\n",
       "hotspots_within_5km                     int64\n",
       "text_feature_location                  object\n",
       "text_feature_risk                      object\n",
       "text_feature_capture                   object\n",
       "text_feature_plantation                object\n",
       "text_feature_all_things                object\n",
       "dtype: object"
      ]
     },
     "execution_count": 2,
     "metadata": {},
     "output_type": "execute_result"
    }
   ],
   "source": [
    "df = pd.read_excel('baseline.xlsx')\n",
    "df.dtypes"
   ]
  },
  {
   "cell_type": "code",
   "execution_count": 3,
   "id": "2e73216f",
   "metadata": {},
   "outputs": [
    {
     "data": {
      "text/plain": [
       "tramp_id                               object\n",
       "sampling_date                  datetime64[ns]\n",
       "lat                                   float64\n",
       "lon                                   float64\n",
       "municipality                           object\n",
       "plantation_age                          int64\n",
       "capture_count                         float64\n",
       "state                                  object\n",
       "square_area_imputed                   float64\n",
       "month                                   int64\n",
       "year                                    int64\n",
       "year_month                             object\n",
       "day_of_year_sin                       float64\n",
       "day_of_year_cos                       float64\n",
       "day_of_week_sin                       float64\n",
       "day_of_week_cos                       float64\n",
       "week_of_year_sin                      float64\n",
       "week_of_year_cos                      float64\n",
       "month_sin                             float64\n",
       "month_cos                             float64\n",
       "critical_season                         int64\n",
       "severity_encoded                        int64\n",
       "distance_to_nearest_hotspot           float64\n",
       "hotspots_within_5km                     int64\n",
       "dtype: object"
      ]
     },
     "execution_count": 3,
     "metadata": {},
     "output_type": "execute_result"
    }
   ],
   "source": [
    "# Eliminamos las columnas irrelevantes para nuestros modelos.\n",
    "df.drop(labels=['Unnamed: 0', 'square_area', 'text_feature_location',  'text_feature_risk', 'text_feature_capture', 'text_feature_plantation', 'text_feature_all_things'], axis=1, inplace=True)\n",
    "df.dtypes"
   ]
  },
  {
   "cell_type": "markdown",
   "id": "2dfbdfa8",
   "metadata": {},
   "source": [
    "# Feature engineering de nuevo..."
   ]
  },
  {
   "cell_type": "markdown",
   "id": "6c5d5969",
   "metadata": {},
   "source": [
    "## Carga de precipitación y temperatura histórica"
   ]
  },
  {
   "cell_type": "markdown",
   "id": "7a958da2",
   "metadata": {},
   "source": [
    "Con base en los resultados obtenidos en nuestro Baseline, vemos con buenos ojos pensar de nuevo los features que debemos tomar en cuenta para predecir la severidad de un posible foco de infección.\n",
    "\n",
    "Para esto, hemos descargado y procesado la información disponible de parte del Gobierno de México para tomar en cuenta:\n",
    "\n",
    "- La precipitación en mm.\n",
    "- La temperatura media, máxima y mínima \n",
    "\n",
    "Y haremos uso de la información proporcionada por la estación más cercana a cada muestra de nuestro dataset."
   ]
  },
  {
   "cell_type": "code",
   "execution_count": 4,
   "id": "044fa5e0",
   "metadata": {},
   "outputs": [
    {
     "name": "stdout",
     "output_type": "stream",
     "text": [
      "El dataset de precipitacion tiene estas columnas: ['lon', 'lat', 'state', 'cve_sih', 'name', 'precipitation(mm)', 'year-month']\n",
      "El dataset de avg_temp tiene estas columnas: Index(['lon', 'lat', 'state', 'cve_sih', 'name', 'TMed', 'year-month'], dtype='object')\n",
      "El dataset de max_temp tiene estas columnas: Index(['lon', 'lat', 'state', 'cve_sih', 'name', 'TMax', 'year-month'], dtype='object')\n",
      "El dataset de min_temp tiene estas columnas: Index(['lon', 'lat', 'state', 'cve_sih', 'name', 'TMin', 'year-month'], dtype='object')\n"
     ]
    }
   ],
   "source": [
    "precipitation_df = pd.read_csv('precipitation_per_area_historical.csv')\n",
    "avg_temp_df      = pd.read_csv('TMed_per_area_historical.csv')\n",
    "max_temp_df      = pd.read_csv('TMax_per_area_historical.csv')\n",
    "min_temp_df      = pd.read_csv('TMin_per_area_historical.csv')\n",
    "\n",
    "print(f'El dataset de precipitacion tiene estas columnas: {precipitation_df.columns.tolist()}')\n",
    "print(f'El dataset de avg_temp tiene estas columnas: {avg_temp_df.columns}')\n",
    "print(f'El dataset de max_temp tiene estas columnas: {max_temp_df.columns}')\n",
    "print(f'El dataset de min_temp tiene estas columnas: {min_temp_df.columns}')"
   ]
  },
  {
   "cell_type": "code",
   "execution_count": 5,
   "id": "a3c1cdf3",
   "metadata": {},
   "outputs": [
    {
     "data": {
      "text/html": [
       "<div>\n",
       "<style scoped>\n",
       "    .dataframe tbody tr th:only-of-type {\n",
       "        vertical-align: middle;\n",
       "    }\n",
       "\n",
       "    .dataframe tbody tr th {\n",
       "        vertical-align: top;\n",
       "    }\n",
       "\n",
       "    .dataframe thead th {\n",
       "        text-align: right;\n",
       "    }\n",
       "</style>\n",
       "<table border=\"1\" class=\"dataframe\">\n",
       "  <thead>\n",
       "    <tr style=\"text-align: right;\">\n",
       "      <th></th>\n",
       "      <th>count</th>\n",
       "      <th>mean</th>\n",
       "      <th>std</th>\n",
       "      <th>min</th>\n",
       "      <th>25%</th>\n",
       "      <th>50%</th>\n",
       "      <th>75%</th>\n",
       "      <th>max</th>\n",
       "    </tr>\n",
       "  </thead>\n",
       "  <tbody>\n",
       "    <tr>\n",
       "      <th>lon</th>\n",
       "      <td>158067.0</td>\n",
       "      <td>1.717909e+08</td>\n",
       "      <td>9.853862e+08</td>\n",
       "      <td>873.0</td>\n",
       "      <td>10172.0</td>\n",
       "      <td>97021111.0</td>\n",
       "      <td>1.006344e+08</td>\n",
       "      <td>9.999958e+09</td>\n",
       "    </tr>\n",
       "    <tr>\n",
       "      <th>lat</th>\n",
       "      <td>158067.0</td>\n",
       "      <td>5.697327e+07</td>\n",
       "      <td>3.079344e+08</td>\n",
       "      <td>147.0</td>\n",
       "      <td>2345.0</td>\n",
       "      <td>18794167.0</td>\n",
       "      <td>2.107444e+07</td>\n",
       "      <td>3.270472e+09</td>\n",
       "    </tr>\n",
       "    <tr>\n",
       "      <th>precipitation(mm)</th>\n",
       "      <td>158020.0</td>\n",
       "      <td>8.051705e+01</td>\n",
       "      <td>1.165051e+02</td>\n",
       "      <td>0.0</td>\n",
       "      <td>3.0</td>\n",
       "      <td>33.2</td>\n",
       "      <td>1.153200e+02</td>\n",
       "      <td>1.894000e+03</td>\n",
       "    </tr>\n",
       "  </tbody>\n",
       "</table>\n",
       "</div>"
      ],
      "text/plain": [
       "                      count          mean           std    min      25%  \\\n",
       "lon                158067.0  1.717909e+08  9.853862e+08  873.0  10172.0   \n",
       "lat                158067.0  5.697327e+07  3.079344e+08  147.0   2345.0   \n",
       "precipitation(mm)  158020.0  8.051705e+01  1.165051e+02    0.0      3.0   \n",
       "\n",
       "                          50%           75%           max  \n",
       "lon                97021111.0  1.006344e+08  9.999958e+09  \n",
       "lat                18794167.0  2.107444e+07  3.270472e+09  \n",
       "precipitation(mm)        33.2  1.153200e+02  1.894000e+03  "
      ]
     },
     "execution_count": 5,
     "metadata": {},
     "output_type": "execute_result"
    }
   ],
   "source": [
    "precipitation_df.describe().T"
   ]
  },
  {
   "cell_type": "code",
   "execution_count": 6,
   "id": "bced3ec6",
   "metadata": {},
   "outputs": [
    {
     "data": {
      "text/html": [
       "<div>\n",
       "<style scoped>\n",
       "    .dataframe tbody tr th:only-of-type {\n",
       "        vertical-align: middle;\n",
       "    }\n",
       "\n",
       "    .dataframe tbody tr th {\n",
       "        vertical-align: top;\n",
       "    }\n",
       "\n",
       "    .dataframe thead th {\n",
       "        text-align: right;\n",
       "    }\n",
       "</style>\n",
       "<table border=\"1\" class=\"dataframe\">\n",
       "  <thead>\n",
       "    <tr style=\"text-align: right;\">\n",
       "      <th></th>\n",
       "      <th>count</th>\n",
       "      <th>mean</th>\n",
       "      <th>std</th>\n",
       "      <th>min</th>\n",
       "      <th>25%</th>\n",
       "      <th>50%</th>\n",
       "      <th>75%</th>\n",
       "      <th>max</th>\n",
       "    </tr>\n",
       "  </thead>\n",
       "  <tbody>\n",
       "    <tr>\n",
       "      <th>lon</th>\n",
       "      <td>163149.0</td>\n",
       "      <td>-101.184182</td>\n",
       "      <td>5.850756</td>\n",
       "      <td>-118.29</td>\n",
       "      <td>-104.37</td>\n",
       "      <td>-100.3</td>\n",
       "      <td>-98.16</td>\n",
       "      <td>-86.74</td>\n",
       "    </tr>\n",
       "    <tr>\n",
       "      <th>lat</th>\n",
       "      <td>163149.0</td>\n",
       "      <td>22.092611</td>\n",
       "      <td>4.143454</td>\n",
       "      <td>-99.90</td>\n",
       "      <td>19.12</td>\n",
       "      <td>20.8</td>\n",
       "      <td>25.03</td>\n",
       "      <td>32.70</td>\n",
       "    </tr>\n",
       "    <tr>\n",
       "      <th>TMed</th>\n",
       "      <td>163149.0</td>\n",
       "      <td>22.292233</td>\n",
       "      <td>5.657826</td>\n",
       "      <td>-99.90</td>\n",
       "      <td>18.10</td>\n",
       "      <td>22.3</td>\n",
       "      <td>27.00</td>\n",
       "      <td>41.80</td>\n",
       "    </tr>\n",
       "  </tbody>\n",
       "</table>\n",
       "</div>"
      ],
      "text/plain": [
       "         count        mean       std     min     25%    50%    75%    max\n",
       "lon   163149.0 -101.184182  5.850756 -118.29 -104.37 -100.3 -98.16 -86.74\n",
       "lat   163149.0   22.092611  4.143454  -99.90   19.12   20.8  25.03  32.70\n",
       "TMed  163149.0   22.292233  5.657826  -99.90   18.10   22.3  27.00  41.80"
      ]
     },
     "execution_count": 6,
     "metadata": {},
     "output_type": "execute_result"
    }
   ],
   "source": [
    "avg_temp_df.describe().T"
   ]
  },
  {
   "cell_type": "code",
   "execution_count": 7,
   "id": "9c738213",
   "metadata": {},
   "outputs": [
    {
     "data": {
      "text/html": [
       "<div>\n",
       "<style scoped>\n",
       "    .dataframe tbody tr th:only-of-type {\n",
       "        vertical-align: middle;\n",
       "    }\n",
       "\n",
       "    .dataframe tbody tr th {\n",
       "        vertical-align: top;\n",
       "    }\n",
       "\n",
       "    .dataframe thead th {\n",
       "        text-align: right;\n",
       "    }\n",
       "</style>\n",
       "<table border=\"1\" class=\"dataframe\">\n",
       "  <thead>\n",
       "    <tr style=\"text-align: right;\">\n",
       "      <th></th>\n",
       "      <th>count</th>\n",
       "      <th>mean</th>\n",
       "      <th>std</th>\n",
       "      <th>min</th>\n",
       "      <th>25%</th>\n",
       "      <th>50%</th>\n",
       "      <th>75%</th>\n",
       "      <th>max</th>\n",
       "    </tr>\n",
       "  </thead>\n",
       "  <tbody>\n",
       "    <tr>\n",
       "      <th>lon</th>\n",
       "      <td>163237.0</td>\n",
       "      <td>-101.183637</td>\n",
       "      <td>5.850671</td>\n",
       "      <td>-118.29</td>\n",
       "      <td>-104.37</td>\n",
       "      <td>-100.3</td>\n",
       "      <td>-98.16</td>\n",
       "      <td>-86.74</td>\n",
       "    </tr>\n",
       "    <tr>\n",
       "      <th>lat</th>\n",
       "      <td>163237.0</td>\n",
       "      <td>22.092476</td>\n",
       "      <td>4.143737</td>\n",
       "      <td>-99.90</td>\n",
       "      <td>19.12</td>\n",
       "      <td>20.8</td>\n",
       "      <td>25.03</td>\n",
       "      <td>32.70</td>\n",
       "    </tr>\n",
       "    <tr>\n",
       "      <th>TMax</th>\n",
       "      <td>163237.0</td>\n",
       "      <td>29.519894</td>\n",
       "      <td>5.428911</td>\n",
       "      <td>-99.90</td>\n",
       "      <td>25.60</td>\n",
       "      <td>29.7</td>\n",
       "      <td>33.60</td>\n",
       "      <td>51.10</td>\n",
       "    </tr>\n",
       "  </tbody>\n",
       "</table>\n",
       "</div>"
      ],
      "text/plain": [
       "         count        mean       std     min     25%    50%    75%    max\n",
       "lon   163237.0 -101.183637  5.850671 -118.29 -104.37 -100.3 -98.16 -86.74\n",
       "lat   163237.0   22.092476  4.143737  -99.90   19.12   20.8  25.03  32.70\n",
       "TMax  163237.0   29.519894  5.428911  -99.90   25.60   29.7  33.60  51.10"
      ]
     },
     "execution_count": 7,
     "metadata": {},
     "output_type": "execute_result"
    }
   ],
   "source": [
    "max_temp_df.describe().T"
   ]
  },
  {
   "cell_type": "code",
   "execution_count": 8,
   "id": "aaef9e2f",
   "metadata": {},
   "outputs": [
    {
     "data": {
      "text/html": [
       "<div>\n",
       "<style scoped>\n",
       "    .dataframe tbody tr th:only-of-type {\n",
       "        vertical-align: middle;\n",
       "    }\n",
       "\n",
       "    .dataframe tbody tr th {\n",
       "        vertical-align: top;\n",
       "    }\n",
       "\n",
       "    .dataframe thead th {\n",
       "        text-align: right;\n",
       "    }\n",
       "</style>\n",
       "<table border=\"1\" class=\"dataframe\">\n",
       "  <thead>\n",
       "    <tr style=\"text-align: right;\">\n",
       "      <th></th>\n",
       "      <th>count</th>\n",
       "      <th>mean</th>\n",
       "      <th>std</th>\n",
       "      <th>min</th>\n",
       "      <th>25%</th>\n",
       "      <th>50%</th>\n",
       "      <th>75%</th>\n",
       "      <th>max</th>\n",
       "    </tr>\n",
       "  </thead>\n",
       "  <tbody>\n",
       "    <tr>\n",
       "      <th>lon</th>\n",
       "      <td>163264.0</td>\n",
       "      <td>-101.182702</td>\n",
       "      <td>5.850383</td>\n",
       "      <td>-118.29</td>\n",
       "      <td>-104.37</td>\n",
       "      <td>-100.30</td>\n",
       "      <td>-98.15</td>\n",
       "      <td>-86.74</td>\n",
       "    </tr>\n",
       "    <tr>\n",
       "      <th>lat</th>\n",
       "      <td>163264.0</td>\n",
       "      <td>22.091303</td>\n",
       "      <td>4.143190</td>\n",
       "      <td>-99.90</td>\n",
       "      <td>19.12</td>\n",
       "      <td>20.75</td>\n",
       "      <td>25.03</td>\n",
       "      <td>32.70</td>\n",
       "    </tr>\n",
       "    <tr>\n",
       "      <th>TMin</th>\n",
       "      <td>163264.0</td>\n",
       "      <td>15.092148</td>\n",
       "      <td>6.768767</td>\n",
       "      <td>-99.90</td>\n",
       "      <td>10.10</td>\n",
       "      <td>15.00</td>\n",
       "      <td>20.80</td>\n",
       "      <td>38.00</td>\n",
       "    </tr>\n",
       "  </tbody>\n",
       "</table>\n",
       "</div>"
      ],
      "text/plain": [
       "         count        mean       std     min     25%     50%    75%    max\n",
       "lon   163264.0 -101.182702  5.850383 -118.29 -104.37 -100.30 -98.15 -86.74\n",
       "lat   163264.0   22.091303  4.143190  -99.90   19.12   20.75  25.03  32.70\n",
       "TMin  163264.0   15.092148  6.768767  -99.90   10.10   15.00  20.80  38.00"
      ]
     },
     "execution_count": 8,
     "metadata": {},
     "output_type": "execute_result"
    }
   ],
   "source": [
    "min_temp_df.describe().T"
   ]
  },
  {
   "cell_type": "markdown",
   "id": "80951225",
   "metadata": {},
   "source": [
    "Como notamos que la información de temperatura contiene registros con valores negativos de -99.90 grados de temperatura, y como sabemos que esto no pudo pasar en alguno de los estados muestreados, procedemos a eliminar estos registros que seguramente son resultado de una mala muestra."
   ]
  },
  {
   "cell_type": "code",
   "execution_count": 9,
   "id": "ab12d41a",
   "metadata": {},
   "outputs": [],
   "source": [
    "precipitation_df = precipitation_df[ precipitation_df['precipitation(mm)'] >= 0 ]\n",
    "max_temp_df      = max_temp_df[ max_temp_df['TMax'] >= -99 ]\n",
    "avg_temp_df      = avg_temp_df[ avg_temp_df['TMed'] >= -99 ]\n",
    "min_temp_df      = min_temp_df[ min_temp_df['TMin'] >= -99 ]"
   ]
  },
  {
   "cell_type": "code",
   "execution_count": 10,
   "id": "1d656935",
   "metadata": {},
   "outputs": [
    {
     "data": {
      "text/html": [
       "<div>\n",
       "<style scoped>\n",
       "    .dataframe tbody tr th:only-of-type {\n",
       "        vertical-align: middle;\n",
       "    }\n",
       "\n",
       "    .dataframe tbody tr th {\n",
       "        vertical-align: top;\n",
       "    }\n",
       "\n",
       "    .dataframe thead th {\n",
       "        text-align: right;\n",
       "    }\n",
       "</style>\n",
       "<table border=\"1\" class=\"dataframe\">\n",
       "  <thead>\n",
       "    <tr style=\"text-align: right;\">\n",
       "      <th></th>\n",
       "      <th>count</th>\n",
       "      <th>mean</th>\n",
       "      <th>std</th>\n",
       "      <th>min</th>\n",
       "      <th>25%</th>\n",
       "      <th>50%</th>\n",
       "      <th>75%</th>\n",
       "      <th>max</th>\n",
       "    </tr>\n",
       "  </thead>\n",
       "  <tbody>\n",
       "    <tr>\n",
       "      <th>lon</th>\n",
       "      <td>158020.0</td>\n",
       "      <td>1.718176e+08</td>\n",
       "      <td>9.855313e+08</td>\n",
       "      <td>873.0</td>\n",
       "      <td>10172.0</td>\n",
       "      <td>97021111.0</td>\n",
       "      <td>1.006344e+08</td>\n",
       "      <td>9.999958e+09</td>\n",
       "    </tr>\n",
       "    <tr>\n",
       "      <th>lat</th>\n",
       "      <td>158020.0</td>\n",
       "      <td>5.698401e+07</td>\n",
       "      <td>3.079796e+08</td>\n",
       "      <td>147.0</td>\n",
       "      <td>2345.0</td>\n",
       "      <td>18789167.0</td>\n",
       "      <td>2.107444e+07</td>\n",
       "      <td>3.270472e+09</td>\n",
       "    </tr>\n",
       "    <tr>\n",
       "      <th>precipitation(mm)</th>\n",
       "      <td>158020.0</td>\n",
       "      <td>8.051705e+01</td>\n",
       "      <td>1.165051e+02</td>\n",
       "      <td>0.0</td>\n",
       "      <td>3.0</td>\n",
       "      <td>33.2</td>\n",
       "      <td>1.153200e+02</td>\n",
       "      <td>1.894000e+03</td>\n",
       "    </tr>\n",
       "  </tbody>\n",
       "</table>\n",
       "</div>"
      ],
      "text/plain": [
       "                      count          mean           std    min      25%  \\\n",
       "lon                158020.0  1.718176e+08  9.855313e+08  873.0  10172.0   \n",
       "lat                158020.0  5.698401e+07  3.079796e+08  147.0   2345.0   \n",
       "precipitation(mm)  158020.0  8.051705e+01  1.165051e+02    0.0      3.0   \n",
       "\n",
       "                          50%           75%           max  \n",
       "lon                97021111.0  1.006344e+08  9.999958e+09  \n",
       "lat                18789167.0  2.107444e+07  3.270472e+09  \n",
       "precipitation(mm)        33.2  1.153200e+02  1.894000e+03  "
      ]
     },
     "execution_count": 10,
     "metadata": {},
     "output_type": "execute_result"
    }
   ],
   "source": [
    "precipitation_df.describe().T"
   ]
  },
  {
   "cell_type": "code",
   "execution_count": 11,
   "id": "87b8aeb4",
   "metadata": {},
   "outputs": [
    {
     "data": {
      "text/html": [
       "<div>\n",
       "<style scoped>\n",
       "    .dataframe tbody tr th:only-of-type {\n",
       "        vertical-align: middle;\n",
       "    }\n",
       "\n",
       "    .dataframe tbody tr th {\n",
       "        vertical-align: top;\n",
       "    }\n",
       "\n",
       "    .dataframe thead th {\n",
       "        text-align: right;\n",
       "    }\n",
       "</style>\n",
       "<table border=\"1\" class=\"dataframe\">\n",
       "  <thead>\n",
       "    <tr style=\"text-align: right;\">\n",
       "      <th></th>\n",
       "      <th>count</th>\n",
       "      <th>mean</th>\n",
       "      <th>std</th>\n",
       "      <th>min</th>\n",
       "      <th>25%</th>\n",
       "      <th>50%</th>\n",
       "      <th>75%</th>\n",
       "      <th>max</th>\n",
       "    </tr>\n",
       "  </thead>\n",
       "  <tbody>\n",
       "    <tr>\n",
       "      <th>lon</th>\n",
       "      <td>163144.0</td>\n",
       "      <td>-101.184222</td>\n",
       "      <td>5.850841</td>\n",
       "      <td>-118.29</td>\n",
       "      <td>-104.37</td>\n",
       "      <td>-100.3</td>\n",
       "      <td>-98.16</td>\n",
       "      <td>-86.74</td>\n",
       "    </tr>\n",
       "    <tr>\n",
       "      <th>lat</th>\n",
       "      <td>163144.0</td>\n",
       "      <td>22.096349</td>\n",
       "      <td>4.088107</td>\n",
       "      <td>14.63</td>\n",
       "      <td>19.12</td>\n",
       "      <td>20.8</td>\n",
       "      <td>25.03</td>\n",
       "      <td>32.70</td>\n",
       "    </tr>\n",
       "    <tr>\n",
       "      <th>TMed</th>\n",
       "      <td>163144.0</td>\n",
       "      <td>22.295978</td>\n",
       "      <td>5.617327</td>\n",
       "      <td>-0.80</td>\n",
       "      <td>18.10</td>\n",
       "      <td>22.3</td>\n",
       "      <td>27.00</td>\n",
       "      <td>41.80</td>\n",
       "    </tr>\n",
       "  </tbody>\n",
       "</table>\n",
       "</div>"
      ],
      "text/plain": [
       "         count        mean       std     min     25%    50%    75%    max\n",
       "lon   163144.0 -101.184222  5.850841 -118.29 -104.37 -100.3 -98.16 -86.74\n",
       "lat   163144.0   22.096349  4.088107   14.63   19.12   20.8  25.03  32.70\n",
       "TMed  163144.0   22.295978  5.617327   -0.80   18.10   22.3  27.00  41.80"
      ]
     },
     "execution_count": 11,
     "metadata": {},
     "output_type": "execute_result"
    }
   ],
   "source": [
    "avg_temp_df.describe().T"
   ]
  },
  {
   "cell_type": "code",
   "execution_count": 12,
   "id": "06a45049",
   "metadata": {},
   "outputs": [
    {
     "data": {
      "text/html": [
       "<div>\n",
       "<style scoped>\n",
       "    .dataframe tbody tr th:only-of-type {\n",
       "        vertical-align: middle;\n",
       "    }\n",
       "\n",
       "    .dataframe tbody tr th {\n",
       "        vertical-align: top;\n",
       "    }\n",
       "\n",
       "    .dataframe thead th {\n",
       "        text-align: right;\n",
       "    }\n",
       "</style>\n",
       "<table border=\"1\" class=\"dataframe\">\n",
       "  <thead>\n",
       "    <tr style=\"text-align: right;\">\n",
       "      <th></th>\n",
       "      <th>count</th>\n",
       "      <th>mean</th>\n",
       "      <th>std</th>\n",
       "      <th>min</th>\n",
       "      <th>25%</th>\n",
       "      <th>50%</th>\n",
       "      <th>75%</th>\n",
       "      <th>max</th>\n",
       "    </tr>\n",
       "  </thead>\n",
       "  <tbody>\n",
       "    <tr>\n",
       "      <th>lon</th>\n",
       "      <td>163232.0</td>\n",
       "      <td>-101.183677</td>\n",
       "      <td>5.850757</td>\n",
       "      <td>-118.29</td>\n",
       "      <td>-104.37</td>\n",
       "      <td>-100.3</td>\n",
       "      <td>-98.16</td>\n",
       "      <td>-86.74</td>\n",
       "    </tr>\n",
       "    <tr>\n",
       "      <th>lat</th>\n",
       "      <td>163232.0</td>\n",
       "      <td>22.096213</td>\n",
       "      <td>4.088424</td>\n",
       "      <td>14.63</td>\n",
       "      <td>19.12</td>\n",
       "      <td>20.8</td>\n",
       "      <td>25.03</td>\n",
       "      <td>32.70</td>\n",
       "    </tr>\n",
       "    <tr>\n",
       "      <th>TMax</th>\n",
       "      <td>163232.0</td>\n",
       "      <td>29.523859</td>\n",
       "      <td>5.381533</td>\n",
       "      <td>3.20</td>\n",
       "      <td>25.60</td>\n",
       "      <td>29.7</td>\n",
       "      <td>33.60</td>\n",
       "      <td>51.10</td>\n",
       "    </tr>\n",
       "  </tbody>\n",
       "</table>\n",
       "</div>"
      ],
      "text/plain": [
       "         count        mean       std     min     25%    50%    75%    max\n",
       "lon   163232.0 -101.183677  5.850757 -118.29 -104.37 -100.3 -98.16 -86.74\n",
       "lat   163232.0   22.096213  4.088424   14.63   19.12   20.8  25.03  32.70\n",
       "TMax  163232.0   29.523859  5.381533    3.20   25.60   29.7  33.60  51.10"
      ]
     },
     "execution_count": 12,
     "metadata": {},
     "output_type": "execute_result"
    }
   ],
   "source": [
    "max_temp_df.describe().T"
   ]
  },
  {
   "cell_type": "code",
   "execution_count": 13,
   "id": "7627c894",
   "metadata": {},
   "outputs": [
    {
     "data": {
      "text/html": [
       "<div>\n",
       "<style scoped>\n",
       "    .dataframe tbody tr th:only-of-type {\n",
       "        vertical-align: middle;\n",
       "    }\n",
       "\n",
       "    .dataframe tbody tr th {\n",
       "        vertical-align: top;\n",
       "    }\n",
       "\n",
       "    .dataframe thead th {\n",
       "        text-align: right;\n",
       "    }\n",
       "</style>\n",
       "<table border=\"1\" class=\"dataframe\">\n",
       "  <thead>\n",
       "    <tr style=\"text-align: right;\">\n",
       "      <th></th>\n",
       "      <th>count</th>\n",
       "      <th>mean</th>\n",
       "      <th>std</th>\n",
       "      <th>min</th>\n",
       "      <th>25%</th>\n",
       "      <th>50%</th>\n",
       "      <th>75%</th>\n",
       "      <th>max</th>\n",
       "    </tr>\n",
       "  </thead>\n",
       "  <tbody>\n",
       "    <tr>\n",
       "      <th>lon</th>\n",
       "      <td>163259.0</td>\n",
       "      <td>-101.182741</td>\n",
       "      <td>5.850468</td>\n",
       "      <td>-118.29</td>\n",
       "      <td>-104.37</td>\n",
       "      <td>-100.30</td>\n",
       "      <td>-98.15</td>\n",
       "      <td>-86.74</td>\n",
       "    </tr>\n",
       "    <tr>\n",
       "      <th>lat</th>\n",
       "      <td>163259.0</td>\n",
       "      <td>22.095040</td>\n",
       "      <td>4.087879</td>\n",
       "      <td>14.63</td>\n",
       "      <td>19.12</td>\n",
       "      <td>20.75</td>\n",
       "      <td>25.03</td>\n",
       "      <td>32.70</td>\n",
       "    </tr>\n",
       "    <tr>\n",
       "      <th>TMin</th>\n",
       "      <td>163259.0</td>\n",
       "      <td>15.095670</td>\n",
       "      <td>6.738888</td>\n",
       "      <td>-13.30</td>\n",
       "      <td>10.10</td>\n",
       "      <td>15.00</td>\n",
       "      <td>20.80</td>\n",
       "      <td>38.00</td>\n",
       "    </tr>\n",
       "  </tbody>\n",
       "</table>\n",
       "</div>"
      ],
      "text/plain": [
       "         count        mean       std     min     25%     50%    75%    max\n",
       "lon   163259.0 -101.182741  5.850468 -118.29 -104.37 -100.30 -98.15 -86.74\n",
       "lat   163259.0   22.095040  4.087879   14.63   19.12   20.75  25.03  32.70\n",
       "TMin  163259.0   15.095670  6.738888  -13.30   10.10   15.00  20.80  38.00"
      ]
     },
     "execution_count": 13,
     "metadata": {},
     "output_type": "execute_result"
    }
   ],
   "source": [
    "min_temp_df.describe().T"
   ]
  },
  {
   "cell_type": "markdown",
   "id": "fe86c114",
   "metadata": {},
   "source": [
    "Con lo anterior, confirmamos que nuestros datasets de precipitación y temperaturas son correctos."
   ]
  },
  {
   "cell_type": "markdown",
   "id": "0ecdfa9e",
   "metadata": {},
   "source": [
    "#### Información sobre el clima"
   ]
  },
  {
   "cell_type": "code",
   "execution_count": 14,
   "id": "424a2950",
   "metadata": {},
   "outputs": [],
   "source": [
    "# Year-Month es una columna planeada para hacer el match con las estaciones más cercanas a cada trampa registrada\n",
    "df = df.rename(columns={'year_month': 'year-month'})"
   ]
  },
  {
   "cell_type": "code",
   "execution_count": 15,
   "id": "73ee787d",
   "metadata": {},
   "outputs": [],
   "source": [
    "# Esta función nos ayudará a:\n",
    "# - Filtrar por año-mes las estaciones disponibles.\n",
    "# - Identificar la estación más cercana al usar la formular de Haversine (esta toma en cuenta la curvatura de la Tierra)\n",
    "# - Nuevamente usamos BallTree para hacer uso de funciones vectorizadas y no calcular la distancia por medio de ciclos\n",
    "\n",
    "\n",
    "def find_weather_station(df_samples, weather_df, value_col):\n",
    "    \n",
    "    results = []\n",
    "    \n",
    "    for ym, group in df_samples.groupby('year-month'):\n",
    "        \n",
    "        subset = weather_df[(weather_df['year-month'] == ym) & (weather_df[value_col].notna())]\n",
    "        \n",
    "        if subset.empty:\n",
    "            results.extend([np.nan] * len(group))\n",
    "            continue\n",
    "        \n",
    "        # Usamos BallTree para calcular la distancia, ya que este modelo está vectorizado\n",
    "        tree = BallTree(np.radians(subset[['lat', 'lon']].values), metric='haversine')\n",
    "        \n",
    "        # Obtenemos la distancia y elemento mas cercano\n",
    "        distances, indices = tree.query(np.radians(group[['lat', 'lon']].values), k=1)\n",
    "        nearest_values = subset.iloc[indices.flatten()][value_col].values\n",
    "        results.extend(nearest_values)\n",
    "\n",
    "    return np.array(results)"
   ]
  },
  {
   "cell_type": "code",
   "execution_count": 16,
   "id": "bad82ef0",
   "metadata": {},
   "outputs": [
    {
     "name": "stdout",
     "output_type": "stream",
     "text": [
      "Original: 827856 | Filtrado: 827856\n"
     ]
    }
   ],
   "source": [
    "# Aquí podemos definir de cuando a cuando filtrar nuestro DataSet para hacer experimentos rapidos\n",
    "# con cada tipo de modelo.\n",
    "\n",
    "df_filtered = df[(df['sampling_date'].dt.year >= 2014) & \n",
    "                 (df['sampling_date'].dt.year <= 2025)]\n",
    "\n",
    "print(f\"Original: {len(df)} | Filtrado: {len(df_filtered)}\")"
   ]
  },
  {
   "cell_type": "code",
   "execution_count": 3,
   "id": "627ac9dc",
   "metadata": {},
   "outputs": [],
   "source": [
    "# Agregamos las columnas de temperatura y precipitacion a nuestro dataset. La idea principal es que \n",
    "# conocemos esto porque la SMN mantiene en su sitio web los valores históricos de precipitacion,\n",
    "# temperatura maxima, minima y promedio por estacion meteorologica, y como conocemos\n",
    "# la ubicacion de las estaciones y trampas, podemos ver cual es la estacion mas cercana y adjuntar esa\n",
    "# data a nuestro dataset.\n",
    "\n",
    "# df_filtered['precipitation'] = find_weather_station(df_filtered, precipitation_df, 'precipitation(mm)')\n",
    "# df_filtered['avg_temp'] = find_weather_station(df_filtered, avg_temp_df, 'TMed')\n",
    "# df_filtered['max_temp'] = find_weather_station(df_filtered, max_temp_df, 'TMax')\n",
    "# df_filtered['min_temp'] = find_weather_station(df_filtered, min_temp_df, 'TMin')\n",
    "\n",
    "\n",
    "# Debemos descomenttar la siguiente línea de código si queremos generar un archivo de Excel que incluya la informacion del clima.\n",
    "# df_filtered.to_excel('data_with_weather_information.xlsx', index= False )\n",
    "\n",
    "# Esta línea de código permite cargar la información lista con los aspectos de precipitacion y temperatura\n",
    "df_filtered = pd.read_excel('data_with_weather_information.xlsx')"
   ]
  },
  {
   "cell_type": "code",
   "execution_count": 5,
   "id": "03ac66ae",
   "metadata": {},
   "outputs": [
    {
     "name": "stdout",
     "output_type": "stream",
     "text": [
      "Porcentajes de presencia de severity_encoded:\n"
     ]
    },
    {
     "data": {
      "text/plain": [
       "severity_encoded\n",
       "1    62.650872\n",
       "0    35.207210\n",
       "2     1.990201\n",
       "3     0.151717\n",
       "Name: count, dtype: float64"
      ]
     },
     "execution_count": 5,
     "metadata": {},
     "output_type": "execute_result"
    }
   ],
   "source": [
    "# Confirmamos que tenemos un dataset desbalanceado\n",
    "\n",
    "print(\"Porcentajes de presencia de severity_encoded:\")\n",
    "df_filtered['severity_encoded'].value_counts() / len(df_filtered) * 100"
   ]
  },
  {
   "cell_type": "code",
   "execution_count": 12,
   "id": "6ecf2f05",
   "metadata": {},
   "outputs": [
    {
     "name": "stdout",
     "output_type": "stream",
     "text": [
      "Cantidad de casos con severidad alta del 2014 al 2024: 1146\n",
      "Cantidad de casos con severidad alta en el 2025: 110\n"
     ]
    }
   ],
   "source": [
    "print(f\"Cantidad de casos con severidad alta del 2014 al 2024: {len(df_filtered[(df_filtered['severity_encoded'] == 3) &(df_filtered['sampling_date'].dt.year < 2025)])}\")\n",
    "print(f\"Cantidad de casos con severidad alta en el 2025: {len(df_filtered[(df_filtered['severity_encoded'] == 3) &(df_filtered['sampling_date'].dt.year >= 2025)])}\")"
   ]
  },
  {
   "cell_type": "markdown",
   "id": "b1a491c3",
   "metadata": {},
   "source": [
    "### Creamos `rolling_features`"
   ]
  },
  {
   "cell_type": "code",
   "execution_count": null,
   "id": "14ea1e92",
   "metadata": {},
   "outputs": [],
   "source": [
    "# df_filtered = df_filtered.sort_values(['tramp_id', 'sampling_date'])\n",
    "\n",
    "# rolling_features = {\n",
    "#     'precipitation': ['sum', 'mean'],\n",
    "#     'avg_temp': ['mean', 'std'],\n",
    "#     'max_temp': ['max'],\n",
    "#     'min_temp': ['min'],\n",
    "#     'distance_to_nearest_hotspot': ['mean', 'std'],\n",
    "#     'hotspots_within_5km': ['mean', 'sum'],\n",
    "#     'square_area_imputed': ['mean'],\n",
    "# }\n",
    "\n",
    "# window_sizes = [15, 30, 60, 120, 180]\n",
    "\n",
    "# for window in window_sizes:\n",
    "#     rolled = (\n",
    "#         df_filtered\n",
    "#         .groupby('tramp_id', group_keys=False)\n",
    "#         .rolling(window=window, min_periods=1)\n",
    "#         .agg(rolling_features)\n",
    "#         .reset_index(level=0, drop=True)\n",
    "#     )\n",
    "\n",
    "    \n",
    "#     if isinstance(rolled.columns, pd.MultiIndex):\n",
    "#         rolled.columns = [f\"{col}_roll{window}_{func}\" for col, func in rolled.columns]\n",
    "#     else:\n",
    "#         rolled.columns = [f\"{col}_roll{window}\" for col in rolled.columns]\n",
    "\n",
    "#     df_filtered = pd.concat([df_filtered, rolled], axis=1)\n",
    "\n",
    "# df_filtered = (\n",
    "#     df_filtered\n",
    "#     .groupby('tramp_id', group_keys=False)\n",
    "#     .apply(lambda g: g.ffill().bfill())\n",
    "#     .reset_index(drop=True)\n",
    "# )\n"
   ]
  },
  {
   "cell_type": "code",
   "execution_count": null,
   "id": "9e214a21",
   "metadata": {},
   "outputs": [],
   "source": [
    "# df_filtered = df_filtered.sort_values(['tramp_id', 'sampling_date'])\n",
    "\n",
    "# rolling_features = {\n",
    "#     'precipitation': ['sum', 'mean'],\n",
    "#     'avg_temp': ['mean', 'std'],\n",
    "#     'max_temp': ['max'],\n",
    "#     'min_temp': ['min'],\n",
    "#     'distance_to_nearest_hotspot': ['mean', 'std'],\n",
    "#     'hotspots_within_5km': ['mean', 'sum'],\n",
    "#     'square_area_imputed': ['mean'],\n",
    "# }\n",
    "\n",
    "# window_sizes = [15, 30, 60, 120, 180]\n",
    "\n",
    "# for window in window_sizes:\n",
    "#     rolled = (\n",
    "#         df_filtered\n",
    "#         .groupby('tramp_id', group_keys=False)\n",
    "#         .rolling(window=window, min_periods=1)\n",
    "#         .agg(rolling_features)\n",
    "#     )\n",
    "\n",
    "#     if isinstance(rolled.columns, pd.MultiIndex):\n",
    "#         rolled.columns = [f\"{col}_roll{window}_{func}\" for col, func in rolled.columns]\n",
    "#     else:\n",
    "#         rolled.columns = [f\"{col}_roll{window}\" for col in rolled.columns]\n",
    "\n",
    "#     df_filtered = pd.concat([df_filtered, rolled.reset_index(level=0, drop=True)], axis=1)\n",
    "    \n",
    "# df_filtered = pd.concat(\n",
    "#     [df_filtered, rolled.reset_index(level=0, drop=True)], axis=1\n",
    "# ).fillna(method='bfill')\n"
   ]
  },
  {
   "cell_type": "markdown",
   "id": "9324ed96",
   "metadata": {},
   "source": [
    "### Lagging features"
   ]
  },
  {
   "cell_type": "code",
   "execution_count": null,
   "id": "6b4e5403",
   "metadata": {},
   "outputs": [],
   "source": [
    "# import pandas as pd\n",
    "\n",
    "# df_filtered = df_filtered.sort_values(['tramp_id', 'sampling_date'])\n",
    "# grouped = df_filtered.groupby('tramp_id', group_keys=False)\n",
    "\n",
    "# lag_features = [\n",
    "#     'precipitation', 'avg_temp', 'max_temp', 'min_temp',\n",
    "#     'distance_to_nearest_hotspot', 'hotspots_within_5km',\n",
    "#     'square_area_imputed', 'plantation_age', 'critical_season'\n",
    "# ]\n",
    "\n",
    "# lags = [1, 3, 7]\n",
    "\n",
    "# for lag in lags:\n",
    "#     shifted = grouped[lag_features].shift(lag)\n",
    "#     shifted.columns = [f\"{col}_lag{lag}\" for col in lag_features]\n",
    "#     df_filtered = pd.concat([df_filtered, shifted], axis=1)\n"
   ]
  },
  {
   "cell_type": "code",
   "execution_count": 4,
   "id": "8bd55856",
   "metadata": {},
   "outputs": [
    {
     "data": {
      "text/plain": [
       "tramp_id                       0\n",
       "sampling_date                  0\n",
       "lat                            0\n",
       "lon                            0\n",
       "municipality                   0\n",
       "plantation_age                 0\n",
       "capture_count                  0\n",
       "state                          0\n",
       "square_area_imputed            0\n",
       "month                          0\n",
       "year                           0\n",
       "year-month                     0\n",
       "day_of_year_sin                0\n",
       "day_of_year_cos                0\n",
       "day_of_week_sin                0\n",
       "day_of_week_cos                0\n",
       "week_of_year_sin               0\n",
       "week_of_year_cos               0\n",
       "month_sin                      0\n",
       "month_cos                      0\n",
       "critical_season                0\n",
       "severity_encoded               0\n",
       "distance_to_nearest_hotspot    0\n",
       "hotspots_within_5km            0\n",
       "precipitation                  0\n",
       "avg_temp                       0\n",
       "max_temp                       0\n",
       "min_temp                       0\n",
       "dtype: int64"
      ]
     },
     "execution_count": 4,
     "metadata": {},
     "output_type": "execute_result"
    }
   ],
   "source": [
    "df_filtered.isna().sum()"
   ]
  },
  {
   "cell_type": "markdown",
   "id": "e19369e3",
   "metadata": {},
   "source": [
    "# RandomForest"
   ]
  },
  {
   "cell_type": "markdown",
   "id": "16ea9dcd",
   "metadata": {},
   "source": [
    "Durante la entrega del Avance 3, trabajamos con 2 modelos de regresión los cuales fueron `RandomForestRegressor` y `XGBoost`. Con esto, `RandomForestRegressor` tuvo mejores resultados, por lo que el primer modelo a implementar con la nueva información del clima será este mismo.\n",
    "\n",
    "En  este caso, como contamos con un dataset desbalanceado, haremos uso de la propiedad de `balanced_subsample` de `RandomForestClassifier`. Para esta implementación, generamos nuestros datasets de la siguiente manera:\n",
    "\n",
    "- `Train set`: los datos de 2014 a 2024.\n",
    "- `Test set`: los datos de 2025\n",
    "\n",
    "\n",
    "La idea de esto es predecir los casos de todo el año 2025, de manera que podamos comparar los resultados de cada modelo.\n",
    "\n",
    "Algo importante es que nuestro Sponsor, la CNIT, considera que solo debemos dar  importancia a la predicción de focos con una severidad o riesgo alto de infestación. Por lo tanto, nuestra clase objetivo de `severity_encoded` es la clase **`3`**."
   ]
  },
  {
   "cell_type": "code",
   "execution_count": 19,
   "id": "6a7bddc4",
   "metadata": {},
   "outputs": [
    {
     "name": "stdout",
     "output_type": "stream",
     "text": [
      "Resultados para RandomForest:\n",
      "\n",
      "              precision    recall  f1-score   support\n",
      "\n",
      "           0       0.29      0.17      0.21     24445\n",
      "           1       0.76      0.87      0.82     82928\n",
      "           2       0.16      0.00      0.00      2544\n",
      "           3       0.35      0.96      0.52       110\n",
      "\n",
      "    accuracy                           0.70    110027\n",
      "   macro avg       0.39      0.50      0.39    110027\n",
      "weighted avg       0.64      0.70      0.66    110027\n",
      "\n"
     ]
    }
   ],
   "source": [
    "# Copiamos el dataframe con la información\n",
    "rf_df = df_filtered.copy()\n",
    "\n",
    "# Hacemos un encoding basico para State y Municipalidad\n",
    "for col in ['state', 'municipality']:\n",
    "    le = LabelEncoder()\n",
    "    rf_df[col] = le.fit_transform(rf_df[col])\n",
    "\n",
    "# Generamos la mascara para obtener los datos de antes del 2025 y del 2025 por separada\n",
    "train_mask = rf_df['sampling_date'].dt.year < 2025\n",
    "test_mask  = rf_df['sampling_date'].dt.year == 2025\n",
    "\n",
    "# Excluimos la variable objetivo (severity_encoded) y algunos unas variables o features que ya tenemos contenidos en nuestros\n",
    "# features creados. `capture_count` no podemos tomarlo en cuenta porque se relaciona directamente con la severidad.\n",
    "exclude_cols = [\n",
    "    'severity_encoded','tramp_id', 'capture_count', \n",
    "    'month', 'year', 'year-month', 'sampling_date',\n",
    "]\n",
    "\n",
    "# Cargamos los features a tomar en cuenta (obviamos los features en exclude_cols)\n",
    "features = [col for col in rf_df.columns if col not in exclude_cols]\n",
    "\n",
    "# Generamos nuestro split de entrenamiento y test por medio de las mascaras train_mask y test_mask\n",
    "X_train, y_train = rf_df.loc[train_mask, features], rf_df.loc[train_mask, 'severity_encoded'] # El train dataset es la data historica de 2014 a 2024\n",
    "X_test,  y_test  = rf_df.loc[test_mask,  features], rf_df.loc[test_mask,  'severity_encoded'] # El test dataset es la data a partir de 2025\n",
    "\n",
    "# Definimos algunos hiperparámetros para RandomForestClassifier\n",
    "rf_model = RandomForestClassifier(\n",
    "    n_estimators=300,\n",
    "    max_depth=25,\n",
    "    min_samples_split=4,\n",
    "    min_samples_leaf=2,\n",
    "    class_weight='balanced_subsample',\n",
    "    random_state=42,\n",
    "    n_jobs=-1\n",
    ")\n",
    "\n",
    "# Hacemos fit del modelo\n",
    "rf_model.fit(X_train, y_train)\n",
    "\n",
    "# Predecimos sobre el dataset de prueba o test\n",
    "y_pred = rf_model.predict(X_test)\n",
    "\n",
    "# Mostramos los resultados\n",
    "print(\"Resultados para RandomForest:\\n\")\n",
    "print(classification_report(y_test, y_pred))"
   ]
  },
  {
   "cell_type": "code",
   "execution_count": 23,
   "id": "d7dafa19",
   "metadata": {},
   "outputs": [],
   "source": [
    "y_pred_proba_rf  = rf_model.predict_proba(X_test)"
   ]
  },
  {
   "cell_type": "markdown",
   "id": "7b640dd0",
   "metadata": {},
   "source": [
    "`RandomForestClassifier` se tardó 1 minuto y 15 segundos en generar un modelo útil. Algo importante de notar con este modelo es lo siguiente:\n",
    "\n",
    "- La clase a predecir (`3`) tiene un `recall` bastante bueno a pesar de que la cantidad de muestras en el train y test set con esta clasificación es bastante baja. Esto quiere decir que nuestro modelo sabe reconocer casos verdaderos positivos de forma casi perfecta.\n",
    "- Al inspeccionar la métrica `precision`, notamos que para la clase objetivo esta es pobre. Esto quiere decir que solo el 35% de los casos predecidos para el label `3` es correcto.\n",
    "- Nuestro `f1 score` indica que, a pesar de nuestro recall alto, tenemos un balance entre leve a moderado entre nuestras métricas.\n",
    "- Es importante notar que nuestro modelo falla completamente en identificar la clase `2`, mientras que un éxito moderado al identificar la clase `1` y un éxito bastante pobre al predecir la clase `0`.\n",
    "- En nuestro caso, el `accuracy` no es una métrica confiable ya que aunque nuestro modelo prediga el 100% de las veces que se tiene un escenario de clase `1` (algo que es imposible), estaría correcto el 62% de las veces ya que existe un desbalance en nuestro dataset.\n",
    "\n",
    "En general, este modelo podría generar muchas falsas alertas sobre posibles focos de infestación, lo que tendría su ventaja en ser un modelo bastante preventivo pero a su vez podría generar más costos de operación al predecir falsamente brotes de infestación severos."
   ]
  },
  {
   "cell_type": "markdown",
   "id": "850f9291",
   "metadata": {},
   "source": [
    "# Con `XGBoost`"
   ]
  },
  {
   "cell_type": "markdown",
   "id": "3c239181",
   "metadata": {},
   "source": [
    "Para XGBoost haremos uso de los mismos train y test dataset que los que definimos para `RandomForestClassifier`. Usaremos también la versión compatible con nuestra GPU para que el modelo se entrene más rápido.\n",
    "\n",
    "Debemos mencionar que para este modelo, hicimos uso de la variable `class_weights` para darle más peso o relevancia a las clases minoritarias."
   ]
  },
  {
   "cell_type": "code",
   "execution_count": 24,
   "id": "0bc721cd",
   "metadata": {},
   "outputs": [
    {
     "name": "stdout",
     "output_type": "stream",
     "text": [
      "Resultados para XGBoost (version GPU):\n",
      "              precision    recall  f1-score   support\n",
      "\n",
      "           0       0.26      0.38      0.31     24445\n",
      "           1       0.77      0.63      0.69     82928\n",
      "           2       0.12      0.26      0.16      2544\n",
      "           3       0.32      0.93      0.48       110\n",
      "\n",
      "    accuracy                           0.57    110027\n",
      "   macro avg       0.37      0.55      0.41    110027\n",
      "weighted avg       0.64      0.57      0.59    110027\n",
      "\n"
     ]
    }
   ],
   "source": [
    "class_counts = y_train.value_counts().sort_index()\n",
    "num_classes = len(class_counts)\n",
    "total = len(y_train)\n",
    "class_weights = {i: total / (num_classes * count) for i, count in class_counts.items()}\n",
    "\n",
    "weights = y_train.map(class_weights)\n",
    "\n",
    "xgb_model = XGBClassifier(\n",
    "    tree_method='hist',\n",
    "    device='cuda',\n",
    "    objective='multi:softprob',\n",
    "    eval_metric='mlogloss',\n",
    "    n_estimators=300,\n",
    "    max_depth=10,\n",
    "    learning_rate=0.0001,\n",
    "    subsample=0.8,\n",
    "    colsample_bytree=0.8,\n",
    "    random_state=42\n",
    ")\n",
    "\n",
    "xgb_model.fit(X_train, y_train, sample_weight=weights)\n",
    "\n",
    "y_pred = xgb_model.predict(X_test)\n",
    "\n",
    "print(\"Resultados para XGBoost (version GPU):\")\n",
    "print(classification_report(y_test, y_pred))"
   ]
  },
  {
   "cell_type": "markdown",
   "id": "103a9cf2",
   "metadata": {},
   "source": [
    "Al usar la versión de GPU de XGBoost, el modelo tomó 30 segundos de entrenamiento. Esto es una mejora de más del doble de velocidad respecto a `RandomForestClassifier`. Con esto, notamos los siguientes resultados:\n",
    "\n",
    "- La `precision` de este modelo es un poco peor respecto que lo obtenido por `RandomForestClassifier`. Esto indica que de las predicciones hechas como clase `3`, solo el 32% de las mismas fue correcta.\n",
    "- El `recall` sigue siendo bastante alto, lo que quiere decir que el modelo capturó correctamente los verdaderos positivos de la clase `3`.\n",
    "- Notamos que la `accuracy` es peor que la de `RandomForestClassifier`, pero a su vez vemos que este modelo hizo un mejor trabajo en reconocer la clase `2`, aunque tiene un peor desempeño para reconocer las clases `0` y `1`.\n",
    "\n",
    "Al igual que `RandomForestClassifier`, notamos que `XGBoost` es un modelo que podría generar muchas falsas alertas sobre brotes de infestación altos. A pesar de esto, es un modelo más flexible en cuanto a la predicción de todas las clases en general y no solo de las clases `3` y `1`."
   ]
  },
  {
   "cell_type": "code",
   "execution_count": 25,
   "id": "494f3434",
   "metadata": {},
   "outputs": [],
   "source": [
    "y_pred_proba_xgb = xgb_model.predict_proba(X_test)"
   ]
  },
  {
   "cell_type": "markdown",
   "id": "95a0ba5d",
   "metadata": {},
   "source": [
    "# `DecisionTree`"
   ]
  },
  {
   "cell_type": "code",
   "execution_count": 26,
   "id": "2bbea466",
   "metadata": {},
   "outputs": [
    {
     "name": "stdout",
     "output_type": "stream",
     "text": [
      "Resultados DecisionTree:\n",
      "              precision    recall  f1-score   support\n",
      "\n",
      "           0      0.274     0.212     0.239     24445\n",
      "           1      0.762     0.727     0.744     82928\n",
      "           2      0.052     0.238     0.085      2544\n",
      "           3      0.360     0.982     0.527       110\n",
      "\n",
      "    accuracy                          0.602    110027\n",
      "   macro avg      0.362     0.540     0.399    110027\n",
      "weighted avg      0.637     0.602     0.617    110027\n",
      "\n"
     ]
    }
   ],
   "source": [
    "dt_df = df_filtered.copy()\n",
    "\n",
    "for col in ['state', 'municipality']:\n",
    "    le = LabelEncoder()\n",
    "    dt_df[col] = le.fit_transform(dt_df[col])\n",
    "\n",
    "train_mask = dt_df['sampling_date'].dt.year < 2025\n",
    "test_mask  = dt_df['sampling_date'].dt.year == 2025\n",
    "\n",
    "exclude_cols = [\n",
    "    'severity_encoded','tramp_id', 'capture_count', \n",
    "    'month', 'year', 'year-month', 'sampling_date',\n",
    "    #'hotspots_within_5km',\n",
    "    #'distance_to_nearest_hotspot'\n",
    "]\n",
    "\n",
    "features = [col for col in dt_df.columns if col not in exclude_cols]\n",
    "\n",
    "X_train, y_train = dt_df.loc[train_mask, features], dt_df.loc[train_mask, 'severity_encoded'] # El train dataset es la data historica de 2014 a 2024\n",
    "X_test,  y_test  = dt_df.loc[test_mask,  features], dt_df.loc[test_mask,  'severity_encoded'] # El test dataset es la data a partir de 2025\n",
    "\n",
    "dt = DecisionTreeClassifier(\n",
    "    criterion= 'entropy',        \n",
    "    max_depth=10,          \n",
    "    min_samples_split=4,\n",
    "    min_samples_leaf=4,\n",
    "    class_weight='balanced',\n",
    "    random_state=42,\n",
    "    max_features= 'log2'\n",
    ")\n",
    "\n",
    "dt.fit(X_train, y_train)\n",
    "\n",
    "y_pred = dt.predict(X_test)\n",
    "\n",
    "print(\"Resultados DecisionTree:\")\n",
    "print(classification_report(y_test, y_pred, digits=3))"
   ]
  },
  {
   "cell_type": "code",
   "execution_count": 28,
   "id": "8528e138",
   "metadata": {},
   "outputs": [],
   "source": [
    "y_pred_proba_dt  = dt.predict_proba(X_test)"
   ]
  },
  {
   "cell_type": "markdown",
   "id": "645c91f7",
   "metadata": {},
   "source": [
    "`DecisionTree` es el modelo más rápido de entrenar, ya que tomó solamente 2 segundos y obtuvimos resultados similares a `XGBoost` y `RandomForestClassifier`. Con esto, el resumen de resultados es el siguiente:\n",
    "\n",
    "- Nuevamente notamos que las clases `0` y `2` tienen mejores resultados que con `RandomForestClassifier` y valores parecidos a `XGBoost`. Esto sugiere que este modelo, que tardó menos en entrenarse, podría ser el candidato a optimizar.\n",
    "- Afuera de esto, la clase objetivo (`3`) muestra que capturamos el 36% de casos por medio de la `precision`, entre los cuales se incluyen el 98% de casos reales. Esto quiere decir que el modelo también será un generador de alertas falsas, que operativamente podría generar más costos pero a largo plazo podría ser mejor para evitar brotes de infestaciones severas del gorgojo.\n",
    "- El `accuracy` fue más bajo que `RandomForestClassifier` y mayor que `XGBoost`, pero este siempre puede ser engañoso ya que tenemos un dataset desbalanceado.\n",
    "- Para la clase `2`, vemos que es el modelo que peor la predice hasta este punto en el notebook."
   ]
  },
  {
   "cell_type": "markdown",
   "id": "58fa605a",
   "metadata": {},
   "source": [
    "# Perceptrón (MLP)"
   ]
  },
  {
   "cell_type": "markdown",
   "id": "2828552e",
   "metadata": {},
   "source": [
    "Para el modelo de MLP, cambiaremos un poco la estrategia:\n",
    "\n",
    "- Codificaremos los estados con OneHot encoding, ya que ésto no afecta el rendimiento del modelo.\n",
    "- Configuraremos distintos pesos para las distintas clases objetivo (0, 1, 2 y 3), de forma que la red neuronal entienda que confundirse en predecir las clases minoritarias es peor que confundirse en las clases mayoritarias.\n",
    "- Configuraremos el modelo para detenerse al no mejorar las predicciones por 20 pasos forward y backward seguidos.\n",
    "- Escalaremos los valores numéricos para evitar overfitting o darle demasiada importancia solo a ciertos features \n",
    "  - `distance_to_nearest_hotspot` podría tomar demasiada relevancia, al tener un valor maximo de 999 al no encontrar hotspots cercanos en los últimos 15 días."
   ]
  },
  {
   "cell_type": "code",
   "execution_count": 29,
   "id": "afd583fe",
   "metadata": {},
   "outputs": [],
   "source": [
    "split_date = pd.Timestamp('2025-01-01')\n",
    "\n",
    "train_df = df_filtered[df_filtered['sampling_date'] < split_date].copy()\n",
    "test_df  = df_filtered[df_filtered['sampling_date'] >= split_date].copy()\n",
    "\n",
    "X = df_filtered.drop(columns=['severity_encoded', 'sampling_date', 'tramp_id', 'year-month', 'capture_count'])\n",
    "y = df_filtered['severity_encoded']\n",
    "\n",
    "\n",
    "le = LabelEncoder()\n",
    "X['municipality_encoded'] = le.fit_transform(X['municipality'].astype(str))\n",
    "\n",
    "ohe = OneHotEncoder(sparse_output=False, drop='first', handle_unknown='ignore')\n",
    "state_encoded = ohe.fit_transform(X[['state']])\n",
    "\n",
    "state_encoded_df = pd.DataFrame(\n",
    "    state_encoded,\n",
    "    columns=ohe.get_feature_names_out(['state']),\n",
    "    index=X.index\n",
    ")\n",
    "\n",
    "X = X.drop(['state', 'municipality'], axis=1)\n",
    "\n",
    "X_encoded = pd.concat([X, state_encoded_df], axis=1)\n",
    "\n",
    "X_train, X_valid, y_train, y_valid = train_test_split(\n",
    "    X_encoded, y, test_size=0.2, stratify=y, random_state=42\n",
    ")\n",
    "\n",
    "scaler = MinMaxScaler()\n",
    "X_train_scaled = scaler.fit_transform(X_train)\n",
    "X_valid_scaled = scaler.transform(X_valid)"
   ]
  },
  {
   "cell_type": "code",
   "execution_count": 30,
   "id": "272eab63",
   "metadata": {},
   "outputs": [
    {
     "name": "stdout",
     "output_type": "stream",
     "text": [
      "Iteration 1, loss = 1.14377489\n",
      "Validation score: 0.479797\n",
      "Iteration 2, loss = 1.03625383\n",
      "Validation score: 0.505559\n",
      "Iteration 3, loss = 1.00030882\n",
      "Validation score: 0.520064\n",
      "Iteration 4, loss = 0.97988969\n",
      "Validation score: 0.519618\n",
      "Iteration 5, loss = 0.96195570\n",
      "Validation score: 0.551040\n",
      "Iteration 6, loss = 0.94643087\n",
      "Validation score: 0.549993\n",
      "Iteration 7, loss = 0.93800103\n",
      "Validation score: 0.551638\n",
      "Iteration 8, loss = 0.92893720\n",
      "Validation score: 0.556644\n",
      "Iteration 9, loss = 0.91978860\n",
      "Validation score: 0.562284\n",
      "Iteration 10, loss = 0.91366236\n",
      "Validation score: 0.547150\n",
      "Iteration 11, loss = 0.90648089\n",
      "Validation score: 0.559363\n",
      "Iteration 12, loss = 0.90173161\n",
      "Validation score: 0.570279\n",
      "Iteration 13, loss = 0.89714929\n",
      "Validation score: 0.564680\n",
      "Iteration 14, loss = 0.89253236\n",
      "Validation score: 0.556815\n",
      "Iteration 15, loss = 0.88740684\n",
      "Validation score: 0.566221\n",
      "Iteration 16, loss = 0.88545066\n",
      "Validation score: 0.555827\n",
      "Iteration 17, loss = 0.88262988\n",
      "Validation score: 0.577894\n",
      "Iteration 18, loss = 0.88002383\n",
      "Validation score: 0.557410\n",
      "Iteration 19, loss = 0.87501275\n",
      "Validation score: 0.553980\n",
      "Iteration 20, loss = 0.87273760\n",
      "Validation score: 0.578979\n",
      "Iteration 21, loss = 0.87131210\n",
      "Validation score: 0.585274\n",
      "Iteration 22, loss = 0.86985575\n",
      "Validation score: 0.574955\n",
      "Iteration 23, loss = 0.86584067\n",
      "Validation score: 0.569794\n",
      "Iteration 24, loss = 0.86508813\n",
      "Validation score: 0.558370\n",
      "Iteration 25, loss = 0.86289758\n",
      "Validation score: 0.573918\n",
      "Iteration 26, loss = 0.86054811\n",
      "Validation score: 0.568439\n",
      "Iteration 27, loss = 0.85938506\n",
      "Validation score: 0.543901\n",
      "Iteration 28, loss = 0.85779396\n",
      "Validation score: 0.577080\n",
      "Iteration 29, loss = 0.85619059\n",
      "Validation score: 0.573459\n",
      "Iteration 30, loss = 0.85389196\n",
      "Validation score: 0.561104\n",
      "Iteration 31, loss = 0.85246839\n",
      "Validation score: 0.589274\n",
      "Iteration 32, loss = 0.85107172\n",
      "Validation score: 0.578022\n",
      "Iteration 33, loss = 0.84921289\n",
      "Validation score: 0.577910\n",
      "Iteration 34, loss = 0.84664616\n",
      "Validation score: 0.577207\n",
      "Iteration 35, loss = 0.84756798\n",
      "Validation score: 0.580000\n",
      "Iteration 36, loss = 0.84581206\n",
      "Validation score: 0.578125\n",
      "Iteration 37, loss = 0.84307772\n",
      "Validation score: 0.585782\n",
      "Iteration 38, loss = 0.84256242\n",
      "Validation score: 0.580470\n",
      "Iteration 39, loss = 0.84073612\n",
      "Validation score: 0.567107\n",
      "Iteration 40, loss = 0.84053002\n",
      "Validation score: 0.577839\n",
      "Iteration 41, loss = 0.83935853\n",
      "Validation score: 0.581270\n",
      "Iteration 42, loss = 0.83626203\n",
      "Validation score: 0.557718\n",
      "Iteration 43, loss = 0.83670107\n",
      "Validation score: 0.597739\n",
      "Iteration 44, loss = 0.83637121\n",
      "Validation score: 0.573384\n",
      "Iteration 45, loss = 0.83440584\n",
      "Validation score: 0.589207\n",
      "Iteration 46, loss = 0.83339867\n",
      "Validation score: 0.560836\n",
      "Iteration 47, loss = 0.83281098\n",
      "Validation score: 0.582077\n",
      "Iteration 48, loss = 0.83063919\n",
      "Validation score: 0.575270\n",
      "Iteration 49, loss = 0.83045689\n",
      "Validation score: 0.571074\n",
      "Iteration 50, loss = 0.82852264\n",
      "Validation score: 0.573973\n",
      "Iteration 51, loss = 0.82841934\n",
      "Validation score: 0.548608\n",
      "Iteration 52, loss = 0.82802232\n",
      "Validation score: 0.585527\n",
      "Iteration 53, loss = 0.82575078\n",
      "Validation score: 0.586780\n",
      "Iteration 54, loss = 0.82410907\n",
      "Validation score: 0.584530\n",
      "Iteration 55, loss = 0.82397279\n",
      "Validation score: 0.557253\n",
      "Iteration 56, loss = 0.82403250\n",
      "Validation score: 0.564518\n",
      "Iteration 57, loss = 0.82215797\n",
      "Validation score: 0.563028\n",
      "Iteration 58, loss = 0.82136125\n",
      "Validation score: 0.577683\n",
      "Iteration 59, loss = 0.81997845\n",
      "Validation score: 0.573649\n",
      "Iteration 60, loss = 0.81855095\n",
      "Validation score: 0.579004\n",
      "Iteration 61, loss = 0.81860185\n",
      "Validation score: 0.560922\n",
      "Iteration 62, loss = 0.81593060\n",
      "Validation score: 0.577634\n",
      "Iteration 63, loss = 0.81668541\n",
      "Validation score: 0.587988\n",
      "Iteration 64, loss = 0.81603833\n",
      "Validation score: 0.576381\n",
      "Validation score did not improve more than tol=0.000100 for 20 consecutive epochs. Stopping.\n"
     ]
    }
   ],
   "source": [
    "sample_weights = compute_sample_weight(class_weight='balanced', y=y_train)\n",
    "\n",
    "mlp = MLPClassifier(\n",
    "    hidden_layer_sizes=(256, 128, 16),\n",
    "    activation='relu',\n",
    "    solver='adam',\n",
    "    learning_rate_init=0.0001,\n",
    "    alpha=0.001,\n",
    "    batch_size=128,\n",
    "    max_iter=300,\n",
    "    early_stopping=True,\n",
    "    n_iter_no_change=20,\n",
    "    random_state=42,\n",
    "    verbose=True\n",
    ")\n",
    "\n",
    "mlp.fit(X_train_scaled, y_train, sample_weight=sample_weights)\n",
    "\n",
    "y_pred = mlp.predict(X_valid_scaled)\n",
    "\n"
   ]
  },
  {
   "cell_type": "code",
   "execution_count": 31,
   "id": "b8ccd30a",
   "metadata": {},
   "outputs": [
    {
     "name": "stdout",
     "output_type": "stream",
     "text": [
      "Resultados para MLP:\n",
      "\n",
      "              precision    recall  f1-score   support\n",
      "\n",
      "           0       0.63      0.66      0.65     58293\n",
      "           1       0.79      0.56      0.65    103733\n",
      "           2       0.07      0.49      0.12      3295\n",
      "           3       0.03      0.67      0.05       251\n",
      "\n",
      "    accuracy                           0.60    165572\n",
      "   macro avg       0.38      0.60      0.37    165572\n",
      "weighted avg       0.71      0.60      0.64    165572\n",
      "\n"
     ]
    }
   ],
   "source": [
    "y_pred_proba_mlp = mlp.predict_proba(X_valid_scaled)\n",
    "\n",
    "print(\"Resultados para MLP:\\n\")\n",
    "print(classification_report(y_valid, y_pred))"
   ]
  },
  {
   "cell_type": "markdown",
   "id": "64429bc6",
   "metadata": {},
   "source": [
    "`MLP` tomó 25 minutos de entrenamiento, lo que hace el modelo más lento hasta ahora. Con esto, notamos que también tiene problemas para identificar la clase `2`, y al usar otro tipo de arquitectura sugiere que esta clase podría ser mucho más complicada de detectar que las otras 3 clases. Esto nos podría dar una idea de que la clase 2 puede ser un estado transitorio o bien, las características y patrones para esta clase son demasiado complejos.\n",
    "\n",
    "Ahora bien, el resumen de métricas es el siguiente:\n",
    "\n",
    "- Este modelo es el peor hasta el momento para identificar la clase `2`.\n",
    "- Este modelo es el peor para detectar la clase `3`.\n",
    "- `f1 score` sugiere que este modelo no tiene un balance entre predecir correctamente las clasificaciones y encontrar los verdaderos positivos dentro de nuestro dataset de test.\n",
    "- En sí, este modelo no será útil para alertar o predecir hacia dónde se debe dirigir el centro de operaciones de la CNIT para encontrar posibles brotes de infestación."
   ]
  },
  {
   "cell_type": "markdown",
   "id": "0b1ce6fe",
   "metadata": {},
   "source": [
    "# LightGBM"
   ]
  },
  {
   "cell_type": "markdown",
   "id": "2379a11d",
   "metadata": {},
   "source": [
    "`LightGBM` es un framework el cual utiliza algoritmos basados en árboles. De entrada, por los resultados anteriores, sabemos que probablemente tengamos un modelo que encontrará los verdaderos positivos de la clase objetivo, pero que probablemente se confunda menos al predecir la clase objetivo.\n",
    "\n",
    "Este algoritmo tiene la ventaja de poder  hacer uso de la GPU.\n",
    "\n",
    "Por último, utilizaremos un setup como en `RandomForestClassifier`, `XGBoost` y `DecisionTree`."
   ]
  },
  {
   "cell_type": "code",
   "execution_count": 35,
   "id": "2d19024f",
   "metadata": {},
   "outputs": [
    {
     "name": "stdout",
     "output_type": "stream",
     "text": [
      "[LightGBM] [Info] This is the GPU trainer!!\n",
      "[LightGBM] [Info] Total Bins 2727\n",
      "[LightGBM] [Info] Number of data points in the train set: 717829, number of used features: 21\n",
      "[LightGBM] [Info] Using GPU Device: NVIDIA GeForce RTX 2070 SUPER, Vendor: NVIDIA Corporation\n",
      "[LightGBM] [Info] Compiling OpenCL Kernel with 256 bins...\n",
      "[LightGBM] [Info] GPU programs have been built\n",
      "[LightGBM] [Info] Size of histogram bin entry: 8\n",
      "[LightGBM] [Info] 20 dense feature groups (13.69 MB) transferred to GPU in 0.020180 secs. 1 sparse feature groups\n",
      "[LightGBM] [Info] Start training from score -1.386294\n",
      "[LightGBM] [Info] Start training from score -1.386294\n",
      "[LightGBM] [Info] Start training from score -1.386294\n",
      "[LightGBM] [Info] Start training from score -1.386294\n",
      "Resultados para LightGBM:\n",
      "\n",
      "\n",
      "              precision    recall  f1-score   support\n",
      "\n",
      "           0      0.276     0.448     0.342     24445\n",
      "           1      0.782     0.584     0.669     82928\n",
      "           2      0.092     0.294     0.140      2544\n",
      "           3      0.394     0.991     0.563       110\n",
      "\n",
      "    accuracy                          0.548    110027\n",
      "   macro avg      0.386     0.579     0.428    110027\n",
      "weighted avg      0.653     0.548     0.584    110027\n",
      "\n"
     ]
    }
   ],
   "source": [
    "lgbm_df = df_filtered.copy()\n",
    "\n",
    "for col in ['state', 'municipality']:\n",
    "    le = LabelEncoder()\n",
    "    lgbm_df[col] = le.fit_transform(lgbm_df[col])\n",
    "\n",
    "train_mask = lgbm_df['sampling_date'].dt.year < 2025\n",
    "test_mask  = lgbm_df['sampling_date'].dt.year == 2025\n",
    "\n",
    "exclude_cols = [\n",
    "    'severity_encoded','tramp_id', 'capture_count', \n",
    "    'month', 'year', 'year-month', 'sampling_date',\n",
    "]\n",
    "\n",
    "features = [col for col in lgbm_df.columns if col not in exclude_cols]\n",
    "\n",
    "X_train, y_train = lgbm_df.loc[train_mask, features], lgbm_df.loc[train_mask, 'severity_encoded'] # El train dataset es la data historica de 2014 a 2024\n",
    "X_test,  y_test  = lgbm_df.loc[test_mask,  features], lgbm_df.loc[test_mask,  'severity_encoded'] # El test dataset es la data a partir de 2025\n",
    "\n",
    "lgbm = LGBMClassifier(\n",
    "    boosting_type='gbdt', \n",
    "    objective='multiclass', \n",
    "    num_class=4,            \n",
    "    class_weight='balanced',\n",
    "    learning_rate=0.05,\n",
    "    n_estimators=200,\n",
    "    max_depth=-1,\n",
    "    num_leaves=31,\n",
    "    random_state=42,\n",
    "    device='gpu',\n",
    "    is_unbalance=True\n",
    ")\n",
    "\n",
    "lgbm.fit(X_train, y_train)\n",
    "\n",
    "\n",
    "y_pred = lgbm.predict(X_test)\n",
    "\n",
    "print(\"Resultados para LightGBM:\\n\\n\")\n",
    "print(classification_report(y_test, y_pred, digits=3))"
   ]
  },
  {
   "cell_type": "code",
   "execution_count": 36,
   "id": "3191f09e",
   "metadata": {},
   "outputs": [],
   "source": [
    "y_pred_proba_lgbm = lgbm.predict_proba(X_test)"
   ]
  },
  {
   "cell_type": "markdown",
   "id": "3318ca93",
   "metadata": {},
   "source": [
    "Con `LighGBM` esperamos alrededor de 18 segundos de entrenamiento al hacer uso de la GPU. También notamos que:\n",
    "\n",
    "- Cuando se predice la clase `3`, el modelo es correcto en el 40% de las veces.\n",
    "- De los casos predecidos como `3`, se incluye al 99% de verdaderos positivos.\n",
    "- Vemos un mejor desempeño en predecir la clase `2` respecto a `MLP`, pero un peor desempeño respecto a predecir esta misma clase respecto a `RandomForestClassifier`, `XGBoost` y `DecisionTree`.\n",
    "- El `F1 Score` obtenido es el mejor hasta el momento, lo que significa que tenemos el mejor balance entre `precision` y `recall` hasta el momento."
   ]
  },
  {
   "cell_type": "markdown",
   "id": "e274741d",
   "metadata": {},
   "source": [
    "# BalancedRandom forest Classifier"
   ]
  },
  {
   "cell_type": "markdown",
   "id": "2f3f78bf",
   "metadata": {},
   "source": [
    "Este clasificador se diferencia de `RandomForestClassifier` en lo siguiente:\n",
    "\n",
    "- Cada arbol que se entrenará se construye a partir de un train dataset que balancea las clases minoritarias. Esto significa que se crean muestras sintéticas de las clases reconocidas como minoritarias en nuestro dataset.\n",
    "\n",
    "Por lo anterior, para comparar el modelo, haremos  uso  del mismo preo-procesamiento que `RandomForestClassifier` y compararemos los resultados."
   ]
  },
  {
   "cell_type": "code",
   "execution_count": 48,
   "id": "2abb6a2a",
   "metadata": {},
   "outputs": [
    {
     "name": "stdout",
     "output_type": "stream",
     "text": [
      "Resultados para Balanced Random Forest:\n",
      "\n",
      "\n",
      "              precision    recall  f1-score   support\n",
      "\n",
      "           0      0.000     0.000     0.000     24445\n",
      "           1      0.754     0.999     0.860     82928\n",
      "           2      0.000     0.000     0.000      2544\n",
      "           3      0.408     0.445     0.426       110\n",
      "\n",
      "    accuracy                          0.754    110027\n",
      "   macro avg      0.291     0.361     0.321    110027\n",
      "weighted avg      0.569     0.754     0.648    110027\n",
      "\n"
     ]
    },
    {
     "name": "stderr",
     "output_type": "stream",
     "text": [
      "d:\\Python_Envs\\torch311\\Lib\\site-packages\\sklearn\\metrics\\_classification.py:1731: UndefinedMetricWarning: Precision is ill-defined and being set to 0.0 in labels with no predicted samples. Use `zero_division` parameter to control this behavior.\n",
      "  _warn_prf(average, modifier, f\"{metric.capitalize()} is\", result.shape[0])\n",
      "d:\\Python_Envs\\torch311\\Lib\\site-packages\\sklearn\\metrics\\_classification.py:1731: UndefinedMetricWarning: Precision is ill-defined and being set to 0.0 in labels with no predicted samples. Use `zero_division` parameter to control this behavior.\n",
      "  _warn_prf(average, modifier, f\"{metric.capitalize()} is\", result.shape[0])\n",
      "d:\\Python_Envs\\torch311\\Lib\\site-packages\\sklearn\\metrics\\_classification.py:1731: UndefinedMetricWarning: Precision is ill-defined and being set to 0.0 in labels with no predicted samples. Use `zero_division` parameter to control this behavior.\n",
      "  _warn_prf(average, modifier, f\"{metric.capitalize()} is\", result.shape[0])\n"
     ]
    }
   ],
   "source": [
    "from imblearn.ensemble import BalancedRandomForestClassifier\n",
    "\n",
    "# Copiamos el dataframe con la información\n",
    "bl_rf_df = df_filtered.copy()\n",
    "\n",
    "# Hacemos un encoding basico para State y Municipalidad\n",
    "for col in ['state', 'municipality']:\n",
    "    le = LabelEncoder()\n",
    "    bl_rf_df[col] = le.fit_transform(bl_rf_df[col])\n",
    "\n",
    "# Generamos la mascara para obtener los datos de antes del 2025 y del 2025 por separada\n",
    "train_mask = bl_rf_df['sampling_date'].dt.year < 2025\n",
    "test_mask  = bl_rf_df['sampling_date'].dt.year == 2025\n",
    "\n",
    "# Excluimos la variable objetivo (severity_encoded) y algunos unas variables o features que ya tenemos contenidos en nuestros\n",
    "# features creados. `capture_count` no podemos tomarlo en cuenta porque se relaciona directamente con la severidad.\n",
    "exclude_cols = [\n",
    "    'severity_encoded','tramp_id', 'capture_count', \n",
    "    'month', 'year', 'year-month', 'sampling_date',\n",
    "]\n",
    "\n",
    "# Cargamos los features a tomar en cuenta (obviamos los features en exclude_cols)\n",
    "features = [col for col in bl_rf_df.columns if col not in exclude_cols]\n",
    "\n",
    "# Generamos nuestro split de entrenamiento y test por medio de las mascaras train_mask y test_mask\n",
    "X_train, y_train = bl_rf_df.loc[train_mask, features], bl_rf_df.loc[train_mask, 'severity_encoded'] # El train dataset es la data historica de 2014 a 2024\n",
    "X_test,  y_test  = bl_rf_df.loc[test_mask,  features], bl_rf_df.loc[test_mask,  'severity_encoded'] # El test dataset es la data a partir de 2025\n",
    "\n",
    "\n",
    "brf_model = BalancedRandomForestClassifier(\n",
    "    criterion = 'entropy',\n",
    "    max_features='log2',\n",
    "    n_estimators=100,\n",
    "    max_depth=10,\n",
    "    min_samples_split=4,\n",
    "    min_samples_leaf=4,\n",
    "    sampling_strategy= 'not majority',\n",
    "    random_state=42,\n",
    "    n_jobs=-1\n",
    ")\n",
    "\n",
    "brf_model.fit(X_train, y_train)\n",
    "\n",
    "y_pred = brf_model.predict(X_test)\n",
    "\n",
    "print(\"Resultados para Balanced Random Forest:\\n\\n\")\n",
    "print(classification_report(y_test, y_pred, digits=3))"
   ]
  },
  {
   "cell_type": "markdown",
   "id": "ff618da8",
   "metadata": {},
   "source": [
    "Con los resultados anteriores, notamos que `BalancedRandomForestClassifier` tiene la mejor `precision`, pero el peor `recall` y el peor rendimiento hasta el momento. Esto lo sabemos de inmediato porque el modelo solo hace 2 cosas:\n",
    "\n",
    "- Clasifica los registros como `1` o `3`, pero ninguno como perteneciente a la clase `0` o `2`.\n",
    "\n",
    "Por lo tanto, este modelo  no vale la pena seguirlo probando ya que notamos que, aunque tiene el mejor accuracy hasta el momento, esto lo logra clasificando casi todo con un label de `1`. En esencia este modelo convirtió nuestro dataset en un problema binario."
   ]
  },
  {
   "cell_type": "markdown",
   "id": "dbb615d4",
   "metadata": {},
   "source": [
    "# Curvas AUC"
   ]
  },
  {
   "cell_type": "code",
   "execution_count": 49,
   "id": "7385803e",
   "metadata": {},
   "outputs": [
    {
     "data": {
      "image/png": "[encoded data removed]",
      "text/plain": [
       "<Figure size 1000x800 with 1 Axes>"
      ]
     },
     "metadata": {},
     "output_type": "display_data"
    }
   ],
   "source": [
    "from sklearn.metrics import roc_curve, auc, RocCurveDisplay\n",
    "from sklearn.preprocessing import label_binarize\n",
    "\n",
    "classes = sorted(y_test.unique())\n",
    "y_test_bin = label_binarize(y_test, classes=classes)\n",
    "\n",
    "\n",
    "\n",
    "plt.figure(figsize=(10, 8))\n",
    "\n",
    "models = {\n",
    "    'Random Forest': y_pred_proba_rf,\n",
    "    'Decision Tree': y_pred_proba_dt,\n",
    "    'XGBoost': y_pred_proba_xgb,\n",
    "    'LightGBM': y_pred_proba_lgbm\n",
    "    #'MLP': y_pred_proba_mlp\n",
    "}\n",
    "\n",
    "for model_name, y_score in models.items():\n",
    "    fpr, tpr, _ = roc_curve(y_test_bin.ravel(), y_score.ravel())\n",
    "    roc_auc = auc(fpr, tpr)\n",
    "    plt.plot(fpr, tpr, lw=2, label=f'{model_name} (AUC = {roc_auc:.3f})')\n",
    "\n",
    "plt.plot([0, 1], [0, 1], 'k--', lw=1)\n",
    "plt.xlabel('Rate de falsos positivos')\n",
    "plt.ylabel('Rate de verdaderos positivos')\n",
    "plt.title('ROC–AUC')\n",
    "plt.legend(loc='lower right')\n",
    "plt.show()"
   ]
  },
  {
   "cell_type": "markdown",
   "id": "f40d195d",
   "metadata": {},
   "source": [
    "# Bayesian Optimization para LightGBM"
   ]
  },
  {
   "cell_type": "code",
   "execution_count": 50,
   "id": "ea6de41a",
   "metadata": {},
   "outputs": [],
   "source": [
    "for col in ['state', 'municipality']:\n",
    "    le = LabelEncoder()\n",
    "    lgbm_df[col] = le.fit_transform(lgbm_df[col])\n",
    "\n",
    "train_mask = lgbm_df['sampling_date'].dt.year < 2025\n",
    "test_mask  = lgbm_df['sampling_date'].dt.year == 2025\n",
    "\n",
    "exclude_cols = [\n",
    "    'severity_encoded','tramp_id', 'capture_count', \n",
    "    'month', 'year', 'year-month', 'sampling_date',\n",
    "]\n",
    "\n",
    "features = [col for col in lgbm_df.columns if col not in exclude_cols]\n",
    "\n",
    "X_train, y_train = lgbm_df.loc[train_mask, features], lgbm_df.loc[train_mask, 'severity_encoded'] # El train dataset es la data historica de 2014 a 2024\n",
    "X_test,  y_test  = lgbm_df.loc[test_mask,  features], lgbm_df.loc[test_mask,  'severity_encoded'] # El test dataset es la data a partir de 2025"
   ]
  }
 ],
 "metadata": {
  "kernelspec": {
   "display_name": "torch311 (3.11.0)",
   "language": "python",
   "name": "python3"
  },
  "language_info": {
   "codemirror_mode": {
    "name": "ipython",
    "version": 3
   },
   "file_extension": ".py",
   "mimetype": "text/x-python",
   "name": "python",
   "nbconvert_exporter": "python",
   "pygments_lexer": "ipython3",
   "version": "3.11.0"
  }
 },
 "nbformat": 4,
 "nbformat_minor": 5
}
