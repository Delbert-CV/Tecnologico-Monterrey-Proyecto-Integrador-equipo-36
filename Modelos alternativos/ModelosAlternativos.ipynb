{
 "cells": [
  {
   "cell_type": "markdown",
   "id": "ddca45b9",
   "metadata": {},
   "source": [
    "\n",
    "\n",
    "# Reporte de problemas fitosanitarios en plantaciones de agave\n",
    "--------------------\n",
    "\n",
    "## Equipo 36\n",
    "\n",
    "| Nombre | Matrícula |\n",
    "| ------ | --------- |\n",
    "| André Martins Cordebello | A00572928 |\n",
    "| Enrique Eduardo Solís Da Costa | A00572678 |\n",
    "| Delbert Francisco Custodio Vargas | A01795613 |\n",
    "\n",
    "## Avance 4: Modelos alternativos \n",
    "\n",
    "Este avance implica construir múltiples modelos (individuales, no ensambles) relevantes para resolver el problema y evaluar su desempeño. Diferentes algoritmos pueden comportarse de manera óptima en diferentes tipos de datos o tareas. La construcción de modelos alternativos permite explorar y evaluar cuál de ellos proporciona el mejor rendimiento para un problema particular.\n",
    "\n",
    "Además, los modelos se pueden ajustar para determinar si se puede mejorar su rendimiento. Diferentes configuraciones de hiperparámetros pueden afectar significativamente el rendimiento de un modelo. Construir modelos alternativos implica explorar y ajustar estos hiperparámetros para encontrar la configuración óptima."
   ]
  },
  {
   "cell_type": "markdown",
   "id": "3604f302",
   "metadata": {},
   "source": [
    "# Introducción"
   ]
  },
  {
   "cell_type": "markdown",
   "id": "376a97b1",
   "metadata": {},
   "source": [
    "Durante la entrega del Avance 3, trabajamos con 2 modelos de regresión los cuáles fueron `RandomForestRegressor` y `XGBoost`. De éstos 2 modelos, el que mejor rendimiento tuvo fue el `RandomForestRegressor`, con un R^2 de `0.53`.\n",
    "\n",
    "Por lo anterior, estaremos explorando al menos 6 modelos distintos y cambiando nuestro Feature Engineering para lograr un mejor resultado en la predicción de nuestro R^2 o `accuracy` score si decidimos trabajar sobre la variable `severity_encode`. Agregado a esto, haremos una etapa de feature engineering la cual incluirá:\n",
    "\n",
    "- La precipitación registrada por la estación climatológica más cercana a la ubicación de la trampa muestreada durante el mismo mes en que se tomó la muestra.\n",
    "- La temperatura media, maxima y mínima de la estación climatológica más cercana a la ubicación de la trampa muestreada en el mismo año y mes.\n",
    "\n",
    "Esta información está disponible desde `https://smn.conagua.gob.mx/es/climatologia/temperaturas-y-lluvias/resumenes-mensuales-de-temperaturas-y-lluvias`, y es posible descargar esta información por medio de los scripts `smn_precipitation_downloader.py` y `smn_temp_downloader.py`, y generar los archivos CSV por medio de los scripts `smn_precipitation_builder.py` y `smn_temp_builder.py`."
   ]
  },
  {
   "cell_type": "markdown",
   "id": "8ed96aa2",
   "metadata": {},
   "source": [
    "# Objetivo"
   ]
  },
  {
   "cell_type": "markdown",
   "id": "e3e7e061",
   "metadata": {},
   "source": [
    "Con lo anterior, es importante tomar en cuenta que nuestro objetivo para esta entrega se basa en predecir el nivel de infestación con la que se catalogan los focos de infestación (seguro, leve, moderado y severo). \n",
    "\n",
    "Ahora, como sabemos, contamos con un dataset desbalanceado:\n",
    "\n",
    "- El 62% de las muestras históricas son leves.\n",
    "- El 35% de los registros indican un nivel seguro de severidad.\n",
    "- El 1.1% se considera como moderado.\n",
    "- El 0.15% de la muestra es severa.\n",
    "\n",
    "Por lo anterior, usar una métrica como `accuracy` no es buena idea, ya que nuestros modelos podrían llegar a tener esta métrica elevado haciendo uso de una clasificación leve o segura. Por lo tanto, las métricas que debemos tomar en cuenta son las siguientes:\n",
    "\n",
    "- `Recall`: requerimos detectar correctamente los casos positivos de la clase objetivo.\n",
    "- `F1`: esta métrica nos da una idea de qué tan balanceado es nuestro modelo para todas las clases en general.\n",
    "- `Precision`: nos ayudará a controlar los falsos positivos una vez logremos que nuestro `Recall` mejore.\n",
    "- `AUC`: para analizar los resultados gráficamente y seleccionar el mejor modelo."
   ]
  },
  {
   "cell_type": "markdown",
   "id": "849f44b3",
   "metadata": {},
   "source": [
    "# Librerías"
   ]
  },
  {
   "cell_type": "code",
   "execution_count": 1,
   "id": "b320c3dd",
   "metadata": {},
   "outputs": [
    {
     "name": "stderr",
     "output_type": "stream",
     "text": [
      "d:\\Python_Envs\\torch311\\Lib\\site-packages\\tqdm\\auto.py:21: TqdmWarning: IProgress not found. Please update jupyter and ipywidgets. See https://ipywidgets.readthedocs.io/en/stable/user_install.html\n",
      "  from .autonotebook import tqdm as notebook_tqdm\n"
     ]
    }
   ],
   "source": [
    "from sklearn.metrics import classification_report, confusion_matrix, accuracy_score\n",
    "from sklearn.model_selection import TimeSeriesSplit, cross_val_score\n",
    "from imblearn.ensemble  import BalancedRandomForestClassifier\n",
    "from sklearn.utils.class_weight import compute_sample_weight\n",
    "from sklearn.utils.class_weight import compute_class_weight\n",
    "from sklearn.model_selection import train_test_split\n",
    "from sklearn.ensemble import RandomForestClassifier\n",
    "from sklearn.preprocessing import StandardScaler\n",
    "from sklearn.neural_network import MLPClassifier\n",
    "from sklearn.preprocessing import OneHotEncoder\n",
    "from sklearn.tree import DecisionTreeClassifier\n",
    "from sklearn.preprocessing import LabelEncoder\n",
    "from sklearn.preprocessing import MinMaxScaler\n",
    "from sklearn.compose import ColumnTransformer\n",
    "from bayes_opt import BayesianOptimization\n",
    "from imblearn.over_sampling import SMOTENC\n",
    "from imblearn.over_sampling import SMOTE\n",
    "from sklearn.neighbors import BallTree\n",
    "from lightgbm import LGBMClassifier\n",
    "from xgboost import XGBClassifier\n",
    "import matplotlib.pyplot as plt\n",
    "import lightgbm as lgb\n",
    "import xgboost as xgb\n",
    "import pandas as pd\n",
    "import numpy as np\n",
    "import optuna"
   ]
  },
  {
   "cell_type": "markdown",
   "id": "91c42527",
   "metadata": {},
   "source": [
    "# Carga del dataset"
   ]
  },
  {
   "cell_type": "markdown",
   "id": "0c5f4222",
   "metadata": {},
   "source": [
    "En esta sección cargaremos el dataset `Baseline.xlsx`, el cual contiene los `text_features` para hacer el fine-tuning de nuestro LLM.\n",
    "\n",
    "Por lo tanto, no haremos uso de los `text_features` debido a que éstos son la combinación de varios features previos."
   ]
  },
  {
   "cell_type": "code",
   "execution_count": 2,
   "id": "d3743772",
   "metadata": {},
   "outputs": [
    {
     "data": {
      "text/plain": [
       "Unnamed: 0                              int64\n",
       "tramp_id                               object\n",
       "sampling_date                  datetime64[ns]\n",
       "lat                                   float64\n",
       "lon                                   float64\n",
       "municipality                           object\n",
       "square_area                           float64\n",
       "plantation_age                          int64\n",
       "capture_count                         float64\n",
       "state                                  object\n",
       "square_area_imputed                   float64\n",
       "month                                   int64\n",
       "year                                    int64\n",
       "year_month                             object\n",
       "day_of_year_sin                       float64\n",
       "day_of_year_cos                       float64\n",
       "day_of_week_sin                       float64\n",
       "day_of_week_cos                       float64\n",
       "week_of_year_sin                      float64\n",
       "week_of_year_cos                      float64\n",
       "month_sin                             float64\n",
       "month_cos                             float64\n",
       "critical_season                         int64\n",
       "severity_encoded                        int64\n",
       "distance_to_nearest_hotspot           float64\n",
       "hotspots_within_5km                     int64\n",
       "text_feature_location                  object\n",
       "text_feature_risk                      object\n",
       "text_feature_capture                   object\n",
       "text_feature_plantation                object\n",
       "text_feature_all_things                object\n",
       "dtype: object"
      ]
     },
     "execution_count": 2,
     "metadata": {},
     "output_type": "execute_result"
    }
   ],
   "source": [
    "df = pd.read_excel('baseline.xlsx')\n",
    "df.dtypes"
   ]
  },
  {
   "cell_type": "code",
   "execution_count": 3,
   "id": "2e73216f",
   "metadata": {},
   "outputs": [
    {
     "data": {
      "text/plain": [
       "tramp_id                               object\n",
       "sampling_date                  datetime64[ns]\n",
       "lat                                   float64\n",
       "lon                                   float64\n",
       "municipality                           object\n",
       "plantation_age                          int64\n",
       "capture_count                         float64\n",
       "state                                  object\n",
       "square_area_imputed                   float64\n",
       "month                                   int64\n",
       "year                                    int64\n",
       "year_month                             object\n",
       "day_of_year_sin                       float64\n",
       "day_of_year_cos                       float64\n",
       "day_of_week_sin                       float64\n",
       "day_of_week_cos                       float64\n",
       "week_of_year_sin                      float64\n",
       "week_of_year_cos                      float64\n",
       "month_sin                             float64\n",
       "month_cos                             float64\n",
       "critical_season                         int64\n",
       "severity_encoded                        int64\n",
       "distance_to_nearest_hotspot           float64\n",
       "hotspots_within_5km                     int64\n",
       "dtype: object"
      ]
     },
     "execution_count": 3,
     "metadata": {},
     "output_type": "execute_result"
    }
   ],
   "source": [
    "# Eliminamos las columnas irrelevantes para nuestros modelos.\n",
    "df.drop(labels=['Unnamed: 0', 'square_area', 'text_feature_location',  'text_feature_risk', 'text_feature_capture', 'text_feature_plantation', 'text_feature_all_things'], axis=1, inplace=True)\n",
    "df.dtypes"
   ]
  },
  {
   "cell_type": "markdown",
   "id": "2dfbdfa8",
   "metadata": {},
   "source": [
    "# Ahora tomaremos en cuenta el clima"
   ]
  },
  {
   "cell_type": "markdown",
   "id": "6c5d5969",
   "metadata": {},
   "source": [
    "## Carga de precipitación y temperatura histórica"
   ]
  },
  {
   "cell_type": "markdown",
   "id": "7a958da2",
   "metadata": {},
   "source": [
    "Con base en los resultados obtenidos en nuestro Baseline, vemos con buenos ojos pensar de nuevo los features que debemos tomar en cuenta para predecir la severidad de un posible foco de infección.\n",
    "\n",
    "Para esto, hemos descargado y procesado la información disponible de parte del Gobierno de México para tomar en cuenta:\n",
    "\n",
    "- La precipitación en mm.\n",
    "- La temperatura media, máxima y mínima \n",
    "\n",
    "Y haremos uso de la información proporcionada por la estación más cercana a cada muestra de nuestro dataset."
   ]
  },
  {
   "cell_type": "code",
   "execution_count": 4,
   "id": "044fa5e0",
   "metadata": {},
   "outputs": [
    {
     "name": "stdout",
     "output_type": "stream",
     "text": [
      "El dataset de precipitacion tiene estas columnas: ['lon', 'lat', 'state', 'cve_sih', 'name', 'precipitation(mm)', 'year-month']\n",
      "El dataset de avg_temp tiene estas columnas: Index(['lon', 'lat', 'state', 'cve_sih', 'name', 'TMed', 'year-month'], dtype='object')\n",
      "El dataset de max_temp tiene estas columnas: Index(['lon', 'lat', 'state', 'cve_sih', 'name', 'TMax', 'year-month'], dtype='object')\n",
      "El dataset de min_temp tiene estas columnas: Index(['lon', 'lat', 'state', 'cve_sih', 'name', 'TMin', 'year-month'], dtype='object')\n"
     ]
    }
   ],
   "source": [
    "precipitation_df = pd.read_csv('precipitation_per_area_historical.csv')\n",
    "avg_temp_df      = pd.read_csv('TMed_per_area_historical.csv')\n",
    "max_temp_df      = pd.read_csv('TMax_per_area_historical.csv')\n",
    "min_temp_df      = pd.read_csv('TMin_per_area_historical.csv')\n",
    "\n",
    "print(f'El dataset de precipitacion tiene estas columnas: {precipitation_df.columns.tolist()}')\n",
    "print(f'El dataset de avg_temp tiene estas columnas: {avg_temp_df.columns}')\n",
    "print(f'El dataset de max_temp tiene estas columnas: {max_temp_df.columns}')\n",
    "print(f'El dataset de min_temp tiene estas columnas: {min_temp_df.columns}')"
   ]
  },
  {
   "cell_type": "code",
   "execution_count": 5,
   "id": "a3c1cdf3",
   "metadata": {},
   "outputs": [
    {
     "data": {
      "text/html": [
       "<div>\n",
       "<style scoped>\n",
       "    .dataframe tbody tr th:only-of-type {\n",
       "        vertical-align: middle;\n",
       "    }\n",
       "\n",
       "    .dataframe tbody tr th {\n",
       "        vertical-align: top;\n",
       "    }\n",
       "\n",
       "    .dataframe thead th {\n",
       "        text-align: right;\n",
       "    }\n",
       "</style>\n",
       "<table border=\"1\" class=\"dataframe\">\n",
       "  <thead>\n",
       "    <tr style=\"text-align: right;\">\n",
       "      <th></th>\n",
       "      <th>count</th>\n",
       "      <th>mean</th>\n",
       "      <th>std</th>\n",
       "      <th>min</th>\n",
       "      <th>25%</th>\n",
       "      <th>50%</th>\n",
       "      <th>75%</th>\n",
       "      <th>max</th>\n",
       "    </tr>\n",
       "  </thead>\n",
       "  <tbody>\n",
       "    <tr>\n",
       "      <th>lon</th>\n",
       "      <td>158067.0</td>\n",
       "      <td>1.717909e+08</td>\n",
       "      <td>9.853862e+08</td>\n",
       "      <td>873.0</td>\n",
       "      <td>10172.0</td>\n",
       "      <td>97021111.0</td>\n",
       "      <td>1.006344e+08</td>\n",
       "      <td>9.999958e+09</td>\n",
       "    </tr>\n",
       "    <tr>\n",
       "      <th>lat</th>\n",
       "      <td>158067.0</td>\n",
       "      <td>5.697327e+07</td>\n",
       "      <td>3.079344e+08</td>\n",
       "      <td>147.0</td>\n",
       "      <td>2345.0</td>\n",
       "      <td>18794167.0</td>\n",
       "      <td>2.107444e+07</td>\n",
       "      <td>3.270472e+09</td>\n",
       "    </tr>\n",
       "    <tr>\n",
       "      <th>precipitation(mm)</th>\n",
       "      <td>158020.0</td>\n",
       "      <td>8.051705e+01</td>\n",
       "      <td>1.165051e+02</td>\n",
       "      <td>0.0</td>\n",
       "      <td>3.0</td>\n",
       "      <td>33.2</td>\n",
       "      <td>1.153200e+02</td>\n",
       "      <td>1.894000e+03</td>\n",
       "    </tr>\n",
       "  </tbody>\n",
       "</table>\n",
       "</div>"
      ],
      "text/plain": [
       "                      count          mean           std    min      25%  \\\n",
       "lon                158067.0  1.717909e+08  9.853862e+08  873.0  10172.0   \n",
       "lat                158067.0  5.697327e+07  3.079344e+08  147.0   2345.0   \n",
       "precipitation(mm)  158020.0  8.051705e+01  1.165051e+02    0.0      3.0   \n",
       "\n",
       "                          50%           75%           max  \n",
       "lon                97021111.0  1.006344e+08  9.999958e+09  \n",
       "lat                18794167.0  2.107444e+07  3.270472e+09  \n",
       "precipitation(mm)        33.2  1.153200e+02  1.894000e+03  "
      ]
     },
     "execution_count": 5,
     "metadata": {},
     "output_type": "execute_result"
    }
   ],
   "source": [
    "precipitation_df.describe().T"
   ]
  },
  {
   "cell_type": "code",
   "execution_count": 6,
   "id": "bced3ec6",
   "metadata": {},
   "outputs": [
    {
     "data": {
      "text/html": [
       "<div>\n",
       "<style scoped>\n",
       "    .dataframe tbody tr th:only-of-type {\n",
       "        vertical-align: middle;\n",
       "    }\n",
       "\n",
       "    .dataframe tbody tr th {\n",
       "        vertical-align: top;\n",
       "    }\n",
       "\n",
       "    .dataframe thead th {\n",
       "        text-align: right;\n",
       "    }\n",
       "</style>\n",
       "<table border=\"1\" class=\"dataframe\">\n",
       "  <thead>\n",
       "    <tr style=\"text-align: right;\">\n",
       "      <th></th>\n",
       "      <th>count</th>\n",
       "      <th>mean</th>\n",
       "      <th>std</th>\n",
       "      <th>min</th>\n",
       "      <th>25%</th>\n",
       "      <th>50%</th>\n",
       "      <th>75%</th>\n",
       "      <th>max</th>\n",
       "    </tr>\n",
       "  </thead>\n",
       "  <tbody>\n",
       "    <tr>\n",
       "      <th>lon</th>\n",
       "      <td>163149.0</td>\n",
       "      <td>-101.184182</td>\n",
       "      <td>5.850756</td>\n",
       "      <td>-118.29</td>\n",
       "      <td>-104.37</td>\n",
       "      <td>-100.3</td>\n",
       "      <td>-98.16</td>\n",
       "      <td>-86.74</td>\n",
       "    </tr>\n",
       "    <tr>\n",
       "      <th>lat</th>\n",
       "      <td>163149.0</td>\n",
       "      <td>22.092611</td>\n",
       "      <td>4.143454</td>\n",
       "      <td>-99.90</td>\n",
       "      <td>19.12</td>\n",
       "      <td>20.8</td>\n",
       "      <td>25.03</td>\n",
       "      <td>32.70</td>\n",
       "    </tr>\n",
       "    <tr>\n",
       "      <th>TMed</th>\n",
       "      <td>163149.0</td>\n",
       "      <td>22.292233</td>\n",
       "      <td>5.657826</td>\n",
       "      <td>-99.90</td>\n",
       "      <td>18.10</td>\n",
       "      <td>22.3</td>\n",
       "      <td>27.00</td>\n",
       "      <td>41.80</td>\n",
       "    </tr>\n",
       "  </tbody>\n",
       "</table>\n",
       "</div>"
      ],
      "text/plain": [
       "         count        mean       std     min     25%    50%    75%    max\n",
       "lon   163149.0 -101.184182  5.850756 -118.29 -104.37 -100.3 -98.16 -86.74\n",
       "lat   163149.0   22.092611  4.143454  -99.90   19.12   20.8  25.03  32.70\n",
       "TMed  163149.0   22.292233  5.657826  -99.90   18.10   22.3  27.00  41.80"
      ]
     },
     "execution_count": 6,
     "metadata": {},
     "output_type": "execute_result"
    }
   ],
   "source": [
    "avg_temp_df.describe().T"
   ]
  },
  {
   "cell_type": "code",
   "execution_count": 7,
   "id": "9c738213",
   "metadata": {},
   "outputs": [
    {
     "data": {
      "text/html": [
       "<div>\n",
       "<style scoped>\n",
       "    .dataframe tbody tr th:only-of-type {\n",
       "        vertical-align: middle;\n",
       "    }\n",
       "\n",
       "    .dataframe tbody tr th {\n",
       "        vertical-align: top;\n",
       "    }\n",
       "\n",
       "    .dataframe thead th {\n",
       "        text-align: right;\n",
       "    }\n",
       "</style>\n",
       "<table border=\"1\" class=\"dataframe\">\n",
       "  <thead>\n",
       "    <tr style=\"text-align: right;\">\n",
       "      <th></th>\n",
       "      <th>count</th>\n",
       "      <th>mean</th>\n",
       "      <th>std</th>\n",
       "      <th>min</th>\n",
       "      <th>25%</th>\n",
       "      <th>50%</th>\n",
       "      <th>75%</th>\n",
       "      <th>max</th>\n",
       "    </tr>\n",
       "  </thead>\n",
       "  <tbody>\n",
       "    <tr>\n",
       "      <th>lon</th>\n",
       "      <td>163237.0</td>\n",
       "      <td>-101.183637</td>\n",
       "      <td>5.850671</td>\n",
       "      <td>-118.29</td>\n",
       "      <td>-104.37</td>\n",
       "      <td>-100.3</td>\n",
       "      <td>-98.16</td>\n",
       "      <td>-86.74</td>\n",
       "    </tr>\n",
       "    <tr>\n",
       "      <th>lat</th>\n",
       "      <td>163237.0</td>\n",
       "      <td>22.092476</td>\n",
       "      <td>4.143737</td>\n",
       "      <td>-99.90</td>\n",
       "      <td>19.12</td>\n",
       "      <td>20.8</td>\n",
       "      <td>25.03</td>\n",
       "      <td>32.70</td>\n",
       "    </tr>\n",
       "    <tr>\n",
       "      <th>TMax</th>\n",
       "      <td>163237.0</td>\n",
       "      <td>29.519894</td>\n",
       "      <td>5.428911</td>\n",
       "      <td>-99.90</td>\n",
       "      <td>25.60</td>\n",
       "      <td>29.7</td>\n",
       "      <td>33.60</td>\n",
       "      <td>51.10</td>\n",
       "    </tr>\n",
       "  </tbody>\n",
       "</table>\n",
       "</div>"
      ],
      "text/plain": [
       "         count        mean       std     min     25%    50%    75%    max\n",
       "lon   163237.0 -101.183637  5.850671 -118.29 -104.37 -100.3 -98.16 -86.74\n",
       "lat   163237.0   22.092476  4.143737  -99.90   19.12   20.8  25.03  32.70\n",
       "TMax  163237.0   29.519894  5.428911  -99.90   25.60   29.7  33.60  51.10"
      ]
     },
     "execution_count": 7,
     "metadata": {},
     "output_type": "execute_result"
    }
   ],
   "source": [
    "max_temp_df.describe().T"
   ]
  },
  {
   "cell_type": "code",
   "execution_count": 8,
   "id": "aaef9e2f",
   "metadata": {},
   "outputs": [
    {
     "data": {
      "text/html": [
       "<div>\n",
       "<style scoped>\n",
       "    .dataframe tbody tr th:only-of-type {\n",
       "        vertical-align: middle;\n",
       "    }\n",
       "\n",
       "    .dataframe tbody tr th {\n",
       "        vertical-align: top;\n",
       "    }\n",
       "\n",
       "    .dataframe thead th {\n",
       "        text-align: right;\n",
       "    }\n",
       "</style>\n",
       "<table border=\"1\" class=\"dataframe\">\n",
       "  <thead>\n",
       "    <tr style=\"text-align: right;\">\n",
       "      <th></th>\n",
       "      <th>count</th>\n",
       "      <th>mean</th>\n",
       "      <th>std</th>\n",
       "      <th>min</th>\n",
       "      <th>25%</th>\n",
       "      <th>50%</th>\n",
       "      <th>75%</th>\n",
       "      <th>max</th>\n",
       "    </tr>\n",
       "  </thead>\n",
       "  <tbody>\n",
       "    <tr>\n",
       "      <th>lon</th>\n",
       "      <td>163264.0</td>\n",
       "      <td>-101.182702</td>\n",
       "      <td>5.850383</td>\n",
       "      <td>-118.29</td>\n",
       "      <td>-104.37</td>\n",
       "      <td>-100.30</td>\n",
       "      <td>-98.15</td>\n",
       "      <td>-86.74</td>\n",
       "    </tr>\n",
       "    <tr>\n",
       "      <th>lat</th>\n",
       "      <td>163264.0</td>\n",
       "      <td>22.091303</td>\n",
       "      <td>4.143190</td>\n",
       "      <td>-99.90</td>\n",
       "      <td>19.12</td>\n",
       "      <td>20.75</td>\n",
       "      <td>25.03</td>\n",
       "      <td>32.70</td>\n",
       "    </tr>\n",
       "    <tr>\n",
       "      <th>TMin</th>\n",
       "      <td>163264.0</td>\n",
       "      <td>15.092148</td>\n",
       "      <td>6.768767</td>\n",
       "      <td>-99.90</td>\n",
       "      <td>10.10</td>\n",
       "      <td>15.00</td>\n",
       "      <td>20.80</td>\n",
       "      <td>38.00</td>\n",
       "    </tr>\n",
       "  </tbody>\n",
       "</table>\n",
       "</div>"
      ],
      "text/plain": [
       "         count        mean       std     min     25%     50%    75%    max\n",
       "lon   163264.0 -101.182702  5.850383 -118.29 -104.37 -100.30 -98.15 -86.74\n",
       "lat   163264.0   22.091303  4.143190  -99.90   19.12   20.75  25.03  32.70\n",
       "TMin  163264.0   15.092148  6.768767  -99.90   10.10   15.00  20.80  38.00"
      ]
     },
     "execution_count": 8,
     "metadata": {},
     "output_type": "execute_result"
    }
   ],
   "source": [
    "min_temp_df.describe().T"
   ]
  },
  {
   "cell_type": "markdown",
   "id": "80951225",
   "metadata": {},
   "source": [
    "Como notamos que la información de temperatura contiene registros con valores negativos de -99.90 grados de temperatura, y como sabemos que esto no pudo pasar en alguno de los estados muestreados, procedemos a eliminar estos registros que seguramente son resultado de una mala muestra."
   ]
  },
  {
   "cell_type": "code",
   "execution_count": 9,
   "id": "ab12d41a",
   "metadata": {},
   "outputs": [],
   "source": [
    "precipitation_df = precipitation_df[ precipitation_df['precipitation(mm)'] >= 0 ]\n",
    "max_temp_df      = max_temp_df[ max_temp_df['TMax'] >= -99 ]\n",
    "avg_temp_df      = avg_temp_df[ avg_temp_df['TMed'] >= -99 ]\n",
    "min_temp_df      = min_temp_df[ min_temp_df['TMin'] >= -99 ]"
   ]
  },
  {
   "cell_type": "code",
   "execution_count": 10,
   "id": "1d656935",
   "metadata": {},
   "outputs": [
    {
     "data": {
      "text/html": [
       "<div>\n",
       "<style scoped>\n",
       "    .dataframe tbody tr th:only-of-type {\n",
       "        vertical-align: middle;\n",
       "    }\n",
       "\n",
       "    .dataframe tbody tr th {\n",
       "        vertical-align: top;\n",
       "    }\n",
       "\n",
       "    .dataframe thead th {\n",
       "        text-align: right;\n",
       "    }\n",
       "</style>\n",
       "<table border=\"1\" class=\"dataframe\">\n",
       "  <thead>\n",
       "    <tr style=\"text-align: right;\">\n",
       "      <th></th>\n",
       "      <th>count</th>\n",
       "      <th>mean</th>\n",
       "      <th>std</th>\n",
       "      <th>min</th>\n",
       "      <th>25%</th>\n",
       "      <th>50%</th>\n",
       "      <th>75%</th>\n",
       "      <th>max</th>\n",
       "    </tr>\n",
       "  </thead>\n",
       "  <tbody>\n",
       "    <tr>\n",
       "      <th>lon</th>\n",
       "      <td>158020.0</td>\n",
       "      <td>1.718176e+08</td>\n",
       "      <td>9.855313e+08</td>\n",
       "      <td>873.0</td>\n",
       "      <td>10172.0</td>\n",
       "      <td>97021111.0</td>\n",
       "      <td>1.006344e+08</td>\n",
       "      <td>9.999958e+09</td>\n",
       "    </tr>\n",
       "    <tr>\n",
       "      <th>lat</th>\n",
       "      <td>158020.0</td>\n",
       "      <td>5.698401e+07</td>\n",
       "      <td>3.079796e+08</td>\n",
       "      <td>147.0</td>\n",
       "      <td>2345.0</td>\n",
       "      <td>18789167.0</td>\n",
       "      <td>2.107444e+07</td>\n",
       "      <td>3.270472e+09</td>\n",
       "    </tr>\n",
       "    <tr>\n",
       "      <th>precipitation(mm)</th>\n",
       "      <td>158020.0</td>\n",
       "      <td>8.051705e+01</td>\n",
       "      <td>1.165051e+02</td>\n",
       "      <td>0.0</td>\n",
       "      <td>3.0</td>\n",
       "      <td>33.2</td>\n",
       "      <td>1.153200e+02</td>\n",
       "      <td>1.894000e+03</td>\n",
       "    </tr>\n",
       "  </tbody>\n",
       "</table>\n",
       "</div>"
      ],
      "text/plain": [
       "                      count          mean           std    min      25%  \\\n",
       "lon                158020.0  1.718176e+08  9.855313e+08  873.0  10172.0   \n",
       "lat                158020.0  5.698401e+07  3.079796e+08  147.0   2345.0   \n",
       "precipitation(mm)  158020.0  8.051705e+01  1.165051e+02    0.0      3.0   \n",
       "\n",
       "                          50%           75%           max  \n",
       "lon                97021111.0  1.006344e+08  9.999958e+09  \n",
       "lat                18789167.0  2.107444e+07  3.270472e+09  \n",
       "precipitation(mm)        33.2  1.153200e+02  1.894000e+03  "
      ]
     },
     "execution_count": 10,
     "metadata": {},
     "output_type": "execute_result"
    }
   ],
   "source": [
    "precipitation_df.describe().T"
   ]
  },
  {
   "cell_type": "code",
   "execution_count": 11,
   "id": "87b8aeb4",
   "metadata": {},
   "outputs": [
    {
     "data": {
      "text/html": [
       "<div>\n",
       "<style scoped>\n",
       "    .dataframe tbody tr th:only-of-type {\n",
       "        vertical-align: middle;\n",
       "    }\n",
       "\n",
       "    .dataframe tbody tr th {\n",
       "        vertical-align: top;\n",
       "    }\n",
       "\n",
       "    .dataframe thead th {\n",
       "        text-align: right;\n",
       "    }\n",
       "</style>\n",
       "<table border=\"1\" class=\"dataframe\">\n",
       "  <thead>\n",
       "    <tr style=\"text-align: right;\">\n",
       "      <th></th>\n",
       "      <th>count</th>\n",
       "      <th>mean</th>\n",
       "      <th>std</th>\n",
       "      <th>min</th>\n",
       "      <th>25%</th>\n",
       "      <th>50%</th>\n",
       "      <th>75%</th>\n",
       "      <th>max</th>\n",
       "    </tr>\n",
       "  </thead>\n",
       "  <tbody>\n",
       "    <tr>\n",
       "      <th>lon</th>\n",
       "      <td>163144.0</td>\n",
       "      <td>-101.184222</td>\n",
       "      <td>5.850841</td>\n",
       "      <td>-118.29</td>\n",
       "      <td>-104.37</td>\n",
       "      <td>-100.3</td>\n",
       "      <td>-98.16</td>\n",
       "      <td>-86.74</td>\n",
       "    </tr>\n",
       "    <tr>\n",
       "      <th>lat</th>\n",
       "      <td>163144.0</td>\n",
       "      <td>22.096349</td>\n",
       "      <td>4.088107</td>\n",
       "      <td>14.63</td>\n",
       "      <td>19.12</td>\n",
       "      <td>20.8</td>\n",
       "      <td>25.03</td>\n",
       "      <td>32.70</td>\n",
       "    </tr>\n",
       "    <tr>\n",
       "      <th>TMed</th>\n",
       "      <td>163144.0</td>\n",
       "      <td>22.295978</td>\n",
       "      <td>5.617327</td>\n",
       "      <td>-0.80</td>\n",
       "      <td>18.10</td>\n",
       "      <td>22.3</td>\n",
       "      <td>27.00</td>\n",
       "      <td>41.80</td>\n",
       "    </tr>\n",
       "  </tbody>\n",
       "</table>\n",
       "</div>"
      ],
      "text/plain": [
       "         count        mean       std     min     25%    50%    75%    max\n",
       "lon   163144.0 -101.184222  5.850841 -118.29 -104.37 -100.3 -98.16 -86.74\n",
       "lat   163144.0   22.096349  4.088107   14.63   19.12   20.8  25.03  32.70\n",
       "TMed  163144.0   22.295978  5.617327   -0.80   18.10   22.3  27.00  41.80"
      ]
     },
     "execution_count": 11,
     "metadata": {},
     "output_type": "execute_result"
    }
   ],
   "source": [
    "avg_temp_df.describe().T"
   ]
  },
  {
   "cell_type": "code",
   "execution_count": 12,
   "id": "06a45049",
   "metadata": {},
   "outputs": [
    {
     "data": {
      "text/html": [
       "<div>\n",
       "<style scoped>\n",
       "    .dataframe tbody tr th:only-of-type {\n",
       "        vertical-align: middle;\n",
       "    }\n",
       "\n",
       "    .dataframe tbody tr th {\n",
       "        vertical-align: top;\n",
       "    }\n",
       "\n",
       "    .dataframe thead th {\n",
       "        text-align: right;\n",
       "    }\n",
       "</style>\n",
       "<table border=\"1\" class=\"dataframe\">\n",
       "  <thead>\n",
       "    <tr style=\"text-align: right;\">\n",
       "      <th></th>\n",
       "      <th>count</th>\n",
       "      <th>mean</th>\n",
       "      <th>std</th>\n",
       "      <th>min</th>\n",
       "      <th>25%</th>\n",
       "      <th>50%</th>\n",
       "      <th>75%</th>\n",
       "      <th>max</th>\n",
       "    </tr>\n",
       "  </thead>\n",
       "  <tbody>\n",
       "    <tr>\n",
       "      <th>lon</th>\n",
       "      <td>163232.0</td>\n",
       "      <td>-101.183677</td>\n",
       "      <td>5.850757</td>\n",
       "      <td>-118.29</td>\n",
       "      <td>-104.37</td>\n",
       "      <td>-100.3</td>\n",
       "      <td>-98.16</td>\n",
       "      <td>-86.74</td>\n",
       "    </tr>\n",
       "    <tr>\n",
       "      <th>lat</th>\n",
       "      <td>163232.0</td>\n",
       "      <td>22.096213</td>\n",
       "      <td>4.088424</td>\n",
       "      <td>14.63</td>\n",
       "      <td>19.12</td>\n",
       "      <td>20.8</td>\n",
       "      <td>25.03</td>\n",
       "      <td>32.70</td>\n",
       "    </tr>\n",
       "    <tr>\n",
       "      <th>TMax</th>\n",
       "      <td>163232.0</td>\n",
       "      <td>29.523859</td>\n",
       "      <td>5.381533</td>\n",
       "      <td>3.20</td>\n",
       "      <td>25.60</td>\n",
       "      <td>29.7</td>\n",
       "      <td>33.60</td>\n",
       "      <td>51.10</td>\n",
       "    </tr>\n",
       "  </tbody>\n",
       "</table>\n",
       "</div>"
      ],
      "text/plain": [
       "         count        mean       std     min     25%    50%    75%    max\n",
       "lon   163232.0 -101.183677  5.850757 -118.29 -104.37 -100.3 -98.16 -86.74\n",
       "lat   163232.0   22.096213  4.088424   14.63   19.12   20.8  25.03  32.70\n",
       "TMax  163232.0   29.523859  5.381533    3.20   25.60   29.7  33.60  51.10"
      ]
     },
     "execution_count": 12,
     "metadata": {},
     "output_type": "execute_result"
    }
   ],
   "source": [
    "max_temp_df.describe().T"
   ]
  },
  {
   "cell_type": "code",
   "execution_count": 13,
   "id": "7627c894",
   "metadata": {},
   "outputs": [
    {
     "data": {
      "text/html": [
       "<div>\n",
       "<style scoped>\n",
       "    .dataframe tbody tr th:only-of-type {\n",
       "        vertical-align: middle;\n",
       "    }\n",
       "\n",
       "    .dataframe tbody tr th {\n",
       "        vertical-align: top;\n",
       "    }\n",
       "\n",
       "    .dataframe thead th {\n",
       "        text-align: right;\n",
       "    }\n",
       "</style>\n",
       "<table border=\"1\" class=\"dataframe\">\n",
       "  <thead>\n",
       "    <tr style=\"text-align: right;\">\n",
       "      <th></th>\n",
       "      <th>count</th>\n",
       "      <th>mean</th>\n",
       "      <th>std</th>\n",
       "      <th>min</th>\n",
       "      <th>25%</th>\n",
       "      <th>50%</th>\n",
       "      <th>75%</th>\n",
       "      <th>max</th>\n",
       "    </tr>\n",
       "  </thead>\n",
       "  <tbody>\n",
       "    <tr>\n",
       "      <th>lon</th>\n",
       "      <td>163259.0</td>\n",
       "      <td>-101.182741</td>\n",
       "      <td>5.850468</td>\n",
       "      <td>-118.29</td>\n",
       "      <td>-104.37</td>\n",
       "      <td>-100.30</td>\n",
       "      <td>-98.15</td>\n",
       "      <td>-86.74</td>\n",
       "    </tr>\n",
       "    <tr>\n",
       "      <th>lat</th>\n",
       "      <td>163259.0</td>\n",
       "      <td>22.095040</td>\n",
       "      <td>4.087879</td>\n",
       "      <td>14.63</td>\n",
       "      <td>19.12</td>\n",
       "      <td>20.75</td>\n",
       "      <td>25.03</td>\n",
       "      <td>32.70</td>\n",
       "    </tr>\n",
       "    <tr>\n",
       "      <th>TMin</th>\n",
       "      <td>163259.0</td>\n",
       "      <td>15.095670</td>\n",
       "      <td>6.738888</td>\n",
       "      <td>-13.30</td>\n",
       "      <td>10.10</td>\n",
       "      <td>15.00</td>\n",
       "      <td>20.80</td>\n",
       "      <td>38.00</td>\n",
       "    </tr>\n",
       "  </tbody>\n",
       "</table>\n",
       "</div>"
      ],
      "text/plain": [
       "         count        mean       std     min     25%     50%    75%    max\n",
       "lon   163259.0 -101.182741  5.850468 -118.29 -104.37 -100.30 -98.15 -86.74\n",
       "lat   163259.0   22.095040  4.087879   14.63   19.12   20.75  25.03  32.70\n",
       "TMin  163259.0   15.095670  6.738888  -13.30   10.10   15.00  20.80  38.00"
      ]
     },
     "execution_count": 13,
     "metadata": {},
     "output_type": "execute_result"
    }
   ],
   "source": [
    "min_temp_df.describe().T"
   ]
  },
  {
   "cell_type": "markdown",
   "id": "fe86c114",
   "metadata": {},
   "source": [
    "Con lo anterior, confirmamos que nuestros datasets de precipitación y temperaturas son correctos."
   ]
  },
  {
   "cell_type": "markdown",
   "id": "0ecdfa9e",
   "metadata": {},
   "source": [
    "#### Información sobre el clima"
   ]
  },
  {
   "cell_type": "code",
   "execution_count": 14,
   "id": "424a2950",
   "metadata": {},
   "outputs": [],
   "source": [
    "# Year-Month es una columna planeada para hacer el match con las estaciones más cercanas a cada trampa registrada\n",
    "df = df.rename(columns={'year_month': 'year-month'})"
   ]
  },
  {
   "cell_type": "code",
   "execution_count": 15,
   "id": "73ee787d",
   "metadata": {},
   "outputs": [],
   "source": [
    "# Esta función nos ayudará a:\n",
    "# - Filtrar por año-mes las estaciones disponibles.\n",
    "# - Identificar la estación más cercana al usar la formular de Haversine (esta toma en cuenta la curvatura de la Tierra)\n",
    "# - Nuevamente usamos BallTree para hacer uso de funciones vectorizadas y no calcular la distancia por medio de ciclos\n",
    "\n",
    "\n",
    "def find_weather_station(df_samples, weather_df, value_col):\n",
    "    \n",
    "    results = []\n",
    "    \n",
    "    for ym, group in df_samples.groupby('year-month'):\n",
    "        \n",
    "        subset = weather_df[(weather_df['year-month'] == ym) & (weather_df[value_col].notna())]\n",
    "        \n",
    "        if subset.empty:\n",
    "            results.extend([np.nan] * len(group))\n",
    "            continue\n",
    "        \n",
    "        # Usamos BallTree para calcular la distancia, ya que este modelo está vectorizado\n",
    "        tree = BallTree(np.radians(subset[['lat', 'lon']].values), metric='haversine')\n",
    "        \n",
    "        # Obtenemos la distancia y elemento mas cercano\n",
    "        distances, indices = tree.query(np.radians(group[['lat', 'lon']].values), k=1)\n",
    "        nearest_values = subset.iloc[indices.flatten()][value_col].values\n",
    "        results.extend(nearest_values)\n",
    "\n",
    "    return np.array(results)"
   ]
  },
  {
   "cell_type": "code",
   "execution_count": 16,
   "id": "bad82ef0",
   "metadata": {},
   "outputs": [
    {
     "name": "stdout",
     "output_type": "stream",
     "text": [
      "Original: 827856 | Filtrado: 827856\n"
     ]
    }
   ],
   "source": [
    "# Aquí podemos definir de cuando a cuando filtrar nuestro DataSet para hacer experimentos rapidos\n",
    "# con cada tipo de modelo.\n",
    "\n",
    "df_filtered = df[(df['sampling_date'].dt.year >= 2014) & \n",
    "                 (df['sampling_date'].dt.year <= 2025)]\n",
    "\n",
    "print(f\"Original: {len(df)} | Filtrado: {len(df_filtered)}\")"
   ]
  },
  {
   "cell_type": "code",
   "execution_count": null,
   "id": "627ac9dc",
   "metadata": {},
   "outputs": [],
   "source": [
    "# Agregamos las columnas de temperatura y precipitacion a nuestro dataset. La idea principal es que \n",
    "# conocemos esto porque la SMN mantiene en su sitio web los valores históricos de precipitacion,\n",
    "# temperatura maxima, minima y promedio por estacion meteorologica, y como conocemos\n",
    "# la ubicacion de las estaciones y trampas, podemos ver cual es la estacion mas cercana y adjuntar esa\n",
    "# data a nuestro dataset.\n",
    "\n",
    "df_filtered['precipitation'] = find_weather_station(df_filtered, precipitation_df, 'precipitation(mm)')\n",
    "df_filtered['avg_temp'] = find_weather_station(df_filtered, avg_temp_df, 'TMed')\n",
    "df_filtered['max_temp'] = find_weather_station(df_filtered, max_temp_df, 'TMax')\n",
    "df_filtered['min_temp'] = find_weather_station(df_filtered, min_temp_df, 'TMin')\n",
    "\n",
    "\n",
    "# Debemos descomenttar la siguiente línea de código si queremos generar un archivo de Excel que incluya la informacion del clima.\n",
    "# df_filtered.to_excel('data_with_weather_information.xlsx', index= False )"
   ]
  },
  {
   "cell_type": "code",
   "execution_count": 3,
   "id": "82bb7c0c",
   "metadata": {},
   "outputs": [],
   "source": [
    "# Esta línea de código permite cargar la información lista con los aspectos de precipitacion y temperatura\n",
    "df_filtered = pd.read_excel('data_with_weather_information.xlsx')"
   ]
  },
  {
   "cell_type": "code",
   "execution_count": 4,
   "id": "03ac66ae",
   "metadata": {},
   "outputs": [
    {
     "name": "stdout",
     "output_type": "stream",
     "text": [
      "Porcentajes de presencia de severity_encoded:\n"
     ]
    },
    {
     "data": {
      "text/plain": [
       "severity_encoded\n",
       "1    62.650872\n",
       "0    35.207210\n",
       "2     1.990201\n",
       "3     0.151717\n",
       "Name: count, dtype: float64"
      ]
     },
     "execution_count": 4,
     "metadata": {},
     "output_type": "execute_result"
    }
   ],
   "source": [
    "# Confirmamos que tenemos un dataset desbalanceado\n",
    "\n",
    "print(\"Porcentajes de presencia de severity_encoded:\")\n",
    "df_filtered['severity_encoded'].value_counts() / len(df_filtered) * 100"
   ]
  },
  {
   "cell_type": "code",
   "execution_count": 5,
   "id": "6ecf2f05",
   "metadata": {},
   "outputs": [
    {
     "name": "stdout",
     "output_type": "stream",
     "text": [
      "Cantidad de casos con severidad alta del 2014 al 2024: 1146\n",
      "Cantidad de casos con severidad alta en el 2025: 110\n"
     ]
    }
   ],
   "source": [
    "print(f\"Cantidad de casos con severidad alta del 2014 al 2024: {len(df_filtered[(df_filtered['severity_encoded'] == 3) &(df_filtered['sampling_date'].dt.year < 2025)])}\")\n",
    "print(f\"Cantidad de casos con severidad alta en el 2025: {len(df_filtered[(df_filtered['severity_encoded'] == 3) &(df_filtered['sampling_date'].dt.year >= 2025)])}\")"
   ]
  },
  {
   "cell_type": "markdown",
   "id": "e19369e3",
   "metadata": {},
   "source": [
    "# RandomForest"
   ]
  },
  {
   "cell_type": "markdown",
   "id": "16ea9dcd",
   "metadata": {},
   "source": [
    "Durante la entrega del Avance 3, trabajamos con 2 modelos de regresión los cuales fueron `RandomForestRegressor` y `XGBoost`. Con esto, `RandomForestRegressor` tuvo mejores resultados, por lo que el primer modelo a implementar con la nueva información del clima será este mismo.\n",
    "\n",
    "En  este caso, como contamos con un dataset desbalanceado, haremos uso de la propiedad de `balanced_subsample` de `RandomForestClassifier`. Para esta implementación, generamos nuestros datasets de la siguiente manera:\n",
    "\n",
    "- `Train set`: los datos de 2014 a 2024.\n",
    "- `Test set`: los datos de 2025\n",
    "\n",
    "\n",
    "La idea de esto es predecir los casos de todo el año 2025, de manera que podamos comparar los resultados de cada modelo.\n",
    "\n",
    "Algo importante es que nuestro Sponsor, la CNIT, considera que solo debemos dar  importancia a la predicción de focos con una severidad o riesgo alto de infestación. Por lo tanto, nuestra clase objetivo de `severity_encoded` es la clase **`3`**."
   ]
  },
  {
   "cell_type": "code",
   "execution_count": null,
   "id": "6a7bddc4",
   "metadata": {},
   "outputs": [
    {
     "name": "stdout",
     "output_type": "stream",
     "text": [
      "Resultados para RandomForest:\n",
      "\n",
      "              precision    recall  f1-score   support\n",
      "\n",
      "           0       0.30      0.11      0.16     24445\n",
      "           1       0.76      0.93      0.84     82928\n",
      "           2       0.36      0.01      0.02      2544\n",
      "           3       0.40      0.86      0.55       110\n",
      "\n",
      "    accuracy                           0.72    110027\n",
      "   macro avg       0.46      0.48      0.39    110027\n",
      "weighted avg       0.65      0.72      0.67    110027\n",
      "\n"
     ]
    }
   ],
   "source": [
    "# Copiamos el dataframe con la información\n",
    "rf_df = df_filtered.copy()\n",
    "\n",
    "# Hacemos un encoding basico para State y Municipalidad\n",
    "for col in ['state', 'municipality']:\n",
    "    le = LabelEncoder()\n",
    "    rf_df[col] = le.fit_transform(rf_df[col])\n",
    "\n",
    "# Generamos la mascara para obtener los datos de antes del 2025 y del 2025 por separada\n",
    "train_mask = rf_df['sampling_date'].dt.year < 2025\n",
    "test_mask  = rf_df['sampling_date'].dt.year == 2025\n",
    "\n",
    "# Excluimos la variable objetivo (severity_encoded) y algunos unas variables o features que ya tenemos contenidos en nuestros\n",
    "# features creados. `capture_count` no podemos tomarlo en cuenta porque se relaciona directamente con la severidad.\n",
    "exclude_cols = [\n",
    "    'severity_encoded','tramp_id', 'capture_count', \n",
    "    'month', 'year-month', 'sampling_date'\n",
    "]\n",
    "\n",
    "# Cargamos los features a tomar en cuenta (obviamos los features en exclude_cols)\n",
    "features = [col for col in rf_df.columns if col not in exclude_cols]\n",
    "\n",
    "# Generamos nuestro split de entrenamiento y test por medio de las mascaras train_mask y test_mask\n",
    "X_train, y_train = rf_df.loc[train_mask, features], rf_df.loc[train_mask, 'severity_encoded'] # El train dataset es la data historica de 2014 a 2024\n",
    "X_test,  y_test  = rf_df.loc[test_mask,  features], rf_df.loc[test_mask,  'severity_encoded'] # El test dataset es la data a partir de 2025\n",
    "\n",
    "# Definimos algunos hiperparámetros para RandomForestClassifier\n",
    "rf_model = RandomForestClassifier(\n",
    "    n_estimators=300,\n",
    "    max_depth=25,\n",
    "    min_samples_split=4,\n",
    "    min_samples_leaf=2,\n",
    "    class_weight='balanced_subsample',\n",
    "    random_state=42,\n",
    "    n_jobs=-1\n",
    ")\n",
    "\n",
    "# Hacemos fit del modelo\n",
    "rf_model.fit(X_train, y_train)\n",
    "\n",
    "# Predecimos sobre el dataset de prueba o test\n",
    "y_pred = rf_model.predict(X_test)\n",
    "\n",
    "# Mostramos los resultados\n",
    "print(\"Resultados para RandomForest:\\n\")\n",
    "print(classification_report(y_test, y_pred))\n",
    "\n",
    "y_pred_proba_rf  = rf_model.predict_proba(X_test)"
   ]
  },
  {
   "cell_type": "markdown",
   "id": "7b640dd0",
   "metadata": {},
   "source": [
    "`RandomForestClassifier` se tardó 1 minuto y 15 segundos en generar un modelo útil. Algo importante de notar con este modelo es lo siguiente:\n",
    "\n",
    "- La clase a predecir (`3`) tiene un `recall` bastante bueno a pesar de que la cantidad de muestras en el train y test set con esta clasificación es bastante baja. Esto quiere decir que nuestro modelo sabe reconocer casos verdaderos positivos de forma casi perfecta.\n",
    "- Al inspeccionar la métrica `precision`, notamos que para la clase objetivo esta es pobre. Esto quiere decir que solo el 35% de los casos predecidos para el label `3` es correcto.\n",
    "- Nuestro `f1 score` indica que, a pesar de nuestro recall alto, tenemos un balance entre leve a moderado entre nuestras métricas `precision` y `recall`.\n",
    "- Es importante notar que nuestro modelo falla completamente en identificar la clase `2`, mientras que un éxito moderado al identificar la clase `1` y un éxito bastante pobre al predecir la clase `0`.\n",
    "- En nuestro caso, el `accuracy` no es una métrica confiable ya que aunque nuestro modelo prediga el 100% de las veces que se tiene un escenario de clase `1` (algo que es imposible), estaría correcto el 62% de las veces ya que existe un desbalance en nuestro dataset.\n",
    "\n",
    "En general, este modelo podría generar muchas falsas alertas sobre posibles focos de infestación, lo que tendría su ventaja en ser un modelo bastante preventivo pero a su vez podría generar más costos de operación al predecir falsamente brotes de infestación severos."
   ]
  },
  {
   "cell_type": "markdown",
   "id": "850f9291",
   "metadata": {},
   "source": [
    "# Con `XGBoost`"
   ]
  },
  {
   "cell_type": "markdown",
   "id": "3c239181",
   "metadata": {},
   "source": [
    "Para XGBoost haremos uso de los mismos train y test dataset que los que definimos para `RandomForestClassifier`. Usaremos también la versión compatible con nuestra GPU para que el modelo se entrene más rápido.\n",
    "\n",
    "Debemos mencionar que para este modelo, hicimos uso de la variable `class_weights` para darle más peso o relevancia a las clases minoritarias."
   ]
  },
  {
   "cell_type": "code",
   "execution_count": 23,
   "id": "0bc721cd",
   "metadata": {},
   "outputs": [
    {
     "name": "stdout",
     "output_type": "stream",
     "text": [
      "Resultados para XGBoost (version GPU):\n",
      "              precision    recall  f1-score   support\n",
      "\n",
      "           0       0.26      0.22      0.24     24445\n",
      "           1       0.76      0.77      0.77     82928\n",
      "           2       0.13      0.26      0.17      2544\n",
      "           3       0.32      0.91      0.48       110\n",
      "\n",
      "    accuracy                           0.64    110027\n",
      "   macro avg       0.37      0.54      0.41    110027\n",
      "weighted avg       0.64      0.64      0.64    110027\n",
      "\n"
     ]
    }
   ],
   "source": [
    "# Copiamos el dataframe con la información\n",
    "xg_df = df_filtered.copy()\n",
    "\n",
    "# Hacemos un encoding basico para State y Municipalidad\n",
    "for col in ['state', 'municipality']:\n",
    "    le = LabelEncoder()\n",
    "    xg_df[col] = le.fit_transform(xg_df[col])\n",
    "\n",
    "# Generamos la mascara para obtener los datos de antes del 2025 y del 2025 por separada\n",
    "train_mask = xg_df['sampling_date'].dt.year < 2025\n",
    "test_mask  = xg_df['sampling_date'].dt.year == 2025\n",
    "\n",
    "# Excluimos la variable objetivo (severity_encoded) y algunos unas variables o features que ya tenemos contenidos en nuestros\n",
    "# features creados. `capture_count` no podemos tomarlo en cuenta porque se relaciona directamente con la severidad.\n",
    "exclude_cols = [\n",
    "    'severity_encoded','tramp_id', 'capture_count', \n",
    "    'month', 'year-month', 'sampling_date'\n",
    "]\n",
    "\n",
    "# Cargamos los features a tomar en cuenta (obviamos los features en exclude_cols)\n",
    "features = [col for col in xg_df.columns if col not in exclude_cols]\n",
    "\n",
    "# Generamos nuestro split de entrenamiento y test por medio de las mascaras train_mask y test_mask\n",
    "X_train, y_train = xg_df.loc[train_mask, features], xg_df.loc[train_mask, 'severity_encoded'] # El train dataset es la data historica de 2014 a 2024\n",
    "X_test,  y_test  = xg_df.loc[test_mask,  features], xg_df.loc[test_mask,  'severity_encoded'] # El test dataset es la data a partir de 2025\n",
    "\n",
    "\n",
    "class_counts = y_train.value_counts().sort_index()\n",
    "num_classes = len(class_counts)\n",
    "total = len(y_train)\n",
    "class_weights = {i: total / (num_classes * count) for i, count in class_counts.items()}\n",
    "\n",
    "weights = y_train.map(class_weights)\n",
    "\n",
    "xgb_model = XGBClassifier(\n",
    "    tree_method='hist',\n",
    "    device='cuda',\n",
    "    objective='multi:softprob',\n",
    "    eval_metric='mlogloss',\n",
    "    n_estimators=300,\n",
    "    max_depth=10,\n",
    "    learning_rate=0.0001,\n",
    "    subsample=0.8,\n",
    "    colsample_bytree=0.8,\n",
    "    random_state=42\n",
    ")\n",
    "\n",
    "xgb_model.fit(X_train, y_train, sample_weight=weights)\n",
    "\n",
    "y_pred = xgb_model.predict(X_test)\n",
    "\n",
    "print(\"Resultados para XGBoost (version GPU):\")\n",
    "print(classification_report(y_test, y_pred))\n",
    "\n",
    "y_pred_proba_xgb = xgb_model.predict_proba(X_test)"
   ]
  },
  {
   "cell_type": "markdown",
   "id": "103a9cf2",
   "metadata": {},
   "source": [
    "Al usar la versión de GPU de XGBoost, el modelo tomó 30 segundos de entrenamiento. Esto es una mejora de más del doble de velocidad respecto a `RandomForestClassifier`. Con esto, notamos los siguientes resultados:\n",
    "\n",
    "- La `precision` de este modelo es un poco peor respecto que lo obtenido por `RandomForestClassifier` para la `clase 3`. Esto indica que de las predicciones hechas como clase `3`, solo el 32% de las mismas fue correcta.\n",
    "- El `recall` sigue siendo bastante alto, lo que quiere decir que el modelo capturó correctamente los verdaderos positivos de la clase `3`.\n",
    "- Notamos que la `accuracy` es peor que la de `RandomForestClassifier`, pero a su vez vemos que este modelo hizo un mejor trabajo en reconocer la clase `2`, aunque tiene un peor desempeño para reconocer las clases `0` y `1`.\n",
    "\n",
    "Al igual que `RandomForestClassifier`, notamos que `XGBoost` es un modelo que podría generar muchas falsas alertas sobre brotes de infestación altos. A pesar de esto, es un modelo más flexible en cuanto a la predicción de todas las clases en general y no solo de las clases `3` y `1`."
   ]
  },
  {
   "cell_type": "markdown",
   "id": "95a0ba5d",
   "metadata": {},
   "source": [
    "# `DecisionTree`"
   ]
  },
  {
   "cell_type": "code",
   "execution_count": 25,
   "id": "2bbea466",
   "metadata": {},
   "outputs": [
    {
     "name": "stdout",
     "output_type": "stream",
     "text": [
      "Resultados DecisionTree:\n",
      "              precision    recall  f1-score   support\n",
      "\n",
      "           0      0.234     0.203     0.217     24445\n",
      "           1      0.756     0.778     0.767     82928\n",
      "           2      0.056     0.060     0.058      2544\n",
      "           3      0.079     0.536     0.138       110\n",
      "\n",
      "    accuracy                          0.634    110027\n",
      "   macro avg      0.281     0.394     0.295    110027\n",
      "weighted avg      0.623     0.634     0.628    110027\n",
      "\n"
     ]
    }
   ],
   "source": [
    "dt_df = df_filtered.copy()\n",
    "\n",
    "for col in ['state', 'municipality']:\n",
    "    le = LabelEncoder()\n",
    "    dt_df[col] = le.fit_transform(dt_df[col])\n",
    "\n",
    "train_mask = dt_df['sampling_date'].dt.year < 2025\n",
    "test_mask  = dt_df['sampling_date'].dt.year == 2025\n",
    "\n",
    "exclude_cols = [\n",
    "    'severity_encoded','tramp_id', 'capture_count', \n",
    "    'month', 'year-month', 'sampling_date'\n",
    "]\n",
    "\n",
    "features = [col for col in dt_df.columns if col not in exclude_cols]\n",
    "\n",
    "X_train, y_train = dt_df.loc[train_mask, features], dt_df.loc[train_mask, 'severity_encoded'] # El train dataset es la data historica de 2014 a 2024\n",
    "X_test,  y_test  = dt_df.loc[test_mask,  features], dt_df.loc[test_mask,  'severity_encoded'] # El test dataset es la data a partir de 2025\n",
    "\n",
    "dt = DecisionTreeClassifier(\n",
    "    criterion= 'entropy',        \n",
    "    max_depth=10,          \n",
    "    min_samples_split=4,\n",
    "    min_samples_leaf=4,\n",
    "    class_weight='balanced',\n",
    "    random_state=42,\n",
    "    max_features= 'log2'\n",
    ")\n",
    "\n",
    "dt.fit(X_train, y_train)\n",
    "\n",
    "y_pred = dt.predict(X_test)\n",
    "\n",
    "print(\"Resultados DecisionTree:\")\n",
    "print(classification_report(y_test, y_pred, digits=3))\n",
    "\n",
    "y_pred_proba_dt  = dt.predict_proba(X_test)"
   ]
  },
  {
   "cell_type": "markdown",
   "id": "645c91f7",
   "metadata": {},
   "source": [
    "`DecisionTree` es el modelo más rápido de entrenar, ya que tomó solamente 2 segundos y obtuvimos resultados similares a `XGBoost` y `RandomForestClassifier`. Con esto, el resumen de resultados es el siguiente:\n",
    "\n",
    "- Nuevamente notamos que las clases `0` y `2` tienen mejores resultados que con `RandomForestClassifier` y valores parecidos a `XGBoost`. Esto sugiere que este modelo, que tardó menos en entrenarse, podría ser el candidato a optimizar.\n",
    "- Afuera de esto, la clase objetivo (`3`) muestra que capturamos el 36% de casos por medio de la `precision`, entre los cuales se incluyen el 98% de casos reales. Esto quiere decir que el modelo también será un generador de alertas falsas, que operativamente podría generar más costos pero a largo plazo podría ser mejor para evitar brotes de infestaciones severas del gorgojo.\n",
    "- El `accuracy` fue más bajo que `RandomForestClassifier` y mayor que `XGBoost`, pero este siempre puede ser engañoso ya que tenemos un dataset desbalanceado.\n",
    "- Para la clase `2`, vemos que es el modelo que peor la predice hasta este punto en el notebook."
   ]
  },
  {
   "cell_type": "markdown",
   "id": "58fa605a",
   "metadata": {},
   "source": [
    "# Perceptrón (MLP)"
   ]
  },
  {
   "cell_type": "markdown",
   "id": "2828552e",
   "metadata": {},
   "source": [
    "Para el modelo de MLP, cambiaremos un poco la estrategia:\n",
    "\n",
    "- Codificaremos los estados con OneHot encoding, ya que ésto no afecta el rendimiento del modelo.\n",
    "- Configuraremos distintos pesos para las distintas clases objetivo (0, 1, 2 y 3), de forma que la red neuronal entienda que confundirse en predecir las clases minoritarias es peor que confundirse en las clases mayoritarias.\n",
    "- Configuraremos el modelo para detenerse al no mejorar las predicciones por 20 pasos forward y backward seguidos.\n",
    "- Escalaremos los valores numéricos para evitar overfitting o darle demasiada importancia solo a ciertos features \n",
    "  - `distance_to_nearest_hotspot` podría tomar demasiada relevancia, al tener un valor maximo de 999 al no encontrar hotspots cercanos en los últimos 15 días."
   ]
  },
  {
   "cell_type": "code",
   "execution_count": 26,
   "id": "afd583fe",
   "metadata": {},
   "outputs": [
    {
     "name": "stdout",
     "output_type": "stream",
     "text": [
      "Entrenando el chunk 1\n"
     ]
    },
    {
     "name": "stderr",
     "output_type": "stream",
     "text": [
      "d:\\Python_Envs\\torch311\\Lib\\site-packages\\sklearn\\neural_network\\_multilayer_perceptron.py:781: ConvergenceWarning: Stochastic Optimizer: Maximum iterations (50) reached and the optimization hasn't converged yet.\n",
      "  warnings.warn(\n"
     ]
    },
    {
     "name": "stdout",
     "output_type": "stream",
     "text": [
      "Entrenando el chunk 2\n",
      "Entrenando el chunk 3\n",
      "Entrenando el chunk 4\n",
      "Entrenando el chunk 5\n",
      "Entrenando el chunk 6\n",
      "Resultados para MLP:\n",
      "\n",
      "              precision    recall  f1-score   support\n",
      "\n",
      "           0       0.61      0.65      0.63     58293\n",
      "           1       0.77      0.49      0.60    103733\n",
      "           2       0.05      0.43      0.09      3295\n",
      "           3       0.03      0.79      0.05       251\n",
      "\n",
      "    accuracy                           0.55    165572\n",
      "   macro avg       0.36      0.59      0.34    165572\n",
      "weighted avg       0.70      0.55      0.60    165572\n",
      "\n"
     ]
    }
   ],
   "source": [
    "split_date = pd.Timestamp('2025-01-01')\n",
    "\n",
    "train_df = df_filtered[df_filtered['sampling_date'] < split_date].copy()\n",
    "test_df  = df_filtered[df_filtered['sampling_date'] >= split_date].copy()\n",
    "\n",
    "\n",
    "X = df_filtered.drop(columns=['severity_encoded','tramp_id', 'capture_count', 'month', 'year-month', 'sampling_date'])\n",
    "y = df_filtered['severity_encoded']\n",
    "\n",
    "\n",
    "le = LabelEncoder()\n",
    "X['municipality_encoded'] = le.fit_transform(X['municipality'].astype(str))\n",
    "\n",
    "ohe = OneHotEncoder(sparse_output=False, drop='first', handle_unknown='ignore')\n",
    "state_encoded = ohe.fit_transform(X[['state']])\n",
    "\n",
    "state_encoded_df = pd.DataFrame(\n",
    "    state_encoded,\n",
    "    columns=ohe.get_feature_names_out(['state']),\n",
    "    index=X.index\n",
    ")\n",
    "\n",
    "X = X.drop(['state', 'municipality'], axis=1)\n",
    "\n",
    "X_encoded = pd.concat([X, state_encoded_df], axis=1)\n",
    "\n",
    "X_train, X_valid, y_train, y_valid = train_test_split(\n",
    "    X_encoded, y, test_size=0.2, stratify=y, random_state=42\n",
    ")\n",
    "\n",
    "scaler = MinMaxScaler()\n",
    "X_train_scaled = scaler.fit_transform(X_train)\n",
    "X_valid_scaled = scaler.transform(X_valid)\n",
    "\n",
    "# Cambiamos la resolucion de nuestros numeros para acelerar el entrenamiento del modelo MLP\n",
    "X_train_scaled = X_train_scaled.astype('float32')\n",
    "X_valid_scaled = X_valid_scaled.astype('float32')\n",
    "\n",
    "sample_weights = compute_sample_weight(class_weight='balanced', y=y_train)\n",
    "\n",
    "mlp = MLPClassifier(\n",
    "    hidden_layer_sizes=(128, 64, 16),\n",
    "    activation='relu',\n",
    "    solver='adam',\n",
    "    learning_rate_init=0.0001,\n",
    "    alpha=0.001,\n",
    "    batch_size=256,\n",
    "    max_iter=50,\n",
    "    early_stopping=True,\n",
    "    n_iter_no_change=20,\n",
    "    random_state=42,\n",
    "    warm_start=True,\n",
    "    validation_fraction=0.05\n",
    ")\n",
    "\n",
    "# Armamos un ciclo para asegurar que nuestro modelo MLP pueda\n",
    "# ver la mayoria de casos del test de entrenamiento.\n",
    "for i in range(6):\n",
    "    print(f\"Entrenando el chunk {i+1}\")\n",
    "    mlp.fit(X_train_scaled, y_train, sample_weight=sample_weights)\n",
    "\n",
    "y_pred = mlp.predict(X_valid_scaled)\n",
    "\n",
    "y_pred_proba_mlp = mlp.predict_proba(X_valid_scaled)\n",
    "\n",
    "print(\"Resultados para MLP:\\n\")\n",
    "print(classification_report(y_valid, y_pred))"
   ]
  },
  {
   "cell_type": "markdown",
   "id": "64429bc6",
   "metadata": {},
   "source": [
    "`MLP` tomó 25 minutos de entrenamiento, lo que hace el modelo más lento hasta ahora. Con esto, notamos que también tiene problemas para identificar la clase `2`, y al usar otro tipo de arquitectura sugiere que esta clase podría ser mucho más complicada de detectar que las otras 3 clases. Esto nos podría dar una idea de que la clase 2 puede ser un estado transitorio o bien, las características y patrones para esta clase son demasiado complejos.\n",
    "\n",
    "Ahora bien, el resumen de métricas es el siguiente:\n",
    "\n",
    "- Este modelo es el peor hasta el momento para identificar la clase `2`.\n",
    "- Este modelo es el peor para detectar la clase `3`.\n",
    "- `f1 score` sugiere que este modelo no tiene un balance entre predecir correctamente las clasificaciones y encontrar los verdaderos positivos dentro de nuestro dataset de test.\n",
    "- En sí, este modelo no será útil para alertar o predecir hacia dónde se debe dirigir el centro de operaciones de la CNIT para encontrar posibles brotes de infestación."
   ]
  },
  {
   "cell_type": "markdown",
   "id": "0b1ce6fe",
   "metadata": {},
   "source": [
    "# LightGBM"
   ]
  },
  {
   "cell_type": "markdown",
   "id": "2379a11d",
   "metadata": {},
   "source": [
    "`LightGBM` es un framework el cual utiliza algoritmos basados en árboles. De entrada, por los resultados anteriores, sabemos que probablemente tengamos un modelo que encontrará los verdaderos positivos de la clase objetivo, pero que probablemente se confunda menos al predecir la clase objetivo.\n",
    "\n",
    "Este algoritmo tiene la ventaja de poder  hacer uso de la GPU.\n",
    "\n",
    "Por último, utilizaremos un setup como en `RandomForestClassifier`, `XGBoost` y `DecisionTree`."
   ]
  },
  {
   "cell_type": "code",
   "execution_count": 27,
   "id": "2d19024f",
   "metadata": {},
   "outputs": [
    {
     "name": "stdout",
     "output_type": "stream",
     "text": [
      "Resultados para LightGBM:\n",
      "\n",
      "\n",
      "              precision    recall  f1-score   support\n",
      "\n",
      "           0      0.244     0.252     0.248     24445\n",
      "           1      0.759     0.702     0.729     82928\n",
      "           2      0.094     0.290     0.142      2544\n",
      "           3      0.396     0.991     0.566       110\n",
      "\n",
      "    accuracy                          0.593    110027\n",
      "   macro avg      0.373     0.559     0.421    110027\n",
      "weighted avg      0.629     0.593     0.609    110027\n",
      "\n"
     ]
    }
   ],
   "source": [
    "lgbm_df = df_filtered.copy()\n",
    "\n",
    "for col in ['state', 'municipality']:\n",
    "    le = LabelEncoder()\n",
    "    lgbm_df[col] = le.fit_transform(lgbm_df[col])\n",
    "    \n",
    "    \n",
    "categorical_features = ['municipality', 'state', 'critical_season' ]\n",
    "\n",
    "train_mask = lgbm_df['sampling_date'].dt.year < 2025\n",
    "test_mask  = lgbm_df['sampling_date'].dt.year == 2025\n",
    "\n",
    "exclude_cols = [\n",
    "    'severity_encoded','tramp_id', 'capture_count', \n",
    "    'month', 'year-month', 'sampling_date'\n",
    "]\n",
    "\n",
    "features = [col for col in lgbm_df.columns if col not in exclude_cols]\n",
    "\n",
    "X_train, y_train = lgbm_df.loc[train_mask, features], lgbm_df.loc[train_mask, 'severity_encoded'] # El train dataset es la data historica de 2014 a 2024\n",
    "X_test,  y_test  = lgbm_df.loc[test_mask,  features], lgbm_df.loc[test_mask,  'severity_encoded'] # El test dataset es la data a partir de 2025\n",
    "\n",
    "lgbm = LGBMClassifier(\n",
    "    boosting_type='gbdt', \n",
    "    objective='multiclass', \n",
    "    num_class=4,            \n",
    "    class_weight='balanced',\n",
    "    learning_rate=0.05,\n",
    "    n_estimators=200,\n",
    "    max_depth=-1,\n",
    "    num_leaves=31,\n",
    "    random_state=42,\n",
    "    device='gpu',\n",
    "    is_unbalance=True\n",
    ")\n",
    "\n",
    "lgbm.fit(X_train, y_train)\n",
    "\n",
    "\n",
    "y_pred = lgbm.predict(X_test, categorical_features=categorical_features)\n",
    "\n",
    "print(\"Resultados para LightGBM:\\n\\n\")\n",
    "print(classification_report(y_test, y_pred, digits=3))\n",
    "\n",
    "y_pred_proba_lgbm = lgbm.predict_proba(X_test)"
   ]
  },
  {
   "cell_type": "markdown",
   "id": "3318ca93",
   "metadata": {},
   "source": [
    "Con `LighGBM` esperamos alrededor de 18 segundos de entrenamiento al hacer uso de la GPU. También notamos que:\n",
    "\n",
    "- Cuando se predice la clase `3`, el modelo es correcto en el 40% de las veces.\n",
    "- De los casos predecidos como `3`, se incluye al 99% de verdaderos positivos.\n",
    "- Vemos un mejor desempeño en predecir la clase `2` respecto a `MLP`, pero un peor desempeño respecto a predecir esta misma clase respecto a `RandomForestClassifier`, `XGBoost` y `DecisionTree`.\n",
    "- El `F1 Score` obtenido es el mejor hasta el momento, lo que significa que tenemos el mejor balance entre `precision` y `recall` hasta el momento."
   ]
  },
  {
   "cell_type": "markdown",
   "id": "e274741d",
   "metadata": {},
   "source": [
    "# BalancedRandomForestClassifier"
   ]
  },
  {
   "cell_type": "markdown",
   "id": "2f3f78bf",
   "metadata": {},
   "source": [
    "Este clasificador se diferencia de `RandomForestClassifier` en lo siguiente:\n",
    "\n",
    "- Cada arbol que se entrenará se construye a partir de un train dataset que balancea las clases minoritarias. Esto significa que se crean muestras sintéticas de las clases reconocidas como minoritarias en nuestro dataset.\n",
    "\n",
    "Por lo anterior, para comparar el modelo, haremos  uso  del mismo preo-procesamiento que `RandomForestClassifier` y compararemos los resultados."
   ]
  },
  {
   "cell_type": "code",
   "execution_count": 28,
   "id": "2abb6a2a",
   "metadata": {},
   "outputs": [
    {
     "name": "stdout",
     "output_type": "stream",
     "text": [
      "Resultados para Balanced Random Forest:\n",
      "\n",
      "\n",
      "              precision    recall  f1-score   support\n",
      "\n",
      "           0      0.000     0.000     0.000     24445\n",
      "           1      0.754     0.999     0.860     82928\n",
      "           2      0.000     0.000     0.000      2544\n",
      "           3      0.408     0.445     0.426       110\n",
      "\n",
      "    accuracy                          0.754    110027\n",
      "   macro avg      0.291     0.361     0.321    110027\n",
      "weighted avg      0.569     0.754     0.648    110027\n",
      "\n"
     ]
    },
    {
     "name": "stderr",
     "output_type": "stream",
     "text": [
      "d:\\Python_Envs\\torch311\\Lib\\site-packages\\sklearn\\metrics\\_classification.py:1731: UndefinedMetricWarning: Precision is ill-defined and being set to 0.0 in labels with no predicted samples. Use `zero_division` parameter to control this behavior.\n",
      "  _warn_prf(average, modifier, f\"{metric.capitalize()} is\", result.shape[0])\n",
      "d:\\Python_Envs\\torch311\\Lib\\site-packages\\sklearn\\metrics\\_classification.py:1731: UndefinedMetricWarning: Precision is ill-defined and being set to 0.0 in labels with no predicted samples. Use `zero_division` parameter to control this behavior.\n",
      "  _warn_prf(average, modifier, f\"{metric.capitalize()} is\", result.shape[0])\n",
      "d:\\Python_Envs\\torch311\\Lib\\site-packages\\sklearn\\metrics\\_classification.py:1731: UndefinedMetricWarning: Precision is ill-defined and being set to 0.0 in labels with no predicted samples. Use `zero_division` parameter to control this behavior.\n",
      "  _warn_prf(average, modifier, f\"{metric.capitalize()} is\", result.shape[0])\n"
     ]
    }
   ],
   "source": [
    "from imblearn.ensemble import BalancedRandomForestClassifier\n",
    "\n",
    "# Copiamos el dataframe con la información\n",
    "bl_rf_df = df_filtered.copy()\n",
    "\n",
    "# Hacemos un encoding basico para State y Municipalidad\n",
    "for col in ['state', 'municipality']:\n",
    "    le = LabelEncoder()\n",
    "    bl_rf_df[col] = le.fit_transform(bl_rf_df[col])\n",
    "\n",
    "# Generamos la mascara para obtener los datos de antes del 2025 y del 2025 por separada\n",
    "train_mask = bl_rf_df['sampling_date'].dt.year < 2025\n",
    "test_mask  = bl_rf_df['sampling_date'].dt.year == 2025\n",
    "\n",
    "# Excluimos la variable objetivo (severity_encoded) y algunos unas variables o features que ya tenemos contenidos en nuestros\n",
    "# features creados. `capture_count` no podemos tomarlo en cuenta porque se relaciona directamente con la severidad.\n",
    "exclude_cols = [\n",
    "    'severity_encoded','tramp_id', 'capture_count', \n",
    "    'month', 'year', 'year-month', 'sampling_date'\n",
    "]\n",
    "\n",
    "# Cargamos los features a tomar en cuenta (obviamos los features en exclude_cols)\n",
    "features = [col for col in bl_rf_df.columns if col not in exclude_cols]\n",
    "\n",
    "# Generamos nuestro split de entrenamiento y test por medio de las mascaras train_mask y test_mask\n",
    "X_train, y_train = bl_rf_df.loc[train_mask, features], bl_rf_df.loc[train_mask, 'severity_encoded'] # El train dataset es la data historica de 2014 a 2024\n",
    "X_test,  y_test  = bl_rf_df.loc[test_mask,  features], bl_rf_df.loc[test_mask,  'severity_encoded'] # El test dataset es la data a partir de 2025\n",
    "\n",
    "\n",
    "brf_model = BalancedRandomForestClassifier(\n",
    "    criterion = 'entropy',\n",
    "    max_features='log2',\n",
    "    n_estimators=100,\n",
    "    max_depth=10,\n",
    "    min_samples_split=4,\n",
    "    min_samples_leaf=4,\n",
    "    sampling_strategy= 'not majority',\n",
    "    random_state=42,\n",
    "    n_jobs=-1\n",
    ")\n",
    "\n",
    "brf_model.fit(X_train, y_train)\n",
    "\n",
    "y_pred = brf_model.predict(X_test)\n",
    "print(\"Resultados para Balanced Random Forest:\\n\\n\")\n",
    "print(classification_report(y_test, y_pred, digits=3))"
   ]
  },
  {
   "cell_type": "markdown",
   "id": "ff618da8",
   "metadata": {},
   "source": [
    "Con los resultados anteriores, notamos que `BalancedRandomForestClassifier` tiene la mejor `precision`, pero el peor `recall` y el peor rendimiento hasta el momento. Esto lo sabemos de inmediato porque el modelo solo hace 2 cosas:\n",
    "\n",
    "- Clasifica los registros como `1` o `3`, pero ninguno como perteneciente a la clase `0` o `2`.\n",
    "\n",
    "Por lo tanto, este modelo  no vale la pena seguirlo probando ya que notamos que, aunque tiene el mejor accuracy hasta el momento, esto lo logra clasificando casi todo con un label de `1`. En esencia este modelo convirtió nuestro dataset en un problema binario."
   ]
  },
  {
   "cell_type": "markdown",
   "id": "f89f8503",
   "metadata": {},
   "source": [
    "# Catboost"
   ]
  },
  {
   "cell_type": "code",
   "execution_count": 29,
   "id": "4acc5e19",
   "metadata": {},
   "outputs": [
    {
     "name": "stdout",
     "output_type": "stream",
     "text": [
      "0:\tlearn: 0.6775412\ttest: 0.5753067\tbest: 0.5753067 (0)\ttotal: 198ms\tremaining: 3m 18s\n",
      "200:\tlearn: 0.7040554\ttest: 0.6068382\tbest: 0.6074571 (192)\ttotal: 37.5s\tremaining: 2m 29s\n",
      "400:\tlearn: 0.7157057\ttest: 0.6140806\tbest: 0.6147831 (349)\ttotal: 1m 13s\tremaining: 1m 50s\n",
      "600:\tlearn: 0.7286127\ttest: 0.6174413\tbest: 0.6174413 (600)\ttotal: 1m 51s\tremaining: 1m 14s\n",
      "800:\tlearn: 0.7395352\ttest: 0.6218048\tbest: 0.6218458 (793)\ttotal: 2m 29s\tremaining: 37.2s\n",
      "999:\tlearn: 0.7503166\ttest: 0.6228211\tbest: 0.6235251 (874)\ttotal: 3m 9s\tremaining: 0us\n",
      "bestTest = 0.6235250866\n",
      "bestIteration = 874\n",
      "Shrink model to first 875 iterations.\n",
      "\n",
      "\n",
      "Resultados para CatBoost:\n",
      "\n",
      "              precision    recall  f1-score   support\n",
      "\n",
      "           0       0.30      0.36      0.33     24445\n",
      "           1       0.78      0.68      0.73     82928\n",
      "           2       0.07      0.25      0.11      2544\n",
      "           3       0.24      0.97      0.39       110\n",
      "\n",
      "    accuracy                           0.60    110027\n",
      "   macro avg       0.35      0.56      0.39    110027\n",
      "weighted avg       0.66      0.60      0.62    110027\n",
      "\n"
     ]
    }
   ],
   "source": [
    "from catboost import CatBoostClassifier, Pool\n",
    "\n",
    "# Copiamos el dataframe con la información\n",
    "cb_df = df_filtered.copy()\n",
    "\n",
    "# Hacemos un encoding basico para State y Municipalidad\n",
    "for col in ['state', 'municipality']:\n",
    "    le = LabelEncoder()\n",
    "    cb_df[col] = le.fit_transform(cb_df[col])\n",
    "\n",
    "# Generamos la mascara para obtener los datos de antes del 2025 y del 2025 por separada\n",
    "train_mask = cb_df['sampling_date'].dt.year < 2025\n",
    "test_mask  = cb_df['sampling_date'].dt.year == 2025\n",
    "\n",
    "# Excluimos la variable objetivo (severity_encoded) y algunos unas variables o features que ya tenemos contenidos en nuestros\n",
    "# features creados. `capture_count` no podemos tomarlo en cuenta porque se relaciona directamente con la severidad.\n",
    "exclude_cols = [\n",
    "    'severity_encoded','tramp_id', 'capture_count', \n",
    "    'month', 'year', 'year-month', 'sampling_date',\n",
    "]\n",
    "\n",
    "# Cargamos los features a tomar en cuenta (obviamos los features en exclude_cols)\n",
    "features = [col for col in cb_df.columns if col not in exclude_cols]\n",
    "\n",
    "# Generamos nuestro split de entrenamiento y test por medio de las mascaras train_mask y test_mask\n",
    "X_train, y_train = cb_df.loc[train_mask, features], cb_df.loc[train_mask, 'severity_encoded'] # El train dataset es la data historica de 2014 a 2024\n",
    "X_test,  y_test  = cb_df.loc[test_mask,  features], cb_df.loc[test_mask,  'severity_encoded'] # El test dataset es la data a partir de 2025\n",
    "\n",
    "\n",
    "cat_model = CatBoostClassifier(\n",
    "    iterations=1000,                \n",
    "    learning_rate=0.005,            \n",
    "    depth=12,                      \n",
    "    loss_function='MultiClass',    \n",
    "    eval_metric='TotalF1',         \n",
    "    auto_class_weights='Balanced', \n",
    "    random_seed=42,\n",
    "    task_type='GPU',               \n",
    "    verbose=200\n",
    ")\n",
    "\n",
    "categorical_cols = ['state', 'municipality']\n",
    "\n",
    "cat_model.fit(\n",
    "    X_train,\n",
    "    y_train,\n",
    "    cat_features=categorical_cols if 'categorical_cols' in locals() else None,\n",
    "    eval_set=(X_test, y_test),\n",
    "    use_best_model=True,\n",
    "    sample_weight=weights\n",
    ")\n",
    "\n",
    "y_pred = cat_model.predict(X_test)\n",
    "y_pred = y_pred.flatten()\n",
    "\n",
    "print(\"\\n\\nResultados para CatBoost:\\n\")\n",
    "print(classification_report(y_test, y_pred))\n",
    "\n",
    "y_proba_cb = cat_model.predict_proba(X_test)"
   ]
  },
  {
   "cell_type": "markdown",
   "id": "84d5c4cb",
   "metadata": {},
   "source": [
    "# Algunos modelos junto a SMOTENC"
   ]
  },
  {
   "cell_type": "markdown",
   "id": "feae819d",
   "metadata": {},
   "source": [
    "Debido a que tenemos un problema de clases desbalanceadas, haremos un test rápido con SMOTENC para confirmar si la aplicación de esta técnica podría ayudarnos en mejorar nuestros modelos.\n",
    "\n",
    "Esto nos ayuda a tener una idea general y prototipado accesible antes de correr SMOTENC en nuestro  dataset completo (al tener más de 700,000 muestras, podría llevar horas la creación de muestras sintéticas)."
   ]
  },
  {
   "cell_type": "code",
   "execution_count": 22,
   "id": "acb7702d",
   "metadata": {},
   "outputs": [],
   "source": [
    "lgbm_df = df_filtered.copy()\n",
    "\n",
    "for col in ['state', 'municipality']:\n",
    "    le = LabelEncoder()\n",
    "    lgbm_df[col] = le.fit_transform(lgbm_df[col])\n",
    "\n",
    "train_mask = (lgbm_df['sampling_date'].dt.year < 2025) & (lgbm_df['sampling_date'].dt.year >= 2024)\n",
    "test_mask  = lgbm_df['sampling_date'].dt.year == 2025\n",
    "\n",
    "exclude_cols = [\n",
    "    'severity_encoded','tramp_id', 'capture_count', \n",
    "    'month', 'year', 'year-month', 'sampling_date',\n",
    "]\n",
    "\n",
    "features = [col for col in lgbm_df.columns if col not in exclude_cols]\n",
    "\n",
    "X_train, y_train = lgbm_df.loc[train_mask, features], lgbm_df.loc[train_mask, 'severity_encoded'] # El train dataset es la data historica de 2014 a 2024\n",
    "X_test,  y_test  = lgbm_df.loc[test_mask,  features], lgbm_df.loc[test_mask,  'severity_encoded'] # El test dataset es la data a partir de 2025"
   ]
  },
  {
   "cell_type": "code",
   "execution_count": 23,
   "id": "bb1fc446",
   "metadata": {},
   "outputs": [],
   "source": [
    "categorical_features = [\n",
    "    X_train.columns.get_loc(col)\n",
    "    for col in ['municipality', 'state', 'critical_season' ]\n",
    "]\n",
    "\n",
    "smote_nc = SMOTENC(\n",
    "    categorical_features=categorical_features,\n",
    "    random_state=42,\n",
    "    sampling_strategy='auto'\n",
    ")\n",
    "\n",
    "X_resampled, y_resampled = smote_nc.fit_resample(X_train, y_train)"
   ]
  },
  {
   "cell_type": "code",
   "execution_count": 24,
   "id": "c8a2f419",
   "metadata": {},
   "outputs": [
    {
     "name": "stdout",
     "output_type": "stream",
     "text": [
      "Antes de SMOTENC:\n",
      "severity_encoded\n",
      "1    0.708977\n",
      "0    0.273475\n",
      "2    0.016081\n",
      "3    0.001468\n",
      "Name: proportion, dtype: float64\n",
      "\n",
      "Despues de SMOTENC:\n",
      "severity_encoded\n",
      "1    0.25\n",
      "0    0.25\n",
      "2    0.25\n",
      "3    0.25\n",
      "Name: proportion, dtype: float64\n"
     ]
    }
   ],
   "source": [
    "print(\"Antes de SMOTENC:\")\n",
    "print(y_train.value_counts(normalize=True))\n",
    "\n",
    "print(\"\\nDespues de SMOTENC:\")\n",
    "print(pd.Series(y_resampled).value_counts(normalize=True))"
   ]
  },
  {
   "cell_type": "code",
   "execution_count": 25,
   "id": "dd319cfa",
   "metadata": {},
   "outputs": [
    {
     "name": "stdout",
     "output_type": "stream",
     "text": [
      "Resultados para RandomForest con SMOTENC:\n",
      "\n",
      "              precision    recall  f1-score   support\n",
      "\n",
      "           0       0.28      0.48      0.35     24445\n",
      "           1       0.79      0.63      0.70     82928\n",
      "           2       0.04      0.01      0.02      2544\n",
      "           3       0.36      0.82      0.50       110\n",
      "\n",
      "    accuracy                           0.58    110027\n",
      "   macro avg       0.37      0.49      0.39    110027\n",
      "weighted avg       0.66      0.58      0.61    110027\n",
      "\n"
     ]
    }
   ],
   "source": [
    "# Definimos algunos hiperparámetros para RandomForestClassifier\n",
    "rf_model_with_smotenc = RandomForestClassifier(\n",
    "    n_estimators=300,\n",
    "    max_depth=25,\n",
    "    min_samples_split=4,\n",
    "    min_samples_leaf=2,\n",
    "    class_weight='balanced_subsample',\n",
    "    random_state=42,\n",
    "    n_jobs=-1\n",
    ")\n",
    "\n",
    "# Hacemos fit del modelo\n",
    "rf_model_with_smotenc.fit(X_resampled, y_resampled)\n",
    "\n",
    "# Predecimos sobre el dataset de prueba o test\n",
    "y_pred = rf_model_with_smotenc.predict(X_test)\n",
    "\n",
    "# Mostramos los resultados\n",
    "print(\"Resultados para RandomForest con SMOTENC:\\n\")\n",
    "print(classification_report(y_test, y_pred))"
   ]
  },
  {
   "cell_type": "code",
   "execution_count": 26,
   "id": "a2509039",
   "metadata": {},
   "outputs": [
    {
     "name": "stdout",
     "output_type": "stream",
     "text": [
      "Resultados para XGBoost (version GPU) con SMOTENC:\n",
      "              precision    recall  f1-score   support\n",
      "\n",
      "           0       0.26      0.48      0.34     24445\n",
      "           1       0.78      0.61      0.69     82928\n",
      "           2       0.06      0.02      0.03      2544\n",
      "           3       0.22      0.45      0.29       110\n",
      "\n",
      "    accuracy                           0.57    110027\n",
      "   macro avg       0.33      0.39      0.34    110027\n",
      "weighted avg       0.65      0.57      0.59    110027\n",
      "\n"
     ]
    }
   ],
   "source": [
    "class_counts = y_train.value_counts().sort_index()\n",
    "num_classes = len(class_counts)\n",
    "total = len(y_train)\n",
    "class_weights = {i: total / (num_classes * count) for i, count in class_counts.items()}\n",
    "\n",
    "weights = y_train.map(class_weights)\n",
    "\n",
    "xgb_model_with_smotenc = XGBClassifier(\n",
    "    tree_method='hist',\n",
    "    device='cuda',\n",
    "    objective='multi:softprob',\n",
    "    eval_metric='mlogloss',\n",
    "    n_estimators=300,\n",
    "    max_depth=10,\n",
    "    learning_rate=0.0001,\n",
    "    subsample=0.8,\n",
    "    colsample_bytree=0.8,\n",
    "    random_state=42\n",
    ")\n",
    "\n",
    "xgb_model_with_smotenc.fit(X_train, y_train, sample_weight=weights)\n",
    "\n",
    "y_pred = xgb_model_with_smotenc.predict(X_test)\n",
    "\n",
    "print(\"Resultados para XGBoost (version GPU) con SMOTENC:\")\n",
    "print(classification_report(y_test, y_pred))"
   ]
  },
  {
   "cell_type": "code",
   "execution_count": 27,
   "id": "517c975d",
   "metadata": {},
   "outputs": [
    {
     "name": "stdout",
     "output_type": "stream",
     "text": [
      "[LightGBM] [Info] This is the GPU trainer!!\n",
      "[LightGBM] [Info] Total Bins 4210\n",
      "[LightGBM] [Info] Number of data points in the train set: 137204, number of used features: 21\n",
      "[LightGBM] [Info] Using GPU Device: NVIDIA GeForce RTX 2070 SUPER, Vendor: NVIDIA Corporation\n",
      "[LightGBM] [Info] Compiling OpenCL Kernel with 256 bins...\n",
      "[LightGBM] [Info] GPU programs have been built\n",
      "[LightGBM] [Info] Size of histogram bin entry: 8\n",
      "[LightGBM] [Info] 19 dense feature groups (2.62 MB) transferred to GPU in 0.004550 secs. 1 sparse feature groups\n",
      "[LightGBM] [Info] Start training from score -1.386294\n",
      "[LightGBM] [Info] Start training from score -1.386294\n",
      "[LightGBM] [Info] Start training from score -1.386294\n",
      "[LightGBM] [Info] Start training from score -1.386294\n",
      "Resultados para LightGBM con SMOTENC:\n",
      "\n",
      "\n",
      "              precision    recall  f1-score   support\n",
      "\n",
      "           0      0.282     0.524     0.366     24445\n",
      "           1      0.795     0.609     0.689     82928\n",
      "           2      0.058     0.020     0.030      2544\n",
      "           3      0.315     0.627     0.419       110\n",
      "\n",
      "    accuracy                          0.576    110027\n",
      "   macro avg      0.363     0.445     0.376    110027\n",
      "weighted avg      0.663     0.576     0.602    110027\n",
      "\n"
     ]
    }
   ],
   "source": [
    "lgbm_with_smoteNC = LGBMClassifier(\n",
    "    boosting_type='gbdt', \n",
    "    objective='multiclass', \n",
    "    num_class=4,            \n",
    "    class_weight='balanced',\n",
    "    learning_rate=0.05,\n",
    "    n_estimators=200,\n",
    "    max_depth=-1,\n",
    "    num_leaves=31,\n",
    "    random_state=42,\n",
    "    device='gpu',\n",
    "    is_unbalance=True\n",
    ")\n",
    "\n",
    "lgbm_with_smoteNC.fit(X_resampled, y_resampled)\n",
    "\n",
    "\n",
    "y_pred = lgbm_with_smoteNC.predict(X_test)\n",
    "\n",
    "print(\"Resultados para LightGBM con SMOTENC:\\n\\n\")\n",
    "print(classification_report(y_test, y_pred, digits=3))"
   ]
  },
  {
   "cell_type": "code",
   "execution_count": 28,
   "id": "60f4e93b",
   "metadata": {},
   "outputs": [
    {
     "name": "stdout",
     "output_type": "stream",
     "text": [
      "Resultados DecisionTree con SMOTENC:\n",
      "              precision    recall  f1-score   support\n",
      "\n",
      "           0      0.269     0.570     0.365     24445\n",
      "           1      0.783     0.425     0.551     82928\n",
      "           2      0.046     0.235     0.077      2544\n",
      "           3      0.330     0.936     0.488       110\n",
      "\n",
      "    accuracy                          0.453    110027\n",
      "   macro avg      0.357     0.541     0.370    110027\n",
      "weighted avg      0.652     0.453     0.499    110027\n",
      "\n"
     ]
    }
   ],
   "source": [
    "dt_with_smotenc = DecisionTreeClassifier(\n",
    "    criterion= 'entropy',        \n",
    "    max_depth=10,          \n",
    "    min_samples_split=4,\n",
    "    min_samples_leaf=4,\n",
    "    class_weight='balanced',\n",
    "    random_state=42,\n",
    "    max_features= 'log2'\n",
    ")\n",
    "\n",
    "dt_with_smotenc.fit(X_resampled, y_resampled)\n",
    "\n",
    "y_pred = dt_with_smotenc.predict(X_test)\n",
    "\n",
    "print(\"Resultados DecisionTree con SMOTENC:\")\n",
    "print(classification_report(y_test, y_pred, digits=3))"
   ]
  },
  {
   "cell_type": "markdown",
   "id": "16b8f6ef",
   "metadata": {},
   "source": [
    "Entonces, acorde a lo publicado por (Elor & Averbuch, 2022), notamos que para modelos \"complejos\" como XGBoost, RandomForestClassifier y LightGBM el uso de SMOTENC no representó alguna mejora específica. Y en el caso de `DecisionTree` vemos un rendimiento parecido al obtenido sin necesidad de usar SMOTENC.\n",
    "\n",
    "Por lo tanto, concluimos que la estrategia de generar data sintética no es buena idea, sobre todo porque estamos trabajando con series de tiempo. "
   ]
  },
  {
   "cell_type": "markdown",
   "id": "dbb615d4",
   "metadata": {},
   "source": [
    "# Curvas AUC"
   ]
  },
  {
   "cell_type": "code",
   "execution_count": 30,
   "id": "7385803e",
   "metadata": {},
   "outputs": [
    {
     "data": {
      "image/png": "[encoded data removed]",
      "text/plain": [
       "<Figure size 1000x800 with 1 Axes>"
      ]
     },
     "metadata": {},
     "output_type": "display_data"
    }
   ],
   "source": [
    "from sklearn.metrics import roc_curve, auc, RocCurveDisplay\n",
    "from sklearn.preprocessing import label_binarize\n",
    "\n",
    "classes = sorted(y_test.unique())\n",
    "y_test_bin = label_binarize(y_test, classes=classes)\n",
    "\n",
    "\n",
    "\n",
    "plt.figure(figsize=(10, 8))\n",
    "\n",
    "models = {\n",
    "    'Random Forest': y_pred_proba_rf,\n",
    "    'Decision Tree': y_pred_proba_dt,\n",
    "    'XGBoost': y_pred_proba_xgb,\n",
    "    'LightGBM': y_pred_proba_lgbm,\n",
    "    'CatBoost': y_proba_cb\n",
    "}\n",
    "\n",
    "for model_name, y_score in models.items():\n",
    "    fpr, tpr, _ = roc_curve(y_test_bin.ravel(), y_score.ravel())\n",
    "    roc_auc = auc(fpr, tpr)\n",
    "    plt.plot(fpr, tpr, lw=2, label=f'{model_name} (AUC = {roc_auc:.3f})')\n",
    "\n",
    "plt.plot([0, 1], [0, 1], 'k--', lw=1)\n",
    "plt.xlabel('Rate de falsos positivos')\n",
    "plt.ylabel('Rate de verdaderos positivos')\n",
    "plt.title('ROC–AUC')\n",
    "plt.legend(loc='lower right')\n",
    "plt.show()"
   ]
  },
  {
   "cell_type": "markdown",
   "id": "a77c50a5",
   "metadata": {},
   "source": [
    "Usando las curvas anteriores, notamos que `RandomForest`, `XGBoost`, `LightGBM` y `CatBoost` son bastante estables; esto no es de extrañarse ya que durante los entrenamientos de nuestros modelos fue posible apreciar que los que estuvieron basados en árboles tendieron a tener un mejor desempeño.\n",
    "\n",
    "En este diagrama no tomamos en cuenta a `MLP` y tampoco a `BalancedForestClassifier` ya que no tuvieron buenos resultados para detectar la `Clase Objetivo (3)`."
   ]
  },
  {
   "cell_type": "markdown",
   "id": "b7ed0f97",
   "metadata": {},
   "source": [
    "# Selección de modelos y Fine-Tuning"
   ]
  },
  {
   "cell_type": "markdown",
   "id": "36c8127f",
   "metadata": {},
   "source": [
    "Revisando los desempeños de los modelos anteriores, notamos lo siguiente:\n",
    "\n",
    "- `RandomForestClassifier` ignora por completo la Clase `2`, pero es quien mejor predice la Clase `1` y uno de los mejores modelos para encontrar verdaderos positivos de la Clase `3`. Por medio de las curvas AUC-ROC notamos que el modelo es bastante estable, pero esto podría deberse al desbalance en nuestra distribución de clasificaciones ya que fue el que mejor desempeño tuvo respecto a detectarla. La `precision` de RandomForest sobre la clase objetivo es de las mejores respecto a los otros modelos.\n",
    "\n",
    "- XGBoost tuvo un resultado bastante parecido a `RandomForestClassifier`, con la diferencia de que detecta de mejor manera la clase `2` respecto a verdaderos positivos. De igual manera, tiene un `recall` bastante bueno para la clase `3` pero su efectividad para predecirla correctamente es menor que `RandomForestClassifier`, aunque detectó más verdaderos positivos. Este modelo en general es un candidato para tener un desempeño de predicción más balanceado.\n",
    "\n",
    "- `DecisionTree`, aunque es el modelo más rápido, no se encuentra especializado en detectar alguna clase. En este caso, incluso la Clase `1` tuvo problemas para ser detectada.\n",
    "\n",
    "- `MLP` no generalizó bien la mayoría de clases, pero obtuvo un mejor rendimiento respecto a predecir los verderos positivos de  la Clase `2` que otros modelos. Ahora, revisando los resultados para la clase `3`, notamos que aunque tiene un recall parecido a `RandomForestClassifier`, su precisión fue bastante baja y por lo tanto daría muchos más falsos positivos que otros modelos.\n",
    "\n",
    "- `BalancedRandomForestClassifier` no fue capaz de sobrellevar el desbalance en nuestro dataset, y esto causó un colapso total en identificar a la clase 0 y 2 de nuestro dataset. En esencia, el resultado de `BalancedRandomForest` es parecido a hacer una clasificación binaria, y aún así tuvo problemas para encontrar verdaderos positivos. Con esto, la `precision` de este modelo fue la mejor.\n",
    "\n",
    "- `LightGBM` demostró ser uno de los modelos que generalizan mejor la distribución de las clasificaciones, y es uno de los mejores en predecir los verdaderos positivos de clase `3`, la cual es nuestra clase de interés. Con esto, su `precision` es de las más altas, y tiene un `F1_score` bastante más alto que otros modelos para la clase `3`. Respecto a la clase `2` y `0`, notamos que capturó casi el 30% de verdaderos positivos, lo que lo hace un modelo balanceado.\n",
    "\n",
    "- `CatBoost` tuvo un rendimiento bastante similar a `LightGBM`, con la excepción de que la `precision` para la clase objetivo es menor que con `LightGBM`. Sin embargo, notamos con las curvas ROC-AUC que es un modelo bastante estable.\n",
    "\n",
    "Por los motivos anteriores, consideramos que los mejores modelos a dar seguimiento para el fine-tuning del mismo es `LightGBM` y `CatBoost`, y por lo tanto, procederemos a optimizar el mismo. En general, notamos lo siguiente:\n",
    "\n",
    "- `LightGBM` brilla por su capacidad de detectar casi todos los verdaderos positivos de la clase objetivo.\n",
    "- `CatBoost`, aunque tiene una precisión un poco menor en comparación con `LightGBM`, notamos que generaliza de manera similar a todas las clases.\n",
    "- Todos los modelos tuvieron problemas para detectar correctamente la clase `2`, y por lo tanto sospechamos que los patrones inherentes de esta clase son bastante complejos. Esto podría deberse a que los focos de infestación catalogados de esta manera son un estado transitorio y no un estado estable.\n",
    "- Algo curioso es que las dos mejores implementaciones son frameworks como tal."
   ]
  },
  {
   "cell_type": "markdown",
   "id": "f40d195d",
   "metadata": {},
   "source": [
    "## Usamos Optuna para LightGBM"
   ]
  },
  {
   "cell_type": "markdown",
   "id": "b20b4f4e",
   "metadata": {},
   "source": [
    "Al utilizar Bayesian Optimization para encontrar los mejores parámetros para LightGBM, nos encontramos con el reto de que la combinación de ciertas variaciones de parámetros causaba que BO no pudiera terminar. Esto se debe a que LightGBM  no convergía a una solución aceptable y empezaba a generar splits con nodos vacíos. Por lo tanto, tuvimos que adaptarnos a la situación.\n",
    "\n",
    "Con esto, decidimos utilizar Otptuna para maximizar nuestro f1_score (que en teoría balancea lo que es `precision` y `recall`), de forma que encontremos de forma más parametrizable los mejores hiperparámetros de LightGBM.\n",
    "\n",
    "A este momento en el Notebook, tenemos los siguientes resultados para la clase objetivo:\n",
    "\n",
    "- `Precision`: 0.396\n",
    "- `Recall`:  0.991\n",
    "- `F1_Score`: 0.566\n",
    "\n",
    "Con lo anterior, al tener un Recall bastante bueno, consideramos que podemos buscar optimizar la métrica de `F1 global`. Esto podría significar la reducción del recall, pero creemos que es un trade-off justo para asegurar que nuestro porcentaje de predicción de la clase objetivo sea mejor. Esto ayudará a reducir las \"falsas\" alertas que el modelo pueda generar."
   ]
  },
  {
   "cell_type": "code",
   "execution_count": 36,
   "id": "ea6de41a",
   "metadata": {},
   "outputs": [
    {
     "name": "stderr",
     "output_type": "stream",
     "text": [
      "[I 2025-10-19 11:29:54,077] A new study created in memory with name: no-name-aeb262f4-b43a-497e-b970-abfc9629a179\n",
      "[I 2025-10-19 11:32:44,496] Trial 0 finished with value: 0.49325788026112116 and parameters: {'learning_rate': 0.08378059590225316, 'num_leaves': 88, 'max_depth': 14, 'feature_fraction': 0.9585765763973964, 'bagging_fraction': 0.7097706093371674, 'lambda_l1': 0.22922538600749498, 'lambda_l2': 3.6480267167730585, 'min_child_samples': 114, 'n_estimators': 533}. Best is trial 0 with value: 0.49325788026112116.\n",
      "[I 2025-10-19 11:33:28,472] Trial 1 finished with value: 0.4803633085783711 and parameters: {'learning_rate': 0.0848806331458013, 'num_leaves': 100, 'max_depth': 5, 'feature_fraction': 0.890150100116327, 'bagging_fraction': 0.9214046836692897, 'lambda_l1': 0.19523488491263952, 'lambda_l2': 0.5038261763670865, 'min_child_samples': 22, 'n_estimators': 379}. Best is trial 0 with value: 0.49325788026112116.\n",
      "[I 2025-10-19 11:35:05,703] Trial 2 finished with value: 0.503624368029837 and parameters: {'learning_rate': 0.027351518765842363, 'num_leaves': 98, 'max_depth': 8, 'feature_fraction': 0.8718196697764684, 'bagging_fraction': 0.91210694579755, 'lambda_l1': 3.2786155287838796, 'lambda_l2': 0.9679754931245893, 'min_child_samples': 58, 'n_estimators': 352}. Best is trial 2 with value: 0.503624368029837.\n",
      "[I 2025-10-19 11:36:21,904] Trial 3 finished with value: 0.504120754342051 and parameters: {'learning_rate': 0.07214008049457783, 'num_leaves': 83, 'max_depth': 9, 'feature_fraction': 0.9049056192464432, 'bagging_fraction': 0.997196243762541, 'lambda_l1': 2.566421781232866, 'lambda_l2': 2.1858059435524178, 'min_child_samples': 40, 'n_estimators': 278}. Best is trial 3 with value: 0.504120754342051.\n",
      "[I 2025-10-19 11:37:01,157] Trial 4 finished with value: 0.49702305946158526 and parameters: {'learning_rate': 0.07375443256208197, 'num_leaves': 33, 'max_depth': 10, 'feature_fraction': 0.8550273500115075, 'bagging_fraction': 0.7555376334495033, 'lambda_l1': 2.9365034759906155, 'lambda_l2': 2.995069436115225, 'min_child_samples': 138, 'n_estimators': 247}. Best is trial 3 with value: 0.504120754342051.\n",
      "[I 2025-10-19 11:38:47,058] Trial 5 finished with value: 0.49818606266821047 and parameters: {'learning_rate': 0.02290549998644715, 'num_leaves': 83, 'max_depth': 8, 'feature_fraction': 0.8366847156095797, 'bagging_fraction': 0.7960167483992941, 'lambda_l1': 3.1140707693311063, 'lambda_l2': 0.7692445918271124, 'min_child_samples': 193, 'n_estimators': 466}. Best is trial 3 with value: 0.504120754342051.\n",
      "[I 2025-10-19 11:40:29,614] Trial 6 finished with value: 0.504126730889436 and parameters: {'learning_rate': 0.06760635874229796, 'num_leaves': 119, 'max_depth': 8, 'feature_fraction': 0.8280458767231357, 'bagging_fraction': 0.8056601841696694, 'lambda_l1': 3.1119878054532886, 'lambda_l2': 3.9282979977507813, 'min_child_samples': 162, 'n_estimators': 377}. Best is trial 6 with value: 0.504126730889436.\n",
      "[I 2025-10-19 11:41:59,050] Trial 7 finished with value: 0.4990786649399417 and parameters: {'learning_rate': 0.05761055709290337, 'num_leaves': 66, 'max_depth': 8, 'feature_fraction': 0.7734552195256448, 'bagging_fraction': 0.9497072128005886, 'lambda_l1': 3.1547856745721328, 'lambda_l2': 3.0589400239671516, 'min_child_samples': 173, 'n_estimators': 399}. Best is trial 6 with value: 0.504126730889436.\n",
      "[I 2025-10-19 11:43:28,465] Trial 8 finished with value: 0.49303128690742093 and parameters: {'learning_rate': 0.06921829805699192, 'num_leaves': 39, 'max_depth': 8, 'feature_fraction': 0.8350139712875786, 'bagging_fraction': 0.7560120300436909, 'lambda_l1': 1.6446702795668737, 'lambda_l2': 3.360984820291195, 'min_child_samples': 183, 'n_estimators': 587}. Best is trial 6 with value: 0.504126730889436.\n",
      "[I 2025-10-19 11:46:17,198] Trial 9 finished with value: 0.5065059610183097 and parameters: {'learning_rate': 0.03587724483074142, 'num_leaves': 96, 'max_depth': 15, 'feature_fraction': 0.884240707802886, 'bagging_fraction': 0.9403395983355533, 'lambda_l1': 1.2684630351086397, 'lambda_l2': 4.837444918794111, 'min_child_samples': 45, 'n_estimators': 489}. Best is trial 9 with value: 0.5065059610183097.\n",
      "[I 2025-10-19 11:48:17,704] Trial 10 finished with value: 0.504025381641376 and parameters: {'learning_rate': 0.04250051708467731, 'num_leaves': 61, 'max_depth': 15, 'feature_fraction': 0.7246262389621008, 'bagging_fraction': 0.8672820399600504, 'lambda_l1': 4.663902330568318, 'lambda_l2': 4.902029294079348, 'min_child_samples': 76, 'n_estimators': 486}. Best is trial 9 with value: 0.5065059610183097.\n",
      "[I 2025-10-19 11:51:08,959] Trial 11 finished with value: 0.5095346988531001 and parameters: {'learning_rate': 0.0495807728786964, 'num_leaves': 118, 'max_depth': 12, 'feature_fraction': 0.9880416892364594, 'bagging_fraction': 0.8346242486360863, 'lambda_l1': 1.46032694349514, 'lambda_l2': 4.833365133805306, 'min_child_samples': 132, 'n_estimators': 450}. Best is trial 11 with value: 0.5095346988531001.\n",
      "[I 2025-10-19 11:54:13,564] Trial 12 finished with value: 0.5061308986578347 and parameters: {'learning_rate': 0.046011961817418956, 'num_leaves': 117, 'max_depth': 13, 'feature_fraction': 0.9975389971241491, 'bagging_fraction': 0.860147699852469, 'lambda_l1': 1.4844663082928065, 'lambda_l2': 4.977078789332976, 'min_child_samples': 99, 'n_estimators': 467}. Best is trial 11 with value: 0.5095346988531001.\n",
      "[I 2025-10-19 11:57:18,089] Trial 13 finished with value: 0.5063533298117605 and parameters: {'learning_rate': 0.03909902930854523, 'num_leaves': 106, 'max_depth': 12, 'feature_fraction': 0.9493270070943327, 'bagging_fraction': 0.99804436501619, 'lambda_l1': 1.3239360705581016, 'lambda_l2': 4.356347876100771, 'min_child_samples': 136, 'n_estimators': 524}. Best is trial 11 with value: 0.5095346988531001.\n",
      "[I 2025-10-19 11:59:13,773] Trial 14 finished with value: 0.5071417770775397 and parameters: {'learning_rate': 0.05403119749007558, 'num_leaves': 109, 'max_depth': 12, 'feature_fraction': 0.9371085759420391, 'bagging_fraction': 0.8300429821895059, 'lambda_l1': 0.86358819504861, 'lambda_l2': 4.2383897723583, 'min_child_samples': 87, 'n_estimators': 319}. Best is trial 11 with value: 0.5095346988531001.\n",
      "[I 2025-10-19 12:01:10,695] Trial 15 finished with value: 0.5088277439899743 and parameters: {'learning_rate': 0.0539778246270589, 'num_leaves': 113, 'max_depth': 12, 'feature_fraction': 0.9987899245168964, 'bagging_fraction': 0.8237497078883094, 'lambda_l1': 0.7438595493229627, 'lambda_l2': 2.0116533287340137, 'min_child_samples': 89, 'n_estimators': 310}. Best is trial 11 with value: 0.5095346988531001.\n",
      "[I 2025-10-19 12:02:22,741] Trial 16 finished with value: 0.5069392915466606 and parameters: {'learning_rate': 0.050421424115053695, 'num_leaves': 120, 'max_depth': 11, 'feature_fraction': 0.9993956251067387, 'bagging_fraction': 0.8841770618639195, 'lambda_l1': 2.1198410333767743, 'lambda_l2': 1.8696011260948966, 'min_child_samples': 121, 'n_estimators': 202}. Best is trial 11 with value: 0.5095346988531001.\n",
      "[I 2025-10-19 12:03:59,402] Trial 17 finished with value: 0.4962126421264503 and parameters: {'learning_rate': 0.09657276195132238, 'num_leaves': 57, 'max_depth': 13, 'feature_fraction': 0.9712207389614205, 'bagging_fraction': 0.8257198549489297, 'lambda_l1': 0.7168554258048737, 'lambda_l2': 1.6236842262212212, 'min_child_samples': 151, 'n_estimators': 427}. Best is trial 11 with value: 0.5095346988531001.\n",
      "[I 2025-10-19 12:05:43,096] Trial 18 finished with value: 0.5085111351423673 and parameters: {'learning_rate': 0.03390887515092937, 'num_leaves': 110, 'max_depth': 11, 'feature_fraction': 0.918541229929017, 'bagging_fraction': 0.7710816512475464, 'lambda_l1': 2.1046436621556697, 'lambda_l2': 2.620262582770046, 'min_child_samples': 71, 'n_estimators': 299}. Best is trial 11 with value: 0.5095346988531001.\n",
      "[I 2025-10-19 12:06:27,745] Trial 19 finished with value: 0.4973710161606813 and parameters: {'learning_rate': 0.061816505064453825, 'num_leaves': 72, 'max_depth': 5, 'feature_fraction': 0.97336193105735, 'bagging_fraction': 0.7113192152044907, 'lambda_l1': 4.0214339253077185, 'lambda_l2': 1.3074359540174305, 'min_child_samples': 97, 'n_estimators': 424}. Best is trial 11 with value: 0.5095346988531001.\n",
      "[I 2025-10-19 12:07:30,664] Trial 20 finished with value: 0.49875691384591364 and parameters: {'learning_rate': 0.047508556253866935, 'num_leaves': 49, 'max_depth': 10, 'feature_fraction': 0.8034066065620283, 'bagging_fraction': 0.8896259624706305, 'lambda_l1': 0.713724757440252, 'lambda_l2': 0.04897142396948251, 'min_child_samples': 127, 'n_estimators': 336}. Best is trial 11 with value: 0.5095346988531001.\n",
      "[I 2025-10-19 12:09:17,550] Trial 21 finished with value: 0.5104401429687768 and parameters: {'learning_rate': 0.031205207400998834, 'num_leaves': 110, 'max_depth': 11, 'feature_fraction': 0.91959030797181, 'bagging_fraction': 0.7694621015318531, 'lambda_l1': 1.8616621273598788, 'lambda_l2': 2.6453430076619573, 'min_child_samples': 70, 'n_estimators': 299}. Best is trial 21 with value: 0.5104401429687768.\n",
      "[I 2025-10-19 12:10:53,619] Trial 22 finished with value: 0.5101954105489416 and parameters: {'learning_rate': 0.02982725582633087, 'num_leaves': 111, 'max_depth': 12, 'feature_fraction': 0.9209532199015635, 'bagging_fraction': 0.7892473407257677, 'lambda_l1': 1.9299020384568835, 'lambda_l2': 2.21615544321457, 'min_child_samples': 103, 'n_estimators': 268}. Best is trial 21 with value: 0.5104401429687768.\n",
      "[I 2025-10-19 12:12:16,006] Trial 23 finished with value: 0.5026081521503803 and parameters: {'learning_rate': 0.020115149914039482, 'num_leaves': 104, 'max_depth': 13, 'feature_fraction': 0.930438803984355, 'bagging_fraction': 0.786126879817397, 'lambda_l1': 1.9978340187429389, 'lambda_l2': 2.4621052836832713, 'min_child_samples': 108, 'n_estimators': 231}. Best is trial 21 with value: 0.5104401429687768.\n",
      "[I 2025-10-19 12:13:31,799] Trial 24 finished with value: 0.5085841737720678 and parameters: {'learning_rate': 0.031479471904467086, 'num_leaves': 91, 'max_depth': 11, 'feature_fraction': 0.9161113786269838, 'bagging_fraction': 0.7334687460529433, 'lambda_l1': 2.421516854670896, 'lambda_l2': 2.5168807474333255, 'min_child_samples': 76, 'n_estimators': 251}. Best is trial 21 with value: 0.5104401429687768.\n",
      "[I 2025-10-19 12:15:02,137] Trial 25 finished with value: 0.5049271448573706 and parameters: {'learning_rate': 0.029242069425159063, 'num_leaves': 112, 'max_depth': 10, 'feature_fraction': 0.9668924963095038, 'bagging_fraction': 0.8444962745629607, 'lambda_l1': 1.785185746118183, 'lambda_l2': 3.025075213401544, 'min_child_samples': 150, 'n_estimators': 273}. Best is trial 21 with value: 0.5104401429687768.\n",
      "[I 2025-10-19 12:16:14,724] Trial 26 finished with value: 0.5076931174920228 and parameters: {'learning_rate': 0.0404281009152981, 'num_leaves': 104, 'max_depth': 14, 'feature_fraction': 0.9422944205016068, 'bagging_fraction': 0.7491269240229632, 'lambda_l1': 2.56728664231291, 'lambda_l2': 1.541695807768886, 'min_child_samples': 61, 'n_estimators': 208}. Best is trial 21 with value: 0.5104401429687768.\n",
      "[I 2025-10-19 12:17:55,595] Trial 27 finished with value: 0.5070063433643255 and parameters: {'learning_rate': 0.02547561015433268, 'num_leaves': 80, 'max_depth': 12, 'feature_fraction': 0.8988496132087658, 'bagging_fraction': 0.7783210540110367, 'lambda_l1': 1.0628016863859346, 'lambda_l2': 3.81164036705845, 'min_child_samples': 105, 'n_estimators': 349}. Best is trial 21 with value: 0.5104401429687768.\n",
      "[I 2025-10-19 12:20:15,224] Trial 28 finished with value: 0.5062709569914327 and parameters: {'learning_rate': 0.04328730439522303, 'num_leaves': 93, 'max_depth': 11, 'feature_fraction': 0.8723365857055794, 'bagging_fraction': 0.8125371920168553, 'lambda_l1': 3.700794917991261, 'lambda_l2': 4.320505276713336, 'min_child_samples': 128, 'n_estimators': 431}. Best is trial 21 with value: 0.5104401429687768.\n",
      "[I 2025-10-19 12:22:57,772] Trial 29 finished with value: 0.5063371097825627 and parameters: {'learning_rate': 0.03581737329045949, 'num_leaves': 88, 'max_depth': 9, 'feature_fraction': 0.9573867715670092, 'bagging_fraction': 0.7131582336195061, 'lambda_l1': 1.7676742069799676, 'lambda_l2': 3.53269297580203, 'min_child_samples': 115, 'n_estimators': 577}. Best is trial 21 with value: 0.5104401429687768.\n"
     ]
    },
    {
     "name": "stdout",
     "output_type": "stream",
     "text": [
      "\n",
      "\n",
      "Mejores parametros: {'learning_rate': 0.031205207400998834, 'num_leaves': 110, 'max_depth': 11, 'feature_fraction': 0.91959030797181, 'bagging_fraction': 0.7694621015318531, 'lambda_l1': 1.8616621273598788, 'lambda_l2': 2.6453430076619573, 'min_child_samples': 70, 'n_estimators': 299}\n",
      "Mejor F1_Macro: 0.5104401429687768\n"
     ]
    }
   ],
   "source": [
    "lgbm_df = df_filtered.copy()\n",
    "\n",
    "for col in ['state', 'municipality']:\n",
    "    le = LabelEncoder()\n",
    "    lgbm_df[col] = le.fit_transform(lgbm_df[col])\n",
    "\n",
    "train_mask = lgbm_df['sampling_date'].dt.year < 2025\n",
    "test_mask  = lgbm_df['sampling_date'].dt.year == 2025\n",
    "\n",
    "exclude_cols = [\n",
    "    'severity_encoded','tramp_id', 'capture_count', \n",
    "    'month', 'year-month', 'sampling_date',\n",
    "]\n",
    "\n",
    "features = [col for col in lgbm_df.columns if col not in exclude_cols]\n",
    "\n",
    "X_train, y_train = lgbm_df.loc[train_mask, features], lgbm_df.loc[train_mask, 'severity_encoded'] # El train dataset es la data historica de 2014 a 2024\n",
    "X_test,  y_test  = lgbm_df.loc[test_mask,  features], lgbm_df.loc[test_mask,  'severity_encoded'] # El test dataset es la data a partir de 2025\n",
    "\n",
    "\n",
    "def objective_lgbm(trial):\n",
    "    params = {\n",
    "        \"boosting_type\": \"gbdt\",\n",
    "        \"objective\": \"multiclass\",\n",
    "        \"num_class\": 4,\n",
    "        \"class_weight\": \"balanced\",\n",
    "        \"is_unbalance\": False,\n",
    "        \"device_type\": \"gpu\",\n",
    "        \"learning_rate\": trial.suggest_float(\"learning_rate\", 0.02, 0.1),\n",
    "        \"num_leaves\": trial.suggest_int(\"num_leaves\", 31, 120),\n",
    "        \"max_depth\": trial.suggest_int(\"max_depth\", 5, 15),\n",
    "        \"feature_fraction\": trial.suggest_float(\"feature_fraction\", 0.7, 1.0),\n",
    "        \"bagging_fraction\": trial.suggest_float(\"bagging_fraction\", 0.7, 1.0),\n",
    "        \"lambda_l1\": trial.suggest_float(\"lambda_l1\", 0.0, 5.0),\n",
    "        \"lambda_l2\": trial.suggest_float(\"lambda_l2\", 0.0, 5.0),\n",
    "        \"min_child_samples\": trial.suggest_int(\"min_child_samples\", 20, 200),\n",
    "        \"min_gain_to_split\": 0.001,  \n",
    "        \"n_estimators\": trial.suggest_int(\"n_estimators\", 200, 600),\n",
    "        \"random_state\": 42,\n",
    "        \"verbose\": -1\n",
    "    }\n",
    "\n",
    "    model = LGBMClassifier(**params)\n",
    "    tscv = TimeSeriesSplit(n_splits=3)\n",
    "    scores = cross_val_score(model, X_train, y_train, cv=tscv,\n",
    "                             scoring=\"f1_macro\", n_jobs=-1)\n",
    "    return np.mean(scores)\n",
    "\n",
    "lgbm_study = optuna.create_study(direction=\"maximize\")\n",
    "lgbm_study.optimize(objective_lgbm, n_trials=30)\n",
    "\n",
    "print(\"\\n\\nMejores parametros:\", lgbm_study.best_params)\n",
    "print(\"Mejor F1_Macro:\", lgbm_study.best_value)"
   ]
  },
  {
   "cell_type": "code",
   "execution_count": 37,
   "id": "53baba62",
   "metadata": {},
   "outputs": [
    {
     "data": {
      "text/plain": [
       "{'learning_rate': 0.031205207400998834,\n",
       " 'num_leaves': 110,\n",
       " 'max_depth': 11,\n",
       " 'feature_fraction': 0.91959030797181,\n",
       " 'bagging_fraction': 0.7694621015318531,\n",
       " 'lambda_l1': 1.8616621273598788,\n",
       " 'lambda_l2': 2.6453430076619573,\n",
       " 'min_child_samples': 70,\n",
       " 'n_estimators': 299}"
      ]
     },
     "execution_count": 37,
     "metadata": {},
     "output_type": "execute_result"
    }
   ],
   "source": [
    "lgbm_best_params = lgbm_study.best_params\n",
    "lgbm_best_params"
   ]
  },
  {
   "cell_type": "markdown",
   "id": "db920d5c",
   "metadata": {},
   "source": [
    "### Probamos los mejores parámetros según Optuna para `LightGBM`"
   ]
  },
  {
   "cell_type": "code",
   "execution_count": 47,
   "id": "47379b73",
   "metadata": {},
   "outputs": [
    {
     "name": "stdout",
     "output_type": "stream",
     "text": [
      "Resultados para LightGBM después de usar Optuna:\n",
      "\n",
      "\n",
      "              precision    recall  f1-score   support\n",
      "\n",
      "           0      0.260     0.296     0.277     24445\n",
      "           1      0.767     0.728     0.747     82928\n",
      "           2      0.132     0.163     0.146      2544\n",
      "           3      0.381     1.000     0.551       110\n",
      "\n",
      "    accuracy                          0.619    110027\n",
      "   macro avg      0.385     0.547     0.430    110027\n",
      "weighted avg      0.639     0.619     0.628    110027\n",
      "\n"
     ]
    }
   ],
   "source": [
    "lgbm_df = df_filtered.copy()\n",
    "\n",
    "for col in ['state', 'municipality']:\n",
    "    le = LabelEncoder()\n",
    "    lgbm_df[col] = le.fit_transform(lgbm_df[col])\n",
    "    \n",
    "    \n",
    "categorical_features = ['municipality', 'state', 'critical_season' ]\n",
    "\n",
    "train_mask = lgbm_df['sampling_date'].dt.year < 2025\n",
    "test_mask  = lgbm_df['sampling_date'].dt.year == 2025\n",
    "\n",
    "exclude_cols = [\n",
    "    'severity_encoded','tramp_id', 'capture_count', \n",
    "    'month', 'year-month', 'sampling_date'\n",
    "]\n",
    "\n",
    "features = [col for col in lgbm_df.columns if col not in exclude_cols]\n",
    "\n",
    "X_train, y_train = lgbm_df.loc[train_mask, features], lgbm_df.loc[train_mask, 'severity_encoded'] # El train dataset es la data historica de 2014 a 2024\n",
    "X_test,  y_test  = lgbm_df.loc[test_mask,  features], lgbm_df.loc[test_mask,  'severity_encoded'] # El test dataset es la data a partir de 2025\n",
    "\n",
    "lgbm_best_params = LGBMClassifier(\n",
    "    boosting_type = \"gbdt\",\n",
    "    objective = \"multiclass\",\n",
    "    num_class = 4,\n",
    "    class_weight = \"balanced\",\n",
    "    is_unbalance = False,\n",
    "    device_type = \"gpu\",\n",
    "    min_gain_to_split = 0.001,  \n",
    "    random_state = 42,\n",
    "    verbose = -1,\n",
    "    learning_rate= 0.031205207400998834,\n",
    "    num_leaves= 110,\n",
    "    max_depth= 11,\n",
    "    feature_fraction= 0.91959030797181,\n",
    "    bagging_fraction= 0.7694621015318531,\n",
    "    lambda_l1= 1.8616621273598788,\n",
    "    lambda_l2= 2.6453430076619573,\n",
    "    min_child_samples= 70,\n",
    "    n_estimators= 299\n",
    "    \n",
    ")\n",
    "\n",
    "lgbm_best_params.fit(X_train, y_train)\n",
    "\n",
    "y_pred_lgbm_best = lgbm_best_params.predict(X_test, categorical_features=categorical_features)\n",
    "\n",
    "\n",
    "print(\"Resultados para LightGBM después de usar Optuna:\\n\\n\")\n",
    "print(classification_report(y_test, y_pred_lgbm_best, digits=3))\n",
    "\n",
    "y_pred_proba_lgbm_best_params = lgbm_best_params.predict_proba(X_test)"
   ]
  },
  {
   "cell_type": "markdown",
   "id": "5e8671c3",
   "metadata": {},
   "source": [
    "## Usamos Optuna junto a CatBoost"
   ]
  },
  {
   "cell_type": "code",
   "execution_count": 40,
   "id": "3ba5f356",
   "metadata": {},
   "outputs": [
    {
     "name": "stderr",
     "output_type": "stream",
     "text": [
      "[I 2025-10-19 12:42:00,613] A new study created in memory with name: no-name-18175c0e-f313-4fb1-a127-3411b0030e23\n",
      "[I 2025-10-19 12:42:22,554] Trial 0 finished with value: 0.4835366004457098 and parameters: {'iterations': 410, 'learning_rate': 0.014229136329429605, 'depth': 4, 'l2_leaf_reg': 0.16301999144004828, 'bagging_temperature': 0.8311746834719845, 'border_count': 216, 'random_strength': 0.6233930850379468, 'grow_policy': 'Depthwise'}. Best is trial 0 with value: 0.4835366004457098.\n",
      "[I 2025-10-19 12:42:58,197] Trial 1 finished with value: 0.4643555374262857 and parameters: {'iterations': 329, 'learning_rate': 0.012747468679225021, 'depth': 8, 'l2_leaf_reg': 0.15510008873590594, 'bagging_temperature': 0.7301501901318413, 'border_count': 214, 'random_strength': 1.7309716862973354, 'grow_policy': 'Depthwise'}. Best is trial 0 with value: 0.4835366004457098.\n",
      "[I 2025-10-19 12:46:05,943] Trial 2 finished with value: 0.41808212040666143 and parameters: {'iterations': 1160, 'learning_rate': 0.08192339287330327, 'depth': 10, 'l2_leaf_reg': 2.076391036838959, 'bagging_temperature': 0.8710735357292891, 'border_count': 166, 'random_strength': 1.7707816354370554, 'grow_policy': 'Depthwise'}. Best is trial 0 with value: 0.4835366004457098.\n",
      "[I 2025-10-19 12:47:07,134] Trial 3 finished with value: 0.4453573887416871 and parameters: {'iterations': 1000, 'learning_rate': 0.01059360427634717, 'depth': 6, 'l2_leaf_reg': 0.6464680220949223, 'bagging_temperature': 0.2934329370654728, 'border_count': 171, 'random_strength': 1.0153916122211566, 'grow_policy': 'Depthwise'}. Best is trial 0 with value: 0.4835366004457098.\n",
      "[I 2025-10-19 12:47:33,414] Trial 4 finished with value: 0.4365722858758179 and parameters: {'iterations': 398, 'learning_rate': 0.07411859329193615, 'depth': 6, 'l2_leaf_reg': 0.14145480911736882, 'bagging_temperature': 0.22277877654714173, 'border_count': 146, 'random_strength': 1.9989828788233843, 'grow_policy': 'Depthwise'}. Best is trial 0 with value: 0.4835366004457098.\n",
      "[I 2025-10-19 12:48:45,032] Trial 5 finished with value: 0.44358468694643943 and parameters: {'iterations': 596, 'learning_rate': 0.06594135022778311, 'depth': 9, 'l2_leaf_reg': 4.330943462278242, 'bagging_temperature': 0.4814286376236928, 'border_count': 102, 'random_strength': 1.6674340837083679, 'grow_policy': 'Depthwise'}. Best is trial 0 with value: 0.4835366004457098.\n",
      "[I 2025-10-19 12:49:34,982] Trial 6 finished with value: 0.44370332516779903 and parameters: {'iterations': 823, 'learning_rate': 0.011006965818724629, 'depth': 6, 'l2_leaf_reg': 0.4905480125739804, 'bagging_temperature': 0.5367180240868672, 'border_count': 107, 'random_strength': 1.4218656494728996, 'grow_policy': 'Depthwise'}. Best is trial 0 with value: 0.4835366004457098.\n",
      "[I 2025-10-19 12:51:44,129] Trial 7 finished with value: 0.4428567621854604 and parameters: {'iterations': 983, 'learning_rate': 0.014739122002095694, 'depth': 9, 'l2_leaf_reg': 0.22985976955780224, 'bagging_temperature': 0.9513928293268463, 'border_count': 125, 'random_strength': 1.9788610506306967, 'grow_policy': 'Depthwise'}. Best is trial 0 with value: 0.4835366004457098.\n",
      "[I 2025-10-19 12:52:24,398] Trial 8 finished with value: 0.44824748757042726 and parameters: {'iterations': 878, 'learning_rate': 0.017043331325412962, 'depth': 4, 'l2_leaf_reg': 3.768853798842964, 'bagging_temperature': 0.31639800072023516, 'border_count': 142, 'random_strength': 0.5959019559770506, 'grow_policy': 'SymmetricTree'}. Best is trial 0 with value: 0.4835366004457098.\n",
      "[I 2025-10-19 12:53:21,314] Trial 9 finished with value: 0.416410434636376 and parameters: {'iterations': 306, 'learning_rate': 0.07364124853892483, 'depth': 10, 'l2_leaf_reg': 0.11356505635379871, 'bagging_temperature': 0.029305893924415738, 'border_count': 104, 'random_strength': 0.9894898460865087, 'grow_policy': 'Depthwise'}. Best is trial 0 with value: 0.4835366004457098.\n",
      "[I 2025-10-19 12:53:49,138] Trial 10 finished with value: 0.48207223326382304 and parameters: {'iterations': 571, 'learning_rate': 0.025786771145196626, 'depth': 4, 'l2_leaf_reg': 1.2796807425851071, 'bagging_temperature': 0.7048775411588767, 'border_count': 248, 'random_strength': 0.1019628920389909, 'grow_policy': 'SymmetricTree'}. Best is trial 0 with value: 0.4835366004457098.\n",
      "[I 2025-10-19 12:54:16,608] Trial 11 finished with value: 0.4834272120393485 and parameters: {'iterations': 569, 'learning_rate': 0.031990198664747276, 'depth': 4, 'l2_leaf_reg': 1.3986350636114655, 'bagging_temperature': 0.718521188320187, 'border_count': 251, 'random_strength': 0.029367618768280257, 'grow_policy': 'SymmetricTree'}. Best is trial 0 with value: 0.4835366004457098.\n",
      "[I 2025-10-19 12:54:46,175] Trial 12 finished with value: 0.4849498312417983 and parameters: {'iterations': 545, 'learning_rate': 0.037593161265325185, 'depth': 5, 'l2_leaf_reg': 8.882891346247357, 'bagging_temperature': 0.7585806537689352, 'border_count': 251, 'random_strength': 0.024920230144673157, 'grow_policy': 'SymmetricTree'}. Best is trial 12 with value: 0.4849498312417983.\n",
      "[I 2025-10-19 12:55:14,083] Trial 13 finished with value: 0.47238918012118186 and parameters: {'iterations': 509, 'learning_rate': 0.03676921691265591, 'depth': 5, 'l2_leaf_reg': 9.108792218094807, 'bagging_temperature': 0.8227326004357518, 'border_count': 208, 'random_strength': 0.3702806692602907, 'grow_policy': 'SymmetricTree'}. Best is trial 12 with value: 0.4849498312417983.\n",
      "[I 2025-10-19 12:55:51,267] Trial 14 finished with value: 0.46975453388545346 and parameters: {'iterations': 702, 'learning_rate': 0.046420599726634024, 'depth': 5, 'l2_leaf_reg': 0.320421080247239, 'bagging_temperature': 0.9857328618363858, 'border_count': 214, 'random_strength': 0.6255333767493626, 'grow_policy': 'SymmetricTree'}. Best is trial 12 with value: 0.4849498312417983.\n",
      "[I 2025-10-19 12:56:15,625] Trial 15 finished with value: 0.39118450288886786 and parameters: {'iterations': 453, 'learning_rate': 0.020962743942361892, 'depth': 5, 'l2_leaf_reg': 5.906155938821384, 'bagging_temperature': 0.5622933851229256, 'border_count': 67, 'random_strength': 0.3031675436982648, 'grow_policy': 'SymmetricTree'}. Best is trial 12 with value: 0.4849498312417983.\n",
      "[I 2025-10-19 12:57:08,656] Trial 16 finished with value: 0.47323788196551214 and parameters: {'iterations': 692, 'learning_rate': 0.04518150353885504, 'depth': 7, 'l2_leaf_reg': 2.201827956470052, 'bagging_temperature': 0.6633353328427589, 'border_count': 191, 'random_strength': 0.902730000083053, 'grow_policy': 'SymmetricTree'}. Best is trial 12 with value: 0.4849498312417983.\n",
      "[I 2025-10-19 12:57:42,210] Trial 17 finished with value: 0.4920708436753299 and parameters: {'iterations': 416, 'learning_rate': 0.024038436320159867, 'depth': 7, 'l2_leaf_reg': 0.4325850921622548, 'bagging_temperature': 0.8435607589871275, 'border_count': 226, 'random_strength': 0.7339828037957523, 'grow_policy': 'SymmetricTree'}. Best is trial 17 with value: 0.4920708436753299.\n",
      "[I 2025-10-19 12:58:32,189] Trial 18 finished with value: 0.4952630513392237 and parameters: {'iterations': 649, 'learning_rate': 0.02358601627777478, 'depth': 7, 'l2_leaf_reg': 0.6582992045330874, 'bagging_temperature': 0.43135483008044084, 'border_count': 235, 'random_strength': 1.2804895916903556, 'grow_policy': 'SymmetricTree'}. Best is trial 18 with value: 0.4952630513392237.\n",
      "[I 2025-10-19 12:59:23,349] Trial 19 finished with value: 0.4934295006495914 and parameters: {'iterations': 649, 'learning_rate': 0.02323776106497458, 'depth': 7, 'l2_leaf_reg': 0.3907814523567816, 'bagging_temperature': 0.4543433818964348, 'border_count': 231, 'random_strength': 1.4710284863520808, 'grow_policy': 'SymmetricTree'}. Best is trial 18 with value: 0.4952630513392237.\n",
      "[I 2025-10-19 13:00:42,202] Trial 20 finished with value: 0.48097590353186503 and parameters: {'iterations': 776, 'learning_rate': 0.02021543530370787, 'depth': 8, 'l2_leaf_reg': 0.803361054657805, 'bagging_temperature': 0.39497941083647325, 'border_count': 188, 'random_strength': 1.2787469778130789, 'grow_policy': 'SymmetricTree'}. Best is trial 18 with value: 0.4952630513392237.\n",
      "[I 2025-10-19 13:01:32,599] Trial 21 finished with value: 0.4942404264421951 and parameters: {'iterations': 653, 'learning_rate': 0.026697708822191427, 'depth': 7, 'l2_leaf_reg': 0.394718264542113, 'bagging_temperature': 0.14186287403460068, 'border_count': 231, 'random_strength': 1.2793983176757855, 'grow_policy': 'SymmetricTree'}. Best is trial 18 with value: 0.4952630513392237.\n",
      "[I 2025-10-19 13:02:39,935] Trial 22 finished with value: 0.49820685742477605 and parameters: {'iterations': 667, 'learning_rate': 0.026955151614927765, 'depth': 8, 'l2_leaf_reg': 0.2582885966880111, 'bagging_temperature': 0.10834207078600777, 'border_count': 231, 'random_strength': 1.3906913501841804, 'grow_policy': 'SymmetricTree'}. Best is trial 22 with value: 0.49820685742477605.\n",
      "[I 2025-10-19 13:03:56,096] Trial 23 finished with value: 0.480600302357762 and parameters: {'iterations': 739, 'learning_rate': 0.01812723511379967, 'depth': 8, 'l2_leaf_reg': 0.26931369641597, 'bagging_temperature': 0.07387514437079201, 'border_count': 193, 'random_strength': 1.1801312693253645, 'grow_policy': 'SymmetricTree'}. Best is trial 22 with value: 0.49820685742477605.\n",
      "[I 2025-10-19 13:04:44,962] Trial 24 finished with value: 0.4922239118284268 and parameters: {'iterations': 647, 'learning_rate': 0.027778922180101022, 'depth': 7, 'l2_leaf_reg': 0.6602834500500027, 'bagging_temperature': 0.1678804198685374, 'border_count': 232, 'random_strength': 1.2404443451634672, 'grow_policy': 'SymmetricTree'}. Best is trial 22 with value: 0.49820685742477605.\n",
      "[I 2025-10-19 13:06:11,942] Trial 25 finished with value: 0.4992723431575114 and parameters: {'iterations': 893, 'learning_rate': 0.03169683936081736, 'depth': 8, 'l2_leaf_reg': 1.0126729009882989, 'bagging_temperature': 0.13742770730370382, 'border_count': 238, 'random_strength': 1.490982729702571, 'grow_policy': 'SymmetricTree'}. Best is trial 25 with value: 0.4992723431575114.\n",
      "[I 2025-10-19 13:08:12,397] Trial 26 finished with value: 0.47508452930038003 and parameters: {'iterations': 898, 'learning_rate': 0.05236428840091234, 'depth': 9, 'l2_leaf_reg': 1.9267130352211623, 'bagging_temperature': 0.007575330100302841, 'border_count': 200, 'random_strength': 1.5115311983493085, 'grow_policy': 'SymmetricTree'}. Best is trial 25 with value: 0.4992723431575114.\n",
      "[I 2025-10-19 13:09:55,085] Trial 27 finished with value: 0.49910368351992646 and parameters: {'iterations': 1056, 'learning_rate': 0.03293520029166837, 'depth': 8, 'l2_leaf_reg': 0.9362800238791883, 'bagging_temperature': 0.2565819361431682, 'border_count': 238, 'random_strength': 1.6175718863588129, 'grow_policy': 'SymmetricTree'}. Best is trial 25 with value: 0.4992723431575114.\n",
      "[I 2025-10-19 13:11:41,189] Trial 28 finished with value: 0.4967464652753151 and parameters: {'iterations': 1099, 'learning_rate': 0.035750209296957575, 'depth': 8, 'l2_leaf_reg': 1.051304602085485, 'bagging_temperature': 0.26856987778293884, 'border_count': 242, 'random_strength': 1.6401248048150552, 'grow_policy': 'SymmetricTree'}. Best is trial 25 with value: 0.4992723431575114.\n",
      "[I 2025-10-19 13:14:00,278] Trial 29 finished with value: 0.45156289045279463 and parameters: {'iterations': 1007, 'learning_rate': 0.031098624886605707, 'depth': 9, 'l2_leaf_reg': 0.1936235722988227, 'bagging_temperature': 0.13384994922999455, 'border_count': 175, 'random_strength': 1.5696516034256807, 'grow_policy': 'SymmetricTree'}. Best is trial 25 with value: 0.4992723431575114.\n"
     ]
    },
    {
     "name": "stdout",
     "output_type": "stream",
     "text": [
      "\n",
      "\n",
      "Mejores parámetros: {'iterations': 893, 'learning_rate': 0.03169683936081736, 'depth': 8, 'l2_leaf_reg': 1.0126729009882989, 'bagging_temperature': 0.13742770730370382, 'border_count': 238, 'random_strength': 1.490982729702571, 'grow_policy': 'SymmetricTree'}\n",
      "Mejor F1-macro: 0.4992723431575114\n"
     ]
    }
   ],
   "source": [
    "import optuna\n",
    "import numpy as np\n",
    "from sklearn.model_selection import TimeSeriesSplit, cross_val_score\n",
    "from catboost import CatBoostClassifier\n",
    "\n",
    "\n",
    "# Copiamos el dataframe con la información\n",
    "cb_df = df_filtered.copy()\n",
    "\n",
    "# Hacemos un encoding basico para State y Municipalidad\n",
    "for col in ['state', 'municipality']:\n",
    "    le = LabelEncoder()\n",
    "    cb_df[col] = le.fit_transform(cb_df[col])\n",
    "\n",
    "# Generamos la mascara para obtener los datos de antes del 2025 y del 2025 por separada\n",
    "train_mask = cb_df['sampling_date'].dt.year < 2025\n",
    "test_mask  = cb_df['sampling_date'].dt.year == 2025\n",
    "\n",
    "# Excluimos la variable objetivo (severity_encoded) y algunos unas variables o features que ya tenemos contenidos en nuestros\n",
    "# features creados. `capture_count` no podemos tomarlo en cuenta porque se relaciona directamente con la severidad.\n",
    "exclude_cols = [\n",
    "    'severity_encoded','tramp_id', 'capture_count', \n",
    "    'month', 'year-month', 'sampling_date'\n",
    "]\n",
    "\n",
    "# Cargamos los features a tomar en cuenta (obviamos los features en exclude_cols)\n",
    "features = [col for col in cb_df.columns if col not in exclude_cols]\n",
    "\n",
    "# Generamos nuestro split de entrenamiento y test por medio de las mascaras train_mask y test_mask\n",
    "X_train, y_train = cb_df.loc[train_mask, features], cb_df.loc[train_mask, 'severity_encoded'] # El train dataset es la data historica de 2014 a 2024\n",
    "X_test,  y_test  = cb_df.loc[test_mask,  features], cb_df.loc[test_mask,  'severity_encoded'] # El test dataset es la data a partir de 2025\n",
    "\n",
    "\n",
    "def objective_cb(trial):\n",
    "    \n",
    "    categorical_cols = ['state', 'municipality']\n",
    "    \n",
    "    params = {\n",
    "        \"iterations\": trial.suggest_int(\"iterations\", 300, 1200),\n",
    "        \"learning_rate\": trial.suggest_float(\"learning_rate\", 0.01, 0.1, log=True),\n",
    "        \"depth\": trial.suggest_int(\"depth\", 4, 10),\n",
    "        \"l2_leaf_reg\": trial.suggest_float(\"l2_leaf_reg\", 0.1, 10.0, log=True),\n",
    "        \"bagging_temperature\": trial.suggest_float(\"bagging_temperature\", 0.0, 1.0),\n",
    "        \"border_count\": trial.suggest_int(\"border_count\", 64, 255),\n",
    "        \"random_strength\": trial.suggest_float(\"random_strength\", 0.0, 2.0),\n",
    "        \"grow_policy\": trial.suggest_categorical(\"grow_policy\", [\"SymmetricTree\", \"Depthwise\"]),\n",
    "        \"loss_function\": \"MultiClass\",\n",
    "        \"eval_metric\": \"TotalF1\",\n",
    "        \"auto_class_weights\": \"Balanced\",\n",
    "        \"task_type\": \"GPU\",\n",
    "        \"devices\": \"0\",\n",
    "        \"random_seed\": 42,\n",
    "        \"verbose\": False,\n",
    "        \"allow_writing_files\": False,\n",
    "        \"cat_features\" : categorical_cols\n",
    "    }\n",
    "    \n",
    "    model_cb = CatBoostClassifier(**params)\n",
    "\n",
    "    tscv = TimeSeriesSplit(n_splits=3)\n",
    "    \n",
    "    scores = cross_val_score(\n",
    "        model_cb, \n",
    "        X_train, \n",
    "        y_train,\n",
    "        cv=tscv,\n",
    "        scoring=\"f1_macro\",\n",
    "        n_jobs=1,\n",
    "        error_score='raise'\n",
    "    )\n",
    "\n",
    "    return np.mean(scores)\n",
    "\n",
    "cb_study = optuna.create_study(direction=\"maximize\")\n",
    "cb_study.optimize(objective_cb, n_trials=30, show_progress_bar=False)\n",
    "\n",
    "print(\"\\n\\nMejores parámetros:\", cb_study.best_params)\n",
    "print(\"Mejor F1-macro:\", cb_study.best_value)"
   ]
  },
  {
   "cell_type": "code",
   "execution_count": 41,
   "id": "b4017b5a",
   "metadata": {},
   "outputs": [
    {
     "data": {
      "text/plain": [
       "{'iterations': 893,\n",
       " 'learning_rate': 0.03169683936081736,\n",
       " 'depth': 8,\n",
       " 'l2_leaf_reg': 1.0126729009882989,\n",
       " 'bagging_temperature': 0.13742770730370382,\n",
       " 'border_count': 238,\n",
       " 'random_strength': 1.490982729702571,\n",
       " 'grow_policy': 'SymmetricTree'}"
      ]
     },
     "execution_count": 41,
     "metadata": {},
     "output_type": "execute_result"
    }
   ],
   "source": [
    "cb_best_params = cb_study.best_params\n",
    "cb_best_params"
   ]
  },
  {
   "cell_type": "markdown",
   "id": "c5bb2511",
   "metadata": {},
   "source": [
    "### Probamos los mejores parámetros según Optuna para `CatBoost`"
   ]
  },
  {
   "cell_type": "code",
   "execution_count": 43,
   "id": "9c67f5a0",
   "metadata": {},
   "outputs": [
    {
     "name": "stdout",
     "output_type": "stream",
     "text": [
      "0:\tlearn: 0.6823539\ttest: 0.5856466\tbest: 0.5856466 (0)\ttotal: 39ms\tremaining: 34.8s\n",
      "100:\tlearn: 0.7215748\ttest: 0.5694917\tbest: 0.5856466 (0)\ttotal: 4.87s\tremaining: 38.1s\n",
      "200:\tlearn: 0.7439478\ttest: 0.5617129\tbest: 0.5856466 (0)\ttotal: 10.2s\tremaining: 35.1s\n",
      "300:\tlearn: 0.7567374\ttest: 0.5326864\tbest: 0.5856466 (0)\ttotal: 15.5s\tremaining: 30.4s\n",
      "400:\tlearn: 0.7668665\ttest: 0.5188755\tbest: 0.5856466 (0)\ttotal: 21.5s\tremaining: 26.3s\n",
      "500:\tlearn: 0.7737156\ttest: 0.5025127\tbest: 0.5856466 (0)\ttotal: 27.4s\tremaining: 21.4s\n",
      "600:\tlearn: 0.7801252\ttest: 0.4960820\tbest: 0.5856466 (0)\ttotal: 32.7s\tremaining: 15.9s\n",
      "700:\tlearn: 0.7854649\ttest: 0.4864109\tbest: 0.5856466 (0)\ttotal: 38.1s\tremaining: 10.4s\n",
      "800:\tlearn: 0.7902415\ttest: 0.4780377\tbest: 0.5856466 (0)\ttotal: 43.4s\tremaining: 4.99s\n",
      "892:\tlearn: 0.7939429\ttest: 0.4733942\tbest: 0.5856466 (0)\ttotal: 49s\tremaining: 0us\n",
      "bestTest = 0.5856466408\n",
      "bestIteration = 0\n",
      "Shrink model to first 1 iterations.\n",
      "\n",
      "\n",
      "Resultados para CatBoost según Optuna:\n",
      "\n",
      "              precision    recall  f1-score   support\n",
      "\n",
      "           0       0.30      0.36      0.33     24445\n",
      "           1       0.78      0.68      0.73     82928\n",
      "           2       0.07      0.25      0.11      2544\n",
      "           3       0.24      0.97      0.39       110\n",
      "\n",
      "    accuracy                           0.60    110027\n",
      "   macro avg       0.35      0.56      0.39    110027\n",
      "weighted avg       0.66      0.60      0.62    110027\n",
      "\n"
     ]
    }
   ],
   "source": [
    "from catboost import CatBoostClassifier, Pool\n",
    "\n",
    "# Copiamos el dataframe con la información\n",
    "cb_df = df_filtered.copy()\n",
    "\n",
    "# Hacemos un encoding basico para State y Municipalidad\n",
    "for col in ['state', 'municipality']:\n",
    "    le = LabelEncoder()\n",
    "    cb_df[col] = le.fit_transform(cb_df[col])\n",
    "\n",
    "# Generamos la mascara para obtener los datos de antes del 2025 y del 2025 por separada\n",
    "train_mask = cb_df['sampling_date'].dt.year < 2025\n",
    "test_mask  = cb_df['sampling_date'].dt.year == 2025\n",
    "\n",
    "# Excluimos la variable objetivo (severity_encoded) y algunos unas variables o features que ya tenemos contenidos en nuestros\n",
    "# features creados. `capture_count` no podemos tomarlo en cuenta porque se relaciona directamente con la severidad.\n",
    "exclude_cols = [\n",
    "    'severity_encoded','tramp_id', 'capture_count', \n",
    "    'month', 'year-month', 'sampling_date',\n",
    "]\n",
    "\n",
    "# Cargamos los features a tomar en cuenta (obviamos los features en exclude_cols)\n",
    "features = [col for col in cb_df.columns if col not in exclude_cols]\n",
    "\n",
    "# Generamos nuestro split de entrenamiento y test por medio de las mascaras train_mask y test_mask\n",
    "X_train, y_train = cb_df.loc[train_mask, features], cb_df.loc[train_mask, 'severity_encoded'] # El train dataset es la data historica de 2014 a 2024\n",
    "X_test,  y_test  = cb_df.loc[test_mask,  features], cb_df.loc[test_mask,  'severity_encoded'] # El test dataset es la data a partir de 2025\n",
    "\n",
    "\n",
    "cat_model_best = CatBoostClassifier(                 \n",
    "    loss_function='MultiClass',    \n",
    "    eval_metric='TotalF1',         \n",
    "    auto_class_weights='Balanced', \n",
    "    random_seed=42,\n",
    "    task_type='GPU',               \n",
    "    verbose=100,\n",
    "    iterations= 893,\n",
    "    learning_rate= 0.03169683936081736,\n",
    "    depth= 8,\n",
    "    l2_leaf_reg= 1.0126729009882989,\n",
    "    bagging_temperature= 0.13742770730370382,\n",
    "    border_count= 238,\n",
    "    random_strength= 1.490982729702571,\n",
    "    grow_policy= 'SymmetricTree'\n",
    ")\n",
    "\n",
    "categorical_cols = ['state', 'municipality']\n",
    "\n",
    "cat_model_best.fit(\n",
    "    X_train,\n",
    "    y_train,\n",
    "    cat_features=categorical_cols if 'categorical_cols' in locals() else None,\n",
    "    eval_set=(X_test, y_test),\n",
    "    use_best_model=True\n",
    ")\n",
    "\n",
    "y_pred_cd_best = cat_model_best.predict(X_test)\n",
    "y_pred_cd_best = y_pred.flatten()\n",
    "\n",
    "print(\"\\n\\nResultados para CatBoost según Optuna:\\n\")\n",
    "print(classification_report(y_test, y_pred))"
   ]
  },
  {
   "cell_type": "markdown",
   "id": "47c559d3",
   "metadata": {},
   "source": [
    "## Comparación de modelos luego de fine-tuning"
   ]
  },
  {
   "cell_type": "markdown",
   "id": "8e9d5b2d",
   "metadata": {},
   "source": [
    "# Conclusiones"
   ]
  },
  {
   "cell_type": "markdown",
   "id": "e34faf9f",
   "metadata": {},
   "source": [
    "https://arxiv.org/abs/2201.08528\n",
    "\n",
    "https://arxiv.org/abs/2404.19494\n",
    "\n",
    "https://www.sciencedirect.com/science/article/pii/S1532046424000844?via%3Dihub\n"
   ]
  }
 ],
 "metadata": {
  "kernelspec": {
   "display_name": "torch311 (3.11.0)",
   "language": "python",
   "name": "python3"
  },
  "language_info": {
   "codemirror_mode": {
    "name": "ipython",
    "version": 3
   },
   "file_extension": ".py",
   "mimetype": "text/x-python",
   "name": "python",
   "nbconvert_exporter": "python",
   "pygments_lexer": "ipython3",
   "version": "3.11.0"
  }
 },
 "nbformat": 4,
 "nbformat_minor": 5
}
