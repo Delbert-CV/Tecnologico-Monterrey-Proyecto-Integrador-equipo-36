{
 "cells": [
  {
   "cell_type": "markdown",
   "id": "ddca45b9",
   "metadata": {},
   "source": [
    "\n",
    "\n",
    "# Reporte de problemas fitosanitarios en plantaciones de agave\n",
    "--------------------\n",
    "\n",
    "## Equipo 36\n",
    "\n",
    "| Nombre | Matrícula |\n",
    "| ------ | --------- |\n",
    "| André Martins Cordebello | A00572928 |\n",
    "| Enrique Eduardo Solís Da Costa | A00572678 |\n",
    "| Delbert Francisco Custodio Vargas | A01795613 |\n",
    "\n",
    "## Avance 4: Modelos alternativos \n",
    "\n",
    "Este avance implica construir múltiples modelos (individuales, no ensambles) relevantes para resolver el problema y evaluar su desempeño. Diferentes algoritmos pueden comportarse de manera óptima en diferentes tipos de datos o tareas. La construcción de modelos alternativos permite explorar y evaluar cuál de ellos proporciona el mejor rendimiento para un problema particular.\n",
    "\n",
    "Además, los modelos se pueden ajustar para determinar si se puede mejorar su rendimiento. Diferentes configuraciones de hiperparámetros pueden afectar significativamente el rendimiento de un modelo. Construir modelos alternativos implica explorar y ajustar estos hiperparámetros para encontrar la configuración óptima."
   ]
  },
  {
   "cell_type": "markdown",
   "id": "3604f302",
   "metadata": {},
   "source": [
    "# Introducción"
   ]
  },
  {
   "cell_type": "markdown",
   "id": "376a97b1",
   "metadata": {},
   "source": [
    "Durante la entrega del Avance 3, trabajamos con 2 modelos de regresión los cuáles fueron `RandomForestRegressor` y `XGBoost`. De éstos 2 modelos, el que mejor rendimiento tuvo fue el `RandomForestRegressor`, con un R^2 de `0.53`.\n",
    "\n",
    "Por lo anterior, estaremos explorando al menos 6 modelos distintos y cambiando nuestro Feature Engineering para lograr un mejor resultado en la predicción de nuestro R^2 o `accuracy` score si decidimos trabajar sobre la variable `severity_encode`. Agregado a esto, haremos una etapa de feature engineering la cual incluirá:\n",
    "\n",
    "- La precipitación registrada por la estación climatológica más cercana a la ubicación de la trampa muestreada durante el mismo mes en que se tomó la muestra.\n",
    "- La temperatura media, maxima y mínima de la estación climatológica más cercana a la ubicación de la trampa muestreada en el mismo año y mes.\n",
    "\n",
    "Esta información está disponible desde `https://smn.conagua.gob.mx/es/climatologia/temperaturas-y-lluvias/resumenes-mensuales-de-temperaturas-y-lluvias`, y es posible descargar esta información por medio de los scripts `smn_precipitation_downloader.py` y `smn_temp_downloader.py`, y generar los archivos CSV por medio de los scripts `smn_precipitation_builder.py` y `smn_temp_builder.py`."
   ]
  },
  {
   "cell_type": "markdown",
   "id": "8ed96aa2",
   "metadata": {},
   "source": [
    "# Objetivo"
   ]
  },
  {
   "cell_type": "markdown",
   "id": "e3e7e061",
   "metadata": {},
   "source": [
    "Con lo anterior, es importante tomar en cuenta que nuestro objetivo para esta entrega se basa en predecir el nivel de infestación con la que se catalogan los focos de infestación (seguro, leve, moderado y severo). \n",
    "\n",
    "Ahora, como sabemos, contamos con un dataset desbalanceado:\n",
    "\n",
    "- El 62% de las muestras históricas son leves.\n",
    "- El 35% de los registros indican un nivel seguro de severidad.\n",
    "- El 1.1% se considera como moderado.\n",
    "- El 0.15% de la muestra es severa.\n",
    "\n",
    "Por lo anterior, usar una métrica como `accuracy` no es buena idea, ya que nuestros modelos podrían llegar a tener esta métrica elevado haciendo uso de una clasificación leve o segura. Por lo tanto, las métricas que debemos tomar en cuenta son las siguientes:\n",
    "\n",
    "- `Recall`: requerimos detectar correctamente los casos positivos de la clase objetivo.\n",
    "- `F1`: esta métrica nos da una idea de qué tan balanceado es nuestro modelo para todas las clases en general.\n",
    "- `Precision`: nos ayudará a controlar los falsos positivos una vez logremos que nuestro `Recall` mejore.\n",
    "- `AUC`: para analizar los resultados gráficamente y seleccionar el mejor modelo."
   ]
  },
  {
   "cell_type": "markdown",
   "id": "849f44b3",
   "metadata": {},
   "source": [
    "# Librerías"
   ]
  },
  {
   "cell_type": "code",
   "execution_count": 35,
   "id": "b320c3dd",
   "metadata": {},
   "outputs": [],
   "source": [
    "from sklearn.metrics import classification_report, confusion_matrix, accuracy_score\n",
    "from sklearn.model_selection import TimeSeriesSplit, cross_val_score\n",
    "from sklearn.utils.class_weight import compute_sample_weight\n",
    "from sklearn.utils.class_weight import compute_class_weight\n",
    "from sklearn.model_selection import train_test_split\n",
    "from sklearn.ensemble import RandomForestClassifier\n",
    "from sklearn.preprocessing import StandardScaler\n",
    "from sklearn.neural_network import MLPClassifier\n",
    "from sklearn.preprocessing import OneHotEncoder\n",
    "from sklearn.tree import DecisionTreeClassifier\n",
    "from sklearn.preprocessing import LabelEncoder\n",
    "from sklearn.compose import ColumnTransformer\n",
    "from bayes_opt import BayesianOptimization\n",
    "from imblearn.over_sampling import SMOTENC\n",
    "from imblearn.over_sampling import SMOTE\n",
    "from sklearn.neighbors import BallTree\n",
    "from xgboost import XGBClassifier\n",
    "import matplotlib.pyplot as plt\n",
    "import xgboost as xgb\n",
    "import pandas as pd\n",
    "import numpy as np\n",
    "\n",
    "from sklearn.preprocessing import MinMaxScaler\n"
   ]
  },
  {
   "cell_type": "markdown",
   "id": "91c42527",
   "metadata": {},
   "source": [
    "# Carga del dataset"
   ]
  },
  {
   "cell_type": "markdown",
   "id": "0c5f4222",
   "metadata": {},
   "source": [
    "En esta sección cargaremos el dataset `Baseline.xlsx`, el cual contiene los `text_features` para hacer el fine-tuning de nuestro LLM.\n",
    "\n",
    "Por lo tanto, no haremos uso de los `text_features` debido a que éstos son la combinación de varios features previos."
   ]
  },
  {
   "cell_type": "code",
   "execution_count": 2,
   "id": "d3743772",
   "metadata": {},
   "outputs": [
    {
     "data": {
      "text/plain": [
       "Unnamed: 0                              int64\n",
       "tramp_id                               object\n",
       "sampling_date                  datetime64[ns]\n",
       "lat                                   float64\n",
       "lon                                   float64\n",
       "municipality                           object\n",
       "square_area                           float64\n",
       "plantation_age                          int64\n",
       "capture_count                         float64\n",
       "state                                  object\n",
       "square_area_imputed                   float64\n",
       "month                                   int64\n",
       "year                                    int64\n",
       "year_month                             object\n",
       "day_of_year_sin                       float64\n",
       "day_of_year_cos                       float64\n",
       "day_of_week_sin                       float64\n",
       "day_of_week_cos                       float64\n",
       "week_of_year_sin                      float64\n",
       "week_of_year_cos                      float64\n",
       "month_sin                             float64\n",
       "month_cos                             float64\n",
       "critical_season                         int64\n",
       "severity_encoded                        int64\n",
       "distance_to_nearest_hotspot           float64\n",
       "hotspots_within_5km                     int64\n",
       "text_feature_location                  object\n",
       "text_feature_risk                      object\n",
       "text_feature_capture                   object\n",
       "text_feature_plantation                object\n",
       "text_feature_all_things                object\n",
       "dtype: object"
      ]
     },
     "execution_count": 2,
     "metadata": {},
     "output_type": "execute_result"
    }
   ],
   "source": [
    "df = pd.read_excel('baseline.xlsx')\n",
    "df.dtypes"
   ]
  },
  {
   "cell_type": "code",
   "execution_count": 3,
   "id": "2e73216f",
   "metadata": {},
   "outputs": [
    {
     "data": {
      "text/plain": [
       "tramp_id                               object\n",
       "sampling_date                  datetime64[ns]\n",
       "lat                                   float64\n",
       "lon                                   float64\n",
       "municipality                           object\n",
       "plantation_age                          int64\n",
       "capture_count                         float64\n",
       "state                                  object\n",
       "square_area_imputed                   float64\n",
       "month                                   int64\n",
       "year                                    int64\n",
       "year_month                             object\n",
       "day_of_year_sin                       float64\n",
       "day_of_year_cos                       float64\n",
       "day_of_week_sin                       float64\n",
       "day_of_week_cos                       float64\n",
       "week_of_year_sin                      float64\n",
       "week_of_year_cos                      float64\n",
       "month_sin                             float64\n",
       "month_cos                             float64\n",
       "critical_season                         int64\n",
       "severity_encoded                        int64\n",
       "distance_to_nearest_hotspot           float64\n",
       "hotspots_within_5km                     int64\n",
       "dtype: object"
      ]
     },
     "execution_count": 3,
     "metadata": {},
     "output_type": "execute_result"
    }
   ],
   "source": [
    "# Eliminamos las columnas irrelevantes para nuestros modelos.\n",
    "df.drop(labels=['Unnamed: 0', 'square_area', 'text_feature_location',  'text_feature_risk', 'text_feature_capture', 'text_feature_plantation', 'text_feature_all_things'], axis=1, inplace=True)\n",
    "df.dtypes"
   ]
  },
  {
   "cell_type": "markdown",
   "id": "2dfbdfa8",
   "metadata": {},
   "source": [
    "# Feature engineering de nuevo..."
   ]
  },
  {
   "cell_type": "markdown",
   "id": "6c5d5969",
   "metadata": {},
   "source": [
    "## Carga de precipitación y temperatura histórica"
   ]
  },
  {
   "cell_type": "markdown",
   "id": "7a958da2",
   "metadata": {},
   "source": [
    "Con base en los resultados obtenidos en nuestro Baseline, vemos con buenos ojos pensar de nuevo los features que debemos tomar en cuenta para predecir la severidad de un posible foco de infección.\n",
    "\n",
    "Para esto, hemos descargado y procesado la información disponible de parte del Gobierno de México para tomar en cuenta:\n",
    "\n",
    "- La precipitación en mm.\n",
    "- La temperatura media, máxima y mínima \n",
    "\n",
    "Y haremos uso de la información proporcionada por la estación más cercana a cada muestra de nuestro dataset."
   ]
  },
  {
   "cell_type": "code",
   "execution_count": 4,
   "id": "044fa5e0",
   "metadata": {},
   "outputs": [
    {
     "name": "stdout",
     "output_type": "stream",
     "text": [
      "El dataset de precipitacion tiene estas columnas: ['lon', 'lat', 'state', 'cve_sih', 'name', 'precipitation(mm)', 'year-month']\n",
      "El dataset de avg_temp tiene estas columnas: Index(['lon', 'lat', 'state', 'cve_sih', 'name', 'TMed', 'year-month'], dtype='object')\n",
      "El dataset de max_temp tiene estas columnas: Index(['lon', 'lat', 'state', 'cve_sih', 'name', 'TMax', 'year-month'], dtype='object')\n",
      "El dataset de min_temp tiene estas columnas: Index(['lon', 'lat', 'state', 'cve_sih', 'name', 'TMin', 'year-month'], dtype='object')\n"
     ]
    }
   ],
   "source": [
    "precipitation_df = pd.read_csv('precipitation_per_area_historical.csv')\n",
    "avg_temp_df      = pd.read_csv('TMed_per_area_historical.csv')\n",
    "max_temp_df      = pd.read_csv('TMax_per_area_historical.csv')\n",
    "min_temp_df      = pd.read_csv('TMin_per_area_historical.csv')\n",
    "\n",
    "print(f'El dataset de precipitacion tiene estas columnas: {precipitation_df.columns.tolist()}')\n",
    "print(f'El dataset de avg_temp tiene estas columnas: {avg_temp_df.columns}')\n",
    "print(f'El dataset de max_temp tiene estas columnas: {max_temp_df.columns}')\n",
    "print(f'El dataset de min_temp tiene estas columnas: {min_temp_df.columns}')"
   ]
  },
  {
   "cell_type": "code",
   "execution_count": 5,
   "id": "a3c1cdf3",
   "metadata": {},
   "outputs": [
    {
     "data": {
      "text/html": [
       "<div>\n",
       "<style scoped>\n",
       "    .dataframe tbody tr th:only-of-type {\n",
       "        vertical-align: middle;\n",
       "    }\n",
       "\n",
       "    .dataframe tbody tr th {\n",
       "        vertical-align: top;\n",
       "    }\n",
       "\n",
       "    .dataframe thead th {\n",
       "        text-align: right;\n",
       "    }\n",
       "</style>\n",
       "<table border=\"1\" class=\"dataframe\">\n",
       "  <thead>\n",
       "    <tr style=\"text-align: right;\">\n",
       "      <th></th>\n",
       "      <th>count</th>\n",
       "      <th>mean</th>\n",
       "      <th>std</th>\n",
       "      <th>min</th>\n",
       "      <th>25%</th>\n",
       "      <th>50%</th>\n",
       "      <th>75%</th>\n",
       "      <th>max</th>\n",
       "    </tr>\n",
       "  </thead>\n",
       "  <tbody>\n",
       "    <tr>\n",
       "      <th>lon</th>\n",
       "      <td>158067.0</td>\n",
       "      <td>1.717909e+08</td>\n",
       "      <td>9.853862e+08</td>\n",
       "      <td>873.0</td>\n",
       "      <td>10172.0</td>\n",
       "      <td>97021111.0</td>\n",
       "      <td>1.006344e+08</td>\n",
       "      <td>9.999958e+09</td>\n",
       "    </tr>\n",
       "    <tr>\n",
       "      <th>lat</th>\n",
       "      <td>158067.0</td>\n",
       "      <td>5.697327e+07</td>\n",
       "      <td>3.079344e+08</td>\n",
       "      <td>147.0</td>\n",
       "      <td>2345.0</td>\n",
       "      <td>18794167.0</td>\n",
       "      <td>2.107444e+07</td>\n",
       "      <td>3.270472e+09</td>\n",
       "    </tr>\n",
       "    <tr>\n",
       "      <th>precipitation(mm)</th>\n",
       "      <td>158020.0</td>\n",
       "      <td>8.051705e+01</td>\n",
       "      <td>1.165051e+02</td>\n",
       "      <td>0.0</td>\n",
       "      <td>3.0</td>\n",
       "      <td>33.2</td>\n",
       "      <td>1.153200e+02</td>\n",
       "      <td>1.894000e+03</td>\n",
       "    </tr>\n",
       "  </tbody>\n",
       "</table>\n",
       "</div>"
      ],
      "text/plain": [
       "                      count          mean           std    min      25%  \\\n",
       "lon                158067.0  1.717909e+08  9.853862e+08  873.0  10172.0   \n",
       "lat                158067.0  5.697327e+07  3.079344e+08  147.0   2345.0   \n",
       "precipitation(mm)  158020.0  8.051705e+01  1.165051e+02    0.0      3.0   \n",
       "\n",
       "                          50%           75%           max  \n",
       "lon                97021111.0  1.006344e+08  9.999958e+09  \n",
       "lat                18794167.0  2.107444e+07  3.270472e+09  \n",
       "precipitation(mm)        33.2  1.153200e+02  1.894000e+03  "
      ]
     },
     "execution_count": 5,
     "metadata": {},
     "output_type": "execute_result"
    }
   ],
   "source": [
    "precipitation_df.describe().T"
   ]
  },
  {
   "cell_type": "code",
   "execution_count": 6,
   "id": "bced3ec6",
   "metadata": {},
   "outputs": [
    {
     "data": {
      "text/html": [
       "<div>\n",
       "<style scoped>\n",
       "    .dataframe tbody tr th:only-of-type {\n",
       "        vertical-align: middle;\n",
       "    }\n",
       "\n",
       "    .dataframe tbody tr th {\n",
       "        vertical-align: top;\n",
       "    }\n",
       "\n",
       "    .dataframe thead th {\n",
       "        text-align: right;\n",
       "    }\n",
       "</style>\n",
       "<table border=\"1\" class=\"dataframe\">\n",
       "  <thead>\n",
       "    <tr style=\"text-align: right;\">\n",
       "      <th></th>\n",
       "      <th>count</th>\n",
       "      <th>mean</th>\n",
       "      <th>std</th>\n",
       "      <th>min</th>\n",
       "      <th>25%</th>\n",
       "      <th>50%</th>\n",
       "      <th>75%</th>\n",
       "      <th>max</th>\n",
       "    </tr>\n",
       "  </thead>\n",
       "  <tbody>\n",
       "    <tr>\n",
       "      <th>lon</th>\n",
       "      <td>163149.0</td>\n",
       "      <td>-101.184182</td>\n",
       "      <td>5.850756</td>\n",
       "      <td>-118.29</td>\n",
       "      <td>-104.37</td>\n",
       "      <td>-100.3</td>\n",
       "      <td>-98.16</td>\n",
       "      <td>-86.74</td>\n",
       "    </tr>\n",
       "    <tr>\n",
       "      <th>lat</th>\n",
       "      <td>163149.0</td>\n",
       "      <td>22.092611</td>\n",
       "      <td>4.143454</td>\n",
       "      <td>-99.90</td>\n",
       "      <td>19.12</td>\n",
       "      <td>20.8</td>\n",
       "      <td>25.03</td>\n",
       "      <td>32.70</td>\n",
       "    </tr>\n",
       "    <tr>\n",
       "      <th>TMed</th>\n",
       "      <td>163149.0</td>\n",
       "      <td>22.292233</td>\n",
       "      <td>5.657826</td>\n",
       "      <td>-99.90</td>\n",
       "      <td>18.10</td>\n",
       "      <td>22.3</td>\n",
       "      <td>27.00</td>\n",
       "      <td>41.80</td>\n",
       "    </tr>\n",
       "  </tbody>\n",
       "</table>\n",
       "</div>"
      ],
      "text/plain": [
       "         count        mean       std     min     25%    50%    75%    max\n",
       "lon   163149.0 -101.184182  5.850756 -118.29 -104.37 -100.3 -98.16 -86.74\n",
       "lat   163149.0   22.092611  4.143454  -99.90   19.12   20.8  25.03  32.70\n",
       "TMed  163149.0   22.292233  5.657826  -99.90   18.10   22.3  27.00  41.80"
      ]
     },
     "execution_count": 6,
     "metadata": {},
     "output_type": "execute_result"
    }
   ],
   "source": [
    "avg_temp_df.describe().T"
   ]
  },
  {
   "cell_type": "code",
   "execution_count": 7,
   "id": "9c738213",
   "metadata": {},
   "outputs": [
    {
     "data": {
      "text/html": [
       "<div>\n",
       "<style scoped>\n",
       "    .dataframe tbody tr th:only-of-type {\n",
       "        vertical-align: middle;\n",
       "    }\n",
       "\n",
       "    .dataframe tbody tr th {\n",
       "        vertical-align: top;\n",
       "    }\n",
       "\n",
       "    .dataframe thead th {\n",
       "        text-align: right;\n",
       "    }\n",
       "</style>\n",
       "<table border=\"1\" class=\"dataframe\">\n",
       "  <thead>\n",
       "    <tr style=\"text-align: right;\">\n",
       "      <th></th>\n",
       "      <th>count</th>\n",
       "      <th>mean</th>\n",
       "      <th>std</th>\n",
       "      <th>min</th>\n",
       "      <th>25%</th>\n",
       "      <th>50%</th>\n",
       "      <th>75%</th>\n",
       "      <th>max</th>\n",
       "    </tr>\n",
       "  </thead>\n",
       "  <tbody>\n",
       "    <tr>\n",
       "      <th>lon</th>\n",
       "      <td>163237.0</td>\n",
       "      <td>-101.183637</td>\n",
       "      <td>5.850671</td>\n",
       "      <td>-118.29</td>\n",
       "      <td>-104.37</td>\n",
       "      <td>-100.3</td>\n",
       "      <td>-98.16</td>\n",
       "      <td>-86.74</td>\n",
       "    </tr>\n",
       "    <tr>\n",
       "      <th>lat</th>\n",
       "      <td>163237.0</td>\n",
       "      <td>22.092476</td>\n",
       "      <td>4.143737</td>\n",
       "      <td>-99.90</td>\n",
       "      <td>19.12</td>\n",
       "      <td>20.8</td>\n",
       "      <td>25.03</td>\n",
       "      <td>32.70</td>\n",
       "    </tr>\n",
       "    <tr>\n",
       "      <th>TMax</th>\n",
       "      <td>163237.0</td>\n",
       "      <td>29.519894</td>\n",
       "      <td>5.428911</td>\n",
       "      <td>-99.90</td>\n",
       "      <td>25.60</td>\n",
       "      <td>29.7</td>\n",
       "      <td>33.60</td>\n",
       "      <td>51.10</td>\n",
       "    </tr>\n",
       "  </tbody>\n",
       "</table>\n",
       "</div>"
      ],
      "text/plain": [
       "         count        mean       std     min     25%    50%    75%    max\n",
       "lon   163237.0 -101.183637  5.850671 -118.29 -104.37 -100.3 -98.16 -86.74\n",
       "lat   163237.0   22.092476  4.143737  -99.90   19.12   20.8  25.03  32.70\n",
       "TMax  163237.0   29.519894  5.428911  -99.90   25.60   29.7  33.60  51.10"
      ]
     },
     "execution_count": 7,
     "metadata": {},
     "output_type": "execute_result"
    }
   ],
   "source": [
    "max_temp_df.describe().T"
   ]
  },
  {
   "cell_type": "code",
   "execution_count": 8,
   "id": "aaef9e2f",
   "metadata": {},
   "outputs": [
    {
     "data": {
      "text/html": [
       "<div>\n",
       "<style scoped>\n",
       "    .dataframe tbody tr th:only-of-type {\n",
       "        vertical-align: middle;\n",
       "    }\n",
       "\n",
       "    .dataframe tbody tr th {\n",
       "        vertical-align: top;\n",
       "    }\n",
       "\n",
       "    .dataframe thead th {\n",
       "        text-align: right;\n",
       "    }\n",
       "</style>\n",
       "<table border=\"1\" class=\"dataframe\">\n",
       "  <thead>\n",
       "    <tr style=\"text-align: right;\">\n",
       "      <th></th>\n",
       "      <th>count</th>\n",
       "      <th>mean</th>\n",
       "      <th>std</th>\n",
       "      <th>min</th>\n",
       "      <th>25%</th>\n",
       "      <th>50%</th>\n",
       "      <th>75%</th>\n",
       "      <th>max</th>\n",
       "    </tr>\n",
       "  </thead>\n",
       "  <tbody>\n",
       "    <tr>\n",
       "      <th>lon</th>\n",
       "      <td>163264.0</td>\n",
       "      <td>-101.182702</td>\n",
       "      <td>5.850383</td>\n",
       "      <td>-118.29</td>\n",
       "      <td>-104.37</td>\n",
       "      <td>-100.30</td>\n",
       "      <td>-98.15</td>\n",
       "      <td>-86.74</td>\n",
       "    </tr>\n",
       "    <tr>\n",
       "      <th>lat</th>\n",
       "      <td>163264.0</td>\n",
       "      <td>22.091303</td>\n",
       "      <td>4.143190</td>\n",
       "      <td>-99.90</td>\n",
       "      <td>19.12</td>\n",
       "      <td>20.75</td>\n",
       "      <td>25.03</td>\n",
       "      <td>32.70</td>\n",
       "    </tr>\n",
       "    <tr>\n",
       "      <th>TMin</th>\n",
       "      <td>163264.0</td>\n",
       "      <td>15.092148</td>\n",
       "      <td>6.768767</td>\n",
       "      <td>-99.90</td>\n",
       "      <td>10.10</td>\n",
       "      <td>15.00</td>\n",
       "      <td>20.80</td>\n",
       "      <td>38.00</td>\n",
       "    </tr>\n",
       "  </tbody>\n",
       "</table>\n",
       "</div>"
      ],
      "text/plain": [
       "         count        mean       std     min     25%     50%    75%    max\n",
       "lon   163264.0 -101.182702  5.850383 -118.29 -104.37 -100.30 -98.15 -86.74\n",
       "lat   163264.0   22.091303  4.143190  -99.90   19.12   20.75  25.03  32.70\n",
       "TMin  163264.0   15.092148  6.768767  -99.90   10.10   15.00  20.80  38.00"
      ]
     },
     "execution_count": 8,
     "metadata": {},
     "output_type": "execute_result"
    }
   ],
   "source": [
    "min_temp_df.describe().T"
   ]
  },
  {
   "cell_type": "markdown",
   "id": "80951225",
   "metadata": {},
   "source": [
    "Como notamos que la información de temperatura contiene registros con valores negativos de -99.90 grados de temperatura, y como sabemos que esto no pudo pasar en alguno de los estados muestreados, procedemos a eliminar estos registros que seguramente son resultado de una mala muestra."
   ]
  },
  {
   "cell_type": "code",
   "execution_count": 9,
   "id": "ab12d41a",
   "metadata": {},
   "outputs": [],
   "source": [
    "precipitation_df = precipitation_df[ precipitation_df['precipitation(mm)'] >= 0 ]\n",
    "max_temp_df      = max_temp_df[ max_temp_df['TMax'] >= -99 ]\n",
    "avg_temp_df      = avg_temp_df[ avg_temp_df['TMed'] >= -99 ]\n",
    "min_temp_df      = min_temp_df[ min_temp_df['TMin'] >= -99 ]"
   ]
  },
  {
   "cell_type": "code",
   "execution_count": 10,
   "id": "1d656935",
   "metadata": {},
   "outputs": [
    {
     "data": {
      "text/html": [
       "<div>\n",
       "<style scoped>\n",
       "    .dataframe tbody tr th:only-of-type {\n",
       "        vertical-align: middle;\n",
       "    }\n",
       "\n",
       "    .dataframe tbody tr th {\n",
       "        vertical-align: top;\n",
       "    }\n",
       "\n",
       "    .dataframe thead th {\n",
       "        text-align: right;\n",
       "    }\n",
       "</style>\n",
       "<table border=\"1\" class=\"dataframe\">\n",
       "  <thead>\n",
       "    <tr style=\"text-align: right;\">\n",
       "      <th></th>\n",
       "      <th>count</th>\n",
       "      <th>mean</th>\n",
       "      <th>std</th>\n",
       "      <th>min</th>\n",
       "      <th>25%</th>\n",
       "      <th>50%</th>\n",
       "      <th>75%</th>\n",
       "      <th>max</th>\n",
       "    </tr>\n",
       "  </thead>\n",
       "  <tbody>\n",
       "    <tr>\n",
       "      <th>lon</th>\n",
       "      <td>158020.0</td>\n",
       "      <td>1.718176e+08</td>\n",
       "      <td>9.855313e+08</td>\n",
       "      <td>873.0</td>\n",
       "      <td>10172.0</td>\n",
       "      <td>97021111.0</td>\n",
       "      <td>1.006344e+08</td>\n",
       "      <td>9.999958e+09</td>\n",
       "    </tr>\n",
       "    <tr>\n",
       "      <th>lat</th>\n",
       "      <td>158020.0</td>\n",
       "      <td>5.698401e+07</td>\n",
       "      <td>3.079796e+08</td>\n",
       "      <td>147.0</td>\n",
       "      <td>2345.0</td>\n",
       "      <td>18789167.0</td>\n",
       "      <td>2.107444e+07</td>\n",
       "      <td>3.270472e+09</td>\n",
       "    </tr>\n",
       "    <tr>\n",
       "      <th>precipitation(mm)</th>\n",
       "      <td>158020.0</td>\n",
       "      <td>8.051705e+01</td>\n",
       "      <td>1.165051e+02</td>\n",
       "      <td>0.0</td>\n",
       "      <td>3.0</td>\n",
       "      <td>33.2</td>\n",
       "      <td>1.153200e+02</td>\n",
       "      <td>1.894000e+03</td>\n",
       "    </tr>\n",
       "  </tbody>\n",
       "</table>\n",
       "</div>"
      ],
      "text/plain": [
       "                      count          mean           std    min      25%  \\\n",
       "lon                158020.0  1.718176e+08  9.855313e+08  873.0  10172.0   \n",
       "lat                158020.0  5.698401e+07  3.079796e+08  147.0   2345.0   \n",
       "precipitation(mm)  158020.0  8.051705e+01  1.165051e+02    0.0      3.0   \n",
       "\n",
       "                          50%           75%           max  \n",
       "lon                97021111.0  1.006344e+08  9.999958e+09  \n",
       "lat                18789167.0  2.107444e+07  3.270472e+09  \n",
       "precipitation(mm)        33.2  1.153200e+02  1.894000e+03  "
      ]
     },
     "execution_count": 10,
     "metadata": {},
     "output_type": "execute_result"
    }
   ],
   "source": [
    "precipitation_df.describe().T"
   ]
  },
  {
   "cell_type": "code",
   "execution_count": 11,
   "id": "87b8aeb4",
   "metadata": {},
   "outputs": [
    {
     "data": {
      "text/html": [
       "<div>\n",
       "<style scoped>\n",
       "    .dataframe tbody tr th:only-of-type {\n",
       "        vertical-align: middle;\n",
       "    }\n",
       "\n",
       "    .dataframe tbody tr th {\n",
       "        vertical-align: top;\n",
       "    }\n",
       "\n",
       "    .dataframe thead th {\n",
       "        text-align: right;\n",
       "    }\n",
       "</style>\n",
       "<table border=\"1\" class=\"dataframe\">\n",
       "  <thead>\n",
       "    <tr style=\"text-align: right;\">\n",
       "      <th></th>\n",
       "      <th>count</th>\n",
       "      <th>mean</th>\n",
       "      <th>std</th>\n",
       "      <th>min</th>\n",
       "      <th>25%</th>\n",
       "      <th>50%</th>\n",
       "      <th>75%</th>\n",
       "      <th>max</th>\n",
       "    </tr>\n",
       "  </thead>\n",
       "  <tbody>\n",
       "    <tr>\n",
       "      <th>lon</th>\n",
       "      <td>163144.0</td>\n",
       "      <td>-101.184222</td>\n",
       "      <td>5.850841</td>\n",
       "      <td>-118.29</td>\n",
       "      <td>-104.37</td>\n",
       "      <td>-100.3</td>\n",
       "      <td>-98.16</td>\n",
       "      <td>-86.74</td>\n",
       "    </tr>\n",
       "    <tr>\n",
       "      <th>lat</th>\n",
       "      <td>163144.0</td>\n",
       "      <td>22.096349</td>\n",
       "      <td>4.088107</td>\n",
       "      <td>14.63</td>\n",
       "      <td>19.12</td>\n",
       "      <td>20.8</td>\n",
       "      <td>25.03</td>\n",
       "      <td>32.70</td>\n",
       "    </tr>\n",
       "    <tr>\n",
       "      <th>TMed</th>\n",
       "      <td>163144.0</td>\n",
       "      <td>22.295978</td>\n",
       "      <td>5.617327</td>\n",
       "      <td>-0.80</td>\n",
       "      <td>18.10</td>\n",
       "      <td>22.3</td>\n",
       "      <td>27.00</td>\n",
       "      <td>41.80</td>\n",
       "    </tr>\n",
       "  </tbody>\n",
       "</table>\n",
       "</div>"
      ],
      "text/plain": [
       "         count        mean       std     min     25%    50%    75%    max\n",
       "lon   163144.0 -101.184222  5.850841 -118.29 -104.37 -100.3 -98.16 -86.74\n",
       "lat   163144.0   22.096349  4.088107   14.63   19.12   20.8  25.03  32.70\n",
       "TMed  163144.0   22.295978  5.617327   -0.80   18.10   22.3  27.00  41.80"
      ]
     },
     "execution_count": 11,
     "metadata": {},
     "output_type": "execute_result"
    }
   ],
   "source": [
    "avg_temp_df.describe().T"
   ]
  },
  {
   "cell_type": "code",
   "execution_count": 12,
   "id": "06a45049",
   "metadata": {},
   "outputs": [
    {
     "data": {
      "text/html": [
       "<div>\n",
       "<style scoped>\n",
       "    .dataframe tbody tr th:only-of-type {\n",
       "        vertical-align: middle;\n",
       "    }\n",
       "\n",
       "    .dataframe tbody tr th {\n",
       "        vertical-align: top;\n",
       "    }\n",
       "\n",
       "    .dataframe thead th {\n",
       "        text-align: right;\n",
       "    }\n",
       "</style>\n",
       "<table border=\"1\" class=\"dataframe\">\n",
       "  <thead>\n",
       "    <tr style=\"text-align: right;\">\n",
       "      <th></th>\n",
       "      <th>count</th>\n",
       "      <th>mean</th>\n",
       "      <th>std</th>\n",
       "      <th>min</th>\n",
       "      <th>25%</th>\n",
       "      <th>50%</th>\n",
       "      <th>75%</th>\n",
       "      <th>max</th>\n",
       "    </tr>\n",
       "  </thead>\n",
       "  <tbody>\n",
       "    <tr>\n",
       "      <th>lon</th>\n",
       "      <td>163232.0</td>\n",
       "      <td>-101.183677</td>\n",
       "      <td>5.850757</td>\n",
       "      <td>-118.29</td>\n",
       "      <td>-104.37</td>\n",
       "      <td>-100.3</td>\n",
       "      <td>-98.16</td>\n",
       "      <td>-86.74</td>\n",
       "    </tr>\n",
       "    <tr>\n",
       "      <th>lat</th>\n",
       "      <td>163232.0</td>\n",
       "      <td>22.096213</td>\n",
       "      <td>4.088424</td>\n",
       "      <td>14.63</td>\n",
       "      <td>19.12</td>\n",
       "      <td>20.8</td>\n",
       "      <td>25.03</td>\n",
       "      <td>32.70</td>\n",
       "    </tr>\n",
       "    <tr>\n",
       "      <th>TMax</th>\n",
       "      <td>163232.0</td>\n",
       "      <td>29.523859</td>\n",
       "      <td>5.381533</td>\n",
       "      <td>3.20</td>\n",
       "      <td>25.60</td>\n",
       "      <td>29.7</td>\n",
       "      <td>33.60</td>\n",
       "      <td>51.10</td>\n",
       "    </tr>\n",
       "  </tbody>\n",
       "</table>\n",
       "</div>"
      ],
      "text/plain": [
       "         count        mean       std     min     25%    50%    75%    max\n",
       "lon   163232.0 -101.183677  5.850757 -118.29 -104.37 -100.3 -98.16 -86.74\n",
       "lat   163232.0   22.096213  4.088424   14.63   19.12   20.8  25.03  32.70\n",
       "TMax  163232.0   29.523859  5.381533    3.20   25.60   29.7  33.60  51.10"
      ]
     },
     "execution_count": 12,
     "metadata": {},
     "output_type": "execute_result"
    }
   ],
   "source": [
    "max_temp_df.describe().T"
   ]
  },
  {
   "cell_type": "code",
   "execution_count": 13,
   "id": "7627c894",
   "metadata": {},
   "outputs": [
    {
     "data": {
      "text/html": [
       "<div>\n",
       "<style scoped>\n",
       "    .dataframe tbody tr th:only-of-type {\n",
       "        vertical-align: middle;\n",
       "    }\n",
       "\n",
       "    .dataframe tbody tr th {\n",
       "        vertical-align: top;\n",
       "    }\n",
       "\n",
       "    .dataframe thead th {\n",
       "        text-align: right;\n",
       "    }\n",
       "</style>\n",
       "<table border=\"1\" class=\"dataframe\">\n",
       "  <thead>\n",
       "    <tr style=\"text-align: right;\">\n",
       "      <th></th>\n",
       "      <th>count</th>\n",
       "      <th>mean</th>\n",
       "      <th>std</th>\n",
       "      <th>min</th>\n",
       "      <th>25%</th>\n",
       "      <th>50%</th>\n",
       "      <th>75%</th>\n",
       "      <th>max</th>\n",
       "    </tr>\n",
       "  </thead>\n",
       "  <tbody>\n",
       "    <tr>\n",
       "      <th>lon</th>\n",
       "      <td>163259.0</td>\n",
       "      <td>-101.182741</td>\n",
       "      <td>5.850468</td>\n",
       "      <td>-118.29</td>\n",
       "      <td>-104.37</td>\n",
       "      <td>-100.30</td>\n",
       "      <td>-98.15</td>\n",
       "      <td>-86.74</td>\n",
       "    </tr>\n",
       "    <tr>\n",
       "      <th>lat</th>\n",
       "      <td>163259.0</td>\n",
       "      <td>22.095040</td>\n",
       "      <td>4.087879</td>\n",
       "      <td>14.63</td>\n",
       "      <td>19.12</td>\n",
       "      <td>20.75</td>\n",
       "      <td>25.03</td>\n",
       "      <td>32.70</td>\n",
       "    </tr>\n",
       "    <tr>\n",
       "      <th>TMin</th>\n",
       "      <td>163259.0</td>\n",
       "      <td>15.095670</td>\n",
       "      <td>6.738888</td>\n",
       "      <td>-13.30</td>\n",
       "      <td>10.10</td>\n",
       "      <td>15.00</td>\n",
       "      <td>20.80</td>\n",
       "      <td>38.00</td>\n",
       "    </tr>\n",
       "  </tbody>\n",
       "</table>\n",
       "</div>"
      ],
      "text/plain": [
       "         count        mean       std     min     25%     50%    75%    max\n",
       "lon   163259.0 -101.182741  5.850468 -118.29 -104.37 -100.30 -98.15 -86.74\n",
       "lat   163259.0   22.095040  4.087879   14.63   19.12   20.75  25.03  32.70\n",
       "TMin  163259.0   15.095670  6.738888  -13.30   10.10   15.00  20.80  38.00"
      ]
     },
     "execution_count": 13,
     "metadata": {},
     "output_type": "execute_result"
    }
   ],
   "source": [
    "min_temp_df.describe().T"
   ]
  },
  {
   "cell_type": "markdown",
   "id": "fe86c114",
   "metadata": {},
   "source": [
    "Con lo anterior, confirmamos que nuestros datasets de precipitación y temperaturas son correctos."
   ]
  },
  {
   "cell_type": "markdown",
   "id": "0ecdfa9e",
   "metadata": {},
   "source": [
    "#### Información sobre el clima"
   ]
  },
  {
   "cell_type": "code",
   "execution_count": 14,
   "id": "424a2950",
   "metadata": {},
   "outputs": [],
   "source": [
    "# Year-Month es una columna planeada para hacer el match con las estaciones más cercanas a cada trampa registrada\n",
    "df = df.rename(columns={'year_month': 'year-month'})"
   ]
  },
  {
   "cell_type": "code",
   "execution_count": 15,
   "id": "73ee787d",
   "metadata": {},
   "outputs": [],
   "source": [
    "# Esta función nos ayudará a:\n",
    "# - Filtrar por año-mes las estaciones disponibles.\n",
    "# - Identificar la estación más cercana al usar la formular de Haversine (esta toma en cuenta la curvatura de la Tierra)\n",
    "# - Nuevamente usamos BallTree para hacer uso de funciones vectorizadas y no calcular la distancia por medio de ciclos\n",
    "\n",
    "\n",
    "def find_weather_station(df_samples, weather_df, value_col):\n",
    "    \n",
    "    results = []\n",
    "    \n",
    "    for ym, group in df_samples.groupby('year-month'):\n",
    "        \n",
    "        subset = weather_df[(weather_df['year-month'] == ym) & (weather_df[value_col].notna())]\n",
    "        \n",
    "        if subset.empty:\n",
    "            results.extend([np.nan] * len(group))\n",
    "            continue\n",
    "        \n",
    "        # Usamos BallTree para calcular la distancia, ya que este modelo está vectorizado\n",
    "        tree = BallTree(np.radians(subset[['lat', 'lon']].values), metric='haversine')\n",
    "        \n",
    "        # Obtenemos la distancia y elemento mas cercano\n",
    "        distances, indices = tree.query(np.radians(group[['lat', 'lon']].values), k=1)\n",
    "        nearest_values = subset.iloc[indices.flatten()][value_col].values\n",
    "        results.extend(nearest_values)\n",
    "\n",
    "    return np.array(results)"
   ]
  },
  {
   "cell_type": "code",
   "execution_count": 16,
   "id": "bad82ef0",
   "metadata": {},
   "outputs": [
    {
     "name": "stdout",
     "output_type": "stream",
     "text": [
      "Original: 827856 | Filtrado: 827856\n"
     ]
    }
   ],
   "source": [
    "# Aquí podemos definir de cuando a cuando filtrar nuestro DataSet para hacer experimentos rapidos\n",
    "# con cada tipo de modelo.\n",
    "\n",
    "df_filtered = df[(df['sampling_date'].dt.year >= 2014) & \n",
    "                 (df['sampling_date'].dt.year <= 2025)]\n",
    "\n",
    "print(f\"Original: {len(df)} | Filtrado: {len(df_filtered)}\")"
   ]
  },
  {
   "cell_type": "code",
   "execution_count": 17,
   "id": "627ac9dc",
   "metadata": {},
   "outputs": [],
   "source": [
    "# Agregamos las columnas de temperatura y precipitacion a nuestro dataset. La idea principal es que \n",
    "# conocemos esto porque la SMN mantiene en su sitio web los valores históricos de precipitacion,\n",
    "# temperatura maxima, minima y promedio por estacion meteorologica, y como conocemos\n",
    "# la ubicacion de las estaciones y trampas, podemos ver cual es la estacion mas cercana y adjuntar esa\n",
    "# data a nuestro dataset.\n",
    "\n",
    "df_filtered['precipitation'] = find_weather_station(df_filtered, precipitation_df, 'precipitation(mm)')\n",
    "df_filtered['avg_temp'] = find_weather_station(df_filtered, avg_temp_df, 'TMed')\n",
    "df_filtered['max_temp'] = find_weather_station(df_filtered, max_temp_df, 'TMax')\n",
    "df_filtered['min_temp'] = find_weather_station(df_filtered, min_temp_df, 'TMin')\n",
    "\n",
    "\n",
    "# Debemos descomenttar la siguiente línea de código si queremos generar un archivo de Excel que incluya la informacion del clima.\n",
    "# df_filtered.to_excel('data_with_weather_information.xlsx', index= False )\n",
    "\n",
    "# Esta línea de código permite cargar la información lista con los aspectos de precipitacion y temperatura\n",
    "#df_filtered = pd.read_excel('data_with_weather_information.xlsx')"
   ]
  },
  {
   "cell_type": "code",
   "execution_count": 20,
   "id": "03ac66ae",
   "metadata": {},
   "outputs": [
    {
     "name": "stdout",
     "output_type": "stream",
     "text": [
      "Porcentajes de presencia de severity_encoded:\n"
     ]
    },
    {
     "data": {
      "text/plain": [
       "severity_encoded\n",
       "1    62.650872\n",
       "0    35.207210\n",
       "2     1.990201\n",
       "3     0.151717\n",
       "Name: count, dtype: float64"
      ]
     },
     "execution_count": 20,
     "metadata": {},
     "output_type": "execute_result"
    }
   ],
   "source": [
    "# Confirmamos que tenemos un dataset desbalanceado\n",
    "\n",
    "print(\"Porcentajes de presencia de severity_encoded:\")\n",
    "df_filtered['severity_encoded'].value_counts() / len(df_filtered) * 100"
   ]
  },
  {
   "cell_type": "markdown",
   "id": "b1a491c3",
   "metadata": {},
   "source": [
    "### Creamos `rolling_features`"
   ]
  },
  {
   "cell_type": "code",
   "execution_count": null,
   "id": "14ea1e92",
   "metadata": {},
   "outputs": [],
   "source": [
    "# df_filtered = df_filtered.sort_values(['tramp_id', 'sampling_date'])\n",
    "\n",
    "# rolling_features = {\n",
    "#     'precipitation': ['sum', 'mean'],\n",
    "#     'avg_temp': ['mean', 'std'],\n",
    "#     'max_temp': ['max'],\n",
    "#     'min_temp': ['min'],\n",
    "#     'distance_to_nearest_hotspot': ['mean', 'std'],\n",
    "#     'hotspots_within_5km': ['mean', 'sum'],\n",
    "#     'square_area_imputed': ['mean'],\n",
    "# }\n",
    "\n",
    "# window_sizes = [15, 30, 60, 120, 180]\n",
    "\n",
    "# for window in window_sizes:\n",
    "#     rolled = (\n",
    "#         df_filtered\n",
    "#         .groupby('tramp_id', group_keys=False)\n",
    "#         .rolling(window=window, min_periods=1)\n",
    "#         .agg(rolling_features)\n",
    "#         .reset_index(level=0, drop=True)\n",
    "#     )\n",
    "\n",
    "    \n",
    "#     if isinstance(rolled.columns, pd.MultiIndex):\n",
    "#         rolled.columns = [f\"{col}_roll{window}_{func}\" for col, func in rolled.columns]\n",
    "#     else:\n",
    "#         rolled.columns = [f\"{col}_roll{window}\" for col in rolled.columns]\n",
    "\n",
    "#     df_filtered = pd.concat([df_filtered, rolled], axis=1)\n",
    "\n",
    "# df_filtered = (\n",
    "#     df_filtered\n",
    "#     .groupby('tramp_id', group_keys=False)\n",
    "#     .apply(lambda g: g.ffill().bfill())\n",
    "#     .reset_index(drop=True)\n",
    "# )\n"
   ]
  },
  {
   "cell_type": "code",
   "execution_count": null,
   "id": "9e214a21",
   "metadata": {},
   "outputs": [],
   "source": [
    "# df_filtered = df_filtered.sort_values(['tramp_id', 'sampling_date'])\n",
    "\n",
    "# rolling_features = {\n",
    "#     'precipitation': ['sum', 'mean'],\n",
    "#     'avg_temp': ['mean', 'std'],\n",
    "#     'max_temp': ['max'],\n",
    "#     'min_temp': ['min'],\n",
    "#     'distance_to_nearest_hotspot': ['mean', 'std'],\n",
    "#     'hotspots_within_5km': ['mean', 'sum'],\n",
    "#     'square_area_imputed': ['mean'],\n",
    "# }\n",
    "\n",
    "# window_sizes = [15, 30, 60, 120, 180]\n",
    "\n",
    "# for window in window_sizes:\n",
    "#     rolled = (\n",
    "#         df_filtered\n",
    "#         .groupby('tramp_id', group_keys=False)\n",
    "#         .rolling(window=window, min_periods=1)\n",
    "#         .agg(rolling_features)\n",
    "#     )\n",
    "\n",
    "#     if isinstance(rolled.columns, pd.MultiIndex):\n",
    "#         rolled.columns = [f\"{col}_roll{window}_{func}\" for col, func in rolled.columns]\n",
    "#     else:\n",
    "#         rolled.columns = [f\"{col}_roll{window}\" for col in rolled.columns]\n",
    "\n",
    "#     df_filtered = pd.concat([df_filtered, rolled.reset_index(level=0, drop=True)], axis=1)\n",
    "    \n",
    "# df_filtered = pd.concat(\n",
    "#     [df_filtered, rolled.reset_index(level=0, drop=True)], axis=1\n",
    "# ).fillna(method='bfill')\n"
   ]
  },
  {
   "cell_type": "markdown",
   "id": "9324ed96",
   "metadata": {},
   "source": [
    "### Lagging features"
   ]
  },
  {
   "cell_type": "code",
   "execution_count": null,
   "id": "6b4e5403",
   "metadata": {},
   "outputs": [],
   "source": [
    "# import pandas as pd\n",
    "\n",
    "# df_filtered = df_filtered.sort_values(['tramp_id', 'sampling_date'])\n",
    "# grouped = df_filtered.groupby('tramp_id', group_keys=False)\n",
    "\n",
    "# lag_features = [\n",
    "#     'precipitation', 'avg_temp', 'max_temp', 'min_temp',\n",
    "#     'distance_to_nearest_hotspot', 'hotspots_within_5km',\n",
    "#     'square_area_imputed', 'plantation_age', 'critical_season'\n",
    "# ]\n",
    "\n",
    "# lags = [1, 3, 7]\n",
    "\n",
    "# for lag in lags:\n",
    "#     shifted = grouped[lag_features].shift(lag)\n",
    "#     shifted.columns = [f\"{col}_lag{lag}\" for col in lag_features]\n",
    "#     df_filtered = pd.concat([df_filtered, shifted], axis=1)\n"
   ]
  },
  {
   "cell_type": "code",
   "execution_count": 19,
   "id": "8bd55856",
   "metadata": {},
   "outputs": [
    {
     "data": {
      "text/plain": [
       "tramp_id                       0\n",
       "sampling_date                  0\n",
       "lat                            0\n",
       "lon                            0\n",
       "municipality                   0\n",
       "plantation_age                 0\n",
       "capture_count                  0\n",
       "state                          0\n",
       "square_area_imputed            0\n",
       "month                          0\n",
       "year                           0\n",
       "year-month                     0\n",
       "day_of_year_sin                0\n",
       "day_of_year_cos                0\n",
       "day_of_week_sin                0\n",
       "day_of_week_cos                0\n",
       "week_of_year_sin               0\n",
       "week_of_year_cos               0\n",
       "month_sin                      0\n",
       "month_cos                      0\n",
       "critical_season                0\n",
       "severity_encoded               0\n",
       "distance_to_nearest_hotspot    0\n",
       "hotspots_within_5km            0\n",
       "precipitation                  0\n",
       "avg_temp                       0\n",
       "max_temp                       0\n",
       "min_temp                       0\n",
       "dtype: int64"
      ]
     },
     "execution_count": 19,
     "metadata": {},
     "output_type": "execute_result"
    }
   ],
   "source": [
    "df_filtered.isna().sum()"
   ]
  },
  {
   "cell_type": "markdown",
   "id": "e19369e3",
   "metadata": {},
   "source": [
    "# RandomForest"
   ]
  },
  {
   "cell_type": "markdown",
   "id": "16ea9dcd",
   "metadata": {},
   "source": [
    "Durante la entrega del Avance 3, trabajamos con 2 modelos de regresión los cuales fueron `RandomForestRegressor` y `XGBoost`. Con esto, `RandomForestRegressor` tuvo mejores resultados, por lo que el primero modelo a implementar con la nueva información del clima será este mismo."
   ]
  },
  {
   "cell_type": "code",
   "execution_count": 26,
   "id": "6a7bddc4",
   "metadata": {},
   "outputs": [
    {
     "name": "stdout",
     "output_type": "stream",
     "text": [
      "Resultados para RandomForest:\n",
      "\n",
      "              precision    recall  f1-score   support\n",
      "\n",
      "           0       0.29      0.17      0.21     24445\n",
      "           1       0.76      0.87      0.82     82928\n",
      "           2       0.16      0.00      0.00      2544\n",
      "           3       0.35      0.96      0.52       110\n",
      "\n",
      "    accuracy                           0.70    110027\n",
      "   macro avg       0.39      0.50      0.39    110027\n",
      "weighted avg       0.64      0.70      0.66    110027\n",
      "\n"
     ]
    }
   ],
   "source": [
    "rf_df = df_filtered.copy()\n",
    "\n",
    "for col in ['state', 'municipality']:\n",
    "    le = LabelEncoder()\n",
    "    rf_df[col] = le.fit_transform(rf_df[col])\n",
    "\n",
    "train_mask = rf_df['sampling_date'].dt.year < 2025\n",
    "test_mask  = rf_df['sampling_date'].dt.year == 2025\n",
    "\n",
    "exclude_cols = [\n",
    "    'severity_encoded','tramp_id', 'capture_count', \n",
    "    'month', 'year', 'year-month', 'sampling_date',\n",
    "]\n",
    "\n",
    "features = [col for col in rf_df.columns if col not in exclude_cols]\n",
    "\n",
    "X_train, y_train = rf_df.loc[train_mask, features], rf_df.loc[train_mask, 'severity_encoded'] # El train dataset es la data historica de 2014 a 2024\n",
    "X_test,  y_test  = rf_df.loc[test_mask,  features], rf_df.loc[test_mask,  'severity_encoded'] # El test dataset es la data a partir de 2025\n",
    "\n",
    "rf_model = RandomForestClassifier(\n",
    "    n_estimators=300,\n",
    "    max_depth=25,\n",
    "    min_samples_split=4,\n",
    "    min_samples_leaf=2,\n",
    "    class_weight='balanced_subsample',\n",
    "    random_state=42,\n",
    "    n_jobs=-1\n",
    ")\n",
    "\n",
    "rf_model.fit(X_train, y_train)\n",
    "\n",
    "y_pred = rf_model.predict(X_test)\n",
    "\n",
    "print(\"Resultados para RandomForest:\\n\")\n",
    "print(classification_report(y_test, y_pred))"
   ]
  },
  {
   "cell_type": "markdown",
   "id": "850f9291",
   "metadata": {},
   "source": [
    "# Con `XGBoost`"
   ]
  },
  {
   "cell_type": "code",
   "execution_count": 31,
   "id": "0bc721cd",
   "metadata": {},
   "outputs": [
    {
     "name": "stdout",
     "output_type": "stream",
     "text": [
      "Resultados para XGBoost (version GPU):\n",
      "              precision    recall  f1-score   support\n",
      "\n",
      "           0       0.25      0.36      0.30     24445\n",
      "           1       0.77      0.65      0.70     82928\n",
      "           2       0.12      0.24      0.16      2544\n",
      "           3       0.32      0.93      0.48       110\n",
      "\n",
      "    accuracy                           0.57    110027\n",
      "   macro avg       0.37      0.54      0.41    110027\n",
      "weighted avg       0.64      0.57      0.60    110027\n",
      "\n"
     ]
    }
   ],
   "source": [
    "class_counts = y_train.value_counts().sort_index()\n",
    "num_classes = len(class_counts)\n",
    "total = len(y_train)\n",
    "class_weights = {i: total / (num_classes * count) for i, count in class_counts.items()}\n",
    "\n",
    "weights = y_train.map(class_weights)\n",
    "\n",
    "xgb_model = XGBClassifier(\n",
    "    tree_method='hist',\n",
    "    device='cuda',\n",
    "    objective='multi:softprob',\n",
    "    eval_metric='mlogloss',\n",
    "    n_estimators=300,\n",
    "    max_depth=10,\n",
    "    learning_rate=0.001,\n",
    "    subsample=0.8,\n",
    "    colsample_bytree=0.8,\n",
    "    random_state=42\n",
    ")\n",
    "\n",
    "xgb_model.fit(X_train, y_train, sample_weight=weights)\n",
    "\n",
    "y_pred = xgb_model.predict(X_test)\n",
    "\n",
    "print(\"Resultados para XGBoost (version GPU):\")\n",
    "print(classification_report(y_test, y_pred))"
   ]
  },
  {
   "cell_type": "markdown",
   "id": "95a0ba5d",
   "metadata": {},
   "source": [
    "# `DecisionTree`"
   ]
  },
  {
   "cell_type": "code",
   "execution_count": 34,
   "id": "2bbea466",
   "metadata": {},
   "outputs": [
    {
     "name": "stdout",
     "output_type": "stream",
     "text": [
      "Resultados:\n",
      "              precision    recall  f1-score   support\n",
      "\n",
      "           0      0.274     0.212     0.239     24445\n",
      "           1      0.762     0.727     0.744     82928\n",
      "           2      0.052     0.238     0.085      2544\n",
      "           3      0.360     0.982     0.527       110\n",
      "\n",
      "    accuracy                          0.602    110027\n",
      "   macro avg      0.362     0.540     0.399    110027\n",
      "weighted avg      0.637     0.602     0.617    110027\n",
      "\n"
     ]
    }
   ],
   "source": [
    "dt_df = df_filtered.copy()\n",
    "\n",
    "for col in ['state', 'municipality']:\n",
    "    le = LabelEncoder()\n",
    "    dt_df[col] = le.fit_transform(dt_df[col])\n",
    "\n",
    "train_mask = dt_df['sampling_date'].dt.year < 2025\n",
    "test_mask  = dt_df['sampling_date'].dt.year == 2025\n",
    "\n",
    "exclude_cols = [\n",
    "    'severity_encoded','tramp_id', 'capture_count', \n",
    "    'month', 'year', 'year-month', 'sampling_date',\n",
    "    #'hotspots_within_5km',\n",
    "    #'distance_to_nearest_hotspot'\n",
    "]\n",
    "\n",
    "features = [col for col in dt_df.columns if col not in exclude_cols]\n",
    "\n",
    "X_train, y_train = dt_df.loc[train_mask, features], dt_df.loc[train_mask, 'severity_encoded'] # El train dataset es la data historica de 2014 a 2024\n",
    "X_test,  y_test  = dt_df.loc[test_mask,  features], dt_df.loc[test_mask,  'severity_encoded'] # El test dataset es la data a partir de 2025\n",
    "\n",
    "dt = DecisionTreeClassifier(\n",
    "    criterion= 'entropy',        \n",
    "    max_depth=10,          \n",
    "    min_samples_split=4,\n",
    "    min_samples_leaf=4,\n",
    "    class_weight='balanced',\n",
    "    random_state=42,\n",
    "    max_features= 'log2'\n",
    ")\n",
    "\n",
    "dt.fit(X_train, y_train)\n",
    "\n",
    "y_pred = dt.predict(X_test)\n",
    "\n",
    "print(\"Resultados:\")\n",
    "print(classification_report(y_test, y_pred, digits=3))"
   ]
  },
  {
   "cell_type": "markdown",
   "id": "58fa605a",
   "metadata": {},
   "source": [
    "# Perceptrón (MLP)"
   ]
  },
  {
   "cell_type": "markdown",
   "id": "2828552e",
   "metadata": {},
   "source": [
    "Para el modelo de MLP, cambiaremos un poco la estrategia:\n",
    "\n",
    "- Codificaremos los estados con OneHot encoding\n",
    "- Configuraremos distintos pesos para las distintas clases objetivo (0, 1, 2 y 3), de forma que la red neuronal entienda que confundirse en predecir las clases minoritarias es peor que confundirse en las clases mayoritarias. "
   ]
  },
  {
   "cell_type": "code",
   "execution_count": 36,
   "id": "afd583fe",
   "metadata": {},
   "outputs": [],
   "source": [
    "split_date = pd.Timestamp('2025-01-01')\n",
    "\n",
    "train_df = df_filtered[df_filtered['sampling_date'] < split_date].copy()\n",
    "test_df  = df_filtered[df_filtered['sampling_date'] >= split_date].copy()\n",
    "\n",
    "X = df_filtered.drop(columns=['severity_encoded', 'sampling_date', 'tramp_id', 'year-month', 'capture_count'])\n",
    "y = df_filtered['severity_encoded']\n",
    "\n",
    "\n",
    "le = LabelEncoder()\n",
    "X['municipality_encoded'] = le.fit_transform(X['municipality'].astype(str))\n",
    "\n",
    "ohe = OneHotEncoder(sparse_output=False, drop='first', handle_unknown='ignore')\n",
    "state_encoded = ohe.fit_transform(X[['state']])\n",
    "\n",
    "state_encoded_df = pd.DataFrame(\n",
    "    state_encoded,\n",
    "    columns=ohe.get_feature_names_out(['state']),\n",
    "    index=X.index\n",
    ")\n",
    "\n",
    "X = X.drop(['state', 'municipality'], axis=1)\n",
    "\n",
    "X_encoded = pd.concat([X, state_encoded_df], axis=1)\n",
    "\n",
    "X_train, X_valid, y_train, y_valid = train_test_split(\n",
    "    X_encoded, y, test_size=0.2, stratify=y, random_state=42\n",
    ")\n",
    "\n",
    "scaler = MinMaxScaler()\n",
    "X_train_scaled = scaler.fit_transform(X_train)\n",
    "X_valid_scaled = scaler.transform(X_valid)"
   ]
  },
  {
   "cell_type": "code",
   "execution_count": null,
   "id": "272eab63",
   "metadata": {},
   "outputs": [],
   "source": [
    "sample_weights = compute_sample_weight(class_weight='balanced', y=y_train)\n",
    "\n",
    "mlp = MLPClassifier(\n",
    "    hidden_layer_sizes=(256, 128),\n",
    "    activation='relu',\n",
    "    solver='adam',\n",
    "    learning_rate_init=0.0001,\n",
    "    alpha=0.001,\n",
    "    batch_size=128,\n",
    "    max_iter=300,\n",
    "    early_stopping=True,\n",
    "    n_iter_no_change=50,\n",
    "    random_state=42,\n",
    "    verbose=True\n",
    ")\n",
    "\n",
    "mlp.fit(X_train_scaled, y_train, sample_weight=sample_weights)"
   ]
  },
  {
   "cell_type": "code",
   "execution_count": null,
   "id": "6370b041",
   "metadata": {},
   "outputs": [],
   "source": [
    "y_pred = mlp.predict(X_valid_scaled)\n",
    "\n",
    "print(classification_report(y_valid, y_pred))"
   ]
  }
 ],
 "metadata": {
  "kernelspec": {
   "display_name": "torch311 (3.11.0)",
   "language": "python",
   "name": "python3"
  },
  "language_info": {
   "codemirror_mode": {
    "name": "ipython",
    "version": 3
   },
   "file_extension": ".py",
   "mimetype": "text/x-python",
   "name": "python",
   "nbconvert_exporter": "python",
   "pygments_lexer": "ipython3",
   "version": "3.11.0"
  }
 },
 "nbformat": 4,
 "nbformat_minor": 5
}
