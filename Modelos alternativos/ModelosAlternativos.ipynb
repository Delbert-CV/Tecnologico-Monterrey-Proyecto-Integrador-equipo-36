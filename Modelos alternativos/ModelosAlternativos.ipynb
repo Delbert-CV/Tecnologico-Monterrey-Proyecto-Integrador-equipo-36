{
 "cells": [
  {
   "cell_type": "markdown",
   "id": "ddca45b9",
   "metadata": {},
   "source": [
    "\n",
    "\n",
    "# Reporte de problemas fitosanitarios en plantaciones de agave\n",
    "--------------------\n",
    "\n",
    "## Equipo 36\n",
    "\n",
    "| Nombre | Matrícula |\n",
    "| ------ | --------- |\n",
    "| André Martins Cordebello | A00572928 |\n",
    "| Enrique Eduardo Solís Da Costa | A00572678 |\n",
    "| Delbert Francisco Custodio Vargas | A01795613 |\n",
    "\n",
    "## Avance 4: Modelos alternativos \n",
    "\n",
    "Este avance implica construir múltiples modelos (individuales, no ensambles) relevantes para resolver el problema y evaluar su desempeño. Diferentes algoritmos pueden comportarse de manera óptima en diferentes tipos de datos o tareas. La construcción de modelos alternativos permite explorar y evaluar cuál de ellos proporciona el mejor rendimiento para un problema particular.\n",
    "\n",
    "Además, los modelos se pueden ajustar para determinar si se puede mejorar su rendimiento. Diferentes configuraciones de hiperparámetros pueden afectar significativamente el rendimiento de un modelo. Construir modelos alternativos implica explorar y ajustar estos hiperparámetros para encontrar la configuración óptima."
   ]
  },
  {
   "cell_type": "markdown",
   "id": "3604f302",
   "metadata": {},
   "source": [
    "# Introducción"
   ]
  },
  {
   "cell_type": "markdown",
   "id": "376a97b1",
   "metadata": {},
   "source": [
    "Durante la entrega del Avance 3, trabajamos con 2 modelos de regresión los cuáles fueron `RandomForestRegressor` y `XGBoost`. De éstos 2 modelos, el que mejor rendimiento tuvo fue el `RandomForestRegressor`, con un R^2 de `0.53`.\n",
    "\n",
    "Por lo anterior, estaremos explorando al menos 6 modelos distintos y cambiando nuestro Feature Engineering para lograr un mejor resultado en la predicción de nuestro R^2 o `accuracy` score si decidimos trabajar sobre la variable `severity_encode`. Agregado a esto, haremos una etapa de feature engineering la cual incluirá:\n",
    "\n",
    "- La precipitación registrada por la estación climatológica más cercana a la ubicación de la trampa muestreada durante el mismo mes en que se tomó la muestra.\n",
    "- La temperatura media, maxima y mínima de la estación climatológica más cercana a la ubicación de la trampa muestreada en el mismo año y mes.\n",
    "\n",
    "Esta información está disponible desde `https://smn.conagua.gob.mx/es/climatologia/temperaturas-y-lluvias/resumenes-mensuales-de-temperaturas-y-lluvias`, y es posible descargar esta información por medio de los scripts `smn_precipitation_downloader.py` y `smn_temp_downloader.py`, y generar los archivos CSV por medio de los scripts `smn_precipitation_builder.py` y `smn_temp_builder.py`."
   ]
  },
  {
   "cell_type": "markdown",
   "id": "8ed96aa2",
   "metadata": {},
   "source": [
    "# Objetivo"
   ]
  },
  {
   "cell_type": "markdown",
   "id": "e3e7e061",
   "metadata": {},
   "source": [
    "Con lo anterior, es importante tomar en cuenta que nuestro objetivo para esta entrega se basa en predecir el nivel de infestación con la que se catalogan los focos de infestación (seguro, leve, moderado y severo). \n",
    "\n",
    "Ahora, como sabemos, contamos con un dataset desbalanceado:\n",
    "\n",
    "- El 62% de las muestras históricas son leves.\n",
    "- El 35% de los registros indican un nivel seguro de severidad.\n",
    "- El 1.1% se considera como moderado.\n",
    "- El 0.15% de la muestra es severa.\n",
    "\n",
    "Por lo anterior, usar una métrica como `accuracy` no es buena idea, ya que nuestros modelos podrían llegar a tener esta métrica elevado haciendo uso de una clasificación leve o segura. Por lo tanto, las métricas que debemos tomar en cuenta son las siguientes:\n",
    "\n",
    "- `Recall`: requerimos detectar correctamente los casos positivos de la clase objetivo.\n",
    "- `F1`: esta métrica nos da una idea de qué tan balanceado es nuestro modelo para todas las clases en general.\n",
    "- `Precision`: nos ayudará a controlar los falsos positivos una vez logremos que nuestro `Recall` mejore.\n",
    "- `AUC`: para analizar los resultados gráficamente y seleccionar el mejor modelo."
   ]
  },
  {
   "cell_type": "markdown",
   "id": "849f44b3",
   "metadata": {},
   "source": [
    "# Librerías"
   ]
  },
  {
   "cell_type": "code",
   "execution_count": 1,
   "id": "b320c3dd",
   "metadata": {},
   "outputs": [
    {
     "name": "stderr",
     "output_type": "stream",
     "text": [
      "d:\\Python_Envs\\torch311\\Lib\\site-packages\\tqdm\\auto.py:21: TqdmWarning: IProgress not found. Please update jupyter and ipywidgets. See https://ipywidgets.readthedocs.io/en/stable/user_install.html\n",
      "  from .autonotebook import tqdm as notebook_tqdm\n"
     ]
    }
   ],
   "source": [
    "from sklearn.metrics import classification_report, confusion_matrix, accuracy_score\n",
    "from sklearn.model_selection import TimeSeriesSplit, cross_val_score\n",
    "from imblearn.ensemble  import BalancedRandomForestClassifier\n",
    "from sklearn.utils.class_weight import compute_sample_weight\n",
    "from sklearn.utils.class_weight import compute_class_weight\n",
    "from sklearn.model_selection import train_test_split\n",
    "from sklearn.ensemble import RandomForestClassifier\n",
    "from sklearn.preprocessing import StandardScaler\n",
    "from sklearn.neural_network import MLPClassifier\n",
    "from sklearn.preprocessing import OneHotEncoder\n",
    "from sklearn.tree import DecisionTreeClassifier\n",
    "from sklearn.preprocessing import LabelEncoder\n",
    "from sklearn.preprocessing import MinMaxScaler\n",
    "from sklearn.compose import ColumnTransformer\n",
    "from bayes_opt import BayesianOptimization\n",
    "from imblearn.over_sampling import SMOTENC\n",
    "from imblearn.over_sampling import SMOTE\n",
    "from sklearn.neighbors import BallTree\n",
    "from lightgbm import LGBMClassifier\n",
    "from xgboost import XGBClassifier\n",
    "import matplotlib.pyplot as plt\n",
    "import lightgbm as lgb\n",
    "import xgboost as xgb\n",
    "import pandas as pd\n",
    "import numpy as np\n",
    "import optuna"
   ]
  },
  {
   "cell_type": "markdown",
   "id": "91c42527",
   "metadata": {},
   "source": [
    "# Carga del dataset"
   ]
  },
  {
   "cell_type": "markdown",
   "id": "0c5f4222",
   "metadata": {},
   "source": [
    "En esta sección cargaremos el dataset `Baseline.xlsx`, el cual contiene los `text_features` para hacer el fine-tuning de nuestro LLM.\n",
    "\n",
    "Por lo tanto, no haremos uso de los `text_features` debido a que éstos son la combinación de varios features previos."
   ]
  },
  {
   "cell_type": "code",
   "execution_count": 2,
   "id": "d3743772",
   "metadata": {},
   "outputs": [
    {
     "data": {
      "text/plain": [
       "Unnamed: 0                              int64\n",
       "tramp_id                               object\n",
       "sampling_date                  datetime64[ns]\n",
       "lat                                   float64\n",
       "lon                                   float64\n",
       "municipality                           object\n",
       "square_area                           float64\n",
       "plantation_age                          int64\n",
       "capture_count                         float64\n",
       "state                                  object\n",
       "square_area_imputed                   float64\n",
       "month                                   int64\n",
       "year                                    int64\n",
       "year_month                             object\n",
       "day_of_year_sin                       float64\n",
       "day_of_year_cos                       float64\n",
       "day_of_week_sin                       float64\n",
       "day_of_week_cos                       float64\n",
       "week_of_year_sin                      float64\n",
       "week_of_year_cos                      float64\n",
       "month_sin                             float64\n",
       "month_cos                             float64\n",
       "critical_season                         int64\n",
       "severity_encoded                        int64\n",
       "distance_to_nearest_hotspot           float64\n",
       "hotspots_within_5km                     int64\n",
       "text_feature_location                  object\n",
       "text_feature_risk                      object\n",
       "text_feature_capture                   object\n",
       "text_feature_plantation                object\n",
       "text_feature_all_things                object\n",
       "dtype: object"
      ]
     },
     "execution_count": 2,
     "metadata": {},
     "output_type": "execute_result"
    }
   ],
   "source": [
    "df = pd.read_excel('baseline.xlsx')\n",
    "df.dtypes"
   ]
  },
  {
   "cell_type": "code",
   "execution_count": 3,
   "id": "2e73216f",
   "metadata": {},
   "outputs": [
    {
     "data": {
      "text/plain": [
       "tramp_id                               object\n",
       "sampling_date                  datetime64[ns]\n",
       "lat                                   float64\n",
       "lon                                   float64\n",
       "municipality                           object\n",
       "plantation_age                          int64\n",
       "capture_count                         float64\n",
       "state                                  object\n",
       "square_area_imputed                   float64\n",
       "month                                   int64\n",
       "year                                    int64\n",
       "year_month                             object\n",
       "day_of_year_sin                       float64\n",
       "day_of_year_cos                       float64\n",
       "day_of_week_sin                       float64\n",
       "day_of_week_cos                       float64\n",
       "week_of_year_sin                      float64\n",
       "week_of_year_cos                      float64\n",
       "month_sin                             float64\n",
       "month_cos                             float64\n",
       "critical_season                         int64\n",
       "severity_encoded                        int64\n",
       "distance_to_nearest_hotspot           float64\n",
       "hotspots_within_5km                     int64\n",
       "dtype: object"
      ]
     },
     "execution_count": 3,
     "metadata": {},
     "output_type": "execute_result"
    }
   ],
   "source": [
    "# Eliminamos las columnas irrelevantes para nuestros modelos.\n",
    "df.drop(labels=['Unnamed: 0', 'square_area', 'text_feature_location',  'text_feature_risk', 'text_feature_capture', 'text_feature_plantation', 'text_feature_all_things'], axis=1, inplace=True)\n",
    "df.dtypes"
   ]
  },
  {
   "cell_type": "markdown",
   "id": "2dfbdfa8",
   "metadata": {},
   "source": [
    "# Feature engineering de nuevo..."
   ]
  },
  {
   "cell_type": "markdown",
   "id": "6c5d5969",
   "metadata": {},
   "source": [
    "## Carga de precipitación y temperatura histórica"
   ]
  },
  {
   "cell_type": "markdown",
   "id": "7a958da2",
   "metadata": {},
   "source": [
    "Con base en los resultados obtenidos en nuestro Baseline, vemos con buenos ojos pensar de nuevo los features que debemos tomar en cuenta para predecir la severidad de un posible foco de infección.\n",
    "\n",
    "Para esto, hemos descargado y procesado la información disponible de parte del Gobierno de México para tomar en cuenta:\n",
    "\n",
    "- La precipitación en mm.\n",
    "- La temperatura media, máxima y mínima \n",
    "\n",
    "Y haremos uso de la información proporcionada por la estación más cercana a cada muestra de nuestro dataset."
   ]
  },
  {
   "cell_type": "code",
   "execution_count": 4,
   "id": "044fa5e0",
   "metadata": {},
   "outputs": [
    {
     "name": "stdout",
     "output_type": "stream",
     "text": [
      "El dataset de precipitacion tiene estas columnas: ['lon', 'lat', 'state', 'cve_sih', 'name', 'precipitation(mm)', 'year-month']\n",
      "El dataset de avg_temp tiene estas columnas: Index(['lon', 'lat', 'state', 'cve_sih', 'name', 'TMed', 'year-month'], dtype='object')\n",
      "El dataset de max_temp tiene estas columnas: Index(['lon', 'lat', 'state', 'cve_sih', 'name', 'TMax', 'year-month'], dtype='object')\n",
      "El dataset de min_temp tiene estas columnas: Index(['lon', 'lat', 'state', 'cve_sih', 'name', 'TMin', 'year-month'], dtype='object')\n"
     ]
    }
   ],
   "source": [
    "precipitation_df = pd.read_csv('precipitation_per_area_historical.csv')\n",
    "avg_temp_df      = pd.read_csv('TMed_per_area_historical.csv')\n",
    "max_temp_df      = pd.read_csv('TMax_per_area_historical.csv')\n",
    "min_temp_df      = pd.read_csv('TMin_per_area_historical.csv')\n",
    "\n",
    "print(f'El dataset de precipitacion tiene estas columnas: {precipitation_df.columns.tolist()}')\n",
    "print(f'El dataset de avg_temp tiene estas columnas: {avg_temp_df.columns}')\n",
    "print(f'El dataset de max_temp tiene estas columnas: {max_temp_df.columns}')\n",
    "print(f'El dataset de min_temp tiene estas columnas: {min_temp_df.columns}')"
   ]
  },
  {
   "cell_type": "code",
   "execution_count": 5,
   "id": "a3c1cdf3",
   "metadata": {},
   "outputs": [
    {
     "data": {
      "text/html": [
       "<div>\n",
       "<style scoped>\n",
       "    .dataframe tbody tr th:only-of-type {\n",
       "        vertical-align: middle;\n",
       "    }\n",
       "\n",
       "    .dataframe tbody tr th {\n",
       "        vertical-align: top;\n",
       "    }\n",
       "\n",
       "    .dataframe thead th {\n",
       "        text-align: right;\n",
       "    }\n",
       "</style>\n",
       "<table border=\"1\" class=\"dataframe\">\n",
       "  <thead>\n",
       "    <tr style=\"text-align: right;\">\n",
       "      <th></th>\n",
       "      <th>count</th>\n",
       "      <th>mean</th>\n",
       "      <th>std</th>\n",
       "      <th>min</th>\n",
       "      <th>25%</th>\n",
       "      <th>50%</th>\n",
       "      <th>75%</th>\n",
       "      <th>max</th>\n",
       "    </tr>\n",
       "  </thead>\n",
       "  <tbody>\n",
       "    <tr>\n",
       "      <th>lon</th>\n",
       "      <td>158067.0</td>\n",
       "      <td>1.717909e+08</td>\n",
       "      <td>9.853862e+08</td>\n",
       "      <td>873.0</td>\n",
       "      <td>10172.0</td>\n",
       "      <td>97021111.0</td>\n",
       "      <td>1.006344e+08</td>\n",
       "      <td>9.999958e+09</td>\n",
       "    </tr>\n",
       "    <tr>\n",
       "      <th>lat</th>\n",
       "      <td>158067.0</td>\n",
       "      <td>5.697327e+07</td>\n",
       "      <td>3.079344e+08</td>\n",
       "      <td>147.0</td>\n",
       "      <td>2345.0</td>\n",
       "      <td>18794167.0</td>\n",
       "      <td>2.107444e+07</td>\n",
       "      <td>3.270472e+09</td>\n",
       "    </tr>\n",
       "    <tr>\n",
       "      <th>precipitation(mm)</th>\n",
       "      <td>158020.0</td>\n",
       "      <td>8.051705e+01</td>\n",
       "      <td>1.165051e+02</td>\n",
       "      <td>0.0</td>\n",
       "      <td>3.0</td>\n",
       "      <td>33.2</td>\n",
       "      <td>1.153200e+02</td>\n",
       "      <td>1.894000e+03</td>\n",
       "    </tr>\n",
       "  </tbody>\n",
       "</table>\n",
       "</div>"
      ],
      "text/plain": [
       "                      count          mean           std    min      25%  \\\n",
       "lon                158067.0  1.717909e+08  9.853862e+08  873.0  10172.0   \n",
       "lat                158067.0  5.697327e+07  3.079344e+08  147.0   2345.0   \n",
       "precipitation(mm)  158020.0  8.051705e+01  1.165051e+02    0.0      3.0   \n",
       "\n",
       "                          50%           75%           max  \n",
       "lon                97021111.0  1.006344e+08  9.999958e+09  \n",
       "lat                18794167.0  2.107444e+07  3.270472e+09  \n",
       "precipitation(mm)        33.2  1.153200e+02  1.894000e+03  "
      ]
     },
     "execution_count": 5,
     "metadata": {},
     "output_type": "execute_result"
    }
   ],
   "source": [
    "precipitation_df.describe().T"
   ]
  },
  {
   "cell_type": "code",
   "execution_count": 6,
   "id": "bced3ec6",
   "metadata": {},
   "outputs": [
    {
     "data": {
      "text/html": [
       "<div>\n",
       "<style scoped>\n",
       "    .dataframe tbody tr th:only-of-type {\n",
       "        vertical-align: middle;\n",
       "    }\n",
       "\n",
       "    .dataframe tbody tr th {\n",
       "        vertical-align: top;\n",
       "    }\n",
       "\n",
       "    .dataframe thead th {\n",
       "        text-align: right;\n",
       "    }\n",
       "</style>\n",
       "<table border=\"1\" class=\"dataframe\">\n",
       "  <thead>\n",
       "    <tr style=\"text-align: right;\">\n",
       "      <th></th>\n",
       "      <th>count</th>\n",
       "      <th>mean</th>\n",
       "      <th>std</th>\n",
       "      <th>min</th>\n",
       "      <th>25%</th>\n",
       "      <th>50%</th>\n",
       "      <th>75%</th>\n",
       "      <th>max</th>\n",
       "    </tr>\n",
       "  </thead>\n",
       "  <tbody>\n",
       "    <tr>\n",
       "      <th>lon</th>\n",
       "      <td>163149.0</td>\n",
       "      <td>-101.184182</td>\n",
       "      <td>5.850756</td>\n",
       "      <td>-118.29</td>\n",
       "      <td>-104.37</td>\n",
       "      <td>-100.3</td>\n",
       "      <td>-98.16</td>\n",
       "      <td>-86.74</td>\n",
       "    </tr>\n",
       "    <tr>\n",
       "      <th>lat</th>\n",
       "      <td>163149.0</td>\n",
       "      <td>22.092611</td>\n",
       "      <td>4.143454</td>\n",
       "      <td>-99.90</td>\n",
       "      <td>19.12</td>\n",
       "      <td>20.8</td>\n",
       "      <td>25.03</td>\n",
       "      <td>32.70</td>\n",
       "    </tr>\n",
       "    <tr>\n",
       "      <th>TMed</th>\n",
       "      <td>163149.0</td>\n",
       "      <td>22.292233</td>\n",
       "      <td>5.657826</td>\n",
       "      <td>-99.90</td>\n",
       "      <td>18.10</td>\n",
       "      <td>22.3</td>\n",
       "      <td>27.00</td>\n",
       "      <td>41.80</td>\n",
       "    </tr>\n",
       "  </tbody>\n",
       "</table>\n",
       "</div>"
      ],
      "text/plain": [
       "         count        mean       std     min     25%    50%    75%    max\n",
       "lon   163149.0 -101.184182  5.850756 -118.29 -104.37 -100.3 -98.16 -86.74\n",
       "lat   163149.0   22.092611  4.143454  -99.90   19.12   20.8  25.03  32.70\n",
       "TMed  163149.0   22.292233  5.657826  -99.90   18.10   22.3  27.00  41.80"
      ]
     },
     "execution_count": 6,
     "metadata": {},
     "output_type": "execute_result"
    }
   ],
   "source": [
    "avg_temp_df.describe().T"
   ]
  },
  {
   "cell_type": "code",
   "execution_count": 7,
   "id": "9c738213",
   "metadata": {},
   "outputs": [
    {
     "data": {
      "text/html": [
       "<div>\n",
       "<style scoped>\n",
       "    .dataframe tbody tr th:only-of-type {\n",
       "        vertical-align: middle;\n",
       "    }\n",
       "\n",
       "    .dataframe tbody tr th {\n",
       "        vertical-align: top;\n",
       "    }\n",
       "\n",
       "    .dataframe thead th {\n",
       "        text-align: right;\n",
       "    }\n",
       "</style>\n",
       "<table border=\"1\" class=\"dataframe\">\n",
       "  <thead>\n",
       "    <tr style=\"text-align: right;\">\n",
       "      <th></th>\n",
       "      <th>count</th>\n",
       "      <th>mean</th>\n",
       "      <th>std</th>\n",
       "      <th>min</th>\n",
       "      <th>25%</th>\n",
       "      <th>50%</th>\n",
       "      <th>75%</th>\n",
       "      <th>max</th>\n",
       "    </tr>\n",
       "  </thead>\n",
       "  <tbody>\n",
       "    <tr>\n",
       "      <th>lon</th>\n",
       "      <td>163237.0</td>\n",
       "      <td>-101.183637</td>\n",
       "      <td>5.850671</td>\n",
       "      <td>-118.29</td>\n",
       "      <td>-104.37</td>\n",
       "      <td>-100.3</td>\n",
       "      <td>-98.16</td>\n",
       "      <td>-86.74</td>\n",
       "    </tr>\n",
       "    <tr>\n",
       "      <th>lat</th>\n",
       "      <td>163237.0</td>\n",
       "      <td>22.092476</td>\n",
       "      <td>4.143737</td>\n",
       "      <td>-99.90</td>\n",
       "      <td>19.12</td>\n",
       "      <td>20.8</td>\n",
       "      <td>25.03</td>\n",
       "      <td>32.70</td>\n",
       "    </tr>\n",
       "    <tr>\n",
       "      <th>TMax</th>\n",
       "      <td>163237.0</td>\n",
       "      <td>29.519894</td>\n",
       "      <td>5.428911</td>\n",
       "      <td>-99.90</td>\n",
       "      <td>25.60</td>\n",
       "      <td>29.7</td>\n",
       "      <td>33.60</td>\n",
       "      <td>51.10</td>\n",
       "    </tr>\n",
       "  </tbody>\n",
       "</table>\n",
       "</div>"
      ],
      "text/plain": [
       "         count        mean       std     min     25%    50%    75%    max\n",
       "lon   163237.0 -101.183637  5.850671 -118.29 -104.37 -100.3 -98.16 -86.74\n",
       "lat   163237.0   22.092476  4.143737  -99.90   19.12   20.8  25.03  32.70\n",
       "TMax  163237.0   29.519894  5.428911  -99.90   25.60   29.7  33.60  51.10"
      ]
     },
     "execution_count": 7,
     "metadata": {},
     "output_type": "execute_result"
    }
   ],
   "source": [
    "max_temp_df.describe().T"
   ]
  },
  {
   "cell_type": "code",
   "execution_count": 8,
   "id": "aaef9e2f",
   "metadata": {},
   "outputs": [
    {
     "data": {
      "text/html": [
       "<div>\n",
       "<style scoped>\n",
       "    .dataframe tbody tr th:only-of-type {\n",
       "        vertical-align: middle;\n",
       "    }\n",
       "\n",
       "    .dataframe tbody tr th {\n",
       "        vertical-align: top;\n",
       "    }\n",
       "\n",
       "    .dataframe thead th {\n",
       "        text-align: right;\n",
       "    }\n",
       "</style>\n",
       "<table border=\"1\" class=\"dataframe\">\n",
       "  <thead>\n",
       "    <tr style=\"text-align: right;\">\n",
       "      <th></th>\n",
       "      <th>count</th>\n",
       "      <th>mean</th>\n",
       "      <th>std</th>\n",
       "      <th>min</th>\n",
       "      <th>25%</th>\n",
       "      <th>50%</th>\n",
       "      <th>75%</th>\n",
       "      <th>max</th>\n",
       "    </tr>\n",
       "  </thead>\n",
       "  <tbody>\n",
       "    <tr>\n",
       "      <th>lon</th>\n",
       "      <td>163264.0</td>\n",
       "      <td>-101.182702</td>\n",
       "      <td>5.850383</td>\n",
       "      <td>-118.29</td>\n",
       "      <td>-104.37</td>\n",
       "      <td>-100.30</td>\n",
       "      <td>-98.15</td>\n",
       "      <td>-86.74</td>\n",
       "    </tr>\n",
       "    <tr>\n",
       "      <th>lat</th>\n",
       "      <td>163264.0</td>\n",
       "      <td>22.091303</td>\n",
       "      <td>4.143190</td>\n",
       "      <td>-99.90</td>\n",
       "      <td>19.12</td>\n",
       "      <td>20.75</td>\n",
       "      <td>25.03</td>\n",
       "      <td>32.70</td>\n",
       "    </tr>\n",
       "    <tr>\n",
       "      <th>TMin</th>\n",
       "      <td>163264.0</td>\n",
       "      <td>15.092148</td>\n",
       "      <td>6.768767</td>\n",
       "      <td>-99.90</td>\n",
       "      <td>10.10</td>\n",
       "      <td>15.00</td>\n",
       "      <td>20.80</td>\n",
       "      <td>38.00</td>\n",
       "    </tr>\n",
       "  </tbody>\n",
       "</table>\n",
       "</div>"
      ],
      "text/plain": [
       "         count        mean       std     min     25%     50%    75%    max\n",
       "lon   163264.0 -101.182702  5.850383 -118.29 -104.37 -100.30 -98.15 -86.74\n",
       "lat   163264.0   22.091303  4.143190  -99.90   19.12   20.75  25.03  32.70\n",
       "TMin  163264.0   15.092148  6.768767  -99.90   10.10   15.00  20.80  38.00"
      ]
     },
     "execution_count": 8,
     "metadata": {},
     "output_type": "execute_result"
    }
   ],
   "source": [
    "min_temp_df.describe().T"
   ]
  },
  {
   "cell_type": "markdown",
   "id": "80951225",
   "metadata": {},
   "source": [
    "Como notamos que la información de temperatura contiene registros con valores negativos de -99.90 grados de temperatura, y como sabemos que esto no pudo pasar en alguno de los estados muestreados, procedemos a eliminar estos registros que seguramente son resultado de una mala muestra."
   ]
  },
  {
   "cell_type": "code",
   "execution_count": 9,
   "id": "ab12d41a",
   "metadata": {},
   "outputs": [],
   "source": [
    "precipitation_df = precipitation_df[ precipitation_df['precipitation(mm)'] >= 0 ]\n",
    "max_temp_df      = max_temp_df[ max_temp_df['TMax'] >= -99 ]\n",
    "avg_temp_df      = avg_temp_df[ avg_temp_df['TMed'] >= -99 ]\n",
    "min_temp_df      = min_temp_df[ min_temp_df['TMin'] >= -99 ]"
   ]
  },
  {
   "cell_type": "code",
   "execution_count": 10,
   "id": "1d656935",
   "metadata": {},
   "outputs": [
    {
     "data": {
      "text/html": [
       "<div>\n",
       "<style scoped>\n",
       "    .dataframe tbody tr th:only-of-type {\n",
       "        vertical-align: middle;\n",
       "    }\n",
       "\n",
       "    .dataframe tbody tr th {\n",
       "        vertical-align: top;\n",
       "    }\n",
       "\n",
       "    .dataframe thead th {\n",
       "        text-align: right;\n",
       "    }\n",
       "</style>\n",
       "<table border=\"1\" class=\"dataframe\">\n",
       "  <thead>\n",
       "    <tr style=\"text-align: right;\">\n",
       "      <th></th>\n",
       "      <th>count</th>\n",
       "      <th>mean</th>\n",
       "      <th>std</th>\n",
       "      <th>min</th>\n",
       "      <th>25%</th>\n",
       "      <th>50%</th>\n",
       "      <th>75%</th>\n",
       "      <th>max</th>\n",
       "    </tr>\n",
       "  </thead>\n",
       "  <tbody>\n",
       "    <tr>\n",
       "      <th>lon</th>\n",
       "      <td>158020.0</td>\n",
       "      <td>1.718176e+08</td>\n",
       "      <td>9.855313e+08</td>\n",
       "      <td>873.0</td>\n",
       "      <td>10172.0</td>\n",
       "      <td>97021111.0</td>\n",
       "      <td>1.006344e+08</td>\n",
       "      <td>9.999958e+09</td>\n",
       "    </tr>\n",
       "    <tr>\n",
       "      <th>lat</th>\n",
       "      <td>158020.0</td>\n",
       "      <td>5.698401e+07</td>\n",
       "      <td>3.079796e+08</td>\n",
       "      <td>147.0</td>\n",
       "      <td>2345.0</td>\n",
       "      <td>18789167.0</td>\n",
       "      <td>2.107444e+07</td>\n",
       "      <td>3.270472e+09</td>\n",
       "    </tr>\n",
       "    <tr>\n",
       "      <th>precipitation(mm)</th>\n",
       "      <td>158020.0</td>\n",
       "      <td>8.051705e+01</td>\n",
       "      <td>1.165051e+02</td>\n",
       "      <td>0.0</td>\n",
       "      <td>3.0</td>\n",
       "      <td>33.2</td>\n",
       "      <td>1.153200e+02</td>\n",
       "      <td>1.894000e+03</td>\n",
       "    </tr>\n",
       "  </tbody>\n",
       "</table>\n",
       "</div>"
      ],
      "text/plain": [
       "                      count          mean           std    min      25%  \\\n",
       "lon                158020.0  1.718176e+08  9.855313e+08  873.0  10172.0   \n",
       "lat                158020.0  5.698401e+07  3.079796e+08  147.0   2345.0   \n",
       "precipitation(mm)  158020.0  8.051705e+01  1.165051e+02    0.0      3.0   \n",
       "\n",
       "                          50%           75%           max  \n",
       "lon                97021111.0  1.006344e+08  9.999958e+09  \n",
       "lat                18789167.0  2.107444e+07  3.270472e+09  \n",
       "precipitation(mm)        33.2  1.153200e+02  1.894000e+03  "
      ]
     },
     "execution_count": 10,
     "metadata": {},
     "output_type": "execute_result"
    }
   ],
   "source": [
    "precipitation_df.describe().T"
   ]
  },
  {
   "cell_type": "code",
   "execution_count": 11,
   "id": "87b8aeb4",
   "metadata": {},
   "outputs": [
    {
     "data": {
      "text/html": [
       "<div>\n",
       "<style scoped>\n",
       "    .dataframe tbody tr th:only-of-type {\n",
       "        vertical-align: middle;\n",
       "    }\n",
       "\n",
       "    .dataframe tbody tr th {\n",
       "        vertical-align: top;\n",
       "    }\n",
       "\n",
       "    .dataframe thead th {\n",
       "        text-align: right;\n",
       "    }\n",
       "</style>\n",
       "<table border=\"1\" class=\"dataframe\">\n",
       "  <thead>\n",
       "    <tr style=\"text-align: right;\">\n",
       "      <th></th>\n",
       "      <th>count</th>\n",
       "      <th>mean</th>\n",
       "      <th>std</th>\n",
       "      <th>min</th>\n",
       "      <th>25%</th>\n",
       "      <th>50%</th>\n",
       "      <th>75%</th>\n",
       "      <th>max</th>\n",
       "    </tr>\n",
       "  </thead>\n",
       "  <tbody>\n",
       "    <tr>\n",
       "      <th>lon</th>\n",
       "      <td>163144.0</td>\n",
       "      <td>-101.184222</td>\n",
       "      <td>5.850841</td>\n",
       "      <td>-118.29</td>\n",
       "      <td>-104.37</td>\n",
       "      <td>-100.3</td>\n",
       "      <td>-98.16</td>\n",
       "      <td>-86.74</td>\n",
       "    </tr>\n",
       "    <tr>\n",
       "      <th>lat</th>\n",
       "      <td>163144.0</td>\n",
       "      <td>22.096349</td>\n",
       "      <td>4.088107</td>\n",
       "      <td>14.63</td>\n",
       "      <td>19.12</td>\n",
       "      <td>20.8</td>\n",
       "      <td>25.03</td>\n",
       "      <td>32.70</td>\n",
       "    </tr>\n",
       "    <tr>\n",
       "      <th>TMed</th>\n",
       "      <td>163144.0</td>\n",
       "      <td>22.295978</td>\n",
       "      <td>5.617327</td>\n",
       "      <td>-0.80</td>\n",
       "      <td>18.10</td>\n",
       "      <td>22.3</td>\n",
       "      <td>27.00</td>\n",
       "      <td>41.80</td>\n",
       "    </tr>\n",
       "  </tbody>\n",
       "</table>\n",
       "</div>"
      ],
      "text/plain": [
       "         count        mean       std     min     25%    50%    75%    max\n",
       "lon   163144.0 -101.184222  5.850841 -118.29 -104.37 -100.3 -98.16 -86.74\n",
       "lat   163144.0   22.096349  4.088107   14.63   19.12   20.8  25.03  32.70\n",
       "TMed  163144.0   22.295978  5.617327   -0.80   18.10   22.3  27.00  41.80"
      ]
     },
     "execution_count": 11,
     "metadata": {},
     "output_type": "execute_result"
    }
   ],
   "source": [
    "avg_temp_df.describe().T"
   ]
  },
  {
   "cell_type": "code",
   "execution_count": 12,
   "id": "06a45049",
   "metadata": {},
   "outputs": [
    {
     "data": {
      "text/html": [
       "<div>\n",
       "<style scoped>\n",
       "    .dataframe tbody tr th:only-of-type {\n",
       "        vertical-align: middle;\n",
       "    }\n",
       "\n",
       "    .dataframe tbody tr th {\n",
       "        vertical-align: top;\n",
       "    }\n",
       "\n",
       "    .dataframe thead th {\n",
       "        text-align: right;\n",
       "    }\n",
       "</style>\n",
       "<table border=\"1\" class=\"dataframe\">\n",
       "  <thead>\n",
       "    <tr style=\"text-align: right;\">\n",
       "      <th></th>\n",
       "      <th>count</th>\n",
       "      <th>mean</th>\n",
       "      <th>std</th>\n",
       "      <th>min</th>\n",
       "      <th>25%</th>\n",
       "      <th>50%</th>\n",
       "      <th>75%</th>\n",
       "      <th>max</th>\n",
       "    </tr>\n",
       "  </thead>\n",
       "  <tbody>\n",
       "    <tr>\n",
       "      <th>lon</th>\n",
       "      <td>163232.0</td>\n",
       "      <td>-101.183677</td>\n",
       "      <td>5.850757</td>\n",
       "      <td>-118.29</td>\n",
       "      <td>-104.37</td>\n",
       "      <td>-100.3</td>\n",
       "      <td>-98.16</td>\n",
       "      <td>-86.74</td>\n",
       "    </tr>\n",
       "    <tr>\n",
       "      <th>lat</th>\n",
       "      <td>163232.0</td>\n",
       "      <td>22.096213</td>\n",
       "      <td>4.088424</td>\n",
       "      <td>14.63</td>\n",
       "      <td>19.12</td>\n",
       "      <td>20.8</td>\n",
       "      <td>25.03</td>\n",
       "      <td>32.70</td>\n",
       "    </tr>\n",
       "    <tr>\n",
       "      <th>TMax</th>\n",
       "      <td>163232.0</td>\n",
       "      <td>29.523859</td>\n",
       "      <td>5.381533</td>\n",
       "      <td>3.20</td>\n",
       "      <td>25.60</td>\n",
       "      <td>29.7</td>\n",
       "      <td>33.60</td>\n",
       "      <td>51.10</td>\n",
       "    </tr>\n",
       "  </tbody>\n",
       "</table>\n",
       "</div>"
      ],
      "text/plain": [
       "         count        mean       std     min     25%    50%    75%    max\n",
       "lon   163232.0 -101.183677  5.850757 -118.29 -104.37 -100.3 -98.16 -86.74\n",
       "lat   163232.0   22.096213  4.088424   14.63   19.12   20.8  25.03  32.70\n",
       "TMax  163232.0   29.523859  5.381533    3.20   25.60   29.7  33.60  51.10"
      ]
     },
     "execution_count": 12,
     "metadata": {},
     "output_type": "execute_result"
    }
   ],
   "source": [
    "max_temp_df.describe().T"
   ]
  },
  {
   "cell_type": "code",
   "execution_count": 13,
   "id": "7627c894",
   "metadata": {},
   "outputs": [
    {
     "data": {
      "text/html": [
       "<div>\n",
       "<style scoped>\n",
       "    .dataframe tbody tr th:only-of-type {\n",
       "        vertical-align: middle;\n",
       "    }\n",
       "\n",
       "    .dataframe tbody tr th {\n",
       "        vertical-align: top;\n",
       "    }\n",
       "\n",
       "    .dataframe thead th {\n",
       "        text-align: right;\n",
       "    }\n",
       "</style>\n",
       "<table border=\"1\" class=\"dataframe\">\n",
       "  <thead>\n",
       "    <tr style=\"text-align: right;\">\n",
       "      <th></th>\n",
       "      <th>count</th>\n",
       "      <th>mean</th>\n",
       "      <th>std</th>\n",
       "      <th>min</th>\n",
       "      <th>25%</th>\n",
       "      <th>50%</th>\n",
       "      <th>75%</th>\n",
       "      <th>max</th>\n",
       "    </tr>\n",
       "  </thead>\n",
       "  <tbody>\n",
       "    <tr>\n",
       "      <th>lon</th>\n",
       "      <td>163259.0</td>\n",
       "      <td>-101.182741</td>\n",
       "      <td>5.850468</td>\n",
       "      <td>-118.29</td>\n",
       "      <td>-104.37</td>\n",
       "      <td>-100.30</td>\n",
       "      <td>-98.15</td>\n",
       "      <td>-86.74</td>\n",
       "    </tr>\n",
       "    <tr>\n",
       "      <th>lat</th>\n",
       "      <td>163259.0</td>\n",
       "      <td>22.095040</td>\n",
       "      <td>4.087879</td>\n",
       "      <td>14.63</td>\n",
       "      <td>19.12</td>\n",
       "      <td>20.75</td>\n",
       "      <td>25.03</td>\n",
       "      <td>32.70</td>\n",
       "    </tr>\n",
       "    <tr>\n",
       "      <th>TMin</th>\n",
       "      <td>163259.0</td>\n",
       "      <td>15.095670</td>\n",
       "      <td>6.738888</td>\n",
       "      <td>-13.30</td>\n",
       "      <td>10.10</td>\n",
       "      <td>15.00</td>\n",
       "      <td>20.80</td>\n",
       "      <td>38.00</td>\n",
       "    </tr>\n",
       "  </tbody>\n",
       "</table>\n",
       "</div>"
      ],
      "text/plain": [
       "         count        mean       std     min     25%     50%    75%    max\n",
       "lon   163259.0 -101.182741  5.850468 -118.29 -104.37 -100.30 -98.15 -86.74\n",
       "lat   163259.0   22.095040  4.087879   14.63   19.12   20.75  25.03  32.70\n",
       "TMin  163259.0   15.095670  6.738888  -13.30   10.10   15.00  20.80  38.00"
      ]
     },
     "execution_count": 13,
     "metadata": {},
     "output_type": "execute_result"
    }
   ],
   "source": [
    "min_temp_df.describe().T"
   ]
  },
  {
   "cell_type": "markdown",
   "id": "fe86c114",
   "metadata": {},
   "source": [
    "Con lo anterior, confirmamos que nuestros datasets de precipitación y temperaturas son correctos."
   ]
  },
  {
   "cell_type": "markdown",
   "id": "0ecdfa9e",
   "metadata": {},
   "source": [
    "#### Información sobre el clima"
   ]
  },
  {
   "cell_type": "code",
   "execution_count": 14,
   "id": "424a2950",
   "metadata": {},
   "outputs": [],
   "source": [
    "# Year-Month es una columna planeada para hacer el match con las estaciones más cercanas a cada trampa registrada\n",
    "df = df.rename(columns={'year_month': 'year-month'})"
   ]
  },
  {
   "cell_type": "code",
   "execution_count": 15,
   "id": "73ee787d",
   "metadata": {},
   "outputs": [],
   "source": [
    "# Esta función nos ayudará a:\n",
    "# - Filtrar por año-mes las estaciones disponibles.\n",
    "# - Identificar la estación más cercana al usar la formular de Haversine (esta toma en cuenta la curvatura de la Tierra)\n",
    "# - Nuevamente usamos BallTree para hacer uso de funciones vectorizadas y no calcular la distancia por medio de ciclos\n",
    "\n",
    "\n",
    "def find_weather_station(df_samples, weather_df, value_col):\n",
    "    \n",
    "    results = []\n",
    "    \n",
    "    for ym, group in df_samples.groupby('year-month'):\n",
    "        \n",
    "        subset = weather_df[(weather_df['year-month'] == ym) & (weather_df[value_col].notna())]\n",
    "        \n",
    "        if subset.empty:\n",
    "            results.extend([np.nan] * len(group))\n",
    "            continue\n",
    "        \n",
    "        # Usamos BallTree para calcular la distancia, ya que este modelo está vectorizado\n",
    "        tree = BallTree(np.radians(subset[['lat', 'lon']].values), metric='haversine')\n",
    "        \n",
    "        # Obtenemos la distancia y elemento mas cercano\n",
    "        distances, indices = tree.query(np.radians(group[['lat', 'lon']].values), k=1)\n",
    "        nearest_values = subset.iloc[indices.flatten()][value_col].values\n",
    "        results.extend(nearest_values)\n",
    "\n",
    "    return np.array(results)"
   ]
  },
  {
   "cell_type": "code",
   "execution_count": 16,
   "id": "bad82ef0",
   "metadata": {},
   "outputs": [
    {
     "name": "stdout",
     "output_type": "stream",
     "text": [
      "Original: 827856 | Filtrado: 827856\n"
     ]
    }
   ],
   "source": [
    "# Aquí podemos definir de cuando a cuando filtrar nuestro DataSet para hacer experimentos rapidos\n",
    "# con cada tipo de modelo.\n",
    "\n",
    "df_filtered = df[(df['sampling_date'].dt.year >= 2014) & \n",
    "                 (df['sampling_date'].dt.year <= 2025)]\n",
    "\n",
    "print(f\"Original: {len(df)} | Filtrado: {len(df_filtered)}\")"
   ]
  },
  {
   "cell_type": "code",
   "execution_count": null,
   "id": "627ac9dc",
   "metadata": {},
   "outputs": [],
   "source": [
    "# Agregamos las columnas de temperatura y precipitacion a nuestro dataset. La idea principal es que \n",
    "# conocemos esto porque la SMN mantiene en su sitio web los valores históricos de precipitacion,\n",
    "# temperatura maxima, minima y promedio por estacion meteorologica, y como conocemos\n",
    "# la ubicacion de las estaciones y trampas, podemos ver cual es la estacion mas cercana y adjuntar esa\n",
    "# data a nuestro dataset.\n",
    "\n",
    "df_filtered['precipitation'] = find_weather_station(df_filtered, precipitation_df, 'precipitation(mm)')\n",
    "df_filtered['avg_temp'] = find_weather_station(df_filtered, avg_temp_df, 'TMed')\n",
    "df_filtered['max_temp'] = find_weather_station(df_filtered, max_temp_df, 'TMax')\n",
    "df_filtered['min_temp'] = find_weather_station(df_filtered, min_temp_df, 'TMin')\n",
    "\n",
    "\n",
    "# Debemos descomenttar la siguiente línea de código si queremos generar un archivo de Excel que incluya la informacion del clima.\n",
    "# df_filtered.to_excel('data_with_weather_information.xlsx', index= False )"
   ]
  },
  {
   "cell_type": "code",
   "execution_count": 2,
   "id": "82bb7c0c",
   "metadata": {},
   "outputs": [],
   "source": [
    "# Esta línea de código permite cargar la información lista con los aspectos de precipitacion y temperatura\n",
    "df_filtered = pd.read_excel('data_with_weather_information.xlsx')"
   ]
  },
  {
   "cell_type": "code",
   "execution_count": 3,
   "id": "03ac66ae",
   "metadata": {},
   "outputs": [
    {
     "name": "stdout",
     "output_type": "stream",
     "text": [
      "Porcentajes de presencia de severity_encoded:\n"
     ]
    },
    {
     "data": {
      "text/plain": [
       "severity_encoded\n",
       "1    62.650872\n",
       "0    35.207210\n",
       "2     1.990201\n",
       "3     0.151717\n",
       "Name: count, dtype: float64"
      ]
     },
     "execution_count": 3,
     "metadata": {},
     "output_type": "execute_result"
    }
   ],
   "source": [
    "# Confirmamos que tenemos un dataset desbalanceado\n",
    "\n",
    "print(\"Porcentajes de presencia de severity_encoded:\")\n",
    "df_filtered['severity_encoded'].value_counts() / len(df_filtered) * 100"
   ]
  },
  {
   "cell_type": "code",
   "execution_count": 4,
   "id": "6ecf2f05",
   "metadata": {},
   "outputs": [
    {
     "name": "stdout",
     "output_type": "stream",
     "text": [
      "Cantidad de casos con severidad alta del 2014 al 2024: 1146\n",
      "Cantidad de casos con severidad alta en el 2025: 110\n"
     ]
    }
   ],
   "source": [
    "print(f\"Cantidad de casos con severidad alta del 2014 al 2024: {len(df_filtered[(df_filtered['severity_encoded'] == 3) &(df_filtered['sampling_date'].dt.year < 2025)])}\")\n",
    "print(f\"Cantidad de casos con severidad alta en el 2025: {len(df_filtered[(df_filtered['severity_encoded'] == 3) &(df_filtered['sampling_date'].dt.year >= 2025)])}\")"
   ]
  },
  {
   "cell_type": "markdown",
   "id": "e19369e3",
   "metadata": {},
   "source": [
    "# RandomForest"
   ]
  },
  {
   "cell_type": "markdown",
   "id": "16ea9dcd",
   "metadata": {},
   "source": [
    "Durante la entrega del Avance 3, trabajamos con 2 modelos de regresión los cuales fueron `RandomForestRegressor` y `XGBoost`. Con esto, `RandomForestRegressor` tuvo mejores resultados, por lo que el primer modelo a implementar con la nueva información del clima será este mismo.\n",
    "\n",
    "En  este caso, como contamos con un dataset desbalanceado, haremos uso de la propiedad de `balanced_subsample` de `RandomForestClassifier`. Para esta implementación, generamos nuestros datasets de la siguiente manera:\n",
    "\n",
    "- `Train set`: los datos de 2014 a 2024.\n",
    "- `Test set`: los datos de 2025\n",
    "\n",
    "\n",
    "La idea de esto es predecir los casos de todo el año 2025, de manera que podamos comparar los resultados de cada modelo.\n",
    "\n",
    "Algo importante es que nuestro Sponsor, la CNIT, considera que solo debemos dar  importancia a la predicción de focos con una severidad o riesgo alto de infestación. Por lo tanto, nuestra clase objetivo de `severity_encoded` es la clase **`3`**."
   ]
  },
  {
   "cell_type": "code",
   "execution_count": 5,
   "id": "6a7bddc4",
   "metadata": {},
   "outputs": [
    {
     "name": "stdout",
     "output_type": "stream",
     "text": [
      "Resultados para RandomForest:\n",
      "\n",
      "              precision    recall  f1-score   support\n",
      "\n",
      "           0       0.29      0.17      0.21     24445\n",
      "           1       0.76      0.87      0.82     82928\n",
      "           2       0.16      0.00      0.00      2544\n",
      "           3       0.35      0.96      0.52       110\n",
      "\n",
      "    accuracy                           0.70    110027\n",
      "   macro avg       0.39      0.50      0.39    110027\n",
      "weighted avg       0.64      0.70      0.66    110027\n",
      "\n"
     ]
    }
   ],
   "source": [
    "# Copiamos el dataframe con la información\n",
    "rf_df = df_filtered.copy()\n",
    "\n",
    "# Hacemos un encoding basico para State y Municipalidad\n",
    "for col in ['state', 'municipality']:\n",
    "    le = LabelEncoder()\n",
    "    rf_df[col] = le.fit_transform(rf_df[col])\n",
    "\n",
    "# Generamos la mascara para obtener los datos de antes del 2025 y del 2025 por separada\n",
    "train_mask = rf_df['sampling_date'].dt.year < 2025\n",
    "test_mask  = rf_df['sampling_date'].dt.year == 2025\n",
    "\n",
    "# Excluimos la variable objetivo (severity_encoded) y algunos unas variables o features que ya tenemos contenidos en nuestros\n",
    "# features creados. `capture_count` no podemos tomarlo en cuenta porque se relaciona directamente con la severidad.\n",
    "exclude_cols = [\n",
    "    'severity_encoded','tramp_id', 'capture_count', \n",
    "    'month', 'year', 'year-month', 'sampling_date'\n",
    "]\n",
    "\n",
    "# Cargamos los features a tomar en cuenta (obviamos los features en exclude_cols)\n",
    "features = [col for col in rf_df.columns if col not in exclude_cols]\n",
    "\n",
    "# Generamos nuestro split de entrenamiento y test por medio de las mascaras train_mask y test_mask\n",
    "X_train, y_train = rf_df.loc[train_mask, features], rf_df.loc[train_mask, 'severity_encoded'] # El train dataset es la data historica de 2014 a 2024\n",
    "X_test,  y_test  = rf_df.loc[test_mask,  features], rf_df.loc[test_mask,  'severity_encoded'] # El test dataset es la data a partir de 2025\n",
    "\n",
    "# Definimos algunos hiperparámetros para RandomForestClassifier\n",
    "rf_model = RandomForestClassifier(\n",
    "    n_estimators=300,\n",
    "    max_depth=25,\n",
    "    min_samples_split=4,\n",
    "    min_samples_leaf=2,\n",
    "    class_weight='balanced_subsample',\n",
    "    random_state=42,\n",
    "    n_jobs=-1\n",
    ")\n",
    "\n",
    "# Hacemos fit del modelo\n",
    "rf_model.fit(X_train, y_train)\n",
    "\n",
    "# Predecimos sobre el dataset de prueba o test\n",
    "y_pred = rf_model.predict(X_test)\n",
    "\n",
    "# Mostramos los resultados\n",
    "print(\"Resultados para RandomForest:\\n\")\n",
    "print(classification_report(y_test, y_pred))"
   ]
  },
  {
   "cell_type": "code",
   "execution_count": 6,
   "id": "d7dafa19",
   "metadata": {},
   "outputs": [],
   "source": [
    "y_pred_proba_rf  = rf_model.predict_proba(X_test)"
   ]
  },
  {
   "cell_type": "markdown",
   "id": "7b640dd0",
   "metadata": {},
   "source": [
    "`RandomForestClassifier` se tardó 1 minuto y 15 segundos en generar un modelo útil. Algo importante de notar con este modelo es lo siguiente:\n",
    "\n",
    "- La clase a predecir (`3`) tiene un `recall` bastante bueno a pesar de que la cantidad de muestras en el train y test set con esta clasificación es bastante baja. Esto quiere decir que nuestro modelo sabe reconocer casos verdaderos positivos de forma casi perfecta.\n",
    "- Al inspeccionar la métrica `precision`, notamos que para la clase objetivo esta es pobre. Esto quiere decir que solo el 35% de los casos predecidos para el label `3` es correcto.\n",
    "- Nuestro `f1 score` indica que, a pesar de nuestro recall alto, tenemos un balance entre leve a moderado entre nuestras métricas `precision` y `recall`.\n",
    "- Es importante notar que nuestro modelo falla completamente en identificar la clase `2`, mientras que un éxito moderado al identificar la clase `1` y un éxito bastante pobre al predecir la clase `0`.\n",
    "- En nuestro caso, el `accuracy` no es una métrica confiable ya que aunque nuestro modelo prediga el 100% de las veces que se tiene un escenario de clase `1` (algo que es imposible), estaría correcto el 62% de las veces ya que existe un desbalance en nuestro dataset.\n",
    "\n",
    "En general, este modelo podría generar muchas falsas alertas sobre posibles focos de infestación, lo que tendría su ventaja en ser un modelo bastante preventivo pero a su vez podría generar más costos de operación al predecir falsamente brotes de infestación severos."
   ]
  },
  {
   "cell_type": "markdown",
   "id": "850f9291",
   "metadata": {},
   "source": [
    "# Con `XGBoost`"
   ]
  },
  {
   "cell_type": "markdown",
   "id": "3c239181",
   "metadata": {},
   "source": [
    "Para XGBoost haremos uso de los mismos train y test dataset que los que definimos para `RandomForestClassifier`. Usaremos también la versión compatible con nuestra GPU para que el modelo se entrene más rápido.\n",
    "\n",
    "Debemos mencionar que para este modelo, hicimos uso de la variable `class_weights` para darle más peso o relevancia a las clases minoritarias."
   ]
  },
  {
   "cell_type": "code",
   "execution_count": 7,
   "id": "0bc721cd",
   "metadata": {},
   "outputs": [
    {
     "name": "stdout",
     "output_type": "stream",
     "text": [
      "Resultados para XGBoost (version GPU):\n",
      "              precision    recall  f1-score   support\n",
      "\n",
      "           0       0.26      0.38      0.31     24445\n",
      "           1       0.77      0.63      0.69     82928\n",
      "           2       0.12      0.26      0.16      2544\n",
      "           3       0.32      0.93      0.48       110\n",
      "\n",
      "    accuracy                           0.57    110027\n",
      "   macro avg       0.37      0.55      0.41    110027\n",
      "weighted avg       0.64      0.57      0.59    110027\n",
      "\n"
     ]
    },
    {
     "name": "stderr",
     "output_type": "stream",
     "text": [
      "d:\\Python_Envs\\torch311\\Lib\\site-packages\\xgboost\\core.py:729: UserWarning: [15:26:01] WARNING: C:\\actions-runner\\_work\\xgboost\\xgboost\\src\\common\\error_msg.cc:58: Falling back to prediction using DMatrix due to mismatched devices. This might lead to higher memory usage and slower performance. XGBoost is running on: cuda:0, while the input data is on: cpu.\n",
      "Potential solutions:\n",
      "- Use a data structure that matches the device ordinal in the booster.\n",
      "- Set the device for booster before call to inplace_predict.\n",
      "\n",
      "This warning will only be shown once.\n",
      "\n",
      "  return func(**kwargs)\n"
     ]
    }
   ],
   "source": [
    "class_counts = y_train.value_counts().sort_index()\n",
    "num_classes = len(class_counts)\n",
    "total = len(y_train)\n",
    "class_weights = {i: total / (num_classes * count) for i, count in class_counts.items()}\n",
    "\n",
    "weights = y_train.map(class_weights)\n",
    "\n",
    "xgb_model = XGBClassifier(\n",
    "    tree_method='hist',\n",
    "    device='cuda',\n",
    "    objective='multi:softprob',\n",
    "    eval_metric='mlogloss',\n",
    "    n_estimators=300,\n",
    "    max_depth=10,\n",
    "    learning_rate=0.0001,\n",
    "    subsample=0.8,\n",
    "    colsample_bytree=0.8,\n",
    "    random_state=42\n",
    ")\n",
    "\n",
    "xgb_model.fit(X_train, y_train, sample_weight=weights)\n",
    "\n",
    "y_pred = xgb_model.predict(X_test)\n",
    "\n",
    "print(\"Resultados para XGBoost (version GPU):\")\n",
    "print(classification_report(y_test, y_pred))"
   ]
  },
  {
   "cell_type": "markdown",
   "id": "103a9cf2",
   "metadata": {},
   "source": [
    "Al usar la versión de GPU de XGBoost, el modelo tomó 30 segundos de entrenamiento. Esto es una mejora de más del doble de velocidad respecto a `RandomForestClassifier`. Con esto, notamos los siguientes resultados:\n",
    "\n",
    "- La `precision` de este modelo es un poco peor respecto que lo obtenido por `RandomForestClassifier`. Esto indica que de las predicciones hechas como clase `3`, solo el 32% de las mismas fue correcta.\n",
    "- El `recall` sigue siendo bastante alto, lo que quiere decir que el modelo capturó correctamente los verdaderos positivos de la clase `3`.\n",
    "- Notamos que la `accuracy` es peor que la de `RandomForestClassifier`, pero a su vez vemos que este modelo hizo un mejor trabajo en reconocer la clase `2`, aunque tiene un peor desempeño para reconocer las clases `0` y `1`.\n",
    "\n",
    "Al igual que `RandomForestClassifier`, notamos que `XGBoost` es un modelo que podría generar muchas falsas alertas sobre brotes de infestación altos. A pesar de esto, es un modelo más flexible en cuanto a la predicción de todas las clases en general y no solo de las clases `3` y `1`."
   ]
  },
  {
   "cell_type": "code",
   "execution_count": 8,
   "id": "494f3434",
   "metadata": {},
   "outputs": [],
   "source": [
    "y_pred_proba_xgb = xgb_model.predict_proba(X_test)"
   ]
  },
  {
   "cell_type": "markdown",
   "id": "95a0ba5d",
   "metadata": {},
   "source": [
    "# `DecisionTree`"
   ]
  },
  {
   "cell_type": "code",
   "execution_count": 9,
   "id": "2bbea466",
   "metadata": {},
   "outputs": [
    {
     "name": "stdout",
     "output_type": "stream",
     "text": [
      "Resultados DecisionTree:\n",
      "              precision    recall  f1-score   support\n",
      "\n",
      "           0      0.274     0.212     0.239     24445\n",
      "           1      0.762     0.727     0.744     82928\n",
      "           2      0.052     0.238     0.085      2544\n",
      "           3      0.360     0.982     0.527       110\n",
      "\n",
      "    accuracy                          0.602    110027\n",
      "   macro avg      0.362     0.540     0.399    110027\n",
      "weighted avg      0.637     0.602     0.617    110027\n",
      "\n"
     ]
    }
   ],
   "source": [
    "dt_df = df_filtered.copy()\n",
    "\n",
    "for col in ['state', 'municipality']:\n",
    "    le = LabelEncoder()\n",
    "    dt_df[col] = le.fit_transform(dt_df[col])\n",
    "\n",
    "train_mask = dt_df['sampling_date'].dt.year < 2025\n",
    "test_mask  = dt_df['sampling_date'].dt.year == 2025\n",
    "\n",
    "exclude_cols = [\n",
    "    'severity_encoded','tramp_id', 'capture_count', \n",
    "    'month', 'year', 'year-month', 'sampling_date'\n",
    "]\n",
    "\n",
    "features = [col for col in dt_df.columns if col not in exclude_cols]\n",
    "\n",
    "X_train, y_train = dt_df.loc[train_mask, features], dt_df.loc[train_mask, 'severity_encoded'] # El train dataset es la data historica de 2014 a 2024\n",
    "X_test,  y_test  = dt_df.loc[test_mask,  features], dt_df.loc[test_mask,  'severity_encoded'] # El test dataset es la data a partir de 2025\n",
    "\n",
    "dt = DecisionTreeClassifier(\n",
    "    criterion= 'entropy',        \n",
    "    max_depth=10,          \n",
    "    min_samples_split=4,\n",
    "    min_samples_leaf=4,\n",
    "    class_weight='balanced',\n",
    "    random_state=42,\n",
    "    max_features= 'log2'\n",
    ")\n",
    "\n",
    "dt.fit(X_train, y_train)\n",
    "\n",
    "y_pred = dt.predict(X_test)\n",
    "\n",
    "print(\"Resultados DecisionTree:\")\n",
    "print(classification_report(y_test, y_pred, digits=3))"
   ]
  },
  {
   "cell_type": "code",
   "execution_count": 10,
   "id": "8528e138",
   "metadata": {},
   "outputs": [],
   "source": [
    "y_pred_proba_dt  = dt.predict_proba(X_test)"
   ]
  },
  {
   "cell_type": "markdown",
   "id": "645c91f7",
   "metadata": {},
   "source": [
    "`DecisionTree` es el modelo más rápido de entrenar, ya que tomó solamente 2 segundos y obtuvimos resultados similares a `XGBoost` y `RandomForestClassifier`. Con esto, el resumen de resultados es el siguiente:\n",
    "\n",
    "- Nuevamente notamos que las clases `0` y `2` tienen mejores resultados que con `RandomForestClassifier` y valores parecidos a `XGBoost`. Esto sugiere que este modelo, que tardó menos en entrenarse, podría ser el candidato a optimizar.\n",
    "- Afuera de esto, la clase objetivo (`3`) muestra que capturamos el 36% de casos por medio de la `precision`, entre los cuales se incluyen el 98% de casos reales. Esto quiere decir que el modelo también será un generador de alertas falsas, que operativamente podría generar más costos pero a largo plazo podría ser mejor para evitar brotes de infestaciones severas del gorgojo.\n",
    "- El `accuracy` fue más bajo que `RandomForestClassifier` y mayor que `XGBoost`, pero este siempre puede ser engañoso ya que tenemos un dataset desbalanceado.\n",
    "- Para la clase `2`, vemos que es el modelo que peor la predice hasta este punto en el notebook."
   ]
  },
  {
   "cell_type": "markdown",
   "id": "58fa605a",
   "metadata": {},
   "source": [
    "# Perceptrón (MLP)"
   ]
  },
  {
   "cell_type": "markdown",
   "id": "2828552e",
   "metadata": {},
   "source": [
    "Para el modelo de MLP, cambiaremos un poco la estrategia:\n",
    "\n",
    "- Codificaremos los estados con OneHot encoding, ya que ésto no afecta el rendimiento del modelo.\n",
    "- Configuraremos distintos pesos para las distintas clases objetivo (0, 1, 2 y 3), de forma que la red neuronal entienda que confundirse en predecir las clases minoritarias es peor que confundirse en las clases mayoritarias.\n",
    "- Configuraremos el modelo para detenerse al no mejorar las predicciones por 20 pasos forward y backward seguidos.\n",
    "- Escalaremos los valores numéricos para evitar overfitting o darle demasiada importancia solo a ciertos features \n",
    "  - `distance_to_nearest_hotspot` podría tomar demasiada relevancia, al tener un valor maximo de 999 al no encontrar hotspots cercanos en los últimos 15 días."
   ]
  },
  {
   "cell_type": "code",
   "execution_count": 11,
   "id": "afd583fe",
   "metadata": {},
   "outputs": [],
   "source": [
    "split_date = pd.Timestamp('2025-01-01')\n",
    "\n",
    "train_df = df_filtered[df_filtered['sampling_date'] < split_date].copy()\n",
    "test_df  = df_filtered[df_filtered['sampling_date'] >= split_date].copy()\n",
    "\n",
    "\n",
    "X = df_filtered.drop(columns=['severity_encoded','tramp_id', 'capture_count', 'month', 'year', 'year-month', 'sampling_date'])\n",
    "y = df_filtered['severity_encoded']\n",
    "\n",
    "\n",
    "le = LabelEncoder()\n",
    "X['municipality_encoded'] = le.fit_transform(X['municipality'].astype(str))\n",
    "\n",
    "ohe = OneHotEncoder(sparse_output=False, drop='first', handle_unknown='ignore')\n",
    "state_encoded = ohe.fit_transform(X[['state']])\n",
    "\n",
    "state_encoded_df = pd.DataFrame(\n",
    "    state_encoded,\n",
    "    columns=ohe.get_feature_names_out(['state']),\n",
    "    index=X.index\n",
    ")\n",
    "\n",
    "X = X.drop(['state', 'municipality'], axis=1)\n",
    "\n",
    "X_encoded = pd.concat([X, state_encoded_df], axis=1)\n",
    "\n",
    "X_train, X_valid, y_train, y_valid = train_test_split(\n",
    "    X_encoded, y, test_size=0.2, stratify=y, random_state=42\n",
    ")\n",
    "\n",
    "scaler = MinMaxScaler()\n",
    "X_train_scaled = scaler.fit_transform(X_train)\n",
    "X_valid_scaled = scaler.transform(X_valid)\n",
    "\n",
    "# Cambiamos la resolucion de nuestros numeros para acelerar el entrenamiento del modelo MLP\n",
    "X_train_scaled = X_train_scaled.astype('float32')\n",
    "X_valid_scaled = X_valid_scaled.astype('float32')"
   ]
  },
  {
   "cell_type": "code",
   "execution_count": 12,
   "id": "272eab63",
   "metadata": {},
   "outputs": [
    {
     "name": "stdout",
     "output_type": "stream",
     "text": [
      "Entrenando el chunk 1\n"
     ]
    },
    {
     "name": "stderr",
     "output_type": "stream",
     "text": [
      "d:\\Python_Envs\\torch311\\Lib\\site-packages\\sklearn\\neural_network\\_multilayer_perceptron.py:781: ConvergenceWarning: Stochastic Optimizer: Maximum iterations (50) reached and the optimization hasn't converged yet.\n",
      "  warnings.warn(\n"
     ]
    },
    {
     "name": "stdout",
     "output_type": "stream",
     "text": [
      "Entrenando el chunk 2\n",
      "Entrenando el chunk 3\n",
      "Entrenando el chunk 4\n",
      "Entrenando el chunk 5\n",
      "Entrenando el chunk 6\n",
      "Resultados para MLP:\n",
      "\n",
      "              precision    recall  f1-score   support\n",
      "\n",
      "           0       0.55      0.66      0.60     58293\n",
      "           1       0.76      0.45      0.57    103733\n",
      "           2       0.05      0.43      0.09      3295\n",
      "           3       0.03      0.78      0.05       251\n",
      "\n",
      "    accuracy                           0.53    165572\n",
      "   macro avg       0.35      0.58      0.33    165572\n",
      "weighted avg       0.67      0.53      0.57    165572\n",
      "\n"
     ]
    }
   ],
   "source": [
    "sample_weights = compute_sample_weight(class_weight='balanced', y=y_train)\n",
    "\n",
    "mlp = MLPClassifier(\n",
    "    hidden_layer_sizes=(128, 64, 16),\n",
    "    activation='relu',\n",
    "    solver='adam',\n",
    "    learning_rate_init=0.0001,\n",
    "    alpha=0.001,\n",
    "    batch_size=256,\n",
    "    max_iter=50,\n",
    "    early_stopping=True,\n",
    "    n_iter_no_change=20,\n",
    "    random_state=42,\n",
    "    warm_start=True,\n",
    "    validation_fraction=0.05\n",
    ")\n",
    "\n",
    "# Armamos un ciclo para asegurar que nuestro modelo MLP pueda\n",
    "# ver la mayoria de casos del test de entrenamiento.\n",
    "for i in range(6):\n",
    "    print(f\"Entrenando el chunk {i+1}\")\n",
    "    mlp.fit(X_train_scaled, y_train, sample_weight=sample_weights)\n",
    "\n",
    "y_pred = mlp.predict(X_valid_scaled)\n",
    "\n",
    "y_pred_proba_mlp = mlp.predict_proba(X_valid_scaled)\n",
    "\n",
    "print(\"Resultados para MLP:\\n\")\n",
    "print(classification_report(y_valid, y_pred))"
   ]
  },
  {
   "cell_type": "markdown",
   "id": "64429bc6",
   "metadata": {},
   "source": [
    "`MLP` tomó 25 minutos de entrenamiento, lo que hace el modelo más lento hasta ahora. Con esto, notamos que también tiene problemas para identificar la clase `2`, y al usar otro tipo de arquitectura sugiere que esta clase podría ser mucho más complicada de detectar que las otras 3 clases. Esto nos podría dar una idea de que la clase 2 puede ser un estado transitorio o bien, las características y patrones para esta clase son demasiado complejos.\n",
    "\n",
    "Ahora bien, el resumen de métricas es el siguiente:\n",
    "\n",
    "- Este modelo es el peor hasta el momento para identificar la clase `2`.\n",
    "- Este modelo es el peor para detectar la clase `3`.\n",
    "- `f1 score` sugiere que este modelo no tiene un balance entre predecir correctamente las clasificaciones y encontrar los verdaderos positivos dentro de nuestro dataset de test.\n",
    "- En sí, este modelo no será útil para alertar o predecir hacia dónde se debe dirigir el centro de operaciones de la CNIT para encontrar posibles brotes de infestación."
   ]
  },
  {
   "cell_type": "markdown",
   "id": "0b1ce6fe",
   "metadata": {},
   "source": [
    "# LightGBM"
   ]
  },
  {
   "cell_type": "markdown",
   "id": "2379a11d",
   "metadata": {},
   "source": [
    "`LightGBM` es un framework el cual utiliza algoritmos basados en árboles. De entrada, por los resultados anteriores, sabemos que probablemente tengamos un modelo que encontrará los verdaderos positivos de la clase objetivo, pero que probablemente se confunda menos al predecir la clase objetivo.\n",
    "\n",
    "Este algoritmo tiene la ventaja de poder  hacer uso de la GPU.\n",
    "\n",
    "Por último, utilizaremos un setup como en `RandomForestClassifier`, `XGBoost` y `DecisionTree`."
   ]
  },
  {
   "cell_type": "code",
   "execution_count": 13,
   "id": "2d19024f",
   "metadata": {},
   "outputs": [
    {
     "name": "stdout",
     "output_type": "stream",
     "text": [
      "[LightGBM] [Info] This is the GPU trainer!!\n",
      "[LightGBM] [Info] Total Bins 2727\n",
      "[LightGBM] [Info] Number of data points in the train set: 717829, number of used features: 21\n",
      "[LightGBM] [Info] Using GPU Device: NVIDIA GeForce RTX 2070 SUPER, Vendor: NVIDIA Corporation\n",
      "[LightGBM] [Info] Compiling OpenCL Kernel with 256 bins...\n",
      "[LightGBM] [Info] GPU programs have been built\n",
      "[LightGBM] [Info] Size of histogram bin entry: 8\n",
      "[LightGBM] [Info] 20 dense feature groups (13.69 MB) transferred to GPU in 0.019192 secs. 1 sparse feature groups\n",
      "[LightGBM] [Info] Start training from score -1.386294\n",
      "[LightGBM] [Info] Start training from score -1.386294\n",
      "[LightGBM] [Info] Start training from score -1.386294\n",
      "[LightGBM] [Info] Start training from score -1.386294\n",
      "Resultados para LightGBM:\n",
      "\n",
      "\n",
      "              precision    recall  f1-score   support\n",
      "\n",
      "           0      0.275     0.443     0.339     24445\n",
      "           1      0.781     0.586     0.669     82928\n",
      "           2      0.092     0.294     0.140      2544\n",
      "           3      0.394     0.991     0.563       110\n",
      "\n",
      "    accuracy                          0.548    110027\n",
      "   macro avg      0.385     0.579     0.428    110027\n",
      "weighted avg      0.652     0.548     0.584    110027\n",
      "\n"
     ]
    }
   ],
   "source": [
    "lgbm_df = df_filtered.copy()\n",
    "\n",
    "for col in ['state', 'municipality']:\n",
    "    le = LabelEncoder()\n",
    "    lgbm_df[col] = le.fit_transform(lgbm_df[col])\n",
    "    \n",
    "    \n",
    "categorical_features = ['municipality', 'state', 'critical_season' ]\n",
    "\n",
    "train_mask = lgbm_df['sampling_date'].dt.year < 2025\n",
    "test_mask  = lgbm_df['sampling_date'].dt.year == 2025\n",
    "\n",
    "exclude_cols = [\n",
    "    'severity_encoded','tramp_id', 'capture_count', \n",
    "    'month', 'year', 'year-month', 'sampling_date'\n",
    "]\n",
    "\n",
    "features = [col for col in lgbm_df.columns if col not in exclude_cols]\n",
    "\n",
    "X_train, y_train = lgbm_df.loc[train_mask, features], lgbm_df.loc[train_mask, 'severity_encoded'] # El train dataset es la data historica de 2014 a 2024\n",
    "X_test,  y_test  = lgbm_df.loc[test_mask,  features], lgbm_df.loc[test_mask,  'severity_encoded'] # El test dataset es la data a partir de 2025\n",
    "\n",
    "lgbm = LGBMClassifier(\n",
    "    boosting_type='gbdt', \n",
    "    objective='multiclass', \n",
    "    num_class=4,            \n",
    "    class_weight='balanced',\n",
    "    learning_rate=0.05,\n",
    "    n_estimators=200,\n",
    "    max_depth=-1,\n",
    "    num_leaves=31,\n",
    "    random_state=42,\n",
    "    device='gpu',\n",
    "    is_unbalance=True\n",
    ")\n",
    "\n",
    "lgbm.fit(X_train, y_train)\n",
    "\n",
    "\n",
    "y_pred = lgbm.predict(X_test, categorical_features=categorical_features)\n",
    "\n",
    "print(\"Resultados para LightGBM:\\n\\n\")\n",
    "print(classification_report(y_test, y_pred, digits=3))\n",
    "\n",
    "y_pred_proba_lgbm = lgbm.predict_proba(X_test)"
   ]
  },
  {
   "cell_type": "markdown",
   "id": "3318ca93",
   "metadata": {},
   "source": [
    "Con `LighGBM` esperamos alrededor de 18 segundos de entrenamiento al hacer uso de la GPU. También notamos que:\n",
    "\n",
    "- Cuando se predice la clase `3`, el modelo es correcto en el 40% de las veces.\n",
    "- De los casos predecidos como `3`, se incluye al 99% de verdaderos positivos.\n",
    "- Vemos un mejor desempeño en predecir la clase `2` respecto a `MLP`, pero un peor desempeño respecto a predecir esta misma clase respecto a `RandomForestClassifier`, `XGBoost` y `DecisionTree`.\n",
    "- El `F1 Score` obtenido es el mejor hasta el momento, lo que significa que tenemos el mejor balance entre `precision` y `recall` hasta el momento."
   ]
  },
  {
   "cell_type": "markdown",
   "id": "e274741d",
   "metadata": {},
   "source": [
    "# BalancedRandomForestClassifier"
   ]
  },
  {
   "cell_type": "markdown",
   "id": "2f3f78bf",
   "metadata": {},
   "source": [
    "Este clasificador se diferencia de `RandomForestClassifier` en lo siguiente:\n",
    "\n",
    "- Cada arbol que se entrenará se construye a partir de un train dataset que balancea las clases minoritarias. Esto significa que se crean muestras sintéticas de las clases reconocidas como minoritarias en nuestro dataset.\n",
    "\n",
    "Por lo anterior, para comparar el modelo, haremos  uso  del mismo preo-procesamiento que `RandomForestClassifier` y compararemos los resultados."
   ]
  },
  {
   "cell_type": "code",
   "execution_count": 14,
   "id": "2abb6a2a",
   "metadata": {},
   "outputs": [
    {
     "name": "stdout",
     "output_type": "stream",
     "text": [
      "Resultados para Balanced Random Forest:\n",
      "\n",
      "\n",
      "              precision    recall  f1-score   support\n",
      "\n",
      "           0      0.000     0.000     0.000     24445\n",
      "           1      0.754     0.999     0.860     82928\n",
      "           2      0.000     0.000     0.000      2544\n",
      "           3      0.408     0.445     0.426       110\n",
      "\n",
      "    accuracy                          0.754    110027\n",
      "   macro avg      0.291     0.361     0.321    110027\n",
      "weighted avg      0.569     0.754     0.648    110027\n",
      "\n"
     ]
    },
    {
     "name": "stderr",
     "output_type": "stream",
     "text": [
      "d:\\Python_Envs\\torch311\\Lib\\site-packages\\sklearn\\metrics\\_classification.py:1731: UndefinedMetricWarning: Precision is ill-defined and being set to 0.0 in labels with no predicted samples. Use `zero_division` parameter to control this behavior.\n",
      "  _warn_prf(average, modifier, f\"{metric.capitalize()} is\", result.shape[0])\n",
      "d:\\Python_Envs\\torch311\\Lib\\site-packages\\sklearn\\metrics\\_classification.py:1731: UndefinedMetricWarning: Precision is ill-defined and being set to 0.0 in labels with no predicted samples. Use `zero_division` parameter to control this behavior.\n",
      "  _warn_prf(average, modifier, f\"{metric.capitalize()} is\", result.shape[0])\n",
      "d:\\Python_Envs\\torch311\\Lib\\site-packages\\sklearn\\metrics\\_classification.py:1731: UndefinedMetricWarning: Precision is ill-defined and being set to 0.0 in labels with no predicted samples. Use `zero_division` parameter to control this behavior.\n",
      "  _warn_prf(average, modifier, f\"{metric.capitalize()} is\", result.shape[0])\n"
     ]
    }
   ],
   "source": [
    "from imblearn.ensemble import BalancedRandomForestClassifier\n",
    "\n",
    "# Copiamos el dataframe con la información\n",
    "bl_rf_df = df_filtered.copy()\n",
    "\n",
    "# Hacemos un encoding basico para State y Municipalidad\n",
    "for col in ['state', 'municipality']:\n",
    "    le = LabelEncoder()\n",
    "    bl_rf_df[col] = le.fit_transform(bl_rf_df[col])\n",
    "\n",
    "# Generamos la mascara para obtener los datos de antes del 2025 y del 2025 por separada\n",
    "train_mask = bl_rf_df['sampling_date'].dt.year < 2025\n",
    "test_mask  = bl_rf_df['sampling_date'].dt.year == 2025\n",
    "\n",
    "# Excluimos la variable objetivo (severity_encoded) y algunos unas variables o features que ya tenemos contenidos en nuestros\n",
    "# features creados. `capture_count` no podemos tomarlo en cuenta porque se relaciona directamente con la severidad.\n",
    "exclude_cols = [\n",
    "    'severity_encoded','tramp_id', 'capture_count', \n",
    "    'month', 'year', 'year-month', 'sampling_date'\n",
    "]\n",
    "\n",
    "# Cargamos los features a tomar en cuenta (obviamos los features en exclude_cols)\n",
    "features = [col for col in bl_rf_df.columns if col not in exclude_cols]\n",
    "\n",
    "# Generamos nuestro split de entrenamiento y test por medio de las mascaras train_mask y test_mask\n",
    "X_train, y_train = bl_rf_df.loc[train_mask, features], bl_rf_df.loc[train_mask, 'severity_encoded'] # El train dataset es la data historica de 2014 a 2024\n",
    "X_test,  y_test  = bl_rf_df.loc[test_mask,  features], bl_rf_df.loc[test_mask,  'severity_encoded'] # El test dataset es la data a partir de 2025\n",
    "\n",
    "\n",
    "brf_model = BalancedRandomForestClassifier(\n",
    "    criterion = 'entropy',\n",
    "    max_features='log2',\n",
    "    n_estimators=100,\n",
    "    max_depth=10,\n",
    "    min_samples_split=4,\n",
    "    min_samples_leaf=4,\n",
    "    sampling_strategy= 'not majority',\n",
    "    random_state=42,\n",
    "    n_jobs=-1\n",
    ")\n",
    "\n",
    "brf_model.fit(X_train, y_train)\n",
    "\n",
    "y_pred = brf_model.predict(X_test)\n",
    "print(\"Resultados para Balanced Random Forest:\\n\\n\")\n",
    "print(classification_report(y_test, y_pred, digits=3))"
   ]
  },
  {
   "cell_type": "markdown",
   "id": "ff618da8",
   "metadata": {},
   "source": [
    "Con los resultados anteriores, notamos que `BalancedRandomForestClassifier` tiene la mejor `precision`, pero el peor `recall` y el peor rendimiento hasta el momento. Esto lo sabemos de inmediato porque el modelo solo hace 2 cosas:\n",
    "\n",
    "- Clasifica los registros como `1` o `3`, pero ninguno como perteneciente a la clase `0` o `2`.\n",
    "\n",
    "Por lo tanto, este modelo  no vale la pena seguirlo probando ya que notamos que, aunque tiene el mejor accuracy hasta el momento, esto lo logra clasificando casi todo con un label de `1`. En esencia este modelo convirtió nuestro dataset en un problema binario."
   ]
  },
  {
   "cell_type": "markdown",
   "id": "f89f8503",
   "metadata": {},
   "source": [
    "# Con Catboost"
   ]
  },
  {
   "cell_type": "code",
   "execution_count": 20,
   "id": "4acc5e19",
   "metadata": {},
   "outputs": [
    {
     "name": "stdout",
     "output_type": "stream",
     "text": [
      "0:\tlearn: 0.6775412\ttest: 0.5753067\tbest: 0.5753067 (0)\ttotal: 174ms\tremaining: 2m 53s\n",
      "200:\tlearn: 0.7040554\ttest: 0.6068382\tbest: 0.6074571 (192)\ttotal: 38.2s\tremaining: 2m 31s\n",
      "400:\tlearn: 0.7157057\ttest: 0.6140806\tbest: 0.6147831 (349)\ttotal: 1m 14s\tremaining: 1m 51s\n",
      "600:\tlearn: 0.7286127\ttest: 0.6174413\tbest: 0.6174413 (600)\ttotal: 1m 52s\tremaining: 1m 14s\n",
      "800:\tlearn: 0.7395352\ttest: 0.6218048\tbest: 0.6218458 (793)\ttotal: 2m 30s\tremaining: 37.3s\n",
      "999:\tlearn: 0.7503166\ttest: 0.6228211\tbest: 0.6235251 (874)\ttotal: 3m 10s\tremaining: 0us\n",
      "bestTest = 0.6235250866\n",
      "bestIteration = 874\n",
      "Shrink model to first 875 iterations.\n",
      "\n",
      "\n",
      "Resultados para CatBoost:\n",
      "\n",
      "              precision    recall  f1-score   support\n",
      "\n",
      "           0       0.30      0.36      0.33     24445\n",
      "           1       0.78      0.68      0.73     82928\n",
      "           2       0.07      0.25      0.11      2544\n",
      "           3       0.24      0.97      0.39       110\n",
      "\n",
      "    accuracy                           0.60    110027\n",
      "   macro avg       0.35      0.56      0.39    110027\n",
      "weighted avg       0.66      0.60      0.62    110027\n",
      "\n"
     ]
    }
   ],
   "source": [
    "from catboost import CatBoostClassifier, Pool\n",
    "\n",
    "# Copiamos el dataframe con la información\n",
    "cb_df = df_filtered.copy()\n",
    "\n",
    "# Hacemos un encoding basico para State y Municipalidad\n",
    "for col in ['state', 'municipality']:\n",
    "    le = LabelEncoder()\n",
    "    cb_df[col] = le.fit_transform(cb_df[col])\n",
    "\n",
    "# Generamos la mascara para obtener los datos de antes del 2025 y del 2025 por separada\n",
    "train_mask = cb_df['sampling_date'].dt.year < 2025\n",
    "test_mask  = cb_df['sampling_date'].dt.year == 2025\n",
    "\n",
    "# Excluimos la variable objetivo (severity_encoded) y algunos unas variables o features que ya tenemos contenidos en nuestros\n",
    "# features creados. `capture_count` no podemos tomarlo en cuenta porque se relaciona directamente con la severidad.\n",
    "exclude_cols = [\n",
    "    'severity_encoded','tramp_id', 'capture_count', \n",
    "    'month', 'year', 'year-month', 'sampling_date',\n",
    "]\n",
    "\n",
    "# Cargamos los features a tomar en cuenta (obviamos los features en exclude_cols)\n",
    "features = [col for col in cb_df.columns if col not in exclude_cols]\n",
    "\n",
    "# Generamos nuestro split de entrenamiento y test por medio de las mascaras train_mask y test_mask\n",
    "X_train, y_train = cb_df.loc[train_mask, features], cb_df.loc[train_mask, 'severity_encoded'] # El train dataset es la data historica de 2014 a 2024\n",
    "X_test,  y_test  = cb_df.loc[test_mask,  features], cb_df.loc[test_mask,  'severity_encoded'] # El test dataset es la data a partir de 2025\n",
    "\n",
    "\n",
    "cat_model = CatBoostClassifier(\n",
    "    iterations=1000,                \n",
    "    learning_rate=0.005,            \n",
    "    depth=12,                      \n",
    "    loss_function='MultiClass',    \n",
    "    eval_metric='TotalF1',         \n",
    "    auto_class_weights='Balanced', \n",
    "    random_seed=42,\n",
    "    task_type='GPU',               \n",
    "    verbose=200\n",
    ")\n",
    "\n",
    "categorical_cols = ['state', 'municipality']\n",
    "\n",
    "cat_model.fit(\n",
    "    X_train,\n",
    "    y_train,\n",
    "    cat_features=categorical_cols if 'categorical_cols' in locals() else None,\n",
    "    eval_set=(X_test, y_test),\n",
    "    use_best_model=True,\n",
    "    sample_weight=weights\n",
    ")\n",
    "\n",
    "y_pred = cat_model.predict(X_test)\n",
    "y_pred = y_pred.flatten()\n",
    "\n",
    "print(\"\\n\\nResultados para CatBoost:\\n\")\n",
    "print(classification_report(y_test, y_pred))"
   ]
  },
  {
   "cell_type": "code",
   "execution_count": 21,
   "id": "676dbf99",
   "metadata": {},
   "outputs": [],
   "source": [
    "y_proba_cb = cat_model.predict_proba(X_test)"
   ]
  },
  {
   "cell_type": "markdown",
   "id": "84d5c4cb",
   "metadata": {},
   "source": [
    "# Algunos modelos junto a SMOTENC"
   ]
  },
  {
   "cell_type": "markdown",
   "id": "feae819d",
   "metadata": {},
   "source": [
    "Debido a que tenemos un problema de clases desbalanceadas, haremos un test rápido con SMOTENC para confirmar si la aplicación de esta técnica podría ayudarnos en mejorar nuestros modelos.\n",
    "\n",
    "Esto nos ayuda a tener una idea general y prototipado accesible antes de correr SMOTENC en nuestro  dataset completo (al tener más de 700,000 muestras, podría llevar horas la creación de muestras sintéticas)."
   ]
  },
  {
   "cell_type": "code",
   "execution_count": 22,
   "id": "acb7702d",
   "metadata": {},
   "outputs": [],
   "source": [
    "lgbm_df = df_filtered.copy()\n",
    "\n",
    "for col in ['state', 'municipality']:\n",
    "    le = LabelEncoder()\n",
    "    lgbm_df[col] = le.fit_transform(lgbm_df[col])\n",
    "\n",
    "train_mask = (lgbm_df['sampling_date'].dt.year < 2025) & (lgbm_df['sampling_date'].dt.year >= 2024)\n",
    "test_mask  = lgbm_df['sampling_date'].dt.year == 2025\n",
    "\n",
    "exclude_cols = [\n",
    "    'severity_encoded','tramp_id', 'capture_count', \n",
    "    'month', 'year', 'year-month', 'sampling_date',\n",
    "]\n",
    "\n",
    "features = [col for col in lgbm_df.columns if col not in exclude_cols]\n",
    "\n",
    "X_train, y_train = lgbm_df.loc[train_mask, features], lgbm_df.loc[train_mask, 'severity_encoded'] # El train dataset es la data historica de 2014 a 2024\n",
    "X_test,  y_test  = lgbm_df.loc[test_mask,  features], lgbm_df.loc[test_mask,  'severity_encoded'] # El test dataset es la data a partir de 2025"
   ]
  },
  {
   "cell_type": "code",
   "execution_count": 23,
   "id": "bb1fc446",
   "metadata": {},
   "outputs": [],
   "source": [
    "categorical_features = [\n",
    "    X_train.columns.get_loc(col)\n",
    "    for col in ['municipality', 'state', 'critical_season' ]\n",
    "]\n",
    "\n",
    "smote_nc = SMOTENC(\n",
    "    categorical_features=categorical_features,\n",
    "    random_state=42,\n",
    "    sampling_strategy='auto'\n",
    ")\n",
    "\n",
    "X_resampled, y_resampled = smote_nc.fit_resample(X_train, y_train)"
   ]
  },
  {
   "cell_type": "code",
   "execution_count": 24,
   "id": "c8a2f419",
   "metadata": {},
   "outputs": [
    {
     "name": "stdout",
     "output_type": "stream",
     "text": [
      "Antes de SMOTENC:\n",
      "severity_encoded\n",
      "1    0.708977\n",
      "0    0.273475\n",
      "2    0.016081\n",
      "3    0.001468\n",
      "Name: proportion, dtype: float64\n",
      "\n",
      "Despues de SMOTENC:\n",
      "severity_encoded\n",
      "1    0.25\n",
      "0    0.25\n",
      "2    0.25\n",
      "3    0.25\n",
      "Name: proportion, dtype: float64\n"
     ]
    }
   ],
   "source": [
    "print(\"Antes de SMOTENC:\")\n",
    "print(y_train.value_counts(normalize=True))\n",
    "\n",
    "print(\"\\nDespues de SMOTENC:\")\n",
    "print(pd.Series(y_resampled).value_counts(normalize=True))"
   ]
  },
  {
   "cell_type": "code",
   "execution_count": 25,
   "id": "dd319cfa",
   "metadata": {},
   "outputs": [
    {
     "name": "stdout",
     "output_type": "stream",
     "text": [
      "Resultados para RandomForest con SMOTENC:\n",
      "\n",
      "              precision    recall  f1-score   support\n",
      "\n",
      "           0       0.28      0.48      0.35     24445\n",
      "           1       0.79      0.63      0.70     82928\n",
      "           2       0.04      0.01      0.02      2544\n",
      "           3       0.36      0.82      0.50       110\n",
      "\n",
      "    accuracy                           0.58    110027\n",
      "   macro avg       0.37      0.49      0.39    110027\n",
      "weighted avg       0.66      0.58      0.61    110027\n",
      "\n"
     ]
    }
   ],
   "source": [
    "# Definimos algunos hiperparámetros para RandomForestClassifier\n",
    "rf_model_with_smotenc = RandomForestClassifier(\n",
    "    n_estimators=300,\n",
    "    max_depth=25,\n",
    "    min_samples_split=4,\n",
    "    min_samples_leaf=2,\n",
    "    class_weight='balanced_subsample',\n",
    "    random_state=42,\n",
    "    n_jobs=-1\n",
    ")\n",
    "\n",
    "# Hacemos fit del modelo\n",
    "rf_model_with_smotenc.fit(X_resampled, y_resampled)\n",
    "\n",
    "# Predecimos sobre el dataset de prueba o test\n",
    "y_pred = rf_model_with_smotenc.predict(X_test)\n",
    "\n",
    "# Mostramos los resultados\n",
    "print(\"Resultados para RandomForest con SMOTENC:\\n\")\n",
    "print(classification_report(y_test, y_pred))"
   ]
  },
  {
   "cell_type": "code",
   "execution_count": 26,
   "id": "a2509039",
   "metadata": {},
   "outputs": [
    {
     "name": "stdout",
     "output_type": "stream",
     "text": [
      "Resultados para XGBoost (version GPU) con SMOTENC:\n",
      "              precision    recall  f1-score   support\n",
      "\n",
      "           0       0.26      0.48      0.34     24445\n",
      "           1       0.78      0.61      0.69     82928\n",
      "           2       0.06      0.02      0.03      2544\n",
      "           3       0.22      0.45      0.29       110\n",
      "\n",
      "    accuracy                           0.57    110027\n",
      "   macro avg       0.33      0.39      0.34    110027\n",
      "weighted avg       0.65      0.57      0.59    110027\n",
      "\n"
     ]
    }
   ],
   "source": [
    "class_counts = y_train.value_counts().sort_index()\n",
    "num_classes = len(class_counts)\n",
    "total = len(y_train)\n",
    "class_weights = {i: total / (num_classes * count) for i, count in class_counts.items()}\n",
    "\n",
    "weights = y_train.map(class_weights)\n",
    "\n",
    "xgb_model_with_smotenc = XGBClassifier(\n",
    "    tree_method='hist',\n",
    "    device='cuda',\n",
    "    objective='multi:softprob',\n",
    "    eval_metric='mlogloss',\n",
    "    n_estimators=300,\n",
    "    max_depth=10,\n",
    "    learning_rate=0.0001,\n",
    "    subsample=0.8,\n",
    "    colsample_bytree=0.8,\n",
    "    random_state=42\n",
    ")\n",
    "\n",
    "xgb_model_with_smotenc.fit(X_train, y_train, sample_weight=weights)\n",
    "\n",
    "y_pred = xgb_model_with_smotenc.predict(X_test)\n",
    "\n",
    "print(\"Resultados para XGBoost (version GPU) con SMOTENC:\")\n",
    "print(classification_report(y_test, y_pred))"
   ]
  },
  {
   "cell_type": "code",
   "execution_count": 27,
   "id": "517c975d",
   "metadata": {},
   "outputs": [
    {
     "name": "stdout",
     "output_type": "stream",
     "text": [
      "[LightGBM] [Info] This is the GPU trainer!!\n",
      "[LightGBM] [Info] Total Bins 4210\n",
      "[LightGBM] [Info] Number of data points in the train set: 137204, number of used features: 21\n",
      "[LightGBM] [Info] Using GPU Device: NVIDIA GeForce RTX 2070 SUPER, Vendor: NVIDIA Corporation\n",
      "[LightGBM] [Info] Compiling OpenCL Kernel with 256 bins...\n",
      "[LightGBM] [Info] GPU programs have been built\n",
      "[LightGBM] [Info] Size of histogram bin entry: 8\n",
      "[LightGBM] [Info] 19 dense feature groups (2.62 MB) transferred to GPU in 0.004550 secs. 1 sparse feature groups\n",
      "[LightGBM] [Info] Start training from score -1.386294\n",
      "[LightGBM] [Info] Start training from score -1.386294\n",
      "[LightGBM] [Info] Start training from score -1.386294\n",
      "[LightGBM] [Info] Start training from score -1.386294\n",
      "Resultados para LightGBM con SMOTENC:\n",
      "\n",
      "\n",
      "              precision    recall  f1-score   support\n",
      "\n",
      "           0      0.282     0.524     0.366     24445\n",
      "           1      0.795     0.609     0.689     82928\n",
      "           2      0.058     0.020     0.030      2544\n",
      "           3      0.315     0.627     0.419       110\n",
      "\n",
      "    accuracy                          0.576    110027\n",
      "   macro avg      0.363     0.445     0.376    110027\n",
      "weighted avg      0.663     0.576     0.602    110027\n",
      "\n"
     ]
    }
   ],
   "source": [
    "lgbm_with_smoteNC = LGBMClassifier(\n",
    "    boosting_type='gbdt', \n",
    "    objective='multiclass', \n",
    "    num_class=4,            \n",
    "    class_weight='balanced',\n",
    "    learning_rate=0.05,\n",
    "    n_estimators=200,\n",
    "    max_depth=-1,\n",
    "    num_leaves=31,\n",
    "    random_state=42,\n",
    "    device='gpu',\n",
    "    is_unbalance=True\n",
    ")\n",
    "\n",
    "lgbm_with_smoteNC.fit(X_resampled, y_resampled)\n",
    "\n",
    "\n",
    "y_pred = lgbm_with_smoteNC.predict(X_test)\n",
    "\n",
    "print(\"Resultados para LightGBM con SMOTENC:\\n\\n\")\n",
    "print(classification_report(y_test, y_pred, digits=3))"
   ]
  },
  {
   "cell_type": "code",
   "execution_count": 28,
   "id": "60f4e93b",
   "metadata": {},
   "outputs": [
    {
     "name": "stdout",
     "output_type": "stream",
     "text": [
      "Resultados DecisionTree con SMOTENC:\n",
      "              precision    recall  f1-score   support\n",
      "\n",
      "           0      0.269     0.570     0.365     24445\n",
      "           1      0.783     0.425     0.551     82928\n",
      "           2      0.046     0.235     0.077      2544\n",
      "           3      0.330     0.936     0.488       110\n",
      "\n",
      "    accuracy                          0.453    110027\n",
      "   macro avg      0.357     0.541     0.370    110027\n",
      "weighted avg      0.652     0.453     0.499    110027\n",
      "\n"
     ]
    }
   ],
   "source": [
    "dt_with_smotenc = DecisionTreeClassifier(\n",
    "    criterion= 'entropy',        \n",
    "    max_depth=10,          \n",
    "    min_samples_split=4,\n",
    "    min_samples_leaf=4,\n",
    "    class_weight='balanced',\n",
    "    random_state=42,\n",
    "    max_features= 'log2'\n",
    ")\n",
    "\n",
    "dt_with_smotenc.fit(X_resampled, y_resampled)\n",
    "\n",
    "y_pred = dt_with_smotenc.predict(X_test)\n",
    "\n",
    "print(\"Resultados DecisionTree con SMOTENC:\")\n",
    "print(classification_report(y_test, y_pred, digits=3))"
   ]
  },
  {
   "cell_type": "markdown",
   "id": "16b8f6ef",
   "metadata": {},
   "source": [
    "Entonces, acorde a lo publicado por (Elor & Averbuch, 2022), notamos que para modelos \"complejos\" como XGBoost, RandomForestClassifier y LightGBM el uso de SMOTENC no representó alguna mejora específica. Y en el caso de `DecisionTree` vemos un rendimiento parecido al obtenido sin necesidad de usar SMOTENC.\n",
    "\n",
    "Por lo tanto, concluimos que la estrategia de generar data sintética no es buena idea, sobre todo porque estamos trabajando con series de tiempo. "
   ]
  },
  {
   "cell_type": "markdown",
   "id": "dbb615d4",
   "metadata": {},
   "source": [
    "# Curvas AUC"
   ]
  },
  {
   "cell_type": "code",
   "execution_count": 22,
   "id": "7385803e",
   "metadata": {},
   "outputs": [
    {
     "data": {
      "image/png": "[encoded data removed]",
      "text/plain": [
       "<Figure size 1000x800 with 1 Axes>"
      ]
     },
     "metadata": {},
     "output_type": "display_data"
    }
   ],
   "source": [
    "from sklearn.metrics import roc_curve, auc, RocCurveDisplay\n",
    "from sklearn.preprocessing import label_binarize\n",
    "\n",
    "classes = sorted(y_test.unique())\n",
    "y_test_bin = label_binarize(y_test, classes=classes)\n",
    "\n",
    "\n",
    "\n",
    "plt.figure(figsize=(10, 8))\n",
    "\n",
    "models = {\n",
    "    'Random Forest': y_pred_proba_rf,\n",
    "    'Decision Tree': y_pred_proba_dt,\n",
    "    'XGBoost': y_pred_proba_xgb,\n",
    "    'LightGBM': y_pred_proba_lgbm,\n",
    "    'CatBoost': y_proba_cb\n",
    "}\n",
    "\n",
    "for model_name, y_score in models.items():\n",
    "    fpr, tpr, _ = roc_curve(y_test_bin.ravel(), y_score.ravel())\n",
    "    roc_auc = auc(fpr, tpr)\n",
    "    plt.plot(fpr, tpr, lw=2, label=f'{model_name} (AUC = {roc_auc:.3f})')\n",
    "\n",
    "plt.plot([0, 1], [0, 1], 'k--', lw=1)\n",
    "plt.xlabel('Rate de falsos positivos')\n",
    "plt.ylabel('Rate de verdaderos positivos')\n",
    "plt.title('ROC–AUC')\n",
    "plt.legend(loc='lower right')\n",
    "plt.show()"
   ]
  },
  {
   "cell_type": "markdown",
   "id": "85ccc286",
   "metadata": {},
   "source": [
    "Revisando los desempeños de los modelos anteriores, notamos lo siguiente:\n",
    "\n",
    "- RandomForestClassifier ignora por completo la Clase `2`, pero es quien mejor predice la Clase `1` y uno de los mejores modelos para encontrar verdaderos positivos de la Clase `3`. Por medio de las curvas AUC-ROC notamos que el modelo es bastante estable, pero esto podría deberse al desbalance en nuestra distribución de clasificaciones.\n",
    "- XGBoost tuvo un resultado bastante parecido a RandomForestClassifier, con la diferencia de que detecta de mejor manera la clase `2`. De igual manera, tiene un recal bastante bueno para la clase `3` pero su efectividad para predecirla es menor que `RandomForestClassifier`.\n",
    "- DecisionTree, aunque es el modelo más rápido, parece que se encuentra especializado en detectar solamente la clase `3`. En este caso, incluso la Clase `1` tuvo problemas para ser detectada.\n",
    "- MLP no generalizó bien la mayoría de clases, pero obtuvo el mejor rendimiento respecto a predecir la Clase `2`.\n",
    "- BalancedRandomForestClassifier fue el peor modelo; esto sucedió aunque se usará la configuraciones adecuadas para detectar el desbalance de clases presente en nuestro dataset, pero esto causó un colapso total en identificar a la clase 0 y 2 de nuestro dataset.\n",
    "- LightGBM demostró ser el modelo que generaliza mejor la distribución de las clasificaciones, y es uno de los mejores en predecir la clase `3`, la cual es nuestra clase de interés.\n",
    "\n",
    "Por los motivos anteriores, consideramos que el mejor modelo a dar seguimiento para el fine-tuning del mismo es `LightGBM`, y por lo tanto, procederemos a optimizar el mismo."
   ]
  },
  {
   "cell_type": "markdown",
   "id": "b7ed0f97",
   "metadata": {},
   "source": [
    "# Selección de modelos y Fine-Tuning"
   ]
  },
  {
   "cell_type": "markdown",
   "id": "36c8127f",
   "metadata": {},
   "source": [
    "Agregar justificacion sobre `LightGBM` o `CatBoost`  aqui.\n",
    "\n",
    "Considero que estos son los mejores modelos porque generalizan más todas las clases y no solo se centran en la clase objetivo (Clase `3`) de `severity_encoded`."
   ]
  },
  {
   "cell_type": "markdown",
   "id": "f40d195d",
   "metadata": {},
   "source": [
    "## Usamos Optuna para LightGBM"
   ]
  },
  {
   "cell_type": "markdown",
   "id": "b20b4f4e",
   "metadata": {},
   "source": [
    "Al utilizar Bayesian Optimization para encontrar los mejores parámetros para LightGBM, nos encontramos con el reto de que la combinación de ciertas variaciones de parámetros causaba que BO no pudiera terminar. Esto se debe a que LightGBM  no convergía a una solución aceptable y empezaba a generar splits con nodos vacíos. Por lo tanto, tuvimos que adaptarnos a la situación.\n",
    "\n",
    "Con esto, decidimos utilizar Otptuna para maximizar nuestro f1_score (que en teoría balancea lo que es `precision` y `recall`), de forma que encontremos de forma más parametrizable los mejores hiperparámetros de LightGBM.\n",
    "\n",
    "A este momento en el Notebook, tenemos los siguientes resultados para la clase objetivo:\n",
    "\n",
    "- `Precision`: 0.394\n",
    "- `Recall`:  0.99\n",
    "- `F1_Score`: 0.53\n",
    "\n",
    "Con lo anterior, al tener un Recall bastante bueno, consideramos que podemos buscar optimizar la métrica de `Precision`. Esto podría significar la reducción del recall, pero creemos que es un trade-off justo para asegurar que nuestro porcentaje de predicción de la clase objetivo sea mejor. Esto ayudará a reducir las \"falsas\" alertas que el modelo puedo generar."
   ]
  },
  {
   "cell_type": "code",
   "execution_count": 5,
   "id": "ea6de41a",
   "metadata": {},
   "outputs": [],
   "source": [
    "lgbm_df = df_filtered.copy()\n",
    "\n",
    "for col in ['state', 'municipality']:\n",
    "    le = LabelEncoder()\n",
    "    lgbm_df[col] = le.fit_transform(lgbm_df[col])\n",
    "\n",
    "train_mask = lgbm_df['sampling_date'].dt.year < 2025\n",
    "test_mask  = lgbm_df['sampling_date'].dt.year == 2025\n",
    "\n",
    "exclude_cols = [\n",
    "    'severity_encoded','tramp_id', 'capture_count', \n",
    "    'month', 'year', 'year-month', 'sampling_date',\n",
    "]\n",
    "\n",
    "features = [col for col in lgbm_df.columns if col not in exclude_cols]\n",
    "\n",
    "X_train, y_train = lgbm_df.loc[train_mask, features], lgbm_df.loc[train_mask, 'severity_encoded'] # El train dataset es la data historica de 2014 a 2024\n",
    "X_test,  y_test  = lgbm_df.loc[test_mask,  features], lgbm_df.loc[test_mask,  'severity_encoded'] # El test dataset es la data a partir de 2025"
   ]
  },
  {
   "cell_type": "code",
   "execution_count": null,
   "id": "f0b793c4",
   "metadata": {},
   "outputs": [
    {
     "name": "stderr",
     "output_type": "stream",
     "text": [
      "[I 2025-10-18 17:11:02,306] A new study created in memory with name: no-name-dd765648-39f9-49db-813b-39effe544090\n",
      "Best trial: 0. Best value: 0.457088:   3%|▎         | 1/30 [00:34<16:31, 34.19s/it]"
     ]
    },
    {
     "name": "stdout",
     "output_type": "stream",
     "text": [
      "[I 2025-10-18 17:11:36,498] Trial 0 finished with value: 0.4570881023076366 and parameters: {'learning_rate': 0.03706156452558203, 'num_leaves': 18, 'max_depth': 4, 'feature_fraction': 0.896471370331886, 'bagging_fraction': 0.9712380107036409, 'lambda_l1': 0.8000638009388206, 'lambda_l2': 2.44732393111224, 'min_child_samples': 23, 'n_estimators': 418}. Best is trial 0 with value: 0.4570881023076366.\n"
     ]
    },
    {
     "name": "stderr",
     "output_type": "stream",
     "text": [
      "Best trial: 1. Best value: 0.457412:   7%|▋         | 2/30 [00:54<12:10, 26.09s/it]"
     ]
    },
    {
     "name": "stdout",
     "output_type": "stream",
     "text": [
      "[I 2025-10-18 17:11:56,915] Trial 1 finished with value: 0.4574124466262887 and parameters: {'learning_rate': 0.07240238229131508, 'num_leaves': 11, 'max_depth': 9, 'feature_fraction': 0.9665877108646149, 'bagging_fraction': 0.9633483534863483, 'lambda_l1': 0.2229756415475933, 'lambda_l2': 0.5385471876632745, 'min_child_samples': 46, 'n_estimators': 230}. Best is trial 1 with value: 0.4574124466262887.\n"
     ]
    },
    {
     "name": "stderr",
     "output_type": "stream",
     "text": [
      "Best trial: 1. Best value: 0.457412:  10%|█         | 3/30 [01:24<12:25, 27.62s/it]"
     ]
    },
    {
     "name": "stdout",
     "output_type": "stream",
     "text": [
      "[I 2025-10-18 17:12:26,365] Trial 2 finished with value: 0.45701700922958555 and parameters: {'learning_rate': 0.013768923273338427, 'num_leaves': 9, 'max_depth': 13, 'feature_fraction': 0.8225745815469868, 'bagging_fraction': 0.9552780304421117, 'lambda_l1': 1.9916610090015348, 'lambda_l2': 0.1813881765847445, 'min_child_samples': 28, 'n_estimators': 382}. Best is trial 1 with value: 0.4574124466262887.\n"
     ]
    },
    {
     "name": "stderr",
     "output_type": "stream",
     "text": [
      "Best trial: 3. Best value: 0.461056:  13%|█▎        | 4/30 [01:48<11:28, 26.49s/it]"
     ]
    },
    {
     "name": "stdout",
     "output_type": "stream",
     "text": [
      "[I 2025-10-18 17:12:51,109] Trial 3 finished with value: 0.46105555362323064 and parameters: {'learning_rate': 0.07739151748960932, 'num_leaves': 19, 'max_depth': 6, 'feature_fraction': 0.9239421854735489, 'bagging_fraction': 0.8322357269517049, 'lambda_l1': 1.4940504519645128, 'lambda_l2': 1.3115203513487312, 'min_child_samples': 51, 'n_estimators': 217}. Best is trial 3 with value: 0.46105555362323064.\n"
     ]
    },
    {
     "name": "stderr",
     "output_type": "stream",
     "text": [
      "Best trial: 3. Best value: 0.461056:  17%|█▋        | 5/30 [02:30<13:22, 32.11s/it]"
     ]
    },
    {
     "name": "stdout",
     "output_type": "stream",
     "text": [
      "[I 2025-10-18 17:13:33,202] Trial 4 finished with value: 0.45996027469188605 and parameters: {'learning_rate': 0.08685372693219574, 'num_leaves': 16, 'max_depth': 12, 'feature_fraction': 0.9042305036220283, 'bagging_fraction': 0.8914362576083401, 'lambda_l1': 1.2240641590254415, 'lambda_l2': 1.4315841386222377, 'min_child_samples': 38, 'n_estimators': 433}. Best is trial 3 with value: 0.46105555362323064.\n"
     ]
    },
    {
     "name": "stderr",
     "output_type": "stream",
     "text": [
      "Best trial: 5. Best value: 0.461484:  20%|██        | 6/30 [03:05<13:07, 32.81s/it]"
     ]
    },
    {
     "name": "stdout",
     "output_type": "stream",
     "text": [
      "[I 2025-10-18 17:14:07,350] Trial 5 finished with value: 0.4614836581779996 and parameters: {'learning_rate': 0.07457404166081115, 'num_leaves': 16, 'max_depth': 6, 'feature_fraction': 0.9586348434523622, 'bagging_fraction': 0.8980067290984867, 'lambda_l1': 2.1795394943178676, 'lambda_l2': 0.09070525872916246, 'min_child_samples': 49, 'n_estimators': 394}. Best is trial 5 with value: 0.4614836581779996.\n"
     ]
    },
    {
     "name": "stderr",
     "output_type": "stream",
     "text": [
      "Best trial: 5. Best value: 0.461484:  23%|██▎       | 7/30 [03:34<12:07, 31.63s/it]"
     ]
    },
    {
     "name": "stdout",
     "output_type": "stream",
     "text": [
      "[I 2025-10-18 17:14:36,546] Trial 6 finished with value: 0.46090308205845965 and parameters: {'learning_rate': 0.08197604307832058, 'num_leaves': 19, 'max_depth': 7, 'feature_fraction': 0.9006770109952345, 'bagging_fraction': 0.9681821042595747, 'lambda_l1': 0.9736222346383422, 'lambda_l2': 0.5430683827684376, 'min_child_samples': 17, 'n_estimators': 292}. Best is trial 5 with value: 0.4614836581779996.\n"
     ]
    },
    {
     "name": "stderr",
     "output_type": "stream",
     "text": [
      "Best trial: 5. Best value: 0.461484:  27%|██▋       | 8/30 [03:55<10:25, 28.44s/it]"
     ]
    },
    {
     "name": "stdout",
     "output_type": "stream",
     "text": [
      "[I 2025-10-18 17:14:58,177] Trial 7 finished with value: 0.45695770207974956 and parameters: {'learning_rate': 0.07332331303891265, 'num_leaves': 11, 'max_depth': 11, 'feature_fraction': 0.9390174474568137, 'bagging_fraction': 0.9484666192871206, 'lambda_l1': 1.5483346597457508, 'lambda_l2': 1.1536659707261512, 'min_child_samples': 24, 'n_estimators': 298}. Best is trial 5 with value: 0.4614836581779996.\n"
     ]
    },
    {
     "name": "stderr",
     "output_type": "stream",
     "text": [
      "Best trial: 5. Best value: 0.461484:  30%|███       | 9/30 [04:28<10:23, 29.68s/it]"
     ]
    },
    {
     "name": "stdout",
     "output_type": "stream",
     "text": [
      "[I 2025-10-18 17:15:30,583] Trial 8 finished with value: 0.45650286046706173 and parameters: {'learning_rate': 0.02191841781817601, 'num_leaves': 17, 'max_depth': 6, 'feature_fraction': 0.9951707915919537, 'bagging_fraction': 0.9210637627308496, 'lambda_l1': 1.454009528528648, 'lambda_l2': 2.878545053560864, 'min_child_samples': 45, 'n_estimators': 362}. Best is trial 5 with value: 0.4614836581779996.\n"
     ]
    },
    {
     "name": "stderr",
     "output_type": "stream",
     "text": [
      "Best trial: 5. Best value: 0.461484:  33%|███▎      | 10/30 [04:54<09:35, 28.76s/it]"
     ]
    },
    {
     "name": "stdout",
     "output_type": "stream",
     "text": [
      "[I 2025-10-18 17:15:57,279] Trial 9 finished with value: 0.4571414680430463 and parameters: {'learning_rate': 0.06471012389386971, 'num_leaves': 10, 'max_depth': 12, 'feature_fraction': 0.8811617143878632, 'bagging_fraction': 0.9306888120118352, 'lambda_l1': 1.814753243842519, 'lambda_l2': 0.7709212622265281, 'min_child_samples': 12, 'n_estimators': 408}. Best is trial 5 with value: 0.4614836581779996.\n"
     ]
    },
    {
     "name": "stderr",
     "output_type": "stream",
     "text": [
      "Best trial: 5. Best value: 0.461484:  37%|███▋      | 11/30 [05:13<08:09, 25.75s/it]"
     ]
    },
    {
     "name": "stdout",
     "output_type": "stream",
     "text": [
      "[I 2025-10-18 17:16:16,198] Trial 10 finished with value: 0.453949699932174 and parameters: {'learning_rate': 0.09835771166993931, 'num_leaves': 6, 'max_depth': 15, 'feature_fraction': 0.8459090883715177, 'bagging_fraction': 0.8709959312787018, 'lambda_l1': 2.89782034489949, 'lambda_l2': 2.059961277501914, 'min_child_samples': 60, 'n_estimators': 341}. Best is trial 5 with value: 0.4614836581779996.\n"
     ]
    },
    {
     "name": "stderr",
     "output_type": "stream",
     "text": [
      "Best trial: 5. Best value: 0.461484:  40%|████      | 12/30 [05:27<06:38, 22.13s/it]"
     ]
    },
    {
     "name": "stdout",
     "output_type": "stream",
     "text": [
      "[I 2025-10-18 17:16:30,062] Trial 11 finished with value: 0.45660986900150075 and parameters: {'learning_rate': 0.05233642163758957, 'num_leaves': 15, 'max_depth': 4, 'feature_fraction': 0.9459398325418947, 'bagging_fraction': 0.8019786098413854, 'lambda_l1': 2.467665042458409, 'lambda_l2': 0.0006067454393667848, 'min_child_samples': 58, 'n_estimators': 200}. Best is trial 5 with value: 0.4614836581779996.\n"
     ]
    },
    {
     "name": "stderr",
     "output_type": "stream",
     "text": [
      "Best trial: 5. Best value: 0.461484:  43%|████▎     | 13/30 [05:54<06:38, 23.44s/it]"
     ]
    },
    {
     "name": "stdout",
     "output_type": "stream",
     "text": [
      "[I 2025-10-18 17:16:56,515] Trial 12 finished with value: 0.45894283653712936 and parameters: {'learning_rate': 0.054821129116045954, 'num_leaves': 20, 'max_depth': 7, 'feature_fraction': 0.937065684852746, 'bagging_fraction': 0.8428863570257995, 'lambda_l1': 2.29132971787151, 'lambda_l2': 1.8372595562851268, 'min_child_samples': 51, 'n_estimators': 261}. Best is trial 5 with value: 0.4614836581779996.\n"
     ]
    },
    {
     "name": "stderr",
     "output_type": "stream",
     "text": [
      "Best trial: 5. Best value: 0.461484:  47%|████▋     | 14/30 [06:20<06:28, 24.31s/it]"
     ]
    },
    {
     "name": "stdout",
     "output_type": "stream",
     "text": [
      "[I 2025-10-18 17:17:22,835] Trial 13 finished with value: 0.4597032589809162 and parameters: {'learning_rate': 0.0958895631482974, 'num_leaves': 14, 'max_depth': 9, 'feature_fraction': 0.9953794104188077, 'bagging_fraction': 0.8335915037419641, 'lambda_l1': 2.675707707641385, 'lambda_l2': 1.0587489720244916, 'min_child_samples': 37, 'n_estimators': 326}. Best is trial 5 with value: 0.4614836581779996.\n"
     ]
    },
    {
     "name": "stderr",
     "output_type": "stream",
     "text": [
      "Best trial: 5. Best value: 0.461484:  50%|█████     | 15/30 [06:50<06:31, 26.11s/it]"
     ]
    },
    {
     "name": "stdout",
     "output_type": "stream",
     "text": [
      "[I 2025-10-18 17:17:53,124] Trial 14 finished with value: 0.46141036248912953 and parameters: {'learning_rate': 0.04060027982862142, 'num_leaves': 14, 'max_depth': 6, 'feature_fraction': 0.9653780133934635, 'bagging_fraction': 0.8721866242920004, 'lambda_l1': 2.1181014227489317, 'lambda_l2': 1.8214774758452639, 'min_child_samples': 51, 'n_estimators': 380}. Best is trial 5 with value: 0.4614836581779996.\n"
     ]
    },
    {
     "name": "stderr",
     "output_type": "stream",
     "text": [
      "Best trial: 5. Best value: 0.461484:  53%|█████▎    | 16/30 [07:27<06:49, 29.26s/it]"
     ]
    },
    {
     "name": "stdout",
     "output_type": "stream",
     "text": [
      "[I 2025-10-18 17:18:29,702] Trial 15 finished with value: 0.45908130859717833 and parameters: {'learning_rate': 0.040342586474886366, 'num_leaves': 13, 'max_depth': 8, 'feature_fraction': 0.9677809898675755, 'bagging_fraction': 0.8842962411139352, 'lambda_l1': 2.1265211452191735, 'lambda_l2': 1.810100755228557, 'min_child_samples': 45, 'n_estimators': 449}. Best is trial 5 with value: 0.4614836581779996.\n"
     ]
    },
    {
     "name": "stderr",
     "output_type": "stream",
     "text": [
      "Best trial: 5. Best value: 0.461484:  57%|█████▋    | 17/30 [07:58<06:28, 29.88s/it]"
     ]
    },
    {
     "name": "stdout",
     "output_type": "stream",
     "text": [
      "[I 2025-10-18 17:19:01,002] Trial 16 finished with value: 0.45792554369646693 and parameters: {'learning_rate': 0.03548447917252246, 'num_leaves': 15, 'max_depth': 5, 'feature_fraction': 0.9706730226268633, 'bagging_fraction': 0.8584883925004617, 'lambda_l1': 2.4054539720115593, 'lambda_l2': 2.3469654859861375, 'min_child_samples': 55, 'n_estimators': 390}. Best is trial 5 with value: 0.4614836581779996.\n"
     ]
    },
    {
     "name": "stderr",
     "output_type": "stream",
     "text": [
      "Best trial: 5. Best value: 0.461484:  60%|██████    | 18/30 [08:18<05:22, 26.84s/it]"
     ]
    },
    {
     "name": "stdout",
     "output_type": "stream",
     "text": [
      "[I 2025-10-18 17:19:20,793] Trial 17 finished with value: 0.455543596913437 and parameters: {'learning_rate': 0.060847768465684064, 'num_leaves': 7, 'max_depth': 6, 'feature_fraction': 0.8608449891295612, 'bagging_fraction': 0.9130110296774796, 'lambda_l1': 1.9623316881521873, 'lambda_l2': 1.7296415737324033, 'min_child_samples': 41, 'n_estimators': 364}. Best is trial 5 with value: 0.4614836581779996.\n"
     ]
    },
    {
     "name": "stderr",
     "output_type": "stream",
     "text": [
      "Best trial: 5. Best value: 0.461484:  63%|██████▎   | 19/30 [08:51<05:15, 28.69s/it]"
     ]
    },
    {
     "name": "stdout",
     "output_type": "stream",
     "text": [
      "[I 2025-10-18 17:19:53,783] Trial 18 finished with value: 0.45942904255623246 and parameters: {'learning_rate': 0.046213484880575084, 'num_leaves': 13, 'max_depth': 8, 'feature_fraction': 0.9575078463360123, 'bagging_fraction': 0.998332989781689, 'lambda_l1': 2.9676325709173055, 'lambda_l2': 2.923142897677872, 'min_child_samples': 31, 'n_estimators': 397}. Best is trial 5 with value: 0.4614836581779996.\n"
     ]
    },
    {
     "name": "stderr",
     "output_type": "stream",
     "text": [
      "Best trial: 5. Best value: 0.461484:  67%|██████▋   | 20/30 [09:26<05:04, 30.47s/it]"
     ]
    },
    {
     "name": "stdout",
     "output_type": "stream",
     "text": [
      "[I 2025-10-18 17:20:28,389] Trial 19 finished with value: 0.4575211537904062 and parameters: {'learning_rate': 0.026217773823050676, 'num_leaves': 17, 'max_depth': 10, 'feature_fraction': 0.9241536095568361, 'bagging_fraction': 0.9015574509670496, 'lambda_l1': 1.7681010814635292, 'lambda_l2': 0.8845383425296207, 'min_child_samples': 53, 'n_estimators': 353}. Best is trial 5 with value: 0.4614836581779996.\n"
     ]
    },
    {
     "name": "stderr",
     "output_type": "stream",
     "text": [
      "Best trial: 5. Best value: 0.461484:  70%|███████   | 21/30 [09:47<04:09, 27.70s/it]"
     ]
    },
    {
     "name": "stdout",
     "output_type": "stream",
     "text": [
      "[I 2025-10-18 17:20:49,646] Trial 20 finished with value: 0.459340089286778 and parameters: {'learning_rate': 0.06133952748926045, 'num_leaves': 12, 'max_depth': 5, 'feature_fraction': 0.9831228738945927, 'bagging_fraction': 0.8060827935869902, 'lambda_l1': 0.041002539830176765, 'lambda_l2': 2.2935339991894304, 'min_child_samples': 49, 'n_estimators': 300}. Best is trial 5 with value: 0.4614836581779996.\n"
     ]
    },
    {
     "name": "stderr",
     "output_type": "stream",
     "text": [
      "Best trial: 21. Best value: 0.461649:  73%|███████▎  | 22/30 [10:10<03:31, 26.42s/it]"
     ]
    },
    {
     "name": "stdout",
     "output_type": "stream",
     "text": [
      "[I 2025-10-18 17:21:13,071] Trial 21 finished with value: 0.46164859714873013 and parameters: {'learning_rate': 0.07730854262767059, 'num_leaves': 20, 'max_depth': 6, 'feature_fraction': 0.9207663958157561, 'bagging_fraction': 0.8428638130361583, 'lambda_l1': 1.5182402723230946, 'lambda_l2': 1.4882180447502669, 'min_child_samples': 55, 'n_estimators': 257}. Best is trial 21 with value: 0.46164859714873013.\n"
     ]
    },
    {
     "name": "stderr",
     "output_type": "stream",
     "text": [
      "Best trial: 22. Best value: 0.462635:  77%|███████▋  | 23/30 [10:35<03:01, 25.90s/it]"
     ]
    },
    {
     "name": "stdout",
     "output_type": "stream",
     "text": [
      "[I 2025-10-18 17:21:37,758] Trial 22 finished with value: 0.4626350622157939 and parameters: {'learning_rate': 0.08666284388401067, 'num_leaves': 20, 'max_depth': 7, 'feature_fraction': 0.9207496315696382, 'bagging_fraction': 0.861872684636811, 'lambda_l1': 2.2589032921471977, 'lambda_l2': 1.6233090532879193, 'min_child_samples': 56, 'n_estimators': 250}. Best is trial 22 with value: 0.4626350622157939.\n"
     ]
    },
    {
     "name": "stderr",
     "output_type": "stream",
     "text": [
      "Best trial: 22. Best value: 0.462635:  80%|████████  | 24/30 [11:03<02:39, 26.63s/it]"
     ]
    },
    {
     "name": "stdout",
     "output_type": "stream",
     "text": [
      "[I 2025-10-18 17:22:06,092] Trial 23 finished with value: 0.4591494916208698 and parameters: {'learning_rate': 0.08831200074477347, 'num_leaves': 20, 'max_depth': 8, 'feature_fraction': 0.9188251686773473, 'bagging_fraction': 0.8491292197421242, 'lambda_l1': 2.5916790090673603, 'lambda_l2': 1.5796330043283535, 'min_child_samples': 57, 'n_estimators': 258}. Best is trial 22 with value: 0.4626350622157939.\n"
     ]
    },
    {
     "name": "stderr",
     "output_type": "stream",
     "text": [
      "Best trial: 22. Best value: 0.462635:  83%|████████▎ | 25/30 [11:28<02:09, 26.00s/it]"
     ]
    },
    {
     "name": "stdout",
     "output_type": "stream",
     "text": [
      "[I 2025-10-18 17:22:30,614] Trial 24 finished with value: 0.4597809106193876 and parameters: {'learning_rate': 0.06796018199354287, 'num_leaves': 18, 'max_depth': 7, 'feature_fraction': 0.8791939946443557, 'bagging_fraction': 0.8214452218906784, 'lambda_l1': 1.0589426802946194, 'lambda_l2': 2.080923126201921, 'min_child_samples': 60, 'n_estimators': 260}. Best is trial 22 with value: 0.4626350622157939.\n"
     ]
    },
    {
     "name": "stderr",
     "output_type": "stream",
     "text": [
      "Best trial: 25. Best value: 0.464279:  87%|████████▋ | 26/30 [11:49<01:38, 24.53s/it]"
     ]
    },
    {
     "name": "stdout",
     "output_type": "stream",
     "text": [
      "[I 2025-10-18 17:22:51,735] Trial 25 finished with value: 0.4642794972986706 and parameters: {'learning_rate': 0.090153660617054, 'num_leaves': 20, 'max_depth': 5, 'feature_fraction': 0.9466391041011767, 'bagging_fraction': 0.8711009306552902, 'lambda_l1': 0.6388624418762494, 'lambda_l2': 0.33024857100533134, 'min_child_samples': 42, 'n_estimators': 243}. Best is trial 25 with value: 0.4642794972986706.\n"
     ]
    },
    {
     "name": "stderr",
     "output_type": "stream",
     "text": [
      "Best trial: 25. Best value: 0.464279:  90%|█████████ | 27/30 [12:11<01:11, 23.80s/it]"
     ]
    },
    {
     "name": "stdout",
     "output_type": "stream",
     "text": [
      "[I 2025-10-18 17:23:13,828] Trial 26 finished with value: 0.4612659707137993 and parameters: {'learning_rate': 0.09235172806004141, 'num_leaves': 20, 'max_depth': 5, 'feature_fraction': 0.9151190696537228, 'bagging_fraction': 0.8669995373984712, 'lambda_l1': 0.6017307173419453, 'lambda_l2': 0.43660918857445585, 'min_child_samples': 42, 'n_estimators': 240}. Best is trial 25 with value: 0.4642794972986706.\n"
     ]
    },
    {
     "name": "stderr",
     "output_type": "stream",
     "text": [
      "Best trial: 25. Best value: 0.464279:  93%|█████████▎| 28/30 [12:29<00:43, 21.94s/it]"
     ]
    },
    {
     "name": "stdout",
     "output_type": "stream",
     "text": [
      "[I 2025-10-18 17:23:31,431] Trial 27 finished with value: 0.4564672490261606 and parameters: {'learning_rate': 0.08177180228354446, 'num_leaves': 18, 'max_depth': 4, 'feature_fraction': 0.8826481939490625, 'bagging_fraction': 0.854422216957575, 'lambda_l1': 0.510795958655428, 'lambda_l2': 1.3056264710786931, 'min_child_samples': 55, 'n_estimators': 242}. Best is trial 25 with value: 0.4642794972986706.\n"
     ]
    },
    {
     "name": "stderr",
     "output_type": "stream",
     "text": [
      "Best trial: 25. Best value: 0.464279:  97%|█████████▋| 29/30 [12:55<00:23, 23.18s/it]"
     ]
    },
    {
     "name": "stdout",
     "output_type": "stream",
     "text": [
      "[I 2025-10-18 17:23:57,494] Trial 28 finished with value: 0.45814922766635036 and parameters: {'learning_rate': 0.0892952857951603, 'num_leaves': 19, 'max_depth': 5, 'feature_fraction': 0.9445176058625557, 'bagging_fraction': 0.8805138218525481, 'lambda_l1': 1.281792712972481, 'lambda_l2': 0.9794799136809329, 'min_child_samples': 33, 'n_estimators': 279}. Best is trial 25 with value: 0.4642794972986706.\n"
     ]
    },
    {
     "name": "stderr",
     "output_type": "stream",
     "text": [
      "Best trial: 25. Best value: 0.464279: 100%|██████████| 30/30 [13:14<00:00, 26.50s/it]"
     ]
    },
    {
     "name": "stdout",
     "output_type": "stream",
     "text": [
      "[I 2025-10-18 17:24:17,299] Trial 29 finished with value: 0.4557730834786917 and parameters: {'learning_rate': 0.08199930448075268, 'num_leaves': 18, 'max_depth': 4, 'feature_fraction': 0.9059612999717622, 'bagging_fraction': 0.8207789117121406, 'lambda_l1': 0.7259469782485001, 'lambda_l2': 2.495978735092386, 'min_child_samples': 40, 'n_estimators': 274}. Best is trial 25 with value: 0.4642794972986706.\n",
      "Mejores parametros: {'learning_rate': 0.090153660617054, 'num_leaves': 20, 'max_depth': 5, 'feature_fraction': 0.9466391041011767, 'bagging_fraction': 0.8711009306552902, 'lambda_l1': 0.6388624418762494, 'lambda_l2': 0.33024857100533134, 'min_child_samples': 42, 'n_estimators': 243}\n",
      "Mejor F1_Macro: 0.4642794972986706\n"
     ]
    },
    {
     "name": "stderr",
     "output_type": "stream",
     "text": [
      "\n"
     ]
    }
   ],
   "source": [
    "def objective_lgbm(trial):\n",
    "    params = {\n",
    "        \"boosting_type\": \"gbdt\",\n",
    "        \"objective\": \"multiclass\",\n",
    "        \"num_class\": 4,\n",
    "        \"class_weight\": \"balanced\",\n",
    "        \"is_unbalance\": True,\n",
    "        \"device\": \"gpu\",\n",
    "        \"learning_rate\": trial.suggest_float(\"learning_rate\", 0.01, 0.1, log=False),\n",
    "        \"num_leaves\": trial.suggest_int(\"num_leaves\", 5, 20),\n",
    "        \"max_depth\": trial.suggest_int(\"max_depth\", 4, 15),\n",
    "        \"feature_fraction\": trial.suggest_float(\"feature_fraction\", 0.8, 1.0),\n",
    "        \"bagging_fraction\": trial.suggest_float(\"bagging_fraction\", 0.8, 1.0),\n",
    "        \"lambda_l1\": trial.suggest_float(\"lambda_l1\", 0.0, 3.0),\n",
    "        \"lambda_l2\": trial.suggest_float(\"lambda_l2\", 0.0, 3.0),\n",
    "        \"min_child_samples\": trial.suggest_int(\"min_child_samples\", 10, 60),\n",
    "        \"n_estimators\": trial.suggest_int(\"n_estimators\", 200, 450),\n",
    "        \"random_state\": 42,\n",
    "    }\n",
    "\n",
    "    model = LGBMClassifier(**params)\n",
    "    tscv = TimeSeriesSplit(n_splits=3)\n",
    "    scores = cross_val_score(model, X_train, y_train, cv=tscv,\n",
    "                             scoring=\"f1_macro\", n_jobs=-1)\n",
    "    return np.mean(scores)\n",
    "\n",
    "lgbm_study = optuna.create_study(direction=\"maximize\")\n",
    "lgbm_study.optimize(objective_lgbm, n_trials=30, show_progress_bar=True)\n",
    "\n",
    "print(\"Mejores parametros:\", lgbm_study.best_params)\n",
    "print(\"Mejor F1_Macro:\", lgbm_study.best_value)"
   ]
  },
  {
   "cell_type": "markdown",
   "id": "5e8671c3",
   "metadata": {},
   "source": [
    "## Usamos Optuna junto a CatBoost"
   ]
  },
  {
   "cell_type": "code",
   "execution_count": 7,
   "id": "3ba5f356",
   "metadata": {},
   "outputs": [],
   "source": [
    "import optuna\n",
    "import numpy as np\n",
    "from sklearn.model_selection import TimeSeriesSplit, cross_val_score\n",
    "from catboost import CatBoostClassifier\n",
    "\n",
    "\n",
    "# Copiamos el dataframe con la información\n",
    "cb_df = df_filtered.copy()\n",
    "\n",
    "# Hacemos un encoding basico para State y Municipalidad\n",
    "for col in ['state', 'municipality']:\n",
    "    le = LabelEncoder()\n",
    "    cb_df[col] = le.fit_transform(cb_df[col])\n",
    "\n",
    "# Generamos la mascara para obtener los datos de antes del 2025 y del 2025 por separada\n",
    "train_mask = cb_df['sampling_date'].dt.year < 2025\n",
    "test_mask  = cb_df['sampling_date'].dt.year == 2025\n",
    "\n",
    "# Excluimos la variable objetivo (severity_encoded) y algunos unas variables o features que ya tenemos contenidos en nuestros\n",
    "# features creados. `capture_count` no podemos tomarlo en cuenta porque se relaciona directamente con la severidad.\n",
    "exclude_cols = [\n",
    "    'severity_encoded','tramp_id', 'capture_count', \n",
    "    'month', 'year', 'year-month', 'sampling_date',\n",
    "]\n",
    "\n",
    "# Cargamos los features a tomar en cuenta (obviamos los features en exclude_cols)\n",
    "features = [col for col in cb_df.columns if col not in exclude_cols]\n",
    "\n",
    "# Generamos nuestro split de entrenamiento y test por medio de las mascaras train_mask y test_mask\n",
    "X_train, y_train = cb_df.loc[train_mask, features], cb_df.loc[train_mask, 'severity_encoded'] # El train dataset es la data historica de 2014 a 2024\n",
    "X_test,  y_test  = cb_df.loc[test_mask,  features], cb_df.loc[test_mask,  'severity_encoded'] # El test dataset es la data a partir de 2025"
   ]
  },
  {
   "cell_type": "code",
   "execution_count": 11,
   "id": "e2e6bccf",
   "metadata": {},
   "outputs": [
    {
     "name": "stderr",
     "output_type": "stream",
     "text": [
      "[I 2025-10-18 17:35:29,313] A new study created in memory with name: no-name-11eca3eb-376a-4714-bb62-b28909df7f35\n",
      "Best trial: 0. Best value: 0.406606:  10%|█         | 1/10 [03:31<31:46, 211.86s/it]"
     ]
    },
    {
     "name": "stdout",
     "output_type": "stream",
     "text": [
      "[I 2025-10-18 17:39:01,172] Trial 0 finished with value: 0.40660594146637513 and parameters: {'iterations': 572, 'learning_rate': 0.03476508726259877, 'depth': 12, 'l2_leaf_reg': 0.002385816151385244, 'bagging_temperature': 0.5985817497921563, 'grow_policy': 'SymmetricTree'}. Best is trial 0 with value: 0.40660594146637513.\n"
     ]
    },
    {
     "name": "stderr",
     "output_type": "stream",
     "text": [
      "Best trial: 0. Best value: 0.406606:  20%|██        | 2/10 [04:34<16:31, 123.95s/it]"
     ]
    },
    {
     "name": "stdout",
     "output_type": "stream",
     "text": [
      "[I 2025-10-18 17:40:03,582] Trial 1 finished with value: 0.39941204564869964 and parameters: {'iterations': 471, 'learning_rate': 0.09159446818589914, 'depth': 10, 'l2_leaf_reg': 0.15672321372139122, 'bagging_temperature': 0.1744222067022455, 'grow_policy': 'Depthwise'}. Best is trial 0 with value: 0.40660594146637513.\n"
     ]
    },
    {
     "name": "stderr",
     "output_type": "stream",
     "text": [
      "Best trial: 2. Best value: 0.416134:  30%|███       | 3/10 [04:50<08:42, 74.64s/it] "
     ]
    },
    {
     "name": "stdout",
     "output_type": "stream",
     "text": [
      "[I 2025-10-18 17:40:19,536] Trial 2 finished with value: 0.4161340274784335 and parameters: {'iterations': 320, 'learning_rate': 0.06334962603699434, 'depth': 7, 'l2_leaf_reg': 0.005207136397059685, 'bagging_temperature': 0.3112374033592481, 'grow_policy': 'SymmetricTree'}. Best is trial 2 with value: 0.4161340274784335.\n"
     ]
    },
    {
     "name": "stderr",
     "output_type": "stream",
     "text": [
      "Best trial: 3. Best value: 0.42319:  40%|████      | 4/10 [05:45<06:42, 67.02s/it] "
     ]
    },
    {
     "name": "stdout",
     "output_type": "stream",
     "text": [
      "[I 2025-10-18 17:41:14,878] Trial 3 finished with value: 0.4231902725854784 and parameters: {'iterations': 1111, 'learning_rate': 0.024732673145250177, 'depth': 7, 'l2_leaf_reg': 9.392652971131804, 'bagging_temperature': 0.56924632495877, 'grow_policy': 'SymmetricTree'}. Best is trial 3 with value: 0.4231902725854784.\n"
     ]
    },
    {
     "name": "stderr",
     "output_type": "stream",
     "text": [
      "Best trial: 4. Best value: 0.43314:  50%|█████     | 5/10 [07:25<06:34, 78.88s/it]"
     ]
    },
    {
     "name": "stdout",
     "output_type": "stream",
     "text": [
      "[I 2025-10-18 17:42:54,785] Trial 4 finished with value: 0.4331404311320404 and parameters: {'iterations': 347, 'learning_rate': 0.029563596593515262, 'depth': 12, 'l2_leaf_reg': 1.5531777725306664, 'bagging_temperature': 0.6231836592100287, 'grow_policy': 'Depthwise'}. Best is trial 4 with value: 0.4331404311320404.\n"
     ]
    },
    {
     "name": "stderr",
     "output_type": "stream",
     "text": [
      "Best trial: 4. Best value: 0.43314:  60%|██████    | 6/10 [08:29<04:55, 73.94s/it]"
     ]
    },
    {
     "name": "stdout",
     "output_type": "stream",
     "text": [
      "[I 2025-10-18 17:43:59,124] Trial 5 finished with value: 0.4319031146703057 and parameters: {'iterations': 705, 'learning_rate': 0.043329179559155, 'depth': 9, 'l2_leaf_reg': 0.8493964541925376, 'bagging_temperature': 0.1810546027211869, 'grow_policy': 'SymmetricTree'}. Best is trial 4 with value: 0.4331404311320404.\n"
     ]
    },
    {
     "name": "stderr",
     "output_type": "stream",
     "text": [
      "Best trial: 4. Best value: 0.43314:  70%|███████   | 7/10 [09:19<03:17, 65.99s/it]"
     ]
    },
    {
     "name": "stdout",
     "output_type": "stream",
     "text": [
      "[I 2025-10-18 17:44:48,757] Trial 6 finished with value: 0.421834756130776 and parameters: {'iterations': 705, 'learning_rate': 0.00885754550427825, 'depth': 8, 'l2_leaf_reg': 0.042426777836352236, 'bagging_temperature': 0.7064550414287301, 'grow_policy': 'Depthwise'}. Best is trial 4 with value: 0.4331404311320404.\n"
     ]
    },
    {
     "name": "stderr",
     "output_type": "stream",
     "text": [
      "Best trial: 4. Best value: 0.43314:  80%|████████  | 8/10 [10:10<02:02, 61.30s/it]"
     ]
    },
    {
     "name": "stdout",
     "output_type": "stream",
     "text": [
      "[I 2025-10-18 17:45:40,016] Trial 7 finished with value: 0.42690325145906627 and parameters: {'iterations': 799, 'learning_rate': 0.005358265155811169, 'depth': 8, 'l2_leaf_reg': 0.005658274819924285, 'bagging_temperature': 0.17942168874978193, 'grow_policy': 'SymmetricTree'}. Best is trial 4 with value: 0.4331404311320404.\n"
     ]
    },
    {
     "name": "stderr",
     "output_type": "stream",
     "text": [
      "Best trial: 4. Best value: 0.43314:  90%|█████████ | 9/10 [10:33<00:49, 49.23s/it]"
     ]
    },
    {
     "name": "stdout",
     "output_type": "stream",
     "text": [
      "[I 2025-10-18 17:46:02,711] Trial 8 finished with value: 0.3910647725457994 and parameters: {'iterations': 364, 'learning_rate': 0.013731446957072275, 'depth': 6, 'l2_leaf_reg': 0.0036757174689011, 'bagging_temperature': 0.08301927418936395, 'grow_policy': 'Lossguide'}. Best is trial 4 with value: 0.4331404311320404.\n"
     ]
    },
    {
     "name": "stderr",
     "output_type": "stream",
     "text": [
      "Best trial: 4. Best value: 0.43314: 100%|██████████| 10/10 [13:52<00:00, 83.28s/it]"
     ]
    },
    {
     "name": "stdout",
     "output_type": "stream",
     "text": [
      "[I 2025-10-18 17:49:22,158] Trial 9 finished with value: 0.37828159756903185 and parameters: {'iterations': 1149, 'learning_rate': 0.06140188327623959, 'depth': 11, 'l2_leaf_reg': 0.017828664875760732, 'bagging_temperature': 0.4750703789365903, 'grow_policy': 'Depthwise'}. Best is trial 4 with value: 0.4331404311320404.\n",
      "Mejores parámetros: {'iterations': 347, 'learning_rate': 0.029563596593515262, 'depth': 12, 'l2_leaf_reg': 1.5531777725306664, 'bagging_temperature': 0.6231836592100287, 'grow_policy': 'Depthwise'}\n",
      "Mejor F1-macro: 0.4331404311320404\n"
     ]
    },
    {
     "name": "stderr",
     "output_type": "stream",
     "text": [
      "\n"
     ]
    }
   ],
   "source": [
    "#from optuna.integration import CatBoostPruningCallback\n",
    "\n",
    "def objective_cb(trial):\n",
    "    params = {\n",
    "        \"iterations\": trial.suggest_int(\"iterations\", 300, 1200),\n",
    "        \"learning_rate\": trial.suggest_float(\"learning_rate\", 0.005, 0.1, log=True),\n",
    "        \"depth\": trial.suggest_int(\"depth\", 4, 12),\n",
    "        \"l2_leaf_reg\": trial.suggest_float(\"l2_leaf_reg\", 1e-3, 10.0, log=True),\n",
    "        \"bagging_temperature\": trial.suggest_float(\"bagging_temperature\", 0.0, 1.0),\n",
    "        #\"border_count\": trial.suggest_int(\"border_count\", 32, 255),\n",
    "        #\"random_strength\": trial.suggest_float(\"random_strength\", 0.0, 2.0),\n",
    "        \"grow_policy\": trial.suggest_categorical(\"grow_policy\", [\"SymmetricTree\", \"Depthwise\", \"Lossguide\"]),\n",
    "        \"loss_function\": \"MultiClass\",\n",
    "        \"eval_metric\": \"TotalF1\",\n",
    "        \"auto_class_weights\" : \"Balanced\",\n",
    "        \"task_type\": \"GPU\",\n",
    "        \"random_seed\": 42,\n",
    "        \"verbose\": False\n",
    "    }\n",
    "\n",
    "\n",
    "    model = CatBoostClassifier(**params)\n",
    "\n",
    "    tscv = TimeSeriesSplit(n_splits=3)\n",
    "    scores = cross_val_score(\n",
    "        model, X_train, y_train,\n",
    "        cv=tscv,\n",
    "        scoring=\"f1_macro\",\n",
    "        n_jobs=1\n",
    "    )\n",
    "\n",
    "    return np.mean(scores)\n",
    "\n",
    "cb_study = optuna.create_study(direction=\"maximize\")\n",
    "cb_study.optimize(objective_cb, n_trials=10, show_progress_bar=True)\n",
    "\n",
    "print(\"Mejores parámetros:\", cb_study.best_params)\n",
    "print(\"Mejor F1-macro:\", cb_study.best_value)"
   ]
  },
  {
   "cell_type": "code",
   "execution_count": null,
   "id": "290ec20f",
   "metadata": {},
   "outputs": [],
   "source": [
    "lgbm_best_params = "
   ]
  },
  {
   "cell_type": "markdown",
   "id": "f67e0376",
   "metadata": {},
   "source": [
    "# Implementando Bayesian Optimization con `LightGBM`"
   ]
  },
  {
   "cell_type": "code",
   "execution_count": 65,
   "id": "8ec3d856",
   "metadata": {},
   "outputs": [
    {
     "data": {
      "text/plain": [
       "Index(['lat', 'lon', 'municipality', 'plantation_age', 'state',\n",
       "       'square_area_imputed', 'day_of_year_sin', 'day_of_year_cos',\n",
       "       'day_of_week_sin', 'day_of_week_cos', 'week_of_year_sin',\n",
       "       'week_of_year_cos', 'month_sin', 'month_cos', 'critical_season',\n",
       "       'distance_to_nearest_hotspot', 'hotspots_within_5km', 'precipitation',\n",
       "       'avg_temp', 'max_temp', 'min_temp'],\n",
       "      dtype='object')"
      ]
     },
     "execution_count": 65,
     "metadata": {},
     "output_type": "execute_result"
    }
   ],
   "source": [
    "X_train.columns"
   ]
  },
  {
   "cell_type": "code",
   "execution_count": 64,
   "id": "18e7caac",
   "metadata": {},
   "outputs": [],
   "source": [
    "from bayes_opt import BayesianOptimization\n",
    "\n",
    "lat_min, lat_max = df_filtered['lat'].min(), df_filtered['lat'].max()\n",
    "lon_min, lon_max = df_filtered['lon'].min(), df_filtered['lon'].max()\n"
   ]
  },
  {
   "cell_type": "code",
   "execution_count": null,
   "id": "cc04cfbf",
   "metadata": {},
   "outputs": [],
   "source": []
  },
  {
   "cell_type": "markdown",
   "id": "e34faf9f",
   "metadata": {},
   "source": [
    "https://arxiv.org/abs/2201.08528\n",
    "\n",
    "https://arxiv.org/abs/2404.19494\n",
    "\n",
    "https://www.sciencedirect.com/science/article/pii/S1532046424000844?via%3Dihub\n"
   ]
  }
 ],
 "metadata": {
  "kernelspec": {
   "display_name": "torch311 (3.11.0)",
   "language": "python",
   "name": "python3"
  },
  "language_info": {
   "codemirror_mode": {
    "name": "ipython",
    "version": 3
   },
   "file_extension": ".py",
   "mimetype": "text/x-python",
   "name": "python",
   "nbconvert_exporter": "python",
   "pygments_lexer": "ipython3",
   "version": "3.11.0"
  }
 },
 "nbformat": 4,
 "nbformat_minor": 5
}
